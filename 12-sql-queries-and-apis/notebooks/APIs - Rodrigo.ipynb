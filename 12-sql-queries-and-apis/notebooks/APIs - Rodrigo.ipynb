{
 "cells": [
  {
   "cell_type": "markdown",
   "metadata": {},
   "source": [
    "# Aula 12 - APIs\n",
    "\n",
    "## Nossa agenda\n",
    "\n",
    "1.  Como são formadas as APIs REST\n",
    "1.  Como funciona o protocolo HTTP\n",
    "1.  Como funciona o pacote Requests\n",
    "1.  APIs com autenticação\n",
    "1.  Escrita e leitura de arquivos em Python\n",
    "1.  O que são arquivos CSV\n",
    "\n",
    "## Me manda uma mensagem\n",
    "\n",
    "\n",
    "#wilsontayar no [slack](https://terahq.slack.com)\n",
    "\n",
    "/wilsontayar no [github](https://github.com/wilsontayar)\n",
    "\n",
    "@wilsontayar no [twitter](https://twitter.com/wilsontayar)\n",
    "\n",
    "----"
   ]
  },
  {
   "cell_type": "markdown",
   "metadata": {},
   "source": [
    "## **1. Como são formadas as APIs REST**\n",
    "\n",
    "Podemos dizer que **uma API é como se fosse uma página da web só que para computadores**. Só eles consegurem acessar, ler e interagir da maneira adequada com as APIs.\n",
    "\n",
    "Como Data Scientists, vocês utilizarão APIs tanto internas (fornecidas pelas próprias empresas em que vocês trabalham) quanto externas. \n",
    "\n",
    "APIs são uma das principais formas que um Data Scientist utiliza para obter os dados que devem ser analisados.\n",
    "\n",
    "---\n",
    "\n",
    "Como exemplo, ao acessarmos a API da Jsonplaceholder (https://jsonplaceholder.typicode.com/posts/1), vemos o retorno abaixo, ao invés de uma página comum:\n",
    "\n",
    "```json\n",
    "{\n",
    "  \"userId\": 1,\n",
    "  \"id\": 1,\n",
    "  \"title\": \"sunt aut facere repellat provident occaecati excepturi optio reprehenderit\",\n",
    "  \"body\": \"quia et suscipit\\nsuscipit recusandae consequuntur expedita et cum\\nreprehenderit molestiae ut ut quas totam\\nnostrum rerum est autem sunt rem eveniet architecto\"\n",
    "}\n",
    "```\n",
    "\n",
    "Esse padrão de resposta é o que chamamos de **JSON**, e este é o **tipo de resposta mais comum entre as APIs**.\n",
    "\n",
    "Ele foi feito para que máquinas entendam seus dados e os utilizem como quiser.\n",
    "\n",
    "---\n"
   ]
  },
  {
   "cell_type": "markdown",
   "metadata": {},
   "source": [
    "## Como funciona o protocolo HTTP\n",
    "\n",
    "A internet trafega através do protocolo HTTP, ou **Hypertext Transfer Protocol**. O protocolo HTTP foi criado por Tim Berners-Lee, o criador da web, enquanto ele trabalhava na CERN em 1989 (sua equipe e ele também foram responsáveis pelo HTML).\n",
    "\n",
    "O HTTP possui **duas entidades básicas**: a **Request** (pedido) e a **Response** (resposta)\n",
    "\n",
    "Sempre que entramos em uma página, **enviamos uma request para o servidor** do site e **esperamos uma response** com o HTML da página.\n",
    "\n",
    "Sempre que enviamos uma request devemos especificar um **método**.\n",
    "A tabela abaixo cita os métodos mais comuns e explica brevemente o objetivo de cada um:\n",
    "\n",
    "Método     | Objetivo\n",
    "-----------|-----------\n",
    "**GET**    | Obter informações\n",
    "**POST**   | Salvar informações\n",
    "**PUT**    | Atualizar informações\n",
    "**DELETE** | Deletar informações\n",
    "\n",
    "Todos eles são comumente utilizados por APIs. \n",
    "\n",
    "O método **GET** é o que seu navegador usa para baixar o HTML da página.\n",
    "\n",
    "O metódo **POST** também é muito utilizado sempre que você envia algum formulário em um site.\n",
    "\n",
    "**Além do método, as requests também possuem um header**\n",
    "\n",
    "O **Header** (cabeçalho) tem a função de dizer para o servidor diversos dados sobre quem fez a solicitação.\n",
    "Dessa forma, o servidor consegue até permitir que você veja mais informações dependendo do seu nível de acesso.\n",
    "\n",
    "\n",
    "---\n",
    "\n",
    "**Todos as respostas possuem, além do conteúdo da resposta, um código de status**.\n",
    "\n",
    "Os códigos de status (status code) seguem um padrão.\n",
    "\n",
    "Os mais comuns são:\n",
    "\n",
    "Código  |  Significado\n",
    "--------|---------------\n",
    "200     | Ok\n",
    "3XX     | O servidor vai te redirecionar para outra URL\n",
    "4XX     | O recurso não foi encontrado, não está mais disponível, etc\n",
    "5XX     | Algum problema aconteceu no servidor e ele não conseguiu processar a sua request\n",
    "\n"
   ]
  },
  {
   "cell_type": "markdown",
   "metadata": {},
   "source": [
    "---\n",
    "\n",
    "Outra característica das APIs REST é a **divisão dos recursos**. Por exemplo:\n",
    "\n",
    "https://jsonplaceholder.typicode.com/users/1\n",
    "\n",
    "Ao abrirmos esta URL estamos fazendo um **GET** para obtermos informações do usuário (/users) com código 1 (/1).\n",
    "Podemos trocar o código do usuário para buscar outros usuários.\n",
    "\n",
    "Também podemos pedir todos os usuários digitando:\n",
    "\n",
    "https://jsonplaceholder.typicode.com/users\n",
    "\n",
    "---\n",
    "\n",
    "Também é muito comum o uso de parâmetros na URL para passarmos filtros para a API. Por exemplo:\n",
    "\n",
    "https://jsonplaceholder.typicode.com/comments?postId=1\n",
    "\n",
    "Perceba o \"?postId=1\" ao final da URL.\n",
    "\n",
    "Sempre que precisamos passar parâmetros, começamos com um ponto de interrogação (?) e depois utilizamos o & para parâmetros futuros. Por exemplo:\n",
    "\n",
    "https://jsonplaceholder.typicode.com/comments?postId=1&id=3"
   ]
  },
  {
   "cell_type": "markdown",
   "metadata": {},
   "source": [
    "## Como funciona o pacote Requests\n",
    "\n",
    "Como vimos anteriormente, o pacote requests do Python é utilizado para nos comunicarmos com URLs.\n",
    "\n",
    "Podemos realizar GET, POST, PUT, DELETE e quaisquer outros métodos HTTP com ele.\n",
    "\n",
    "Veja no exemplo abaixo como podemos fazer isso"
   ]
  },
  {
   "cell_type": "code",
   "execution_count": 1,
   "metadata": {},
   "outputs": [
    {
     "name": "stdout",
     "output_type": "stream",
     "text": [
      "Leanne Graham (Sincere@april.biz) - hildegard.org\n",
      "Ervin Howell (Shanna@melissa.tv) - anastasia.net\n",
      "Clementine Bauch (Nathan@yesenia.net) - ramiro.info\n",
      "Patricia Lebsack (Julianne.OConner@kory.org) - kale.biz\n",
      "Chelsey Dietrich (Lucio_Hettinger@annie.ca) - demarco.info\n",
      "Mrs. Dennis Schulist (Karley_Dach@jasper.info) - ola.org\n",
      "Kurtis Weissnat (Telly.Hoeger@billy.biz) - elvis.io\n",
      "Nicholas Runolfsdottir V (Sherwood@rosamond.me) - jacynthe.com\n",
      "Glenna Reichert (Chaim_McDermott@dana.io) - conrad.com\n",
      "Clementina DuBuque (Rey.Padberg@karina.biz) - ambrose.net\n"
     ]
    }
   ],
   "source": [
    "import requests\n",
    "\n",
    "api = requests.get('https://jsonplaceholder.typicode.com/users')\n",
    "\n",
    "json = api.json()\n",
    "\n",
    "for user in json:\n",
    "    print('{0} ({1}) - {2}'.format(user['name'], user['email'], user['website']))"
   ]
  },
  {
   "cell_type": "code",
   "execution_count": null,
   "metadata": {
    "collapsed": true
   },
   "outputs": [],
   "source": [
    "import requests\n",
    "\n",
    "api = requests.get('API')\n",
    "\n",
    "json = api.json()\n",
    "\n",
    "for moeda in json:\n",
    "    nome = 'moed'\n",
    "    preco = '$222'\n",
    "    valor_mercado = '$555' \n",
    "    em_circulacao = '46465'\n",
    "    percentual_dia = '1.56%'\n",
    "    print('{0}: {1} ({2} / 24h)'.format(nome, preco, percentual_dia))\n",
    "    print('Em circulação: {0}'.format(em_circulacao))\n",
    "    print('Valor de mercado: {0}'.format(valor_mercado))\n",
    "    print('-------------')"
   ]
  },
  {
   "cell_type": "markdown",
   "metadata": {},
   "source": [
    "## Exercício 1 - Extraindo Dados do CoinMarketCap via API\n",
    "\n",
    "Vamos usar o pacote requests para o acessar a API do CoinMarketCap.\n",
    "\n",
    "As instruções da API estão disponíveis em: https://coinmarketcap.com/api/\n",
    "\n",
    "Deveremos extrair os seguintes dados:\n",
    "- Nome da moeda\n",
    "- Preço atual **CONVERTIDO EM REAIS**\n",
    "- O valor de mercado total\n",
    "- O valor atual em circulação\n",
    "- Percentual de mudança nas últimas 24 horas\n",
    "\n",
    "Também deveremos limitar para que a API traga apenas 5 moedas para trabalharmos\n",
    "\n",
    "Tempo: 10 minutos\n",
    "\n",
    "---"
   ]
  },
  {
   "cell_type": "code",
   "execution_count": 15,
   "metadata": {},
   "outputs": [
    {
     "name": "stdout",
     "output_type": "stream",
     "text": [
      "Bitcoin: 26339.957423 (-4.19% 24h) \n",
      "Valor atual em circulação: 16924337.0\n",
      "Valor de mercado: 445786315993\n",
      "--------------------------------------------------------\n",
      "Ethereum: 1916.1884986 (-4.47% 24h) \n",
      "Valor atual em circulação: 98243763.0\n",
      "Valor de mercado: 188253568239\n",
      "--------------------------------------------------------\n",
      "Ripple: 2.1586370901 (-5.36% 24h) \n",
      "Valor atual em circulação: 39091716516.0\n",
      "Valor de mercado: 84384829187.0\n",
      "--------------------------------------------------------\n",
      "Bitcoin Cash: 3186.3842629 (1.71% 24h) \n",
      "Valor atual em circulação: 17022663.0\n",
      "Valor de mercado: 54240743903.0\n",
      "--------------------------------------------------------\n",
      "Litecoin: 517.4292148 (-4.33% 24h) \n",
      "Valor atual em circulação: 55668706.0\n",
      "Valor de mercado: 28804614895.0\n",
      "--------------------------------------------------------\n"
     ]
    }
   ],
   "source": [
    "import requests\n",
    "import json\n",
    "\n",
    "endpoint = 'https://api.coinmarketcap.com/v1/ticker/'\n",
    "\n",
    "params = {'convert':'BRL',\n",
    "          'limit':5}\n",
    "\n",
    "api = requests.get(endpoint, params=params)\n",
    "\n",
    "result = api.json()\n",
    "\n",
    "msg = \"\"\"{name}: {price_brl} ({percent_change_24h}% 24h) \n",
    "Valor atual em circulação: {available_supply}\n",
    "Valor de mercado: {market_cap_brl}\n",
    "--------------------------------------------------------\"\"\" \n",
    "\n",
    "for coin in result:\n",
    "    name = coin['name']\n",
    "    price_brl = coin['price_brl']\n",
    "    percent_change_24h = coin['percent_change_24h']\n",
    "    available_supply = coin['available_supply']\n",
    "    market_cap_brl = coin['market_cap_brl']\n",
    "    text = msg.format(name=name,\n",
    "               price_brl=price_brl,\n",
    "               percent_change_24h=percent_change_24h,\n",
    "               available_supply=available_supply,\n",
    "               market_cap_brl=market_cap_brl)\n",
    "    print(text)"
   ]
  },
  {
   "cell_type": "markdown",
   "metadata": {},
   "source": [
    "## Como utilizar APIs com autenticação\n",
    "\n",
    "É muito comum encontrarmos APIs que necessitam de autenticação. Isto é, algum identificador que diz para ela quem está requisitando aquela informação.\n",
    "\n",
    "Para realizarmos autenticação em APIs REST nós normalmente utilizamos um Header e um Token de acesso.\n",
    "\n",
    "Porém, algumas APIs também utilizam parâmetros para realizar a autenticação.\n",
    "\n",
    "Abaixo vamos ver como acessar a API da Battuta (https://battuta.medunes.net/) utilizando um token.\n",
    "\n",
    "A Battuta é um serviço para dados geográficos.\n",
    "\n",
    "*Aviso para leitores do futuro: se essa key não funcionar, é só entrar no site da battuta e gerar uma nova digitando o seu e-mail.*"
   ]
  },
  {
   "cell_type": "code",
   "execution_count": 17,
   "metadata": {},
   "outputs": [
    {
     "name": "stdout",
     "output_type": "stream",
     "text": [
      "Afghanistan (af)\n",
      "Albania (al)\n",
      "Algeria (dz)\n",
      "Andorra (ad)\n",
      "Angola (ao)\n",
      "Anguilla (ai)\n",
      "Antigua and Barbuda (ag)\n",
      "Argentina (ar)\n",
      "Armenia (am)\n",
      "Aruba (aw)\n"
     ]
    }
   ],
   "source": [
    "import requests\n",
    "\n",
    "payload = {'key': 'ce46369940c2632e9c160b0474bf49a3'}\n",
    "\n",
    "api = requests.get('http://battuta.medunes.net/api/country/all/', params=payload)\n",
    "\n",
    "json = api.json()\n",
    "\n",
    "for i in range(10):\n",
    "    country = json[i]\n",
    "    print('{0} ({1})'.format(country['name'], country['code']))"
   ]
  },
  {
   "cell_type": "markdown",
   "metadata": {},
   "source": [
    "## Testando o erro de não autorizado"
   ]
  },
  {
   "cell_type": "code",
   "execution_count": 12,
   "metadata": {},
   "outputs": [
    {
     "name": "stdout",
     "output_type": "stream",
     "text": [
      "403\n"
     ]
    },
    {
     "ename": "KeyError",
     "evalue": "0",
     "output_type": "error",
     "traceback": [
      "\u001b[0;31m---------------------------------------------------------------------------\u001b[0m",
      "\u001b[0;31mKeyError\u001b[0m                                  Traceback (most recent call last)",
      "\u001b[0;32m<ipython-input-12-3e81bea3dc21>\u001b[0m in \u001b[0;36m<module>\u001b[0;34m()\u001b[0m\n\u001b[1;32m     10\u001b[0m \u001b[0;34m\u001b[0m\u001b[0m\n\u001b[1;32m     11\u001b[0m \u001b[0;32mfor\u001b[0m \u001b[0mi\u001b[0m \u001b[0;32min\u001b[0m \u001b[0mrange\u001b[0m\u001b[0;34m(\u001b[0m\u001b[0;36m10\u001b[0m\u001b[0;34m)\u001b[0m\u001b[0;34m:\u001b[0m\u001b[0;34m\u001b[0m\u001b[0m\n\u001b[0;32m---> 12\u001b[0;31m     \u001b[0mcountry\u001b[0m \u001b[0;34m=\u001b[0m \u001b[0mjson\u001b[0m\u001b[0;34m[\u001b[0m\u001b[0mi\u001b[0m\u001b[0;34m]\u001b[0m\u001b[0;34m\u001b[0m\u001b[0m\n\u001b[0m\u001b[1;32m     13\u001b[0m     \u001b[0mprint\u001b[0m\u001b[0;34m(\u001b[0m\u001b[0;34m'{0} ({1})'\u001b[0m\u001b[0;34m.\u001b[0m\u001b[0mformat\u001b[0m\u001b[0;34m(\u001b[0m\u001b[0mcountry\u001b[0m\u001b[0;34m[\u001b[0m\u001b[0;34m'name'\u001b[0m\u001b[0;34m]\u001b[0m\u001b[0;34m,\u001b[0m \u001b[0mcountry\u001b[0m\u001b[0;34m[\u001b[0m\u001b[0;34m'code'\u001b[0m\u001b[0;34m]\u001b[0m\u001b[0;34m)\u001b[0m\u001b[0;34m)\u001b[0m\u001b[0;34m\u001b[0m\u001b[0m\n",
      "\u001b[0;31mKeyError\u001b[0m: 0"
     ]
    }
   ],
   "source": [
    "import requests\n",
    "\n",
    "payload = {'key': 'Key inválida.'}\n",
    "\n",
    "api = requests.get('http://battuta.medunes.net/api/country/all/', params=payload)\n",
    "\n",
    "print(''api.status_code)\n",
    "\n",
    "json = api.json()\n",
    "\n",
    "for i in range(10):\n",
    "    country = json[i]\n",
    "    print('{0} ({1})'.format(country['name'], country['code']))"
   ]
  },
  {
   "cell_type": "markdown",
   "metadata": {},
   "source": [
    "## [4xx Client errors](https://en.wikipedia.org/wiki/List_of_HTTP_status_codes)\n",
    "\n",
    "This class of status code is intended for situations in which the error seems to have been caused by the client. Except when responding to a HEAD request, the server should include an entity containing an explanation of the error situation, and whether it is a temporary or permanent condition. These status codes are applicable to any request method. User agents should display any included entity to the user.\n",
    "\n",
    "**400 Bad Request**\n",
    "\n",
    "The server cannot or will not process the request due to an apparent client error (e.g., malformed request syntax, size too large, invalid request message framing, or deceptive request routing).\n",
    "\n",
    "**401 Unauthorized (RFC 7235)**\n",
    "\n",
    "Similar to 403 Forbidden, but specifically for use when authentication is required and has failed or has not yet been provided. The response must include a WWW-Authenticate header field containing a challenge applicable to the requested resource. See Basic access authentication and Digest access authentication. 401 semantically means \"unauthenticated\",[35] i.e. the user does not have the necessary credentials.\n",
    "Note: Some sites issue HTTP 401 when an IP address is banned from the website (usually the website domain) and that specific address is refused permission to access a website.\n",
    "\n",
    "**402 Payment Required**\n",
    "\n",
    "Reserved for future use. The original intention was that this code might be used as part of some form of digital cash or micropayment scheme, as proposed for example by GNU Taler[36], but that has not yet happened, and this code is not usually used. Google Developers API uses this status if a particular developer has exceeded the daily limit on requests.\n",
    "\n",
    "**403 Forbidden**\n",
    "\n",
    "The request was valid, but the server is refusing action. The user might not have the necessary permissions for a resource, or may need an account of some sort.\n",
    "\n",
    "**404 Not Found**\n",
    "\n",
    "The requested resource could not be found but may be available in the future. Subsequent requests by the client are permissible.\n",
    "\n",
    "**405 Method Not Allowed**\n",
    "\n",
    "A request method is not supported for the requested resource; for example, a GET request on a form that requires data to be presented via POST, or a PUT request on a read-only resource.\n",
    "\n",
    "**406 Not Acceptable**\n",
    "\n",
    "The requested resource is capable of generating only content not acceptable according to the Accept headers sent in the request. See Content negotiation.\n",
    "\n",
    "**407 Proxy Authentication Required (RFC 7235)**\n",
    "\n",
    "The client must first authenticate itself with the proxy.\n",
    "\n",
    "**408 Request Timeout**\n",
    "\n",
    "The server timed out waiting for the request. According to HTTP specifications: \"The client did not produce a request within the time that the server was prepared to wait. The client MAY repeat the request without modifications at any later time.\"\n",
    "\n",
    "**409 Conflict**\n",
    "\n",
    "Indicates that the request could not be processed because of conflict in the request, such as an edit conflict between multiple simultaneous updates."
   ]
  },
  {
   "cell_type": "markdown",
   "metadata": {},
   "source": [
    "Como você pode ver, utilizamos uma váriavel com todos os parâmetros que gostaríamos de passar.\n",
    "\n",
    "O pacote requests colocou automaticamente o ponto de interrogação na URL para você!\n",
    "\n",
    "---\n",
    "\n",
    "Caso você se depare com uma API que utilize Headers, basta utilizar o exemplo abaixo como base.\n",
    "\n",
    "---"
   ]
  },
  {
   "cell_type": "code",
   "execution_count": 1,
   "metadata": {},
   "outputs": [
    {
     "name": "stdout",
     "output_type": "stream",
     "text": [
      "Afghanistan (af)\n",
      "Albania (al)\n",
      "Algeria (dz)\n",
      "Andorra (ad)\n",
      "Angola (ao)\n",
      "Anguilla (ai)\n",
      "Antigua and Barbuda (ag)\n",
      "Argentina (ar)\n",
      "Armenia (am)\n",
      "Aruba (aw)\n"
     ]
    }
   ],
   "source": [
    "import requests\n",
    "\n",
    "h = {'my-custom-header': 'i am the one who knocks'}\n",
    "\n",
    "r = requests.get('http://battuta.medunes.net/api/country/all/?key=ce46369940c2632e9c160b0474bf49a3', headers=h)\n",
    "\n",
    "json = r.json()\n",
    "\n",
    "for i in range(10):\n",
    "    country = json[i]\n",
    "    print('{0} ({1})'.format(country['name'], country['code']))"
   ]
  },
  {
   "cell_type": "code",
   "execution_count": 4,
   "metadata": {},
   "outputs": [],
   "source": [
    "from pprint import pprint"
   ]
  },
  {
   "cell_type": "code",
   "execution_count": 5,
   "metadata": {},
   "outputs": [
    {
     "name": "stdout",
     "output_type": "stream",
     "text": [
      "{'Server': 'nginx', 'Date': 'Sat, 17 Mar 2018 13:56:42 GMT', 'Content-Type': 'application/json', 'Transfer-Encoding': 'chunked', 'Connection': 'keep-alive', 'Cache-Control': 'private, must-revalidate', 'pragma': 'no-cache', 'expires': '-1', 'Host-Header': '192fc2e7e50945beb8231a492d6a8024', 'X-Proxy-Cache': 'MISS'}\n"
     ]
    }
   ],
   "source": [
    "pprint(r.headers)"
   ]
  },
  {
   "cell_type": "code",
   "execution_count": 8,
   "metadata": {},
   "outputs": [
    {
     "name": "stdout",
     "output_type": "stream",
     "text": [
      "'https://battuta.medunes.net/api/country/all/?key=ce46369940c2632e9c160b0474bf49a3'\n"
     ]
    }
   ],
   "source": [
    "pprint(r.url)"
   ]
  },
  {
   "cell_type": "markdown",
   "metadata": {},
   "source": [
    "---\n",
    "## **Adendo: Autenticação usando OAuth1**\n",
    "\n",
    "http://docs.python-requests.org/en/master/user/authentication/\n",
    "https://github.com/requests/requests-oauthlib\n",
    "\n",
    "```python\n",
    "import requests\n",
    "from requests_oauthlib import OAuth1\n",
    "\n",
    "url = 'https://api.twitter.com/1.1/account/verify_credentials.json'\n",
    "auth = OAuth1('YOUR_APP_KEY', 'YOUR_APP_SECRET',\n",
    "              'USER_OAUTH_TOKEN', 'USER_OAUTH_TOKEN_SECRET')\n",
    "\n",
    "requests.get(url, auth=auth)\n",
    "```\n",
    "\n",
    "**On github**\n",
    "\n",
    "```python\n",
    "from requests_oauthlib import OAuth1Session\n",
    "twitter = OAuth1Session('client_key',\n",
    "                        client_secret='client_secret',\n",
    "                        resource_owner_key='resource_owner_key',\n",
    "                        resource_owner_secret='resource_owner_secret')\n",
    "url = 'https://api.twitter.com/1/account/settings.json'\n",
    "r = twitter.get(url)\n",
    "```\n",
    "\n",
    "---"
   ]
  },
  {
   "cell_type": "markdown",
   "metadata": {},
   "source": [
    "## **2. Escrita e leitura de arquivos em Python**\n",
    "\n",
    "\n",
    "Em Python, assim como em outras linguagens de programação, podemos manipular arquivos que estão em nosso disco.\n",
    "\n",
    "Para isso, utilizamos o `open` para nos trazer um **objeto de arquivo**.\n",
    "\n",
    "O `open` precisa saber o nome do arquivo para conseguir ler seu conteúdo:\n",
    "\n",
    "```python\n",
    "open('nome_do_arquivo')\n",
    "```\n",
    "\n",
    "No entanto, existe um segundo argumento que podemos passar para dizer qual o **modo que queremos trabalhar com esse arquivo**.\n",
    "\n",
    "Abaixo podemos ver exemplos de códigos com os modos mais comuns:\n",
    "\n",
    "```python\n",
    "open('nome_do_arquivo', 'r')  #Apenas leitura - padrão quando o modo é omitido\n",
    "\n",
    "open('nome_do_arquivo', 'r+') #Leitura e escrita\n",
    "\n",
    "open('nome_do_arquivo', 'w')  #Apenas escrita, apaga tudo que tem no arquivo antes de escrever novamente\n",
    "\n",
    "open('nome_do_arquivo', 'a')  #\"Append\", adiciona o que você quiser ao final do arquivo, sem apagar nada\n",
    "```\n",
    "\n",
    "Também existe um argumento para passarmos em qual **encoding** gostaríamos de escrever.\n",
    "\n",
    "```python\n",
    "open('nome_do_arquivo', 'w', encoding='utf-8')\n",
    "```\n",
    "\n",
    "Você pode conferir todos os parâmetros do método `open` aqui: https://docs.python.org/3/library/functions.html#open\n",
    "\n",
    "Todo o processo de escrita e leitura de arquivos deve ser feita com muito **cuidado**. Como são operações mais lentas, você pode acabar travando seu computador se fizer um loop errado enquanto escreve um arquivo.\n",
    "\n",
    "Por isso, é muito importante se **lembrar de SEMPRE fechar o arquivo após o uso** dele no Python.\n",
    "\n",
    "Vamos ver um exemplo:"
   ]
  },
  {
   "cell_type": "code",
   "execution_count": 7,
   "metadata": {
    "collapsed": true
   },
   "outputs": [],
   "source": [
    "f = open('arquivo_teste.txt', 'w')\n",
    "\n",
    "f.write('Alô? Alguém me escuta?')\n",
    "\n",
    "f.close()"
   ]
  },
  {
   "cell_type": "markdown",
   "metadata": {},
   "source": [
    "## Porque o Context Manager (with) é necessário\n",
    "\n",
    "Em Python, podemos pedir ajuda de um **Context Manager para automaticamente fechar o arquivo após o uso**.\n",
    "\n",
    "Isso é a recomendação das **boas práticas** e evita que seu código tenha bugs.\n",
    "\n",
    "Para utilizarmos essa funcionalidade, basta utilizar a palavra reservada **with**\n",
    "\n",
    "Vamos ver um exemplo:"
   ]
  },
  {
   "cell_type": "code",
   "execution_count": 10,
   "metadata": {},
   "outputs": [
    {
     "name": "stdout",
     "output_type": "stream",
     "text": [
      "Alô? Alguém me escuta?\n",
      "\n",
      "\n",
      "Será que o arquivo está fechado? True\n"
     ]
    }
   ],
   "source": [
    "with open('arquivo_teste.txt', 'r') as f:\n",
    "    print(f.readline())\n",
    "\n",
    "print('\\n\\nSerá que o arquivo está fechado? {0}'.format(f.closed))"
   ]
  },
  {
   "cell_type": "markdown",
   "metadata": {},
   "source": [
    "## O que é um arquivo CSV\n",
    "\n",
    "Arquivos CSV são apenas uma **coleção de dados separados por um caractere especial** (normalmente `,` ou `;`).\n",
    "\n",
    "Eles são muito importantes para fazer **pequenos estudos de dados** ou movimentações de dados de um lugar para o outro.\n",
    "\n",
    "Todos os softwares de planilha do mercado aceitam arquivos CSV.\n",
    "\n",
    "Alguns cuidados que devemos seguir ao criar um arquivo CSV:\n",
    "\n",
    "- Sempre terminar as linhas com `\\n`\n",
    "- Sempre utilizar o encoding como `utf-8`\n",
    "- Utilizar caracteres que não influenciam no dado (ex.: vírgulas para separar dados númericos que também usam vírgulas)\n",
    "\n",
    "Vamos ver um exemplo de como podemos criar um arquivo CSV em Python a partir do scraping da API do Jsonplaceholder."
   ]
  },
  {
   "cell_type": "code",
   "execution_count": 13,
   "metadata": {},
   "outputs": [
    {
     "name": "stdout",
     "output_type": "stream",
     "text": [
      "Leanne Graham;Sincere@april.biz;hildegard.org\n",
      "\n",
      "Ervin Howell;Shanna@melissa.tv;anastasia.net\n",
      "\n",
      "Clementine Bauch;Nathan@yesenia.net;ramiro.info\n",
      "\n",
      "Patricia Lebsack;Julianne.OConner@kory.org;kale.biz\n",
      "\n",
      "Chelsey Dietrich;Lucio_Hettinger@annie.ca;demarco.info\n",
      "\n",
      "Mrs. Dennis Schulist;Karley_Dach@jasper.info;ola.org\n",
      "\n",
      "Kurtis Weissnat;Telly.Hoeger@billy.biz;elvis.io\n",
      "\n",
      "Nicholas Runolfsdottir V;Sherwood@rosamond.me;jacynthe.com\n",
      "\n",
      "Glenna Reichert;Chaim_McDermott@dana.io;conrad.com\n",
      "\n",
      "Clementina DuBuque;Rey.Padberg@karina.biz;ambrose.net\n",
      "\n"
     ]
    }
   ],
   "source": [
    "import requests\n",
    "\n",
    "api = requests.get('https://jsonplaceholder.typicode.com/users')\n",
    "\n",
    "json = api.json()\n",
    "\n",
    "with open('lista_de_usuarios.csv', 'w', encoding='utf-8') as f:\n",
    "    for user in json:\n",
    "        f.write('{0};{1};{2}\\n'.format(user['name'], user['email'], user['website']))\n",
    "\n",
    "        \n",
    "# Vamos ler nosso arquivo\n",
    "with open('lista_de_usuarios.csv', 'r') as r:\n",
    "    for line in r:\n",
    "        print(line)"
   ]
  },
  {
   "cell_type": "markdown",
   "metadata": {},
   "source": [
    "## Exercício 2 - CSV com os dados do CoinMarketCap\n",
    "\n",
    "Vamos usar o pacote requests para o acessar a API do CoinMarketCap e em seguida gravar o retorno em um CSV.\n",
    "\n",
    "As instruções da API estão disponíveis em: https://coinmarketcap.com/api/\n",
    "\n",
    "Deveremos extrair os seguintes dados:\n",
    "- Nome da moeda\n",
    "- Preço atual **CONVERTIDO EM REAIS**\n",
    "- O valor de mercado total\n",
    "- O valor atual em circulação\n",
    "- Percentual de mudança nas últimas 24 horas\n",
    "\n",
    "**Não precisaremos limitar a quantidade de moedas para esse exercício**\n",
    "\n",
    "Tempo: 10 minutos\n",
    "\n",
    "---"
   ]
  },
  {
   "cell_type": "code",
   "execution_count": 15,
   "metadata": {
    "collapsed": true
   },
   "outputs": [],
   "source": [
    "import requests\n",
    "\n",
    "api = requests.get('API')\n",
    "\n",
    "json = api.json()\n",
    "\n",
    "#Abrir arquivo e escrever em padrão CSV"
   ]
  },
  {
   "cell_type": "markdown",
   "metadata": {},
   "source": [
    "## Consumindo seu CSV\n",
    "\n",
    "Agora que temos um CSV com muitos dados vamos importá-lo no Google Sheets e analisá-lo.\n",
    "\n",
    "Entre em https://docs.google.com/spreadsheets/u/0/\n",
    "\n",
    "Crie uma planilha nova\n",
    "\n",
    "Vá no menu Arquivo e em seguida clique em Importar\n",
    "\n",
    "![Como importar CSV no Google Sheets](images/importar_csv.png)\n",
    "\n",
    "Em seguida será exibida uma tela para que você selecione a planilha que deseja importar.\n",
    "\n",
    "Vá em Upload e selecione o arquivo em seu disco ou arraste para a janela.\n",
    "\n",
    "![Como fazer upload de CSV no Google Sheets](images/upload_csv.png)\n",
    "\n",
    "Depois será exibida uma tela pedindo para que você configure de acordo com o arquivo que você está importando.\n",
    "\n",
    "![Como importar CSV no Google Sheets](images/escolher_padrao_csv.png)\n",
    "\n",
    "Fique atento(a) para colocar o campo delimitador correto.\n",
    "\n",
    "![Como importar CSV no Google Sheets](images/como_escolher_padrao_csv.png)\n",
    "\n",
    "Pronto! Seus dados foram importados."
   ]
  },
  {
   "cell_type": "markdown",
   "metadata": {},
   "source": [
    "## Exercício 3 - CSV com os dados de uma fonte de sua escolha\n",
    "\n",
    "**Atenção: este exercício será feito em dupla**\n",
    "\n",
    "Escolham uma das APIs abaixo para depois guardar os dados em um CSV.\n",
    "\n",
    "Fontes para API:\n",
    "- https://jobs.github.com/api\n",
    "- http://quotesondesign.com/wp-json/posts?filter[orderby]=rand&filter[posts_per_page]=25\n",
    "- https://carbon-intensity.github.io/api-definitions/\n",
    "- http://www.recipepuppy.com/about/api/\n",
    "- https://app.swaggerhub.com/apis/Bandsintown/PublicAPI/3.0.0\n",
    "\n",
    "\n",
    "Tempo: 20 minutos\n",
    "    \n",
    "---"
   ]
  },
  {
   "cell_type": "markdown",
   "metadata": {},
   "source": [
    "## Parabéns\n",
    "\n",
    "Terminamos por aqui. Não se esqueçam de checar o pós aula para mais dicas.\n",
    "\n",
    "Qualquer dúvida meus contatos estão lá em cima!\n",
    "\n",
    "![Acabou!](https://media.giphy.com/media/3o7qDEq2bMbcbPRQ2c/giphy.gif)"
   ]
  }
 ],
 "metadata": {
  "kernelspec": {
   "display_name": "Python 3",
   "language": "python",
   "name": "python3"
  },
  "language_info": {
   "codemirror_mode": {
    "name": "ipython",
    "version": 3
   },
   "file_extension": ".py",
   "mimetype": "text/x-python",
   "name": "python",
   "nbconvert_exporter": "python",
   "pygments_lexer": "ipython3",
   "version": "3.6.4"
  }
 },
 "nbformat": 4,
 "nbformat_minor": 2
}
