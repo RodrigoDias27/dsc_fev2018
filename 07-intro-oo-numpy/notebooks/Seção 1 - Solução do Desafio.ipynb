{
 "cells": [
  {
   "cell_type": "markdown",
   "metadata": {},
   "source": [
    "# Seção 1: Orientação a Objetos"
   ]
  },
  {
   "cell_type": "markdown",
   "metadata": {},
   "source": [
    "___"
   ]
  },
  {
   "cell_type": "markdown",
   "metadata": {},
   "source": [
    "# Solução do Desafio"
   ]
  },
  {
   "cell_type": "markdown",
   "metadata": {},
   "source": [
    "## Objetivo:\n",
    "\n",
    "Construir a classe **Array**, que implementa um vetor matemático de **uma dimensão**. \n",
    "\n",
    "Essa classe ter as seguintes funcionalidades:\n",
    "\n",
    "1. Receber na **construção do objeto** os elementos de uma lista;\n",
    "2. Ter um atributo `shape` que retorna o tamanho;\n",
    "3. Ter um método `add` que retorna:\n",
    "  - None se o número de elementos não for compatível\n",
    "  - um Array com a soma escalar dos elementos um a um se as dimensões forem compatíveis\n",
    "4. Ter um método `mul` que retorna:\n",
    "  - None se o número de elementos não for compatível\n",
    "  - um Array com o produto escalar dos elementos um a um se as dimensões forem compatíveis\n",
    "5. Ter um método `dot` que retorna:\n",
    "  - None se o número de elementos não for compatível\n",
    "  - o Produto Vetorial dos dois vetores se as dimensões forem compatíveis"
   ]
  },
  {
   "cell_type": "markdown",
   "metadata": {},
   "source": [
    "## Solução:"
   ]
  },
  {
   "cell_type": "code",
   "execution_count": null,
   "metadata": {},
   "outputs": [],
   "source": [
    "\"\"\" Escreva a a Solução Aqui \"\"\"\n",
    "\n",
    "class Array:\n",
    "    \n",
    "    # Método de Comparação entre dois objetos; Não editar\n",
    "    def __eq__(self, other): \n",
    "        return self.__dict__ == other.__dict__\n",
    "    \n",
    "    ### Comece AQUI a implementar ###\n",
    "    def __init__(self, lista):\n",
    "        self.data = lista\n",
    "        self.shape = (len(lista), )\n",
    "        \n",
    "    def add(self, other):\n",
    "        if self.shape != other.shape:\n",
    "            return None\n",
    "        lista = []\n",
    "        for i in range(self.shape[0]):\n",
    "            lista.append(self.data[i] + other.data[i])\n",
    "        return Array(lista)\n",
    "        \n",
    "    def mul(self, other):\n",
    "        if self.shape != other.shape:\n",
    "            return None\n",
    "        lista = []\n",
    "        for i in range(self.shape[0]):\n",
    "            lista.append(self.data[i] * other.data[i])\n",
    "        return Array(lista)\n",
    "        \n",
    "    def dot(self, other):\n",
    "        lista = self.mul(other)\n",
    "        if lista is None:\n",
    "            return None        \n",
    "        return sum(lista.data)\n",
    "    \n",
    "    ### Termine AQUI de implementar ###"
   ]
  },
  {
   "cell_type": "markdown",
   "metadata": {},
   "source": [
    "## Avaliação da Solução"
   ]
  },
  {
   "cell_type": "code",
   "execution_count": null,
   "metadata": {},
   "outputs": [],
   "source": [
    "a1 = Array([1, 0, -1])\n",
    "a2 = Array([-1, 5, 1])\n",
    "a3 = Array([0, 1])"
   ]
  },
  {
   "cell_type": "code",
   "execution_count": null,
   "metadata": {},
   "outputs": [],
   "source": [
    "assert a1.shape == a2.shape == (3,)"
   ]
  },
  {
   "cell_type": "code",
   "execution_count": null,
   "metadata": {},
   "outputs": [],
   "source": [
    "assert a3.shape == (2,), \"Erro de shape\""
   ]
  },
  {
   "cell_type": "code",
   "execution_count": null,
   "metadata": {},
   "outputs": [],
   "source": [
    "assert a1.add(a2) == Array([0, 5, 0])"
   ]
  },
  {
   "cell_type": "code",
   "execution_count": null,
   "metadata": {},
   "outputs": [],
   "source": [
    "assert a1.add(a3) == None"
   ]
  },
  {
   "cell_type": "code",
   "execution_count": null,
   "metadata": {},
   "outputs": [],
   "source": [
    "assert a1.mul(a2) == Array([-1, 0, -1])"
   ]
  },
  {
   "cell_type": "code",
   "execution_count": null,
   "metadata": {},
   "outputs": [],
   "source": [
    "assert a2.mul(a3) == None"
   ]
  },
  {
   "cell_type": "code",
   "execution_count": null,
   "metadata": {},
   "outputs": [],
   "source": [
    "assert a2.dot(a1) == -2"
   ]
  },
  {
   "cell_type": "code",
   "execution_count": null,
   "metadata": {},
   "outputs": [],
   "source": [
    "assert a2.dot(a3) == None"
   ]
  }
 ],
 "metadata": {
  "kernelspec": {
   "display_name": "Python 3",
   "language": "python",
   "name": "python3"
  },
  "language_info": {
   "codemirror_mode": {
    "name": "ipython",
    "version": 3
   },
   "file_extension": ".py",
   "mimetype": "text/x-python",
   "name": "python",
   "nbconvert_exporter": "python",
   "pygments_lexer": "ipython3",
   "version": "3.6.4"
  },
  "toc": {
   "nav_menu": {},
   "number_sections": true,
   "sideBar": true,
   "skip_h1_title": false,
   "toc_cell": false,
   "toc_position": {},
   "toc_section_display": "block",
   "toc_window_display": false
  }
 },
 "nbformat": 4,
 "nbformat_minor": 2
}
