{
cells: [
{
cell_type: "markdown",
metadata: { },
source: [
"# Regularization: Regressão LASSO e Ridge"
]
},
{
cell_type: "markdown",
metadata: { },
source: [
"Objetivo: Avaliar a base de dados *"Boston House Prices"* utilizando os métodos LASSO e Ridge e comparar o resultado com o modelo tradicional de regressão linear."
]
},
{
cell_type: "markdown",
metadata: { },
source: [
"## 1. Carregando Base dados"
]
},
{
cell_type: "code",
execution_count: 45,
metadata: {
collapsed: true
},
outputs: [ ],
source: [
"# ## Carga inicial ",
"# Será utilizada a biblioteca [scikit-learn](http://scikit-learn.org/) para o trabalho. ",
"# A partir da biblioteca, é possível carregar diretamente os dados que serão utilizados. ",
"#Esses dados serão carregados em um DataFrame para facilitar a visualização e a manipulação. ",
" ",
"# In[1]: ",
"from sklearn.datasets import load_boston ",
" ",
"boston = load_boston() ",
"#print(boston.DESCR) "
]
},
{
cell_type: "code",
execution_count: 46,
metadata: { },
outputs: [
{
data: {
text/html: [
"<div> ",
"<style> ",
" .dataframe thead tr:only-child th { ",
" text-align: right; ",
" } ",
" ",
" .dataframe thead th { ",
" text-align: left; ",
" } ",
" ",
" .dataframe tbody tr th { ",
" vertical-align: top; ",
" } ",
"</style> ",
"<table border="1" class="dataframe"> ",
" <thead> ",
" <tr style="text-align: right;"> ",
" <th></th> ",
" <th>CRIM</th> ",
" <th>ZN</th> ",
" <th>INDUS</th> ",
" <th>CHAS</th> ",
" <th>NOX</th> ",
" <th>RM</th> ",
" <th>AGE</th> ",
" <th>DIS</th> ",
" <th>RAD</th> ",
" <th>TAX</th> ",
" <th>PTRATIO</th> ",
" <th>B</th> ",
" <th>LSTAT</th> ",
" <th>Price</th> ",
" </tr> ",
" </thead> ",
" <tbody> ",
" <tr> ",
" <th>0</th> ",
" <td>0.00632</td> ",
" <td>18</td> ",
" <td>2.31</td> ",
" <td>0</td> ",
" <td>0.538</td> ",
" <td>6.58</td> ",
" <td>65.2</td> ",
" <td>4.09</td> ",
" <td>1</td> ",
" <td>296</td> ",
" <td>15.3</td> ",
" <td>397</td> ",
" <td>4.98</td> ",
" <td>24</td> ",
" </tr> ",
" <tr> ",
" <th>1</th> ",
" <td>0.0273</td> ",
" <td>0</td> ",
" <td>7.07</td> ",
" <td>0</td> ",
" <td>0.469</td> ",
" <td>6.42</td> ",
" <td>78.9</td> ",
" <td>4.97</td> ",
" <td>2</td> ",
" <td>242</td> ",
" <td>17.8</td> ",
" <td>397</td> ",
" <td>9.14</td> ",
" <td>21.6</td> ",
" </tr> ",
" <tr> ",
" <th>2</th> ",
" <td>0.0273</td> ",
" <td>0</td> ",
" <td>7.07</td> ",
" <td>0</td> ",
" <td>0.469</td> ",
" <td>7.18</td> ",
" <td>61.1</td> ",
" <td>4.97</td> ",
" <td>2</td> ",
" <td>242</td> ",
" <td>17.8</td> ",
" <td>393</td> ",
" <td>4.03</td> ",
" <td>34.7</td> ",
" </tr> ",
" <tr> ",
" <th>3</th> ",
" <td>0.0324</td> ",
" <td>0</td> ",
" <td>2.18</td> ",
" <td>0</td> ",
" <td>0.458</td> ",
" <td>7</td> ",
" <td>45.8</td> ",
" <td>6.06</td> ",
" <td>3</td> ",
" <td>222</td> ",
" <td>18.7</td> ",
" <td>395</td> ",
" <td>2.94</td> ",
" <td>33.4</td> ",
" </tr> ",
" <tr> ",
" <th>4</th> ",
" <td>0.0691</td> ",
" <td>0</td> ",
" <td>2.18</td> ",
" <td>0</td> ",
" <td>0.458</td> ",
" <td>7.15</td> ",
" <td>54.2</td> ",
" <td>6.06</td> ",
" <td>3</td> ",
" <td>222</td> ",
" <td>18.7</td> ",
" <td>397</td> ",
" <td>5.33</td> ",
" <td>36.2</td> ",
" </tr> ",
" </tbody> ",
"</table> ",
"</div>"
],
text/plain: [
" CRIM ZN INDUS CHAS NOX RM AGE DIS RAD TAX PTRATIO B LSTAT \ ",
"0 0.00632 18 2.31 0 0.538 6.58 65.2 4.09 1 296 15.3 397 4.98 ",
"1 0.0273 0 7.07 0 0.469 6.42 78.9 4.97 2 242 17.8 397 9.14 ",
"2 0.0273 0 7.07 0 0.469 7.18 61.1 4.97 2 242 17.8 393 4.03 ",
"3 0.0324 0 2.18 0 0.458 7 45.8 6.06 3 222 18.7 395 2.94 ",
"4 0.0691 0 2.18 0 0.458 7.15 54.2 6.06 3 222 18.7 397 5.33 ",
" ",
" Price ",
"0 24 ",
"1 21.6 ",
"2 34.7 ",
"3 33.4 ",
"4 36.2 "
]
},
execution_count: 46,
metadata: { },
output_type: "execute_result"
}
],
source: [
"# In[2]: ",
"import pandas as pd ",
"boston_df = pd.DataFrame(boston.data) ",
"boston_df.columns = boston.feature_names ",
"boston_df['Price'] = boston.target ",
" ",
"pd.options.display.float_format = '{:,.3g}'.format # Just Format! ",
"boston_df.head() "
]
},
{
cell_type: "markdown",
metadata: { },
source: [
"## 2. Regressão Linear ",
" ",
"A regressão linear será realizada utilizando o método dos mínimos quadrados."
]
},
{
cell_type: "markdown",
metadata: { },
source: [
"### 2.1 Linear: Ajustando o Modelo"
]
},
{
cell_type: "code",
execution_count: 47,
metadata: { },
outputs: [
{
data: {
text/html: [
"<div> ",
"<style> ",
" .dataframe thead tr:only-child th { ",
" text-align: right; ",
" } ",
" ",
" .dataframe thead th { ",
" text-align: left; ",
" } ",
" ",
" .dataframe tbody tr th { ",
" vertical-align: top; ",
" } ",
"</style> ",
"<table border="1" class="dataframe"> ",
" <thead> ",
" <tr style="text-align: right;"> ",
" <th></th> ",
" <th>Intercept</th> ",
" <th>CRIM</th> ",
" <th>ZN</th> ",
" <th>INDUS</th> ",
" <th>CHAS</th> ",
" <th>NOX</th> ",
" <th>RM</th> ",
" <th>AGE</th> ",
" <th>DIS</th> ",
" <th>RAD</th> ",
" <th>TAX</th> ",
" <th>PTRATIO</th> ",
" <th>B</th> ",
" <th>LSTAT</th> ",
" </tr> ",
" </thead> ",
" <tbody> ",
" <tr> ",
" <th>OLS</th> ",
" <td>22.5</td> ",
" <td>-0.92</td> ",
" <td>1.08</td> ",
" <td>0.143</td> ",
" <td>0.682</td> ",
" <td>-2.06</td> ",
" <td>2.67</td> ",
" <td>0.0211</td> ",
" <td>-3.1</td> ",
" <td>2.66</td> ",
" <td>-2.08</td> ",
" <td>-2.06</td> ",
" <td>0.857</td> ",
" <td>-3.75</td> ",
" </tr> ",
" </tbody> ",
"</table> ",
"</div>"
],
text/plain: [
" Intercept CRIM ZN INDUS CHAS NOX RM AGE DIS RAD TAX \ ",
"OLS 22.5 -0.92 1.08 0.143 0.682 -2.06 2.67 0.0211 -3.1 2.66 -2.08 ",
" ",
" PTRATIO B LSTAT ",
"OLS -2.06 0.857 -3.75 "
]
},
execution_count: 47,
metadata: { },
output_type: "execute_result"
}
],
source: [
"# In[3]: ",
"from sklearn.linear_model import LinearRegression ",
"import numpy as np ",
" ",
"lr = LinearRegression() ",
" ",
"_x = boston_df.drop('Price', axis=1) ",
"y = boston_df['Price'] ",
" ",
"# Normalizando as variáveis input ",
"mu = np.mean(_x, axis=0) ",
"sigma = np.std(_x, axis=0) ",
"x = (_x - mu) / sigma ",
" ",
"lr.fit(x, y) ",
" ",
"# Apresentamos abaixo os coeficientes calculados. ",
"coef_df = pd.DataFrame(index=np.append(['Intercept'], boston.feature_names)) ",
"coef_df['OLS'] = np.append([lr.intercept_], lr.coef_) ",
"coef_df.T"
]
},
{
cell_type: "markdown",
metadata: {
collapsed: true
},
source: [
"### 2.2 Linear: Calculando estatística de ajuste"
]
},
{
cell_type: "code",
execution_count: 48,
metadata: { },
outputs: [
{
data: {
text/html: [
"<div> ",
"<style> ",
" .dataframe thead tr:only-child th { ",
" text-align: right; ",
" } ",
" ",
" .dataframe thead th { ",
" text-align: left; ",
" } ",
" ",
" .dataframe tbody tr th { ",
" vertical-align: top; ",
" } ",
"</style> ",
"<table border="1" class="dataframe"> ",
" <thead> ",
" <tr style="text-align: right;"> ",
" <th></th> ",
" <th>OLS</th> ",
" </tr> ",
" </thead> ",
" <tbody> ",
" <tr> ",
" <th>MSE</th> ",
" <td>21.9</td> ",
" </tr> ",
" <tr> ",
" <th>R²</th> ",
" <td>0.741</td> ",
" </tr> ",
" </tbody> ",
"</table> ",
"</div>"
],
text/plain: [
" OLS ",
"MSE 21.9 ",
"R² 0.741"
]
},
execution_count: 48,
metadata: { },
output_type: "execute_result"
}
],
source: [
"# In[4]: ",
"from sklearn.metrics import mean_squared_error, r2_score ",
" ",
"mse_ls = mean_squared_error(y, lr.predict(x)) ",
"r2_ls = r2_score(y, lr.predict(x)) ",
" ",
"#Colocando as estatisticas de ajuste MSE e R^2 em tabela ",
"result_df = pd.DataFrame(index=['MSE', 'R\u00b2']) ",
"result_df['OLS'] = [mse_ls, r2_ls] ",
"result_df"
]
},
{
cell_type: "markdown",
metadata: {
collapsed: true
},
source: [
"### 2.3 Linear: Gráfico Real X Previsto"
]
},
{
cell_type: "code",
execution_count: 49,
metadata: { },
outputs: [
{
data: {
image/png: "iVBORw0KGgoAAAANSUhEUgAAAYIAAAEKCAYAAAAfGVI8AAAABHNCSVQICAgIfAhkiAAAAAlwSFlz AAALEgAACxIB0t1+/AAAADl0RVh0U29mdHdhcmUAbWF0cGxvdGxpYiB2ZXJzaW9uIDIuMS4wLCBo dHRwOi8vbWF0cGxvdGxpYi5vcmcvpW3flQAAIABJREFUeJztnXuYFOWV/z9nhkYGLwwIujjKZQ1i YkAI4yXBGDEXEq8jJhJjjCYqyW6SBZag4PoE9GdkXHRjdDfZsCEJ7qJBxIyo2ZA8AhovEEEkOCri DXFgBYUBgQHmcn5/dPXQ3VNVXX2p7p7u83kenpmuqep6p5h+z/ue8z3niKpiGIZhlC8VhR6AYRiG UVjMEBiGYZQ5ZggMwzDKHDMEhmEYZY4ZAsMwjDLHDIFhGEaZY4bAMAyjzDFDYBiGUeaYITAMwyhz ehR6AEHo37+/DhkypNDDMAzD6FasXbv2A1UdkOq8bmEIhgwZwpo1awo9DMMwjG6FiGwOcp65hgzD MMocMwSGYRhljhkCwzCMMscMgWEYRpljhsAwDKPMCVU1JCLvAB8B7UCbqtaKSD9gETAEeAe4QlV3 hTkOwzAMw5t87AjGqeooVa11Xs8AnlTVYcCTzmvDMAyjQBTCNXQpsMD5fgFQV4AxGIZhFDWNjY1M mzaNjo6O0O8VtiFQ4E8islZEJjnHjlfVbQDO1+PcLhSRSSKyRkTW7NixI+RhGoZhFAdbtmzhO9/5 DiNHjmT+/Pls2rQp9HuGbQjGquqngK8A3xeRc4NeqKrzVLVWVWsHDEiZIW0YhtGt2blzJzfeeCPD hg1j4cKFTJ06lTfffJPhw4eHfu9Qg8WqutX5ul1Efg+cCbwvIgNVdZuIDAS2hzkGwzCMYqalpYV7 772X+vp6du/ezbe+9S1uvfVWBg8enLcxhLYjEJEjReTo2PfAl4CXgaXANc5p1wCPhjUGwzCMYqWt rY358+czbNgwZsyYwdixY1m/fj2//e1v82oEINwdwfHA70Ukdp8HVPWPIvIC8JCIXAe8C3wtxDEY hmEUFarK0qVLmTlzJq+++ipnn302DzzwAOeeG9hznnNCMwSq+hZwusvxD4HPh3VfwzCMYuWZZ57h pptu4rnnnmP48OE88sgj1NXV4SyYC4ZlFhuGYYRMY2Mjl1xyCZ/97Gd5++23mTdvHi+//DKXXXZZ wY0AmCEwDMMIjXgp6NNPP80dd9zBG2+8wQ033ECPHsXTDqZ4RmIYhlEi7Ny5k/r6eu69915UlalT pzJz5kyOPfbYQg/NFTMEhmEYOaIYpKCZYK4hwzCMLCkmKWgmmCEwDMPIEFXl0UcfZeTIkVx//fWc dNJJPPXUUzz++OOMGDGi0MMLjBkCwzCMDHjmmWc455xzqKuro6Ojg0ceeYTnnnuuoPkAmWKGwDAM Iw2KXQqaCWYIDMMwAtBdpKCZ0L1HbxiGETLdTQqaCWYIDMMwXOiuUtBMMENgGIYRR1tbGwsWLGDW rFk0NTVx4YUXMmfOnLyqgBrWNTF32Ua2NrdwQnUV08cPp250TWj3M0NgGIZB8VQFbVjXxMxHNtDS 2g5AU3MLMx/ZABCaMbBgsWEYZU8xSUHnLtvYaQRitLS2M3fZxtDuaYbAMIyypRiloFubW9I6ngvM EBiGUXYUsxT0hOqqtI7nAjMEhmGUDV4N4mfOnEnv3r0LPTwApo8fTmVF4m6kskKYPj68JvZmCAzD KHlaWlq48847Ofnkk7nrrrv4+te/zuuvv85dd91VdPkAazbvpL1DE461dyhrNu8M7Z5mCAzDKFm6 Y1XQB1dvSet4LjBDYBhGydGdq4K2q6Z1PBdYHoFhGCVFsTaIh2CJYpUirpN+ZYjjtx2BYRglQTFK QeOJJYo1NbegHE4Ua1jXlHDelWed5Hq91/FcYIbAMIxuTbwU9KmnnioqKWg8QRPFagf36zIxVzjH w8IMgWEY3ZJkKeiUKVN46623ikoKGk/QRLG5yzbSkXROh3M8LMwQGIbRrfCSgt59991FJwWNxysh rEIkwT1kmcWGYRgedEcpaDzTxw+nKlLZ5Xi7akKswDKLDcMwkigWKWjDuibG1i9n6IwnGFu/vEuQ NxV1o2uYM2GEq/onPlYw5Fj3Cd/reC4I3RCISKWIrBORx53XQ0VktYhsEpFFItIz7DEYhtE9KZaq oEEVP6moG11Dh0c+QMz18/xb7hnEXsdzQT52BJOBV+Ne3wn8VFWHAbuA6/IwBsMwuhHFJgXNZWno VK6fDo+8Ma/juSBUQyAiJwIXAr9yXgtwPvCwc8oCoC7MMRiG0X0oViloLgO4brGCqkhlqEXlUhH2 k70HuBE42nl9LNCsqm3O6/eA8PqvGYbRLUhuED9lyhRuvvnmnKmAsm39eEJ1FU0uk34mAdzYffPZ ijIVoRkCEbkI2K6qa0XkvNhhl1NdNzwiMgmYBDBo0KBQxmgYRmHJR4P4XLR+nD5+eMJ7QHar+LrR NQWd+JMJc0cwFrhERC4AegHHEN0hVItID2dXcCKw1e1iVZ0HzAOora0N0TtmGEa+yWeDeD//vt9k nLyLuHxMDSte2xH6Kr7GY/dRE6J8NDRDoKozgZkAzo7gR6p6lYgsBr4K/A64Bng0rDEYhlFcFKJB fCb+fbddxJK1TcyZMCL0lXyudx9BKET05SbgdyJyO7AOmF+AMRiGkWcKVRU0qH8/fgdQ4VIBNMgu IhcUIoaQF0OgqiuBlc73bwFn5uO+hmEUnsbGRmbOnMljjz3GwIEDmTdvHt/+9rezUgGlE/wNssJO 3gF41f4Ps8xDPPmOIRRPaT7DMLo1yZPzt08/mucW/4IFCxZw1FFHcccddzB58uSsC8KlG/wNssJ2 iyO4EWaZh0IiGmLXm1xRW1ura9asKfQwjAKQrezPyA/xk3N7y0fsWbWYj9Y+RmWF8E8//EFOpaBj 65d7BlOfnXF+4PHG/125vV8yVZHKvMQIcomIrFXV2lTn2Y7AKFpyIfsz8sPcZRvZt38/H619jD2r FtNxcD9HfvJ8hl9wHXffeWVO7+XlnmlqbmHojCcSFgxuCwmgy9+V4K5jrxShQzUni5B0FjX5XgCZ ITCKlkxlf0Z+aWtrY+NTj9L8zELa935I1clnUP25a+g5YAhhVMfxW8HH1wFas3knS9Y2dVlIHNGj osvflUIXY5DLHUA6i5qGdU1Mf3g9re3aee70h9e7npsrrPqoUbQUoi67kYhfxc34qqAf/vFeKo/p z/HfqOe4r86i54AhQDg+da9yzvG0tLbz4OotrguJ5pZW12uUqHtJnK+5dAOlU6vo1scaO41AjNZ2 5dbHGnMyFjdsR2AULblM6zfSx28V23/f2wlS0Jvu+i8adtVwoO1wb62wtO/JwV+vKKeX8seLdGIM 6ZLOombXfndD5XU8F5ghMIqWQiTWdCe8/Mi58i+7rWJ3b32L71x1G7tefb6LFPTsPPq14+WVXsHj SpdcAIC+vSMcaO3I699VsS9qzBAYRUsxFucqFrxW615+cUjfvxy/Wm3bs4PmZxay7+XlSKQXg8Zf x7/+eAYTP/OxznP8tO9hBj+9FgyXj6lJeBax47MuPg3I799VOoua6qqIq/uquioS2vjMEBhFTbEV 5yoWvHzOD67e4poRO3tpY1p1daaPH84J1VW8u207e1YtZs/axwDl6NpL6PPpK5CqY5j9v29wRFVV yv+fsNVffguG2sH9PCf8XAWBgxiUdBY1F50+kP9Z9a7r8bCwPALD6IYMnfGEp2/ci3smjnKdeBrW NTF98Xpa4zqfVLYfYvD7T/PU4l/RcWAfR37yfKrPuYoefY5LuDaIXz0Xuv9ckcudSbKBg9wojXL5 vCyPwDC6AZlOTEGToOLxkt3OXtrYaQS0o529G55k9zMLeWvvh4w55/O0jfk6zb3cV6NBFFzFov7K 9c4kLHlzIZ6XGQLDKBDZTExuPudIhSSs6pNpam5hbP3yTr90vOpGVWl5YzXNTy2g9cMt9Bw4nP4X /4g1D8wAvFepQYKdqQKl+UqeyvXEHdaEXYjAshkCwygQqbTlfpOjm895/6G2lBLDzuQkpdNoHHiv keaVv+Vg06v06HciAy67maphn0ZEaFjXRN3oGs9g57hTBzC2frnvJO4XKM1n9niuJ+6wJuxxpw5w jRGMO3VAVu/rhxkCwygQfqUSgkyOyYH0oTOeCHTfWLLSoR2baX56AS1v/JXKo/rRb/wPOGrkF5GK w8layfeNNzzjTh0QSKHkFygdW788b9njuZ64w5I3r3htR1rHc4EZAsMoEF4TU6WI7+To5UoJGjdI loJWn/stjq69hIpIry7nxt832fB4TeK3PtboOj63iT2f/vAw2k1C7mWoFiMwjDLCa2LyKoe8tbnF 15Xi9n7x9XNiVUGTpaCVVcf4jjPdiWnX/tZOF1UqV08+/eFhTNxhyJsLESMw+ahhpCDdYGa2VSbn LtvoOhH07R1hT0uba7ZsTFqY/H7jTh3A4lVvsX1VQ2dV0KNHnE+/z34Tjg7mc/aqwOkVQHbDS/qY rgSzHMqS51KWGlQ+aobAMHzIZKLK9kPs9h6VFUK7jyII4J36CxNexxrE33TzLXy4/f+oOvkMTrlo ErOv+QoAUx96iUw+/tVVEWZfEs3Oja+S6YcAbyeNL0bQyT0s3X4xkiuDl9M8AhE5Hfis8/Ivqro+ 7REZRjfES9kz7aGuZYEb1jUx7aH1afe6dfvQz5kwovNY756V7Dvk3z2r0un727CuiX/942u8uWYl Hz1zPy3b3+Wss85iyUO/43Of+1yX65ITySqAPr0jNO9vde3bC9Dc0srMRzZw+Zga9yL+Lvi5NYK6 V6wseXikNAQiMhm4AXjEOfQ/IjJPVe8LdWSGUQR4+cHbVRN837HVatBet7HJP7kpSsynPmfCiE5X z9RFL6UcZ7sqDeuamHzPg7z/5K87paA1X72Fm2Z+l8996sQu16TymfupkLzKWYB7Xf9cFHQrlsS0 sClEQ6YgO4LrgLNUdR+AiNwJPA+YITBKHj8lTktrO1MWvcTcZRvZf6jNt+dt/Io4+YOePJXG5xJM e2h9oEV334Pv852rvsauV5/vIgW97fFXuMzFEID/ajyVCsnL6MXq+ufaj1/sFTxzRSF2PkEMgQDx o2p3jhlGyeOmxEkmVcBUSMzqDdIoPbYKTFVTv23PDvY+9wBbNjyJ9nCXgu7a39qZGJYOqX53rzLP YdUQKpey5MUqH/0NsFpEfu+8rgPmhzYiwygiYpOnm+8/KPFunykB3DzgnksQT7wUVICLv3E924Z8 me2tPV3Pz2Q1GTv/1scau2Qs+5V5DmtiLpey5EUrHxWRTwHnEF3cPK2q60IbkQumGjIKjZtiJSwi leKpxOloPchHLz7GnucPN4ivPucqju4/kMvH1LiWJgB/1U4Qwm6CYxymqOSjItLP70JVDaMvtStm CIxiID7AGxa9IxXsb+3ocjy+Kmhyg/gYlSL07CG0uFwf1F1jE3txkG/5qJ8heJvorlaAQcAu5/tq 4F1VHZr2qDLEDIGRK3LxAQtrd1BdFWF3S2tCcNitKmjf866l16ARru8RqZSEgnIQfDWZzkrUDEb3 IOs8gthELyL/CSxV1T84r78CfCFXAzWMXOI3QeVKlhfvq06Wf2ZDcntCv6qgXsRcSrFAbk2KBK3k 6qVB1CqFkDca4ZIyRuBYlDFJx9aksjIi0gt4GjiCqMF5WFVnichQ4HdAP+BF4GpVPeT3XrYjMIJw S8MGFq56t4uGPbaiDatTVq5dRslVQfuM/UaXqqBBSDcD2ovk+EIxdRwz/Am6I6gI8F4fiMgtIjJE RAaLyL8AHwa47iBwvqqeDowCviwiZwN3Aj9V1WFE3U3XBXgvw/ClYV1TFyMAh7X+fnVxmpxibplS N7qGZ2ecn5WmOlIhtO3ZwQd/uIdtv/khB959mepzv8UJk+Zx9KgvdzEC1VWRzmxiL+LzEZIJImGN kaxW6Q6JXQ3rmhhbv5yhM55gbP3yrP5/y4Eg8tErgVlATD76tHPMF41uNfY6LyPOPwXOB77hHF8A zAZ+EXjEhhFH0NV4KhdOLlwbmbSPBODAXrY//5BnVdAKgfgyQ1WRys5aP1MXveTrlsp20naTgxZ7 Ype5rtIn5Y5AVXeq6mRVHe38mxxUMSQilSLyErAd+DPwJtCsqm3OKe8B9j9jZETsAx908o0pH9zw Wz0HZfr44VRFgrtvKtsPsfevS9jyn9ex56+/58iPn0vNDfPod/71CaWh/+2KUdRUVyFE3S8xd0/d 6JqUsQmvydlv0q4U6XKveNx+z2JK7ErV+c3oSpBaQwOAG4HTgM50RVVN6QxU1XZglIhUE91RfNzt NI/7TgImAQwaNCjVrYwyIT7A6VUUzY9MVs9BSQ4ie2Xeakc7+19+kt3PPkDrng9cpaAxaqqrfMtA 1PjsQvwm5+njh3smt3Wo+uYcFHtiV3dwXRUbQVxDC4FFwEXA94BrgLR6pqlqs4isBM4GqkWkh7Mr OBHY6nHNPGAeRIPF6dzPKC28CrRlmunrRfIqOROJZPKkHe+miElBdz+9gEMfRKWgx184zVMKGmSV 7VUGIlYq2mu8daNrXDOGIZiLJ4yGLLmi2F1XxUiQYPGxqjofaFXVp1T1O0QndF9EZICzE0BEqohK Tl8FVgBfdU67Bng0o5EbZUGy+yesFYFAwqQbf1/lsJ85VdAxOUgJMGfCCI5ufoP3F97Ijkdup/+R EZYsWcKYH/6HpxGoqa7i8jE1zF220TfgWTe6hjkTRiS4ju6ZOIrZl5yW8tpZF59W1C6eTCl211Ux EmRHEFsybBORC4mu4N1LGSYyEFggIpVEDc5Dqvq4iLwC/E5EbgfWYXWLDB/SUbdkg5IYSEy3AmTD uiZmL21MyAVoam7hH//9UXY/fT/731jNwIEDuXXePL797W/To0cPKnwSuIDAAU+/XYjftcXu4smU Uv29wiSIIbhdRPoA04iWnj4GmJrqIlX9GzDa5fhbwJlpjtMoU/Ll102WYnrd183l4KbJd2sQf/U/ fp8bJh7+0/ebsLwawwcpHpeOEStmF082lOrvFRYpDYGqPu58uxsYF+5wDCORjCWZaZIcb/C7b3JJ 5/iJ169B/MMvfcCdExPfy2vCyibgmetg6S0NGzqb0FSKcOVZJ3F7nbtLy+ieeBoCEbkPH5esqv5T KCMyjDimjx8euC9uNtQkBRL9VDWzlzYmTN5bm1s8q4L26HNc53npBLezCXjmMlh6S8OGhIqm7aqd r80YlA5+weI1wFqff4aRF8I2AgC79h1MCKj6uRWaW1o7g7BLXthM5aYVbJ03ieaVv+WIEz/BwO/c R/8LpyYYAejqfvIjm4BnLoOlD67ektZxo3viV3RuQT4HYpQnqSSaMx/5W17Gsb+1I63s0w5VNr2w gm/cfS2HPthCr5rh9L/4R54qIIArzzop8HiyCXjmMljqtYvJtXTXKCxBEspW4OIiCpJQZhh+BFG3 uNXWD4vkgGrf3hFXnX1iVdAahl81mzn/fB13/en1zol3yLFVrHprV1Z+9WwCnrkKlnolxaWzuzGK nyCqoR/Ffd8LuBxo8zjXMAJTiCbdqYgPqM66+LSE+ES0Kuj9tLyxOqFB/MGKSi771ImeDeK7M1ee dZJr17N0djdG8RNENZQcD3hWRJ4KaTxGGRFE3ZJccC1s4gOqMWN0+6K/sPEP89kbJwWNbxBfyhmr sV2MqYZKmyCuofiWlRXAGODvQhuRUTYEUbd8+u/78eyb+emKmhxQ3blzJ889+DNevvdeVJVLrrqe V4/7PIciR3peU4rcXjfCJv48k+8OcEFcQ2s5XLixDXgb6yFgBCDVH/P08cOZvnh9QlvFSIUwffzw UPoDVwp4CZDiO3m1tLRw3333cdvtd7Bv7x6OPG0cwy+4nm9//VwgN0FYa/VoeFGIMtopO5QVA9ah LHvyPfEE6X/bsK6pS45ApFKYeMZJLFnblJfSEjHeqb+QtrY2FixYwKxZs2hqauLIj53JMZ+9mp7H DXUdfzzJz3fcqQNY8dqOQC0zY6QqFGeUB7nsAJd1z+K4N/o+sFBVm53XfYErVfXnaY3IKBhhrzDc jEyQQPDcZRu75Ai0tmunPzpfqCpDr5xN2+oHeO/tTZx11llUXzCNvf1O8R1/DLfnGx9gTX7eXvWT mltarYGKUZAy2kGqj94QMwIAqroLuCG0ERk5J8xGHV5VOr1cOvF/zF5/2Pk0Agfea+T9hTfyzu9u Zfvu/dw4dx7PP/88+5KMQAy3MQcpjBd73rc0+DfSsQYqRnXvSFrHc0GQGEGFiIjTehKnmmjP0EZk 5JwwVxheRsZLfx4fCM5XHSE3vKSgz7QdhYikDGTH74KCmq3knYIX1kClvPFaB4W5PgqyI1gGPCQi nxeR84EHgT+GNyQj12TSrjAo6azqkxU2bqUQwk5TSmwQv6FLg/jY7+NXpiF5F5RrSlmOaqRmd0vX JEa/47kgyI7gJuC7wD8Q/Zz+CfhVaCMyco5bF6tcyR6Druq9AqFH9KjoHJdXJm8u8KsKGs8J1VWd q/34nU28qsitRHQqqiKVga4pBzmq4U8hOqwFSSjrAH7h/DO6IWE26vBqlZiMSHQcfrLQA60dHNmz kn2HcqcW6loVdBzV53yzS0E4iE7C404dkPD7tKt2Ts6x5+XnuhHwVA1Ne2i9Z/wjdp3JSA23iruR Sgl1geBXhnoD/mWoR4YyIiMUwmrUkdyw3Ytd+1u56r+e58V3d3sajVzKRbWjnb0bnmT3Mwtp3/th tEH8ud/qlIImUynCnAkjAqmdvFZsqeR9azbvdI0RfPPsQTlJ2LLchBIieeYNWT/htyO4KNxbG6VC zMh46Z9j5CNDONYgvvmpBbR+GG0Qn6oqaHx+wFSPHgTxu4BMXW1hlmsoRBKSEQ5zl21MSLIEaO3Q UGtw+ZWh3hzKHY2SpdBql+SqoAPqbqbqlE8jPpUya5JWzkH8s9m42sIq11CMBfyMzChEHkGQhLKz ifYq/jhR2WglsE9Vj/G90Cgp4t0OfaoiiEDz/taESbBQclAvKahUVKa8dtvuFtZs3tk5WXrFPPYd bEtoUVlsPXELMXkY4VCUwWLg34GvA4uBWuBbwMdCG5FRNL7e+MCucNhN2RwnY4t3QQQNHOcKtwbx 8VVBg9ChJLRejD3nWx9rTFAwFXvWbyEmDyMcwlT5eRHEEKCqb4hIpaq2A78RkedCG1GZU2hfr9fk 7xerirkgYoHSXBeLSyaoFDQdHly9pdNlEysDkSxlbWlt79KvuFgoxORhhEOYKj8vghiC/SLSE3hJ RP4V2AYcmeIaI0MK6etNNkLpCBViLoiYyyS56XkuSEcKGk+kQmhT9c3MTJZ1erlUmltaE1xExUIh Jg8jPPLtegxiCK4mmoH8A2AqcBLRLmVGCBTC15uLks+xRKxkl0ouSFcKGk8sGAz4uq2SWy/6xTuK NQBbbHELo/vgl0cwABigqq84hw4At4rIJ4Hd+RhcOZJvX69XSeR0iCViJSfBZEsmUtB44nX9Deua 6BWp8Pw9k1svTh8/nCkBpKSGUQr41Rq6DxjgcrwG+Fk4wzH8atyEQZDKmTFia+bqqgh9e0cQopPt nAkjWPHajpwagVhV0B2P3I5qBwPqbubvrr4rsBGAwxN2zNi57VQqRVwTuupG19DXo9qjBWCNUsPP NTRCVbv0JlbVZSJyd4hjKmvy7etNtbqNBYyT9fbJeCVipUs2UtBk+lRFfJPcUmUCz7r4NAvAGmWB nyHwK34dXmFsI6WvN5fy0lTafyVaDM7rHrGxZLsXyEQKWl0VobW9w7U2UaRC2HeoLUHqmkyqmIgF YI1ywc8QbBKRC1T1D/EHReQrwFup3lhETgLuJ9rovgOYp6o/E5F+wCJgCPAOcIXT7MYIgJu8dOqi l1i85l3e+bAl5YQVHxj26hmQzK79rUxbvL7zdWxirO4dYe+Bti7p8OmQqRS0uirCvkNtru6omEsn VdA6OUDshgVgjXLAzxBMBR4XkSuINrCHaELZpwlWh6gNmKaqL4rI0cBaEfkzcC3wpKrWi8gMYAbR UtdGANx8+kpiHR+v3INkI5JOJ7D2DmXqopfoUSmdk2826qBMpaAxRPCMSagGq92eTSe0+F1Zde9I 5z1t12B0R/xqDb0uIiOAbwCfdA4/BXxXVQ+kemNV3UY05wBV/UhEXiUaaL4UOM85bQGwEjMEgQmq WHHLPUgnMOyG4j35Bn6PLKSgMY7sWUmzjxFqbmmlJkC5i5oMgr4N65qYvbQxweUUbxCt2JvRHRHN Q39YERkCPE3UoLyrqtVxP9ulqn1drpkETAIYNGjQmM2by7cGXvzqsyKgOydGTXVVp7uoUG0hwV0K 2ve8a9NSAcWoilRwsK0DP4/UPRNHpZTF3jNxVFqTdTpS21SBaMPIByKyVlVrU50XqMRElgM5ClgC TFHVPX6VIONR1XnAPIDa2tr8dTMvMrJx5wiHA6JBjEB8SYlckklVUD9aWjt8f963d6RzgvdqBlNd FUl7xZ7OjspyDYzuRKiGQEQiRI3AQlV9xDn8vogMVNVtIjIQ2B7mGLo72bhz0pnUIxUCPn73TMhG Chq/k9l30F/9E0+kUph18WnAYdeMmwR09iWnpf37pDO5W66B0Z0IZAicWkOnOC83qmrKT6VEl3vz gVdV9d/ifrQUuAaod74+mtaIS4SgElC/ySd+shx36gAeX78t8ISZTDbKn2SyrQrat3ckwa0ydMYT ga5zy3XIpQQ0qHvNcg2M7kaQfgTnEQ3qvkPUe3CSiFyjqk+nuHQs0TpFG0Qklm10M1ED8JCIXAe8 C3wts6F3X4JUGE2lz3fzQa94bUfGhiAX5Koq6O6kwm5BJmA/n3yuJKBeZbaP7FlJpLLCVENGtyXI juBu4EuquhFARE4BHgTG+F2kqs9wuCpBMp9PZ5D5Jux+AKkqjAYJSg45tqvroVDB4GyloF3eT6P9 AFI1i4mRrxW4JZgZpUoQQxCJGQHolJWWbGZxPvoBpKowGiQu8NybOxNWzQ3rmnIyNje8gshdpKB/ X0v1565JSwrqRbwk06tZTGyl8eJMAAAXLklEQVRsl4/JX9KXJZgZpUgQQ7BGROYD/+28vorDCWYl Rz76AaSqMBokKKnQZQcRFslGINuqoJng1SxGgcfXb2PFaztslW4YGRLEEPwD8H3gn4guwJ4Gfh7m oApJPvoBpOomFTQo2dTc0unGyld7yFxLQb2oruq66fRrFhOLjVhCl2GkTxBD0AP4WUz5IyKVwBGh jqqAhNEPwC3mMGfCCE9fczq9f/PVIziXVUGTqRASksMiFeIq7wxqIPPV0c0wSoUghuBJ4AvAXud1 FfAn4DNhDaqQ5Lr3q1fMYc6EEb4qFzgclKyKVLDfI4kqWyNQFalkzoQRCbGG+PFGpaAPsO/lJzNu EJ+K+Hyvvr0jzLr4NNdJPB0DaQldhhGcIIagl6rGjACquldEeoc4poISVBkSVFmUacwhOSjZsK7J s2NWNsQbgdh9Ae74/QtsXPbffPTi46h25KRBvBfxMYgDPlnDyf83fuU2LKHLMIITxBDsE5FPqeqL ACIyBijp5VaQfgBBlUVergy3437GJRYszaVEtKa6qst4W1paeP3PC9l03xw+2r2b3qdlJwVNl1RG Mv7/xi/RzBK6DCM4QQzBFGCxiGx1Xg8EJoY3pOInnVW+V83/5Fr4QYxLOq6RIDQ1tzBkxhNUijCx diAnN7/IrFmzaGpq4oILLmDOnDlc+sCWUOoP+RHUreMVM4ivNWQYRmr8ehYDoKovAKcSVQ/9I/Bx VS1Z+WgQ0lEWebkuko/7GZcYdaNruHxMehOcAGNP7seRPd2DuqrKR68/z13fvZTrr7+eE088kf/3 X4tp/uy0nBuBoLqieLdOw7omxtYvZ+iMJxhbvzwhX8Krv3Os1pBhGMEIUmKiN/DPwGBVvUFEhonI cFV9PPzhFSfpKIu86uIn18IPalxWvLYjnaGiwCvbPmK/yy7CTQq67ZRPM/8NQXPk/RPgKqc5fJCa QfGB+VS7JMv0NYzcEMQ19BuiCWSfdl6/BywGytYQpKMsCnpuUOOSiRomOQkrlRQ0l7sA5bDxSiX/ TC4aF8QFZ5m+hpE9QQzByao6UUSuBFDVFsl19lA3pFekonOSqq6KMPsSd8lj0FXr9PHDmf7w+oQy 0JFKCWwwgpBrKeg3zx7Eitd2pBxPzHi5GcX4HYPXdUGPG4aRGUEMwSERqcJZKIrIycDBUEdVxLgV hDvY1tHlnOSJ/9kZ53cen7roJeYu28i4Uwd0lkao7h2hPbkXgMvS3M1gxPDqKRCrCppLKWjf3hFq B/fjib9tS3luHydLOF1XThjJfbki7MKEhpFPUraqFJEvArcAnyCaSDYWuFZVV4Y+Oofa2lpds2ZN vm7ny9j65Z4+/9hk7+YKunxMDUvWNqWt+Ekur9ywronpi9d79g+oroogEnUH5boqaDJVkcpAv0+F RI1B8/70yjR7Pcvk3Id8U6zjMoxkctKq0nEBvQZMAM4mupOfrKof5GSU3ZBMKoe2tLbz4OotabWZ 9Lrf3GUbfZvINLe00qsSPlr/p6yqgsYqjvrJX92MQHK5CIi+jsUp0qkFVKzB4HwUJjSMfOJrCFRV RaRBVccAwdpElTiZVg7NxAjEv28MP/94rCro1gyrglaK0KGaMOHe0rCB/1n1bpdzvX6fII3O0pk0 izEYbLELo9QIEiNYJSJnOPkEZYWbHzjTyqFeK+tUJAeL+1RFXLuQBa0KGqkQevaoYN+h9i7H537t 9C6TrpdcNdPfJ0Z3njSLOXZhGJkQxBCMA74nIu8A+3C8Bqo6MsyBFRovDfvlY2o4osdhxVBykTQv 9c/EM05KO0YgwOyljUxd9FJnX+I9B9KTgiYz92unR8eZHHD20IH57XCCxgjc6M6TZq4LExpGoQli CL4S+iiKEC8/8MJV76YuktalkwvUDu4HkFasQCGhzn68i8ZVCjrmEip6ektBY7WFxtYv76Isam1X V3eN1+o3pvmf9tB6zxhChyp9qiLsO9SWcL/uPmkWa+zCMDLF0xCISC/ge8DHgA3AfFVty9fACo3X Sjh5ykv2d7sFc1s7lNlLGznY1pEwaXq1gPQjUylo/OSbjo/bb/VbN7qGqR4VUTtUebv+QqA0pZbF GLswjEzx2xEsAFqBvxDdFXwCmJyPQRUD6SRuxU+gfl20klGirqUDrR0pXSzZSEGTM3bT8XGnWv0G eS+bNA2juPEzBJ9Q1REATs/iv+ZnSOGQ7qrUKwvWbQUfP+mlm/nbvL+Vn04c5VliOpsG8d9MytiN PQOv8Q05toqx9cu7PCO/idz85YbR/fGrPtq5hO3uLqFY4LepuQXlcOA3vpJlMnWja5gzYQQ11VUI 0VX1VWcPcq12GT/peVXE7Nu7aw9egApH1fPsjPO5Z+KozmtVlf2bVrHt1z9g5x/vpfLoYzn+yjs4 7muzAxmBSKV0xiWSn4EXz725M+EZTV30Erc0bPC9j9tzssQqw+heeGYWi0g7UZUQRBfDVcB+DquG ct+qyoNsM4tTZQOnQ5Cdhds54N1fOD4r9ZaGDcx/+I/sWvmbTilo33Ov8ZCCgk9Dr4Tfz+sZpEKA n04cZRO7YXRDss4sVtXsu5IXCblMAAri7/Y7x01lEws4D+vZzM9v/h67Xn0upRQ0UiFMPPMkFv11 i2emcZDYRSoUul3GbCkGpw0jTILIR7s9Xn776t4RV594WHipbNr27OBvf3iAkf/yJNojmBS0tUNZ 8doO5n7tdE8JZzqxCz8FUzEnfyVP+uNOHZCQr5FOSQvDKFdSdigrBdz89pFKYe+BtrTiBrkgfnJu b/mIXSt+zdb/+i77XlnJlClTqL3xf+jz6St8jUCMrc0t1I2u4e4rTs8odhFzNMXiH161xYs1+cst 9rNw1bspO70ZhpFIaDsCEfk1cBGwXVU/6RzrBywChgDvAFeo6q6wxhDDTQK572BbF0lnPgqHTR8/ nJsWrWH76oZOKegxI85n7pyfMOnCs1wrW6ZSKwVJcAqaBJWcMFfMCiC3pL/uuKsxjEITpmvot8C/ A/fHHZsBPKmq9SIyw3l9U4hj6CTZb+/VNjHVhBHU/+x23kUjjufDF//Ih7+5hebt/0fV39dyykWT mH3tBQkdtwBfdwd0naCzjV0A3F43gtrB/bqNfz2dyb1YdzWGUQyEZghU9WkRGZJ0+FLgPOf7BcBK 8mQIksmkcFiqHrpe5723az8/mDOPH655kPfe3sSZZ57Jw4se5LzzznO9j9uEna8JOohBKZZgrNf/ YfIOqph3NYZRDKRsTJPVm0cNweNxrqFmVa2O+/kuVe2b6n3CaEzj11wE3F0oQWWo8ecdeO8Vmh0p aK/+J7Lwlz/jsssu6yIF7S4UU1MWvyZAsc5vxb6rMYwwyUljmkIiIpOASQCDBg3K+ft7+cwBz1V/ UBnq1uYW16qgR4/8IhMmXJLz38WNsFbtxdSUxYq/GUZuyPeOYCNwnqpuE5GBwEpVTblnz2erSr9V P+ApwYzV8xnTv4PaCZPYvvZPSKQXfc7+aqcUNJMENi/8JvowV+1DZzzhGpAV6CwyZxhGcRB0R5Bv +ehS4Brn+2uAR/N8/5T4rfrdJJgx3t22neu+P4WPDRvGzvXL6XtmHTXf+1WnFDSon7phXRNj65cz dMYTjK1f7ipnTVUyw2vVPntpY8r7p8IrhmLBWMPovoRmCETkQeB5YLiIvCci1wH1wBdFZBPwRed1 KASZUN3oU+VeE+gEp5Z/rK5OjI7Wg+xe/TBbf3k9O59fQp9PnMsbm17n17+4l0EDj0+r/k7Qmkh+ 7hnwr4CabZ6EVy0lC8YaRvclTNXQlR4/+nxY94wRVN3jdt2+Q13r61XI4ZaRMVXNkBuXsvflJ2n+ S2JV0COOG8rgwYMZPDj9TFa/lXz8e6WKVfhlEWfryze/vGGUHkUbLM6GTAOac5dt7NK5CxIbsqsq S5cuZfuCybRs30zPgafQ/+Jp9BoU7dyZjYsk1Uo+aA+A6eOHM8WjYUwuEqusv4BhlBYlWWIi0yJz fj+fu2wjzz77LOeccw51dXVU9YABdTfzd1ff3WkEsnWR+BmR+BIJqdwzdaNrPMtemy/fMIxkStIQ ZBrQ9Pr5oR2bWTf/Zs455xzefvtt/uFf6hlw7X/Qe/hnOvMBBLh8THYrZT8jEm+kgvQAmHXxaebL NwwjECXpGsq0a9b08cOZuuilTnlkfIP4yp5V/OQnP2Hy5Ml86b7VHEjaPSiw4rUdvu+fSttfN7qG Wx9rZNf+rm0tk41UKveM+fINwwhKSRqCutE1rNm8kwdXb6FdlUqRQKv12HX3r2hkd1yD+L5n1nHP nFv51rhPApm5noIGsGddfFrOWj+aL98wjCCUpGuoYV0TS9Y2ddbob1dlydqmlNLJlpYWjnn9f9n5 m++x54Xf0/vUc/jUtPv59S/u7TQCkL7rqWFdE9MeWh+oPLK1fjQMI9+U5I4gXdVQW1sb999/Pz/+ 8Y9pamriggsuYM6cOYwcOdL1/d1cTwD7D7UlqHvg8E7ArXEMuO8iMlnJF0shOMMwuh8luSMI6rpR VR599FFOP/10rrvuOmpqalixYgVPPPGEpxGAw6v26qTks137W7skgLkZpXiqPdQ96RA0Ec0wDMON kjQEQVw38VLQtrY2lixZwqpVqzpLQ6fKTK4bXcORR3TdUCW7e1JJVnNR6ilVprFhGIYfJWkI/HT2 jY2NXHrppZ1S0F/+8pc0NjYyYcKETilo0BV2kJ1HKsnq7pauCqF0yTRvwjAMA0rUELgFXKd95lge +/cfM3LkSFauXMlPfvITNm3axKRJk+jRI3FlH3SFHWTn4Veozu890sEKwRmGkQ0lGSyGwwHXnTt3 Ul9fzw8n3EdHRweTJ0/m5ptvpn///p7XplphxwKzTc0tKbthxQK2bvkBuUrwyjRvwjAMA0rYEADc e++9zJo1i927d3P11Vdz2223MXjw4JTX+dXySc4HUA63RqzxUOvEjFJYyh5LHjMMIxtK2hC8//77 fOYzn/GVgrrht8J2cxvFjECqpjNhJnhZ8phhGJlS0obgtttuo7LS2z/vhd8Ke2qIVT1zieUVGIYR lJI2BJkYgRhuK+yGdU1UiLgmhxVTYDbTfgyGYZQnJakaCgO/DGEhOtmm0wktTCyvwDCMdDBDEBC/ DOGYaSiWjF7LKzAMIx3MEAQk6CRaDCtvyyswDCMdzBAEJJ1JtNArb2swbxhGOpghCIjb5Coe5xZ6 5W2lrA3DSIeSVg3lEjdJ6bhTB7BkbVNRZvRaXoFhGEExQ5AGbpNr7eB+ZafXtxwFwygtzBBkSbmt vC1HwTBKD4sRGGlhOQqGUXrYjqBEyJe7xnIUDKP0sB1BCZDPVpWWo2AYpYcZghIgn+4ay1EwjNKj IIZARL4sIhtF5A0RmVGIMZQS+XTXWI6CYZQeeY8RiEgl8B/AF4H3gBdEZKmqvpLvsZQKfo10wqDc lFKGUeoUYkdwJvCGqr6lqoeA3wGXFmAcJYO5awzDyIZCGIIaYEvc6/ecYwmIyCQRWSMia3bs2JG3 wXVHzF1jGEY2FEI+6laip0uRf1WdB8wDqK2t7doEwEjA3DWGYWRKIXYE7wEnxb0+EdhagHEYhmEY FMYQvAAME5GhItIT+DqwtADjMAzDMCiAa0hV20TkB8AyoBL4tao25nschmEYRpSClJhQ1T8AfyjE vQ3DMIxELLPYMAyjzDFDYBiGUeaYITAMwyhzzBAYhmGUOWYIDMMwyhwzBIZhGGWOGQLDMIwyx1pV JpGvlo+GYRjFghmCOGItH2PdvmItHwEzBoZhlCzmGoojny0fDcMwigUzBHHks+WjYRhGsWCGIA6v 1o5htXw0DMMoBswQxGEtHw3DKEcsWBxHLCBsqiHDMMoJMwRJWMtHwzDKDXMNGYZhlDlmCAzDMMoc MwSGYRhljhkCwzCMMscMgWEYRpkjqlroMaRERHYAmws9jizpD3xQ6EEUEfY8DmPPIhF7HofJ9lkM VtUBqU7qFoagFBCRNapaW+hxFAv2PA5jzyIRex6HydezMNeQYRhGmWOGwDAMo8wxQ5A/5hV6AEWG PY/D2LNIxJ7HYfLyLCxGYBiGUebYjsAwDKPMMUMQAiLyaxHZLiIvxx3rJyJ/FpFNzte+hRxjvhCR k0RkhYi8KiKNIjLZOV6uz6OXiPxVRNY7z+NW5/hQEVntPI9FItKz0GPNFyJSKSLrRORx53U5P4t3 RGSDiLwkImucY6F/VswQhMNvgS8nHZsBPKmqw4AnndflQBswTVU/DpwNfF9EPkH5Po+DwPmqejow CviyiJwN3An81Hkeu4DrCjjGfDMZeDXudTk/C4BxqjoqTjYa+mfFDEEIqOrTwM6kw5cCC5zvFwB1 eR1UgVDVbar6ovP9R0Q/8DWU7/NQVd3rvIw4/xQ4H3jYOV42z0NETgQuBH7lvBbK9Fn4EPpnxQxB /jheVbdBdHIEjivwePKOiAwBRgOrKePn4bhCXgK2A38G3gSaVbXNOeU9osayHLgHuBHocF4fS/k+ C4guCv4kImtFZJJzLPTPijWmMfKCiBwFLAGmqOqe6MKvPFHVdmCUiFQDvwc+7nZafkeVf0TkImC7 qq4VkfNih11OLflnEcdYVd0qIscBfxaR1/JxU9sR5I/3RWQggPN1e4HHkzdEJELUCCxU1Uecw2X7 PGKoajOwkmjspFpEYguzE4GthRpXHhkLXCIi7wC/I+oSuofyfBYAqOpW5+t2oouEM8nDZ8UMQf5Y ClzjfH8N8GgBx5I3HJ/vfOBVVf23uB+V6/MY4OwEEJEq4AtE4yYrgK86p5XF81DVmap6oqoOAb4O LFfVqyjDZwEgIkeKyNGx74EvAS+Th8+KJZSFgIg8CJxHtHLg+8AsoAF4CBgEvAt8TVWTA8olh4ic A/wF2MBhP/DNROME5fg8RhIN+FUSXYg9pKq3icjfE10V9wPWAd9U1YOFG2l+cVxDP1LVi8r1WTi/ 9++dlz2AB1T1JyJyLCF/VswQGIZhlDnmGjIMwyhzzBAYhmGUOWYIDMMwyhwzBIZhGGWOGQLDMIwy xwyBUbKISLtTxfFlEVksIr3zdN8hItLi3PsVEbnfSarL9P32pj7LMDLHDIFRyrQ4VRw/CRwCvhf/ Q4kS1mfgTVUdBYwgmh17RUj3MYysMUNglAt/AT7mrNZfFZGfAy8CJ4nIl0TkeRF50dk5HAUgImeI yHNO74C/isjRTj+B3zg149eJyDi/mzp1hf6KUzjNKTg3V0ReEJG/ich3neNHiciTzhg2iMiloT4N w4jDDIFR8jh1a75CNLsZYDhwv6qOBvYBtwBfUNVPAWuAf3aaoSwCJju9A74AtADfB1DVEcCVwAIR 6eVz717AWcAfnUPXAbtV9QzgDOAGERkKHAAuc8YwDrhbyrkyn5FXrPqoUcpUOeWeIbojmA+cAGxW 1VXO8bOBTwDPOvNuT+B5osZim6q+AKCqe6CzZMZ9zrHXRGQzcArwt6R7n+zcexjwsKrGfv4lYKSI xGrp9HHOeQ+4Q0TOJVqKowY4Hvi/XDwIw/DDDIFRyrQ4fvpOnMl+X/wh4M+qemXSeSNxL38cdJX+ pqqOcqpFrhSRS1R1qXP9D1V1WdL9rgUGAGNUtdWpyOm50zCMXGKuIaPcWQWMFZGPAYhIbxE5BXgN OEFEznCOH+24mJ4GrnKOnUK0ENhGrzd3GonMAGY6h5YB/xBTEYnIKU6lyT5Ea/O3OnGHwbn/VQ3D HTMERlmjqjuAa4EHReRvRA3Dqap6CJgI3Cci64l2EusF/ByoFJENRGMI1waojNkA9BaRzxJtyfgK 8KKIvAz8kujOfCFQK9GG5VcRNUSGkRes+qhhGEaZYzsCwzCMMscMgWEYRpljhsAwDKPMMUNgGIZR 5pghMAzDKHPMEBiGYZQ5ZggMwzDKHDMEhmEYZc7/BzBi6HJC57xOAAAAAElFTkSuQmCC ",
text/plain: [
"<matplotlib.figure.Figure at 0x262d545a438>"
]
},
metadata: { },
output_type: "display_data"
}
],
source: [
"# ... e o gráfico com a diferença entre o preço real e o calculado. ",
"# In[5]: ",
"import matplotlib.pyplot as plt ",
"#get_ipython().magic('matplotlib inline') ",
" ",
"def scatterPlot(actual, predicted): ",
" plt.scatter(actual, predicted) ",
" range = [actual.min(), actual.max()] ",
" plt.plot(range, range, 'black') ",
" plt.xlabel("Preco Real") ",
" plt.ylabel("Preco Calculado") ",
" plt.show() ",
" ",
"scatterPlot(y, lr.predict(x))"
]
},
{
cell_type: "markdown",
metadata: {
collapsed: true
},
source: [
"### 2.4 Linear: Validação Cruzada 5-fold"
]
},
{
cell_type: "code",
execution_count: 50,
metadata: { },
outputs: [
{
name: "stdout",
output_type: "stream",
text: [
"[Fold 1] R²: 0.64 ",
"[Fold 2] R²: 0.71 ",
"[Fold 3] R²: 0.59 ",
"[Fold 4] R²: 0.08 ",
"[Fold 5] R²: -0.26 "
]
},
{
data: {
text/html: [
"<div> ",
"<style> ",
" .dataframe thead tr:only-child th { ",
" text-align: right; ",
" } ",
" ",
" .dataframe thead th { ",
" text-align: left; ",
" } ",
" ",
" .dataframe tbody tr th { ",
" vertical-align: top; ",
" } ",
"</style> ",
"<table border="1" class="dataframe"> ",
" <thead> ",
" <tr style="text-align: right;"> ",
" <th></th> ",
" <th>OLS</th> ",
" <th>OLS - CV</th> ",
" </tr> ",
" </thead> ",
" <tbody> ",
" <tr> ",
" <th>MSE</th> ",
" <td>21.9</td> ",
" <td>37.2</td> ",
" </tr> ",
" <tr> ",
" <th>R²</th> ",
" <td>0.741</td> ",
" <td>0.56</td> ",
" </tr> ",
" </tbody> ",
"</table> ",
"</div>"
],
text/plain: [
" OLS OLS - CV ",
"MSE 21.9 37.2 ",
"R² 0.741 0.56"
]
},
execution_count: 50,
metadata: { },
output_type: "execute_result"
}
],
source: [
"# ## Validação Cruzada ",
"# É possível verificar no gráfico acima que, para os preços mais altos, o modelo não representou bem os dados. ",
"# Faremos uma validação cruzada para verificar esse comportamento. Os dados serão divididos em 5 grupos. ",
" ",
"# In[6]: ",
"#from sklearn.cross_validation import KFold ",
"from sklearn.model_selection import KFold ",
"#KFold(n_splits=2, random_state=None, shuffle=False) ",
" ",
"kf = KFold(n_splits=5) ",
"p = np.zeros_like(y) ",
" ",
"for k, (train, test) in enumerate(kf.split(x)): ",
" lr.fit(x.loc[train], y[train]) ",
" p[test] = lr.predict(x.loc[test]) ",
" print("[Fold {0}] R\u00b2: {1:.2f}". ",
" format(k+1, lr.score(x.loc[test], y[test]))) ",
" ",
"mse_ls_cv = mean_squared_error(y, p) ",
"r2_ls_cv = r2_score(y, p) ",
" ",
"result_df['OLS - CV'] = [mse_ls_cv, r2_ls_cv] ",
"result_df ",
"# É possível verificar que o $R^2$ foi baixo para os dois últimos grupos."
]
},
{
cell_type: "code",
execution_count: 51,
metadata: { },
outputs: [
{
data: {
image/png: "iVBORw0KGgoAAAANSUhEUgAAAYIAAAEKCAYAAAAfGVI8AAAABHNCSVQICAgIfAhkiAAAAAlwSFlz AAALEgAACxIB0t1+/AAAADl0RVh0U29mdHdhcmUAbWF0cGxvdGxpYiB2ZXJzaW9uIDIuMS4wLCBo dHRwOi8vbWF0cGxvdGxpYi5vcmcvpW3flQAAIABJREFUeJztnXt8FOXZ979XkoUkgAQQLEQRytED AgqVSusjVIutFnlUsIi+Wm0t1rct1iLBlxY8VLGK7VOxrVIfhYoaT6SesZ4QtaBgQDkIigc0UIWS gEAgyeZ+/9jdsLuZmZ3d7Ozx+n4+fmQnszP3TrL3dd/X6SfGGBRFUZT8pSDdA1AURVHSixoCRVGU PEcNgaIoSp6jhkBRFCXPUUOgKIqS56ghUBRFyXPUECiKouQ5aggURVHyHDUEiqIoeU5RugfghsMP P9z06dMn3cNQFEXJKlavXr3TGNM91nlZYQj69OnDqlWr0j0MRVGUrEJEPnVznrqGFEVR8hw1BIqi KHmOGgJFUZQ8Rw2BoihKnqOGQFEUJc/xNGtIRD4BvgL8QJMxZoSIdAUqgT7AJ8AkY0ytl+NQFEVR 7EnFjmCMMWaYMWZE8HUF8JIxZgDwUvC1oiiKkibS4Ro6B1gY/PdCYEIaxqAoipLRrF+/nl//+tc0 Nzd7fi+vDYEBXhCR1SJyRfDYEcaY7QDB//eweqOIXCEiq0Rk1Y4dOzwepqIoSmbw+eefc9lll3HC CSewYMECNm/e7Pk9vTYEo40xJwLfA64SkVPdvtEYc48xZoQxZkT37jErpBVFUbKa2tpaZsyYwYAB A1i8eDHTpk3jo48+YvDgwZ7f29NgsTFmW/D/X4rIEuAbwBci0tMYs11EegJfejkGRVGUTObAgQPM nz+fm2++mbq6Oi666CJuuOEGUtlfzbMdgYh0EJFOoX8D3wXWAU8ClwRPuwT4h1djUBRFyVT8fj8L Fy5k4MCBTJ8+nZNPPpnq6moWLVqUUiMA3u4IjgCWiEjoPg8aY54XkbeBR0TkcmArMNHDMSiKomQU xhieffZZKioqWLduHSNGjOD+++9n7NixaRuTZ4bAGPMRMNTi+H+A73h1X0VRlExl5cqVzJgxg2XL ltGvXz8qKyuZOHEiwQVz2tDKYkVRFI/ZvHkzEydOZNSoUWzcuJH58+ezYcMGJk2alHYjAFmiR6Ao ipKNbN++nRtuuIEFCxZQXFzM7Nmzueaaa+jUqVO6hxaBGgJFUZQks2fPHm6//XbmzZtHQ0MDU6dO 5Te/+Q1HHHFEuodmiRoCRVGUJNHQ0MDdd9/NjTfeyI4dO5g0aRK/+93v6N+/f7qH5ojGCBRFUdpI c3MzDz/8MMcccwy/+MUvOP7443nrrbeorKzMeCMAuiNQFEVpEy+++CIzZszgnXfe4YQTTuC5555j 3LhxbQoCV1XXcNvSTWyrq6dXWQnTxw1iwvDyJI46Et0RKIqiJEB1dTXjxo3jjDPOYOfOnSxatIjq 6mrOPPPMNhuBmU+8R01dPQaoqatn5hPvUVVdk7zBR6GGQFEUJQ4+/vhjpkyZwoknnsiqVauYN28e mzZt4uKLL6agoO1T6m1LN1Hf6I84Vt/o57alm9p8bTvUNaQoiuKCnTt3ctNNN/HnP/+ZoqIiZs6c ybXXXktZWVlS77Otrj6u48lADYGiKIoD+/bt449//CO33nor+/bt47LLLmPOnDmUl3vjs+9VVkKN xaTfq6zEk/uBuoYURVEsaWpq4p577mHAgAHMmjWLsWPHsm7dOhYsWOCZEQCYPm4QJb7CiGMlvkKm jxvk2T11R6AoihKGMYYlS5Zw3XXXsWnTJk455RQeffRRRo8enZL7h7KDUpk1pIZAURQlyPLly7n2 2mtZsWIFgwcPpqqqivHjx6e8H9CE4eWeTvzRqGtIUZS8Z/369YwfP55TTz2VrVu3smDBAt577z3O OeecjGgK5zVqCBRFyVvC9YGXLVvGLbfcwgcffMCPf/xjioryx2GSP59UURQlSG1tLXPnzuVPf/oT zc3NTJs2jeuuu45u3bqle2hpQQ2Boih5QyboA2ci6hpSFCXnySR94ExEDYGiKDmLMYZnnnmGYcOG cemll3LEEUfw0ksv8dxzzzF0aCsl3bxFDYGiKDnJypUrGTNmDGeffTb19fVUVlby1ltvpVUkPlNR Q6AoSk6R6frAmYgGixVFyQmyRR84E1FDoChKVpMqfeBUi8WkEjUEiqJkJanUBw6JxYR0AkJiMYAn xkAVyhRFURxIhz5wKsViVKFMURTFgRdffJGRI0cyefJkOnbsyHPPPcdLL73EyJEjPb1vKsViVKFM URTFgurqaioqKnjhhRfo3bs3ixYtYsqUKUmRhnRDssRi3Lh80qFQ5vlTFJFCEakWkaeDr/uKyEoR +UBEKkWknddjUBQlO/FaH9gtyRCLcevysTMu2a5Q9ktgY9jrW4E/GGMGALXA5SkYg6IoWcTOnTuZ Nm0agwYNYsmSJcycOZMtW7bwq1/9iuLi4pSPZ8Lwcm45dwjlZSUIUF5Wwi3nDokrgOvW5TN93CB8 hZH1Dr5CyV6FMhE5EjgL+B3wKwlUc4wFLgyeshCYA/zFy3Eo2Usup+wprUm1PnA8tFUsJi6Xj4nx Osl4vSP4I3At0Bx83Q2oM8Y0BV9/DqT/N6xkJOnInlDSQ1NTE3fffTf9+/dPqT5wKnHr8rlt6SYa myNn/sZm42mw2DNDICJnA18aY1aHH7Y41dLWicgVIrJKRFbt2LHDkzEqmU06sieU1GKM4YknnuD4 449n6tSpfP3rX+f111+nqqqKY445Jt3DSypu4wzpCBZ76RoaDYwXke8DxcBhBHYIZSJSFNwVHAls s3qzMeYe4B6AESNGeLwxUjKRdHwhsolsd5tlij5wqnArSl9W6qN2f2Or95eV+jwbm2eGwBgzE5gJ ICKnAb82xkwRkUeB84GHgUuAf3g1BiW7SVbKXi6S6krXZLJ+/XpmzpzJU089Ra9evViwYAGXXnpp XkhDuokzHIjaBcc6ngzSUVA2g0Dg+EMCMYN70zAGJQtIRsperpKNbrPPPvtM9YFdUN/YHNfxZJCS p2+MeRV4Nfjvj4BvpOK+Snbjdiudj2ST20z1gTMfNcNKRtPWlL1cxcltlimxA9UHzh6015CiZCF2 brM+3Uq4unJNWlNuVR+4bZSVWAeF7Y4nAzUEipKFWFW6nndSOW9u2dUqHztVsQPVB04Oc8Yfh68g qrK4QJgz/jjP7qmuIUXJUqLdZqPnvmxbgOp17GDlypXMmDGDZcuW0a9fPyorK5k4cWLGpIJGu8vG DO7OK+/vSJv7zMl9N2F4Oas+3cVDKz/DbwyFIlzwjaM8HZ8aAkXJEZwme69Sbjdv3sx1113H448/ To8ePZg/fz4/+clPaNcuc3pJWqXaPrBia8vP7VJvvYq1xEr9raqu4fHVNfhNwKz7jeHx1TWMOLqr Z8ZAXUOKkiPYTfYCMVNuq6prGD33ZfpWPMPouS/HjCls376dK6+8kmOPPZbnn3+e2bNn8+GHH3LV VVelxQg4jd8q1TaaaPeZl+1NYqX+piM1WA2BouQIVgFkAaaM6u24koxn0tuzZw+//e1v6d+/P3/7 29+YOnUqW7ZsYc6cOWkTiY81frdusfDzvJyMY6X+5qQegaIoqSEUQO4S1orAAM+8u91xJetm0mto aODOO++kf//+3HjjjZx99tls3LiR+fPnJ10kPl5ijd+tWyz8PC8n41jN53JVj0BRspp43SbpZu+B pojXtfsbmf7YWttxO016zc3NPPTQQynVB46XWJO21U4pmuiKdS8n41gV82MGd7d8n93xZKCGQFEc yLZW2FYtjAEa/fZtjO0mt9KdGxg5ciQXXnhhm/WBvTSmsSZtq1Tbi0b1dhSZ8bK9SSyRm1fet+62 bHc8GWjWkKI44OR2yMSKZyfXhdXPqqpr2HcwcgfR8MUW9ry2kE8/eicufWC7LBuvG+RNHzco4vrQ etIOpdqGxrh4xVZ6lZXwhwuGtYwhevznnVTuWYqpU8V8rrWhVpSsJ5t6+oB964nQz8Kpqq5h+qNr W3YQjXX/pm7539m/YRkdO5cxb948fvazn7mShnSa7L0wpm4n7fDzykp97D3Q1PJ5w8cItBr/46tr 4pajTAY51YZaUXKBbGuFPX3coIjJPUS05m1VdQ1XP7IGY8C/fze736zkq+pnkYJCOn9zInfNncOU U49lVtV7EYVNk08+ipsmDGl1X6fJPtnG1MroWE3a0edZTa7hQeVM2fkZm6pAu+PJQA2Bojhg53YY M7g7o+e+HNNt4EVRUqyqVIA5T66nrj4w8XUp9TH7B8dFuEBmPvEe/oMH+GrVP9i98jFM40E6Djmd zt+6kKJOh3PTP7fy7KbdvLFlV8t9/ca0FGJFGwOnyT7ZxtTtDsNN/UBojIn8zCtCvze3x5OBGgJF ccCqFfaYwd15fHVNTJ+3G994vIbCzTVjdWz9/bMb+PLtp9n9+oP499VSMmAUXU69BN/hR7WcU9/o jzAC4TywYiuvvL+jZYdx29JNtq0tCkRaPS+I9OHH+wzc7jDcTuIhg+T1zs/t5xSxXv172a1DDYGi xMCqp4/TijT0hbeaWKLPcxtEdXtNJ4wxLFmyhLfv+CVNuz6nffkxHD5hJsVHHuvuQYRRU1fP9EfX ggQykuwItUdw8uHHG0h2u8NwipeECDdIsQLObSGez6muIUXJApxWpNFfeKfzrnlkbUs/mRBWk7rb azoRrg9c0r03Xc6dRUn/k9vUFM4qTdWK+kY/r7y/gzcqxrb6WSKBZDdZQnbn+QqFDu2K2F3faLkq 90rHIdOzz9QQKEqcOK1I3fily0p9AR+9zRIvelJ3c83ONr3qrfSBuww9g1lPbox5zXaFQoPDaj8e 4g0YOxk2t8p18SrceSmCFM/n7GKTNdQl3VlDIjIU+Hbw5XJjzFrPRqQocZBoMLYtQVynFenVlWsc 31viK8SY1hkq4US7ONz4uqMX9p999hmzZ89m4cKFdOzYkVtuuYVf/OIXlJaWAlBYVNQq7vH02u0R AckGv6Eg6K9uqzlwKvpKxDfvdtLOFIW7eD7n7B8cx/TH1ka43HyFwuwfeKdHELOyWER+CSwGegT/ e0BEfu7ZiBTFJYlW/ba1WtipMtRpAgudt9sh+0No3UrATcCyLriCrK2tZcaMGQwcOJDFixczbdo0 7qx6g6f4Bsfd8EpLVe+E4eW8UTGWj+eexRsVY7lpwhA6tG+9Lmw2gYBvPERpqjj62r2s4M0k4vmc E4aXc9v5QyP+vm47f6inBk1MjAiEiLwLfNMYsy/4ugPwL2PMCZ6NKooRI0aYVatWpep2SpYweu7L lqus8rISS390W99nh1PREgS+8OE57nb3DxHtx7bKuolG/I3sXvUUX618FP+BvS36wGtqfZa7F6tC qb4Vz7R55Q8BScUO7YviyoTKBI3lRIhn7On4nCKy2hgzItZ5blxDAoT/BfqDxxQlrSRaqJTo+6y+ yECroiVfoVBW4rMNSFq5lsJp9JsWF01NXT2LV2zllH5d+eQ/9dTU1SMcctWYZj/71r9K3fIH8H+1 g+K+J9Fz7KW8e9RAxvx1PQUirgLSYO++KLS4hhO76xtZM/u7rs/PFPdNvMSb8ZTJn9ONIbgPWCki S4KvJwD3ejckRXFHov7lRN5n96Uv9hW0mtAb/YYO7YtsJ8NoKcJYGOCNLbu4aFRvbpowhKrqGn7/ /PtseWc5tcvup3HHp7T72gC6nTWNkqMD2sAhQ+I2IA32sY/zTiq3rANoX1RgWeSUqVXXySbTM4Hi IaYhMMbcISKvAt8isBP4kTGm2uuBKUosrCYuITBJj577su3W2236YTh2X3q7VX1NMEUU4Pqn1rdk gZSV+Dh7aM8IKUK3PLBiK8+8u50vPlzHvtcXsefjtRSV9eTw8TMoHfytuFJBrSZrpyybEUd3jbkb gtz079uRbX2onLA1BCLSNezlJ8H/Wn5mjLEuO1SUFBE+cUW7TJyqfec8uT5i8ior8TFn/HGOq7hE vtzTH1uLv9kQnm5fV98YoZcbD427ati8ZCH7N79JQWkZXc+YSseh45DC+NIKE5mso90aITdZfaO/ xXVUngK/dybFE7KtD5UTTjuC1QS+VwL0BmqD/y4DtgJ9PR+dosQgNEFZBWCjt+nR3TZD7GuIbMNs hd2XvqzEx8GmZsudgVPFrR0FAtF1Wk17d7H7jYfYu3YpUtSOzqMnc9jI/6agfanr6xaK0GxMzL5I bnze0ef5jWkxLl4bAS/bWcdLIjvLTMXWEBhj+gKIyF+BJ40xzwZffw84PTXDUxR32K3YwyfvWKIt TpOJ3Zd+zvhAbve0GPUDbhAijUDzwf3seesJ9ry9BONvotPw79H5lB9S2KFL3NedNyl2+mFbmrml wjeeaT75eAvWMhk3weKRxpipoRfGmOdE5EYPx6QocWO3YhdoyZtvS5fJWF96uz5AbonIBPI38tWa 59n95sM0799N6eBvU3bqxfi69Ero2nbi9dFuFrvxu23m5rVvPBN98pmcCRQPbgzBThGZBTxA4G/1 IuA/sd4kIsXAa0D74H0eM8bMFpG+wMNAV+Ad4GJjTEOC41fyDDsfcaiqN3q9bwis1m9buslW8APc iX44feljpYQ6UR6chI1pZv/G5dQt/ztNdf+mfe8T6HLapbTvOTDua4YoK/FZ6gdYuVnscNvMzWvf eC755DMNN5rFk4HuwBKgikB18WQX7zsIjDXGDAWGAWeKyCjgVuAPxpgBBOIOlycycCX/sKoIvrpy DX0qnmHOk+sdi6Fq6uptjQC0vbNjqNo4nn4wJb5C/njBMN6oGEuHnRv498Kr2fnUbYivmB4Tr+eI H/6O4l6JGwHAtorZba9+u2Zu6agGzpcq5HTgJn10F/DLeC9sAiXLe4MvfcH/DDAWuDB4fCEwB/hL vNdXcoN4skCsJq/Q/N1W0Q6ntg/xcKCx2dV5hSLccu4QjuZLxo27jA0vvEDRYT3odtav6HDcaYgU UOIrRDDst7imrwB6HFbS8tz2HWyKK6ffyZ0SK7CcLt94LvnkM42YhkBEugPXAscBLeKlxpiYtfgi Ukgg+6g/cBewBagzxoTSND4HLH+LInIFcAVA7969Y91KyULizQLx0hecDPeC21U2wMHa7Tx6+2Ie fPBBiko60WXM5Rw1egJS1C6iItmuiV1TMxHtMKxaVTutlp1iAs3G8PHcsxzHny7feK745GOR6jRZ N66hxcD7BNJFrydQT/C2m4sbY/zGmGHAkcA3gGOsTrN57z3GmBHGmBHdu3e3OkXJcpyyQKzwyhec LPeCG0Pl37+bXS/ew7a/TeWxJ56g2ykX0POKBRz2jf9md6Ow72ATZaU+ttXVc9vSTbbtpaOfhVMj PCumjxtk2ydGfe7ppa1NERPBTbC4mzHmXhH5pTFmGbBMRJbFcxNjTF2wOnkUUCYiRcFdwZHAtrhH reQEbrNAwtW5wrNrkkHIRZMMHWGnwTU3ROoDnz7hAmoHncNO0zHivMZm0xLLsFuxO3WtdPs5Qm0u Fq/YGjFk9bmnn3SkyboxBCHH43YROYvAxH1krDcFXUqNQSNQQqD24FbgFeB8AplDlwD/SGTgSvbj lAViN/kn0wjYdeEM4XZ7HlrBWQWcTbOfg+v+ya7XH6Txq110PfYU5tzwO476+oCEag/cVEG75aYJ QyxbR+SD6yWTSUearBtDcJOIdAauAe4EDgOudvG+nsDCYJygAHjEGPO0iGwAHhaRm4BqtIFdSsik 0vwQdkVaYwZ3jzie7B2Am3YIVvGLqyvXsOrTXa3SMS2D2MZQv/lf1L62iKZdn3PKKafw+9//ntGj R7dcOxE6tC9KqvCOm11EJv7t5DLpSJN1kzX0dPCfu4Exbi9sjHkXGG5x/CMC8QIlRWRaaX6I6C6c hSItIueJ5OO7wW8MvkKJOZnZZSg9sGIrI47uGvHe6JXagc/WUfvqfTRs20RR1yMZfPENvL5wVktT uHiCytG4WRUm8/edqX87uUw6Wlc4NZ27E4fFmDHmF56MSEk6mVaaH6KquiaiC6ffmJgCLMmg0W+4 +pE1XF25xnaF6zThznlyfcT5oRVcw45PqXttIfUfvkVhx650PfPndBxyOgcLC/nNP9a17CScru0r FMceRW5Whcn8fWfq304uk440WacdgUqC5QiZWJoP9pNMvEIoiRC6vN0K1ym9Mjpf/0dDO/HrmXPZ /e5LiK+Ysv+6hE4n/YACXyDbutnQ0nH0pglDbK8dclfZBcbdrgqT+fvO1L+dXCfVabJOTecWpmwU iqdkamm+3WQS6mbp9c4ghNUKd/q4QY7B3L4Vz9CjfRPlny7lucr7aPI303P0uRSdeC4FJYdZvueh lZ9x04Qhjlv/8AkgUd98Mn/fmfq3oyQXN+L1r4jIy9H/pWJwSnKIVZpfVV3D6Lkv07fimRZx81Rg N5mEcuDLbHLovSBcSAYCK7JSn/XXwzQ1ULfyCVb9/iKWLPwro75zFh9+sJltyx9l6//Yd18J7XLc 5vxHC8y7XSEmsxXDmMHWNTx2x5XsxE3W0K/D/l0MnAfEbuCuZAxOPkcvg4GxVrSxgmIHm9y1a0gW 0Z/75nNPYPpja1t89lb6wF1Ou4SGgcdx9NFHt1zHzrVVGKYg5uXWP5k+5lfe3xHXcSU7cZM1tDrq 0BvxFpQp6cdu4vEqGOjGwDhNWKPnvpwy11CI6M8d+n+LPvCr99O4s7U+cLSLa/LJR1mqkE0++SiP P8EhkmVosjVGkO0pr6kev5teQ+GSlQXAScDXPBuRklK8+qK7NTB2E1Zbevu3hejP3bPhc9otvZEv ly2juGsvOlvoA0e7uELZQeFpsZNPPsqyHXSmk40xgmxPeU3H+N24hsIlK5uAj9HW0TlDIl90N6uV thqYVGQOWRH63Js3b+a6667j8ccfp0ePHsyfP58eI7/Pb5/a5Cq/+6YJQ7Jy4o8mG+UYsz3lNSNb TIQkK5XcJN4vutVqZfpja5nz5PqIrpltXUmmwwj4CoXLTyzjyiuvZMGCBfjateeo71yCDDmLB7/q xnRfO245d0hWuxziJRtbP2erOytERraYEJGrgMXGmLrg6y7AZGPMnz0bVY6SiX7LeL/oVquVRr9p ya0PbWPPO6m8VXFYPCvJchtD4hXNB/fzn7ef4Gd3/AN/UyPfPe8iPug1jsb2gVTQ0Oe65dwhEe2f 4yUT/wZikW2tn7PRnRVORraYAH5ijLkr9MIYUysiPwHUEMRBJvst4/miu1mV1Df6eeX9HS2r55q6 egpFWra3qz7dxSvv77CdDKuqa6jddzDhzxMP0frA3YacxoonFnDJY1tpjPqs8WzPrSZ8IGP/BnKJ bHRnhZNRLSbCKBARCSqOhcRm2nk2ohwl2/2WIZwqbsPZVlff8rmiJ7/wjJroyXBW1XuWGTfJxk4f uLjnQPr378+2OmtNhLb0+in2FeTE30Cmk43urHAyrcVEiKXAIyLyVwJB46nA856NKEfJdr9lCLci 7aFtrJsGa+FiNItTYATqP1lD3av30fDFFnzd+9Bj4vUU9z0REWkZd6ztefSKf8zg7i27nAKLQHd9 o9/2OWTb30A2kG3urGgypsVEGDOAnwJXEsgcegH4m5eDykVS5ffz2gcdvVopK/Wx90ATjc2HJj4h sAruN/NZ10HfkCKXlyHihi+2UPvq/Rz4pJrCw7pH6AND5PbbyuAJgYpaqxV/+C4m3kB3tviuldxF TBqyM+JlxIgRZtWq7O6BZ6cpmwx1rGTeIxFD4qWCWDJorPs3dcv/zv4Nyygo7kTnUy6g0/DvI0WH PJy+Arht4rCIzzqr6j1LBa/2RQWWQvGxKCvxcbCpOeL34ysQOhYXUbe/MetcGErmIyKrjTEjYp3n 1Ib6PZzbUJ+Q4NjyEi/8ftGT9r6DTW3yQSca0A5tY0fPfTlthWBW+PfvZveblXxV/SxSUMhhoybS +eTzKCju2OrcZiOtPuMz725v9QVwcvE4UeIrZM744yL0FwRohghpSg0eK+nAyTV0dspGkSck0+9n NWnbEWqoFuvec55c3yZDkim+7mh94I5DTqfzty6kqNPhtu8Jd+dUVddw/VPrWyboRCkUodmYiKyh cP0FA/ibW8cSNHispBqnNtSfpnIgSnxc/1TrSduJWCvNquoaW3eH2wk+VkZRqa+ARr+JiCckE9Ps Z++7L7D79Qfx76ulZMAoupx6Cb7DY/f4CTWEs3KvJYKVS85t/6RMMahK/uCmDfUoEXlbRPaKSIOI +EVkTyoGp1hTVV0T92o1PDPHCqefdQ5rB+3Usnr6uEH4CsTqEgDsb2z2xAgYY9i/6U223XsVu5be RVHZ1+h/2R08WPkYxd17u7pGqCGcmyynLqXW7bELRRzbSsdjUBUllbjJGpoP/BB4FBgB/B+gv5eD UpxxmrQ7tCtkX4P1RFZTV8/ouS9bxiicJqmvDjYx7PoXqKtvjAgGR/u0JwwvT4pLJR6i9YG7nzuL kv4nU9Qu8KftJoPnolG9XclIQiDgO/sHxyUUlHdTg5FNhU9K7hBzRwBgjPkQKDTG+I0x9xGHiL2S fJwmq2aHiS+U1mk4NImHVvROq1B/86EWElbB03DDVJciI9Cw41O+fPwGvniwAv+eHXQ98+f0uvwu SgeMQsKqmMtjrK7Ly0oimsM5PYdQwNetsEw0VoIxvgKhS6kvrusoSrJxsyPYLyLtgDUi8ntgO9DB 22HlN7FSOO1WliW+Auob7cVc7CbxCcPLXReKWRFumNxWHidK054d1L2+mH3rXrbUBw6npq6eshKf rSC81erb7jmUlfhajAAkFvj3umI0G/sYKZmBG0NwMYGdw/8FrgaOIqBSpniAmxROu14kxTEMgRWh STx0bSedXjvCV9HTxw1i+qNrkx4L8B/Yy54Vj/LV6qcwpplOI8bT+ZuTKLTRBw5RV9/Ysuqu3d/Y 0t46vPcRuBPLSQZeVYxmci8rJfNxqiPoDnQ3xmwIHjoAXC8ixwO7UzG4XCGelZqbnkRWk9WYwd0T 6tETPolPGF4etyGw9Gnbx4v6bf2ZAAAem0lEQVTjxjQ1sGf10+xZ8QjNB/bR4bjTKPv2xRR17uH6 Go3NBmMOdTQVDsUO7JTT4pk8M2Elniu9rJT04LQjuBP4i8XxcuA64EJPRpRj2K3U7Dpwuu1JFD5Z he4RL1aTeDztn8ujJr2q6hp+9cgakrEZsNMHbtfj65bnFxAozrKjrr4xZpwjkQkzU1biudLLSgmQ SVKVQ4wxrbSJjTFLRWSeZyPKMexWauGtC8KNg1XDMnAOYrpJeYymUKQlMBn+R1dW6sNXIBGuncIC aVX4FG5EQhlFycAYQ/1Hq6iz0Qe2o60y94lOmJmyEs/2HvzKITJNqtI6WTr2z3KeeKy13QRjtSqN 7msTInrlHn3/RIKzk08+qsUIhP/R1e5vxFcolJX4WhTH9h1sajXR1zf6uf6p9a0azrWFg9s2Ufvq fRz8bB1FZT053EIfOBxfAcQZErEl0QkzU1bi2d6DXzlEpklVfiAi3zfGPBt+UES+B3wU68IichSw iIDQfTNwjzHmf0SkK1AJ9AE+ASYZY2oTG37qcWOtwydquxW+FVZnha/coXUjtEQbvT2wYiuvvL+D /Q2t+xOFMmzKSn2ORiZZ9QKNu2qoW7aQ/ZvfpKC0jK5nTKXj0HFIofN6w40RKCvxxdyttGXCzJSV eLb34FcOkWlSlVcDT4vIJAIC9hAoKPsm7voQNQHXGGPeEZFOwGoR+SdwKfCSMWauiFQAFQRaXWcF sax1tKGwMgLxTNyhugCnhm4mzmuGcJrkk+XqcaJp7y52v/EQe9cuRYra0Xn0hRw2cgIF7UvbfO0S XyHnnVTOQys/czwvOs4RL5m0Es/2HvxKgIySqjTGbBaRIQSCwscHDy8DfmqMORDrwsaY7QRqDjDG fCUiGwkEms8BTguethB4lQw1BFYuoFjW2s5fH96AbMzg7q30fO0oKoDpj621zIMPxwTvkSrR97a0 Y24+uJ89bz3BnreXYPxNdBr+PTqf8kMKO3RJytgKRVo0k52eR3lZSZv0h0FX4kryScfiIiV6BCLS B3iNgEHZaowpC/tZrTHGcQZIhx6BXW//Yl+BpUskNKn0rXjGcmUuwMdzz4q4/pwn1ydt5d2l1Lr1 gRcUijBvUiB4G0/NQLQ+cOngb1N26sX4uvRK2tgE+MMFw1r0EWLR1h2BonhBsrKG2qxHkCxEpCPw ODDNGLPHLvBn8b4rgCsAevd21zgsWVRV13DNI2st5QbbFxVQ4iu0tdbxbOsONiUp0skhV07IHRLq d9+uqCDmfcpKfHRoX9TyR7e/ocnR/+83JuKP8urKNY5uKTt94PY9B8bzESPwFQgIETslAaaM6s2E 4eVc7bIeQguvFMVjQyAiPgJGYLEx5ong4S9EpKcxZruI9AS+tHqvMeYe4B4I7Ai8HGc4oZ2AnUth d31jy4rTylq73dYlkvLphDGtq4INUCDCRaN688r7O2xXyGcP7RnRb6equsbRHRXesjmWvKSTPnCi FIpw28TAjsTu9xBPNpUWXimZRDrSR125hoK9hkLLt03GmJj+DAl80xcCu4wx08KO3wb8JyxY3NUY c63TtVLpGoqlsuXGrzyr6r2WVXmhCKO+3oVP/lMfMWHFWkUnk9CY7T5byD0ST6VyqGWDHdH6wGXf vjhCHzgWdsHvkOvHjXymleaw3TOPdt05XVfjAYqXOH1P441pJc01JCKnEZjQPyHwfTlKRC4xxrwW 462jCfQpek9EQkvV64C5wCMicjmwFZgYawypxClFy03Apqq6JiJI6TeGN7bsavl5yLqXxZhIk0no M9l9tpq6+ogdQE1dPY+vrnGc7O2OR+sDdxn741b6wHaEAuqdS3w0NPnZH5UfKsAp/bpy29JNXF25 xnEitgvi2sUO3GRkZEoVsZLbZFr6aIh5wHeNMZsARGQg8BBwktObjDGvY9915jvxDDKV2LkUovP5 7XDj8nGKNYT7+JNFaJJzcpdEu4HsxmhHPPrAdkw++ShGHN01ONlGGoEupT7OOqFnRLZVTV090yrX cP1T65n9g+Na/W7s0ikTzcjIlCpiJbdJR/qom326L2QEIJBWSg5XFlv1jC/xFTJv0tCk6vburm+0 7Gl/04QhzJs0tNUYEiU0yVVV17DvYFNc7w0fox3NDQfY/WYlNXf/mK/eeZqOx4+l1xV30+W/LonL CAC88v4OW0Nat7+RB1ZstfxZ7f7GCG0FJxLVEoDMqSJWchu7OcjL9FE3O4JVInIv8Pfg6ykcKjDL OdqaF+42SNm5xGd7D7vuoqEmdW6rlUXa1gqiV1lJy6q6T8UzET9riz6wHU4TaqyR1zf6ueaRtUBs N02ihVeZUkWs5DbpqE2JGSwWkfbAVcC3CLh6XgP+bIw56NmookhHHUGiuBE/t0p9dCN1GH4PN0Vm bSEUWC2PChwbY6jf/C9qX1tE067PaV9+DGWn/YjiI49t8z1DO4+2CNvE8xzjxa62RFXFlEzFbbDY jSHoABwwxviDrwuB9saY/UkZqQuyyRBA68yS8NW8U55+PFkBVdU1KdMHDhmFaH3gLqddSkn/k9uU ChoiNKFCYuI44ZSV+Fgz+7ttHpMVmjWkZBPJNAQrgNONMXuDrzsCLxhjTknKSF2QbYYgFm6rj9t6 vWTRsONT6pbdT/2Wtyns2JXO35pCxyGnIwXJiWNEV/cOv+GFNhu4P7pIMVWUXCeZlcXFISMAYIzZ KyJt7wqWxyTia3ZaiSbairpDu0KaDbZurHj0gdtCTV19hGRkMlplaCaPorjHTdbQPhE5MfRCRE4C NE2iDcSbFRDyTdfU1WM4lL8eypKxup4b9jf4ueXcIZSVHEoCEwnoA9e+eh/bFvyUfRtepdOI8ZRP /RudR01MuhEIEf6ZojN7upT6KCvxIRyqao6FZvIoinvc7AimAY+KyLbg657ABd4NKfeJNysgVv56 ollGoR1IqBeRaWpgdxv1gdtC9Geyeh5ugvGgmTyKEg8xDYEx5m0RGQwMIuDGft9Ni4lMI9OCfPGk MLrJX3e6nl22S6jSdv/BBvatf4W65Ytb9IG7nXYpRT36xvGJkkOslXy40bNzhwmoMpeixIGbFhOl wK+Ao40xPxGRASIyyBjztPfDSw7Z3hqgrfnrdjuQc4b14qc3L6DWRh84Vj8hL3DzmUJGzy5IbsiO 36uiZApuYgT3AQ0ElMkAPgdu8mxEHuDkWomXquoaRs99mb4VzzB67suuqlnbSjIqDScML2f6uEH0 KithW1090//8OJ2+PowvH7se09TA4eNn8LX/c0eLERCSJ0Xplng/k53RcKqEVhSlNW5iBP2MMReI yGQAY0y9JCNxPIXE2xrAzo1ktbOYVrmGOU+uZ8741r1ukkUyKg1DWscNLvWBU9b3O0giAjGZJBOp KNmMG0PQICIlBOcGEekHpKyqOBnE41pxciPZ9sGpb+TqyjWs+nRXRF//ZNIWPdqq6hoWvriGOhf6 wPG4g9wIw7shUclIlYlUlOTgpqDsDGAWcCzwAoH20pcaY171fHRB2lpQZhcsPe+k8oiKX6c2xeVB l4rT04qnV34ik1ci79uzZw/H/fdV1Cx/NKAPPOxMW31gwX1NQoFA+yJ3nUljkWghnaIoziSlsjjo AjoS2A+MIvCdXWGM2ZmsgbohGZXFVm0fogXknVouu50kY61uE+1XE+/7Ghoa+Otf/8pvZl/Pnrpd rvSB3Rg7LwjpEOiKXlGSS1Iqi40xRkSqjDEnAc84nZvpRLtWRs992TKAXOiQc2/lk44mVvpjoj3t 7d4X3XGzubmZyspKZs2axUcffUTp0UP52vhZMfWBfQXiuCNKFlYqYaHnnW3ZXIqSK7jJGlohIiM9 H0mKsZuw/cbYZuiEKl67lNrLMcRKf0y0p73TeEMVuS+++CIjR47kwgsvpGPHjhxz6S0cfsFN7kTi g+F/qwwlX4HgK4wvP2B0v66Wz3HKqN4tFcNWVcKJZnMpipI4bgzBGALGYIuIvCsi74nIu14PzGuc Ug+dhEsmDC+n+rff5aJRvVvJr7nJWLG7bywD4vTz3Z9v5kcXTOCMM85g586dLFq0iNn/+zT7jxji ujNoo99wzSNrubpyDcW+gpaWDuVlJXQsLoq75fUn/6mPELUpFKG+0c8r7+9g+rhBfDz3LJpt3JLa HkLJd1Kdpu4ma+h7no4gTTilHrrJ0LlpwhBGHN01ruCtnUqYGwNiNV4rfWCGf587Pu7A3o3vOV7P ipCLpnZ/IyW+wpbAd9+K+L2C2+rqW56FXRaWCr0oSmvSUQBrawhEpBiYCvQH3gPuNcbEp3WYwSQj 9TCelE67HjkhLd5Yguyh19c8spaGfXWO+sBO6Z8lvkKKfQUxU0TrG/3MeXI9E4aXJ9TdNDSZO8VE tA5AUVqTDm1spx3BQqARWE5gV3As8EtPRpEm2pKbHy9OovbRguwh6x96X8hQ/fzUoxi1ZxkP/+1O mhsP0nHI6XT+1oUUdTrc9ThC4i9uGrfV1TcG1NAsJuxQ0LdLqa+VDGb4ZO4UE9E6AEVpTTq0sZ0M wbHGmCEAQc3itzwbRRaRaA2A3S/RamVe3+jn6so1Ldk1ptnP+68+wUW/exD/3lq+cdo4dh93Pgc6 9oxr7OVRq/RQhpRdplTo3OnjBtG+qKDFEHQp9TH7B4cqqRPRSgjtGFJpjBUlG0iHy9QpWNwyQ+WS S6gtWOkCTKtcw/AbXogZzIn3l2gI6APv3/Qm2+69il1L76Ko89c4/qf/w8w77qWxk309gBW+AmHM 4O4t44dDGVKTT7YXnA/tUMIriA80NkecM2F4OW9UjOXjuWfxRsXYiIndTZ+kdPRvUpRMJRm9xeLF tqBMRPzAvtBLoIRAYZkQKDE4zLNRRZEpUpWj575s6yuPVRRmVxDWvqjAsk2Dkz6wU+GbHV1KfZS2 K7KtmrbTUbbbLYR6A7nZHTntGFQQXlFak6y2+UnTLM4EEjEEXugPxNIGdlNVHD0miBRrj6UP7OTG cSKURGr3zotG9Y6r0trq54lM4HbGNdH+Q4qiHCKZmsVZh1fpV7GyZ9yIqljd//qn1rPj39ti6gMn shMIHztgO/7HV9fE1XspVBcQTiKZDekIjCmKEklOGgKv0q9itZhIJJhTW1tL34+qWLv4XoxpptOI 8XT+5iQKSyI9b6W+AtqFBWzjIdy/aDf+ULGX1SrcynVjN454J3CtJVCU9OOmsjjr8GqVGWoxES72 HiLeYM6BAwe4/fbb6devH1WL/sp/jfsBJ16ziG5jf0y3rt3oUnqosveiUb0xSEItn8tKfBHummKf /a98W119q8AtYFlpbSf+Eu8E7kVgTIPPihIfnu0IROR/gbOBL40xxwePdQUqgT7AJ8AkY0xtsu/t 5Soz5N5JNAbh9/v5+9//zm9/+1s+++wzzjzzTObOncvQoUNt32PVIC8aq2ZuAB3aF1mK6lhR2q7Q 0qV2y7lDXO8U4p3Ak11LkO2ypIqSDjwLFovIqcBeYFGYIfg9sMsYM1dEKoAuxpgZsa4Vb7C4rZko XgSajTE8++yzVFRUsG7dOkaMGMGtt97K2LGxA6JOQepY7bFDvf6dMp7Cz7W6j13g1ovn1FY0+Kwo h0h7sNgY85qI9Ik6fA5wWvDfC4FXgZiGIF7assp0s6KMdwJcuXIlM2bMYNmyZfTr14/KykomTpzo uiGc3UQfPrnZTYChXZAbt5idsbF7byYWg2nwWVHiJ9UxgiOMMdsBgv/vYXeiiFwhIqtEZNWOHTvi vpFTkZMTsYTurYrKQm2go9m8eTPnn38+o0aNYuPGjcyfP58NGzYwadIk10YA3PnRY53jxi1m1Rba 7XszhUS7uypKPpOxwWJjzD3GmBHGmBHdu3dP2X1jrShjGQqA7du3c+WVV3Lsscfy/PPPM2fOHD78 8EPKT5nAmDtejzuIGQpS27XGdnOOlaGIZtTXu6S8ojHZpKMqU1GynVSnj34hIj2NMdtFpCfwZYrv H5NYgWYnQ7Fnzx5uv/125s2bR0NDA1OnTuU3v/kNRxxxRJuDmLHcMLHcVeHuMrtYQUhDIJP8/vG6 4bSRnaLEj6eVxcEYwdNhweLbgP+EBYu7GmOujXWdVLaYiBVotvLFG38jhe+/yFcrKtm5cyeTJk3i tAt/zgMbG1omI7sWDskIYsYbHLcLPmeaiLy2n1CUtuE2WOyZa0hEHgL+BQwSkc9F5HJgLnCGiHwA nBF8nVHE42Ixppl9G5ax/W9X8vHTdzFkyBDeeustJlfcwZ9W7Y2II9j1/09GENONuyqcbPGjx/u5 FEVJDC+zhibb/Og7Xt0zWUS7F0ITT7h75v/d9SAfPn03DV9soc+AY/jLQ/cxbtw4RIRpLvL+QyRj 8rUzJjV19fSteKaVeyRbBGE0A0hRUkNOtphoK07+/KP5kr9UVLDhhRfo3bs3Ny1axJQpUygoOLS5 cjtRtWXyDfedFzg0ogvPbIJIY5bpfnRtP6EoqUENgQVWLok9O2r4yY9uZ+fal+jatSt33HEHV155 JcXFxa3ebzeBlZX46NC+qM2Tb7ShctONNLrXUibWAESTLTsXRcl21BBEUVVdEzGJ+/fvjtAHnjlz Jtdeey1lZWW217CbwOaMPy4pk6+T7KUT2eZSyZadi6JkO2oIwgittAGaGw7w1ap/sHvlY5igPvCg 71/GzTdfEPM6bZ3AYqVMJjqhJ8ulksrWEtmwc1GUbEcNQRi3Ld3E/oMN7H33BXa//iD+fbWUDBhF l1Mv4bCefZgVFH53Q6ITmJt6g1i6CFYky6WiTd0UJfdQQxDEGMMHK1+i9rVFNO36nPblx3D4hJkU H3ksgG3uupvVcTwraDdaCrF0EcIJNaVL1qrdK60HRVHShxoCYPny5Vx77bXsWLGCoq5H0v3cWS36 wBCoJbAzAm4a1MWzgrZb6Ye7g6JdT3ZZQ1503NSUTkXJPfLaEKxfv56KigqefvppevXqxc9+83te 8h/LgbAFr5NLxc3q2O6cax5ZC0Qag6rqGttW0NH+/XDXk10F7pjB3Rk99+Wk+vI1pVNRco+MbTrn JZ999hmXXXYZJ5xwAsuXL+eWW27hgw8+4K4bpjP3/GGOzd3CcbM6tjvHb0yrrqW3Ld1k2/rByb9v VQ193knlPL66xlWX1HjQpm6Kknvk1Y6gtraWuXPn8qc//Ynm5mamTZvGddddR7du3VrOiSfI62Z1 7BTYjd492BkNQ+xAbPS4rVTNkuHL15RORck98sIQHDhwgPnz53PzzTdTV1fHRRddxI033sjRRx/d puu6KXiKFdgNn/ydBGjixUtfvqZ0KkpukdOuIb/fz/3338/AgQOZPn06J598MtXV1SxatKjNRgDi 0wlwI/qSTLeLl43lVBxeUXKLnN0RVFXXcPnFk9m1fjkdygdx/V8r+e1PJyX9Pm5Wx6Gfx9o9JNPt 4lV7Bq0jUJTcw1M9gmSRqHj9rs1v03xgH6WDv0Vpu6K097FPtdi7F/dTcXhFyR7SLl6fTkIpmyV9 T2w5lglFT6n2rXtxP60jUJTcIydjBDpZeUe2iNooiuKenDQEOll5h9YRKErukZOGQCcr73CTKaUo SnaRkzECr4qeUh3szVS0jkBRcoucNASQ/MlK0yYVRclVctI15AVODeYURVGymZzdESQbu4yjmrr6 pHf4VBRFSSVqCFxi1wdIOKQhkEnuIo1nKIriFnUNucQqE8lKOyAT3EWheEayW1AripKb6I7AJVaZ SG7UxFJF+A7ASrEsEyqrFUXJTNQQxIFVz/9MUOuKzmiykq0EraxOJup6U3IJdQ21gUwpXLPKaLJC K6uTg7relFwjLYZARM4UkU0i8qGIVKRjDMkgU6ps3az0tbI6eWgqsZJrpNw1JCKFwF3AGcDnwNsi 8qQxZkOqx5IMMqHK1i5eUShCszHqukgy2tRQyTXSESP4BvChMeYjABF5GDgHyEpDkAnYidBoDyBv cKNVrSjZRDpcQ+XAZ2GvPw8eUxIkU1xU6SAdspmZEhtSlGSRjh2BlXhvqzQXEbkCuAKgd+/eXo8p 68kEF1WqSVf/J6+aGipKukiHIfgcOCrs9ZHAtuiTjDH3APdAQKoyNUNTsgmnoK3Xk3I+Gl4ld0mH a+htYICI9BWRdsAPgSfTMA4ly9GgraIkh5QbAmNME/B/gaXARuARY8z6VI9DyX5UiU5RkkNa6giM Mc8aYwYaY/oZY36XjjEo2Y8GbRUlOWiLCSVr0aCtoiQHNQRKVqNBW0VpO9prSFEUJc9RQ6AoipLn qCFQFEXJc9QQKIqi5DlqCBRFUfIczRqKQpWnFEXJN9QQhJGuJmaKoijpRF1DYajylKIo+YgagjC0 iZmiKPmIGoIwtImZoij5iBqCMLSJmaIo+YgGi8PQJmaKouQjagii0CZmiqLkG+oaUhRFyXPUECiK ouQ5aggURVHyHDUEiqIoeY4aAkVRlDxHjDHpHkNMRGQH8Gm6x9FGDgd2pnsQGYQ+j0Pos4hEn8ch 2vosjjbGdI91UlYYglxARFYZY0akexyZgj6PQ+iziESfxyFS9SzUNaQoipLnqCFQFEXJc9QQpI57 0j2ADEOfxyH0WUSiz+MQKXkWGiNQFEXJc3RHoCiKkueoIfAAEflfEflSRNaFHesqIv8UkQ+C/++S zjGmChE5SkReEZGNIrJeRH4ZPJ6vz6NYRN4SkbXB53F98HhfEVkZfB6VItIu3WNNFSJSKCLVIvJ0 8HU+P4tPROQ9EVkjIquCxzz/rqgh8Ib7gTOjjlUALxljBgAvBV/nA03ANcaYY4BRwFUiciz5+zwO AmONMUOBYcCZIjIKuBX4Q/B51AKXp3GMqeaXwMaw1/n8LADGGGOGhaWNev5dUUPgAcaY14BdUYfP ARYG/70QmJDSQaUJY8x2Y8w7wX9/ReALX07+Pg9jjNkbfOkL/meAscBjweN58zxE5EjgLOBvwddC nj4LBzz/rqghSB1HGGO2Q2ByBHqkeTwpR0T6AMOBleTx8wi6QtYAXwL/BLYAdcaYpuApnxMwlvnA H4Frgebg627k77OAwKLgBRFZLSJXBI95/l1RYRolJYhIR+BxYJoxZk9g4ZefGGP8wDARKQOWAMdY nZbaUaUeETkb+NIYs1pETgsdtjg1559FGKONMdtEpAfwTxF5PxU31R1B6vhCRHoCBP//ZZrHkzJE xEfACCw2xjwRPJy3zyOEMaYOeJVA7KRMREILsyOBbekaVwoZDYwXkU+Ahwm4hP5Ifj4LAIwx24L/ /5LAIuEbpOC7ooYgdTwJXBL89yXAP9I4lpQR9PneC2w0xtwR9qN8fR7dgzsBRKQEOJ1A3OQV4Pzg aXnxPIwxM40xRxpj+gA/BF42xkwhD58FgIh0EJFOoX8D3wXWkYLvihaUeYCIPAScRqBz4BfAbKAK eAToDWwFJhpjogPKOYeIfAtYDrzHIT/wdQTiBPn4PE4gEPArJLAQe8QYc4OIfJ3AqrgrUA1cZIw5 mL6Rppaga+jXxpiz8/VZBD/3kuDLIuBBY8zvRKQbHn9X1BAoiqLkOeoaUhRFyXPUECiKouQ5aggU RVHyHDUEiqIoeY4aAkVRlDxHDYGSs4iIP9jFcZ2IPCoipSm6bx8RqQ/ee4OILAoW1SV6vb2xz1KU xFFDoOQy9cEujscDDcDU8B9KAK++A1uMMcOAIQSqYyd5dB9FaTNqCJR8YTnQP7ha3ygifwbeAY4S ke+KyL9E5J3gzqEjgIiMFJE3g9oBb4lIp6CewH3BnvHVIjLG6abBvkJvEWycFmw4d5uIvC0i74rI T4PHO4rIS8ExvCci53j6NBQlDDUESs4T7FvzPQLVzQCDgEXGmOHAPmAWcLox5kRgFfCroBhKJfDL oHbA6UA9cBWAMWYIMBlYKCLFDvcuBk4Gng8euhzYbYwZCYwEfiIifYEDwH8HxzAGmCf53JlPSSna fVTJZUqC7Z4hsCO4F+gFfGqMWRE8Pgo4FngjOO+2A/5FwFhsN8a8DWCM2QMtLTPuDB57X0Q+BQYC 70bdu1/w3gOAx4wxoZ9/FzhBREK9dDoHz/kcuFlETiXQiqMcOAL4dzIehKI4oYZAyWXqg376FoKT /b7wQ8A/jTGTo847Aev2x25X6VuMMcOC3SJfFZHxxpgng+//uTFmadT9LgW6AycZYxqDHTltdxqK kkzUNaTkOyuA0SLSH0BESkVkIPA+0EtERgaPdwq6mF4DpgSPDSTQCGyT3cWDQiIVwMzgoaXAlaEs IhEZGOw02ZlAb/7GYNzh6OR/VEWxRg2BktcYY3YAlwIPici7BAzDYGNMA3ABcKeIrCWgJFYM/Bko FJH3CMQQLnXRGbMKKBWRbxOQZNwAvCMi64C7CezMFwMjJCBYPoWAIVKUlKDdRxVFUfIc3REoiqLk OWoIFEVR8hw1BIqiKHmOGgJFUZQ8Rw2BoihKnqOGQFEUJc9RQ6AoipLnqCFQFEXJc/4/UE62X9R8 lKkAAAAASUVORK5CYII= ",
text/plain: [
"<matplotlib.figure.Figure at 0x262d53a0f28>"
]
},
metadata: { },
output_type: "display_data"
}
],
source: [
"# In[7]: ",
"scatterPlot(y, p)"
]
},
{
cell_type: "markdown",
metadata: { },
source: [
"## 3. Regressão LASSO ",
" ",
"Utilizaremos a técnica *Least Absolute Shrinkage and Selection Operator - LASSO* para selecionar as variáveis explicativas utilizando um parâmetro de regularização $\alpha = 0.13$."
]
},
{
cell_type: "markdown",
metadata: { },
source: [
"### 3.1 LASSO: Ajustando o Modelo "
]
},
{
cell_type: "code",
execution_count: 52,
metadata: { },
outputs: [
{
data: {
text/html: [
"<div> ",
"<style> ",
" .dataframe thead tr:only-child th { ",
" text-align: right; ",
" } ",
" ",
" .dataframe thead th { ",
" text-align: left; ",
" } ",
" ",
" .dataframe tbody tr th { ",
" vertical-align: top; ",
" } ",
"</style> ",
"<table border="1" class="dataframe"> ",
" <thead> ",
" <tr style="text-align: right;"> ",
" <th></th> ",
" <th>Intercept</th> ",
" <th>CRIM</th> ",
" <th>ZN</th> ",
" <th>INDUS</th> ",
" <th>CHAS</th> ",
" <th>NOX</th> ",
" <th>RM</th> ",
" <th>AGE</th> ",
" <th>DIS</th> ",
" <th>RAD</th> ",
" <th>TAX</th> ",
" <th>PTRATIO</th> ",
" <th>B</th> ",
" <th>LSTAT</th> ",
" </tr> ",
" </thead> ",
" <tbody> ",
" <tr> ",
" <th>LASSO</th> ",
" <td>22.5</td> ",
" <td>-0.537</td> ",
" <td>0.596</td> ",
" <td>-0.0366</td> ",
" <td>0.65</td> ",
" <td>-1.43</td> ",
" <td>2.87</td> ",
" <td>-0</td> ",
" <td>-2.21</td> ",
" <td>0.755</td> ",
" <td>-0.479</td> ",
" <td>-1.88</td> ",
" <td>0.74</td> ",
" <td>-3.73</td> ",
" </tr> ",
" </tbody> ",
"</table> ",
"</div>"
],
text/plain: [
" Intercept CRIM ZN INDUS CHAS NOX RM AGE DIS RAD \ ",
"LASSO 22.5 -0.537 0.596 -0.0366 0.65 -1.43 2.87 -0 -2.21 0.755 ",
" ",
" TAX PTRATIO B LSTAT ",
"LASSO -0.479 -1.88 0.74 -3.73 "
]
},
execution_count: 52,
metadata: { },
output_type: "execute_result"
}
],
source: [
"# ## Regressão LASSO ",
"# ",
"# In[8]: ",
"from sklearn.linear_model import Lasso ",
" ",
"alpha = 0.13 ",
" ",
"las = Lasso(alpha=alpha) ",
"las.fit(x, y) ",
" ",
"# Apresentamos abaixo os coeficientes calculados. ",
"coef_df1 = pd.DataFrame(index=np.append(['Intercept'], boston.feature_names)) ",
"coef_df1['LASSO'] = np.append([las.intercept_], las.coef_) ",
"coef_df1.T"
]
},
{
cell_type: "markdown",
metadata: {
collapsed: true
},
source: [
"### 3.2 LASSO: Calculando estatística de ajuste"
]
},
{
cell_type: "code",
execution_count: 53,
metadata: { },
outputs: [
{
data: {
text/html: [
"<div> ",
"<style> ",
" .dataframe thead tr:only-child th { ",
" text-align: right; ",
" } ",
" ",
" .dataframe thead th { ",
" text-align: left; ",
" } ",
" ",
" .dataframe tbody tr th { ",
" vertical-align: top; ",
" } ",
"</style> ",
"<table border="1" class="dataframe"> ",
" <thead> ",
" <tr style="text-align: right;"> ",
" <th></th> ",
" <th>OLS</th> ",
" <th>OLS - CV</th> ",
" <th>LASSO</th> ",
" </tr> ",
" </thead> ",
" <tbody> ",
" <tr> ",
" <th>MSE</th> ",
" <td>21.9</td> ",
" <td>37.2</td> ",
" <td>22.7</td> ",
" </tr> ",
" <tr> ",
" <th>R²</th> ",
" <td>0.741</td> ",
" <td>0.56</td> ",
" <td>0.732</td> ",
" </tr> ",
" </tbody> ",
"</table> ",
"</div>"
],
text/plain: [
" OLS OLS - CV LASSO ",
"MSE 21.9 37.2 22.7 ",
"R² 0.741 0.56 0.732"
]
},
execution_count: 53,
metadata: { },
output_type: "execute_result"
}
],
source: [
"mse_lasso = mean_squared_error(y, las.predict(x)) ",
"r2_lasso = r2_score(y, las.predict(x)) ",
" ",
"result_df['LASSO'] = [mse_lasso, r2_lasso] ",
"result_df"
]
},
{
cell_type: "markdown",
metadata: {
collapsed: true
},
source: [
"### 3.3 LASSO: Gráfico Real X Previsto"
]
},
{
cell_type: "code",
execution_count: 54,
metadata: { },
outputs: [
{
data: {
image/png: "iVBORw0KGgoAAAANSUhEUgAAAYIAAAEKCAYAAAAfGVI8AAAABHNCSVQICAgIfAhkiAAAAAlwSFlz AAALEgAACxIB0t1+/AAAADl0RVh0U29mdHdhcmUAbWF0cGxvdGxpYiB2ZXJzaW9uIDIuMS4wLCBo dHRwOi8vbWF0cGxvdGxpYi5vcmcvpW3flQAAIABJREFUeJztnXl8VOX1/98nYSAJW4IEhbiAiiiI goBaqQtq3XDBulCrdaNau4uKorUCliqWn7XfLlqtS7GigFUjahVbARcEBAyLC4iooAEFJGFLgEly fn/MTJhM7p25k8yWzHm/Xr6Yubl37sl18pznOc85nyOqimEYhpG95KTbAMMwDCO9mCMwDMPIcswR GIZhZDnmCAzDMLIccwSGYRhZjjkCwzCMLMccgWEYRpZjjsAwDCPLMUdgGIaR5bRJtwFe6Nq1q/bs 2TPdZhiGYbQolixZsllVi2Od1yIcQc+ePVm8eHG6zTAMw2hRiMhaL+dZaMgwDCPLMUdgGIaR5Zgj MAzDyHLMERiGYWQ55ggMwzCynKRmDYnIF8B2oBaoUdXBItIFmA70BL4ALlXVimTaYRiGYbiTihXB MFUdoKqDg+/HAm+oam/gjeB7wzAMI02kIzR0ATAl+HoKMCINNhiGYWQ0H330Ebfccgt1dXVJv1ey HYECr4vIEhG5PnhsX1XdABD8t5vThSJyvYgsFpHFmzZtSrKZhmEYmcGGDRu4/vrr6d+/P//4xz9Y vXp10u+ZbEcwVFWPAc4Gfi4iJ3m9UFUfUdXBqjq4uDhmhbRhGEaLZseOHYwfP57evXvzz3/+k1/+ 8pesWbOGPn36JP3eSd0sVtX1wX83isgLwLHANyLSXVU3iEh3YGMybTAMw8hkampqeOyxxxg3bhzf fPMNl156Kffccw+HHHJIymxI2opARNqLSMfQa+AM4ANgJnBV8LSrgBeTZYNhGEamoqq89NJLHHXU Udxwww307t2bBQsWMH369JQ6AUjuimBf4AURCd3naVV9TUQWATNEZBSwDrgkiTYYhmFkHIsWLWLM mDG8+eab9OnTh9LSUs4//3yC42XKSZojUNXPgKMdjn8LnJas+xqGYWQqn332Gb/5zW+YNm0a3bp1 48EHH+THP/4xPp8vrXa1CBlqwzCMlsyWLVuYOHEif/3rX2nTpg2//e1vGTNmDB07dky3aYA5AsMw jKSxa9cu/vKXv3DPPfewbds2rrnmGu6++2569OiRbtMaYFpDhmEYCaauro6pU6dy+OGHc+utt3LC CSewbNkyHn300YxzAmCOwDAMI6HMnj2bIUOGcMUVV9ClSxfeeOMNXnnlFY488sh0m+aKOQLDMIwE 8OGHHzJ8+HBOO+00Nm/ezL/+9S8WL17Mqaeemm7TYmKOwDAMoxmsX7+e6667jqOOOop58+bxhz/8 gVWrVnHFFVeQk9MyhljbLDYMw2gC27dvZ/Lkydx///34/X5+9atfceedd7LPPvuk27S4MUdgGIYR BzU1NTz66KOMGzeOjRs3MnLkSO655x4OPvjgdJvWZMwRGIZheEBVmTlzJrfddhurVq3ixBNP5KWX XuLYY49Nt2nNpmUEsAzDMNLIwoULOfnkkxkxYgQiwosvvsibb77ZKpwAmCMwDMNw5bPPPmPkyJEc f/zxrFq1ioceeogVK1akVRcoGVhoyDAMI4Jvv/2WiRMn8re//Q2fz8ddd93FLbfckjGSEInGHIFh GEaQXbt28ec//5l77rmH7du3c+211zJhwoSMrAZOJOYIDMPIekKSEHfeeSfr1q1j+PDh3HffffTr 1y/dpqUE2yMwDCOreeONNxg8eDBXXnklXbt2Zfbs2bz88stZ4wTAHIFhGFnKBx98wDnnnMPpp5/O li1bmDp1KosWLWLYsGHpNi3lmCMwDCOrKC8vZ9SoURx99NHMnz+fyZMns3LlSn74wx+2GEmIRGN7 BIZhZAXbt2/nD3/4A/fffz+1tbXceOON/OY3v6FLly7pNq0RpWXlTJ61ivWV1fQozGfMmX0YMbAk afczR2AYRqvG7/fzj3/8g/Hjx7Np0yYuu+wyfv/739OrV690m+ZIaVk5tz+/gmp/LQDlldXc/vwK gKQ5g+xcBxmG0epRVUpLSznyyCP5+c9/Tt++fXnvvfd4+umnM9YJAEyetareCYSo9tcyedaqpN3T HIFhGK2OBQsWcNJJJ3HhhReSm5vLzJkzmTNnDkOGDEm3aTEpr6yO63giMEdgGEarYc2aNVx66aV8 5zvfYfXq1Tz88MMsX76c8847r8VIQuS4mOl2PBHYHoFhGC2ezZs387vf/Y6HHnoIn8/HuHHjuOWW W+jQoUO6TYubOo3veCIwR2AYRoulurq6XhJix44d/PjHP2b8+PF079493aa1KCw0ZBhGi6Ouro4n n3ySPn36MHbsWE4++WRWrFjBww8/3OKdQGG+L67jicAcgWEYLYr//e9/DBo0iKuuuop9992XOXPm MHPmTPr27Ztu0xLC+POdpS3cjicCcwSGYbQIli9fzllnncX3vvc9Kisrefrpp1m4cCGnnHJKuk1L KIvXbonreCIwR2AYRkZTXl7Otddey4ABA3jvvfe4//77WblyJZdddlmLlYQoLStn6KTZ9Br7CkMn zaa0rLz+Z88s/NLxGrfjiSDpm8UikgssBspV9VwR6QVMA7oA7wM/UtU9ybbDMIyWxbZt27jvvvt4 4IEHqK2t5aabbuI3v/kNRUVF6TatWcSqHK5V5/Qgt+OJIBXu9NfAx2Hv7wMeUNXeQAUwKgU2GIbR QvD7/fztb3/j0EMP5Z577uHCCy9k5cqV/L//9/9ahRO4ecayqJXDuS71Dm7HE0FSHYGI7A8MBx4N vhfgVODfwVOmACOSaYNhGC0DVeX555+nX79+/OIXv6Bfv34sWrSIqVOnZrQkhFdCKwG3mf36YOXw 8Qc7Ozu344kg2aGhPwG3AqFGn/sAlapaE3z/FeCooiQi1wPXAxx44IFJNtMwjHQyf/58xowZw7x5 8+jbty8vv/wy55xzTkZVAzdXEdRJQyicHoX5AHzxrbOUhNvxRJC0FYGInAtsVNUl4YcdTnV0j6r6 iKoOVtXBxcXFSbHRMIz0snr1ai6++GJOOOEE1qxZwyOPPMKyZcsYPnx4xjmB259fQXllNcreuH74 Jm8s1kfRCsr35TLmzD5A69MaGgqcLyJfENgcPpXACqFQREIrkf2B9Um0wTCMDGTz5s386le/om/f vrz22mtMmDCB1atXc91119GmTeYJHiRCETQ0448kV4R7v98/qf0GYpE0R6Cqt6vq/qraE/gBMFtV LwfmABcHT7sKeDFZNhiGkVlUV1dz7733csghh/Dggw8yatQoPv30U+66666k6gJFS9f0gttsPtos P5IxZ/Yh35fb4Fi+L5f7Lz06rU4A0lNHcBtwk4h8SmDP4LE02GAYRgqpra1lypQpHHbYYdxxxx2c csoprFixgr///e/st99+Sb13IsI6brN5t+NOjBhYwr3f709JYT4ClBTmO64E0pE1lJI1mKrOBeYG X38GHJuK+xqGkX5ef/11br31VpYtW8aQIUN46qmnOPnkk5v1mfFs3EYL63idiY85s0+D3H9oGNf3 yoiBJTHvedlxB/DUgnWOx5NF5gXjDCOMVPduNRLHsmXLuPXWW3n99dfp1asX06ZN45JLLml2NXC8 rRy9hnUiv2vDDi9mzspN9e8vGlTS4H2yvosTR/Tn8007mLdmr6TE0EO6MHFE/4TfK4Q5AiNjSUfv VqP5fPXVV9x55508+eSTFBYW8sc//pGf/exntGvXLiGfH+8Mv0dhvmPGTXhYx+m7Fj4rL6+s5rkl 5SnZ1C0tK+f9dVsbHHt/3VZKy8qtZ7GRfaSjd6vRdLZu3codd9xB7969mTZtGrfccgtr1qxh9OjR CXMC4D7DL6+sdtwMdtukDQ/rxMrxh9R999LxvbcVgZGxJCJTw0g+e/bs4eGHH+bOu8azrXIL7fue Qp9zr+eEH5yUFEkItxk+0GAzGBrG5KOFGL1+p5rz3fMa5kxHHYE5AiNj8bKkN9JHSBJi7NixfPrp pxT0PJr9LriLdvsdyreQtDCe08ZtJJGholibtNGcS+R5TSGeMGeuiKMMRYvVGjKM5uBlSW+kh3ff fZehQ4dy8cUX065dO4646h66XjqRdvsdWn9OssIZkWmYbqyvrPZcP+D0XYukOd+9eMI96VAftRWB kbF4WdIbjUlmptXq1asZO3Yszz//PN27d+fRRx/lqquuovedsxwH5VAoJdE2hc/wh06a7Tib75zv c52FQ+Pv1b3f7x81a6g5NscT5ixxWZ2UJHElbI7AyGi85F0be0lWptWmTZu4++67+fvf/05eXh53 3303N910E+3btweih/GSnf3lluMvguMsfMJLH7LLX9fInnu/3595Y09ttj1OxBPmTFTNQjxYaMgw WhGJzjiZ/u6nHHTmKPbd/yD++uCDnH7hD/n000/57W9/W+8EIHoYL9lZMG4Vu5VVfsfzK6r8Kc/K iSfM6bUCOZHYisAwWhGJyrSqra3lxt/9H3//4z3UbP+W/N7HU3TyVXyxX0/mr69hxL4Nz48Wxhs9 fWlCbIqG08px8qxVcWXaJDMbLdPDnOYIDKMV0dRMq/AYfv7GD6h+ZwpfrP6Ytt0PY9/zxpB3wJFA 9MIttzBeurK/vGQXNdeeePY+vIY501FIaY7AMFooToPQmDP7MObZZfjr9maY+HKkUQgi/NrO+T52 7qlh5/o1VMx9gl1flOEr3I+u599GweHfbdQXoLyymqGTZnue0aYj5g2NZ+HRcm6aYk+yBuxEaCPF izkCw2iBuA1CFw0qadz+SaJfu/mbcirffoqdH8whJ68DRaddR8cB59DG19Y1ZTGeQS+dYREv2UVN 7QeQrAE7HYWU5ggMowXiNgg9s/DLRoO3v1YbDE6ha+t272Tr/GfZtjjQEqTTcd+n8/GXkJMX6AtQ q0q+L9c1tBLPoJcJ2V9uK5OmbsQma8BORyjNHIFhpJGm5te7DTbRZvC9xr5Cj8J8vvp2G9vLXmXr u9Ooq95G+37DKDzxR7Tp3K3BNSVBe6JtuiZilpoqhdlEr0ySNWCnI5RmjsAw0kRzYsxug5Dg0gQc qFPlkwX/pfLNKdRUbiDvoKMpGnYtbfc9pNG5oX2F0Ex+4N2vU+GQjtncQS/VG6OJXJkka8AeMbCE xWu31K/uckW4aFByV1TmCAwjTcTKr482c3UahHw5Qh1QW9fYFez66iMq5jzGnvWr8HU9iG4Xjyfv 4EHuDeLDDpeWlbNjV02jU3y5jTeh4yXeOHsm9adI1t5HaVk5zy0pr1/d1ary3JJyBh/UJb2bxSJy NHBi8O3bqrosKdYYRhYRTU451izZaRCq2lPTaNbu//YrKt6aQvUn88nt0IV9zv4V7Y88DcnJpajA 5zjLh8C+ws0zltXfw+/gXNq3bdPsgSmeOHsm9qdIxt5HRmYNicivgeuA54OHnhKRR1T1L0mxyDCy BLfwTq6IqzRCKF4fUqgsKczngZEDGDGwhF5jX6k/v3ZnJZXznmHH0lcRXzsKT/wRHQdfQE7bPGBv /D8y1TScWtWoefhbq52dSDyz9nji7OkYINNBpmYNjQKOU9WdACJyHzAfMEdgZBWJDks4hXcE9w3f iip//Qw+dE55ZTVjng3M3HsU5vPlpgq2LSpl28LnUP9uOgw4m8Khl5HbvrD+c8KlH9ycQIhqf62r LHJIRyhSqO25JeWeZ+3xxNmzpT9FOrKGvGgNCRDuhmtpnKlsGK2aUFiiPFiYFBrg3GSNvTBiYAkX DSpp8MekxP/H5a9TxpUuZ2B1Gesf+Qlb336KvIOOpseoB9nnjJ82cALhujVeB9BQGmk4+b5chh1e 3OiZTF2wLi4dn3h0ddwGwtbWnyId8uteVgRPAAtF5IXg+xHAY0mzyDAyjNKycm6esazRrNhLWMJt FRE67jTzCzkDL+rzqsquz5awfu4TLN+8lrySw+l6wa3k7d+vwXkC9SGkEF6bsYSnkYb/Hk6hGjeb ozkdr3H2dFUop5p0FODFdASq+kcRmQt8l8D36RpVLUuaRYaRQYRWAm7hGrdNzdAgHz6gh1YRi9du aRA+cUIh6mYuwJ5v1lAx53F2rV1Gm8LujPnD35m+ucQxE0hpHJrxosUTGmidBusbXcTknEjErD3T hdsSSaoL8FwdgYh0CXv7RfC/+p+p6pbkmWUYmUGspuaRA1xkZkuk+3Cr/o2kqMDHLn+d489qtm2k 8q1/sfPDueTkd6TotOs54ITzmVebj4jzzNupqYnTwBrZjGXY4cVMnrWK0dOXNlrReCWRs/Z4hNta ssNItf2iLl9IEfmcvavUA4GK4OtCYJ2q9kqaVREMHjxYFy9enKrbGUY9vca+4hruCM32S8L+UN30 bOIh35dLuzY5VEZk5dTt2sHWBc+ybfFMADoNvoDOx19MTl4H2rfNZeced4f1p4iwkBcinVrItosG lcRc0ZQU5qdtEHazO9ma/okikfaLyBJVHRzrPNcVQWigF5G/AzNV9T/B92cDp8dljWGkiFgzqXhn WtHi6JEhH2h+BksodTR8ENBaP9vf/09AEmLXDtofOYzCE6+gTae9khDRnEBRga9JxVnx6BmFU1KY n7ROX15o6WmmGVlHAAxR1RtCb1T1VRH5XVKsMYxmEKvgqCkFSW4pnk4hn8mzVnnegHUiN0caVAWr KlUr36HyrSnUVH5N3kEDgpIQB3v+TAHGndev0XGnZzF6+lIWr93CxBH9gfj1jCAzNm9bepppptYR bBaRO4GnCHz/rwC+TZpFhtFE3GZSN05fyuRZq6jaUxP3TMspju420JdXVlNU4Guy/eFOYNeXH1Ax 53H2bPgEX3FPul0ygbxex7hLQrjgtEkMzs9KgacWrOPlZRvYWu0nx6V+wK2uoKlyzokmXY1wEkWm 1hFcBhQDLwClQLfgsaiISJ6IvCciy0TkQxGZEDzeS0QWishqEZkuIm2b8wsYRohoM6byymrXDJxY M60RA0uYN/ZUPp80nHljT3XceIXA7Dtalo8X/N9+ycbnJ/LN02Op3f4t+5z9a7pf/X/kR9MFioKb rdF+58pqP4rzzD/fl8tlxx3gmOd+/6VHp90JQHry8BNJRtYRBLODft2Ez94NnKqqO0TEB7wjIq8C NwEPqOq04P7DKOChJny+YTSgqWGZeGdabmmXXvL+3ajdWUHlO0+zY9msgCTESVfScfD55PjymvyZ 0QaPeJ5Vrgh1qg32EQYf1CVjs3JaepppOux3zRqqP0GkGLgV6AfUfytV1fNukIgUAO8APwVeAfZT 1RoR+Q4wXlXPjHa9ZQ0ZXrizdAVTF6yLa0BuajaGW61AvNTt2cW2RS+w7b3n0Zo9dBxwFp1PaCgJ 4Ua0OoOSGINHaVk5o6cv9WS3AJ9PGu7hTCPTaHbWUBhTgenAucANwFXAJo9G5AJLgEOBvwFrgEpV DWnafgW0DDdtZDQh6d5YA1thvo/27drUC7eFyx/E4wxC+exe0kWdYupaV8uOFf9j6ztTqd2xheNP PZt1h4zA18WbDaGQj5Mj8JK1E9K89+I4W0ps3Wg6XvYI9lHVxwC/qr6pqtcCx3v5cFWtVdUBwP7A scARTqc5XSsi14vIYhFZvGmTJ79jZAGlZeUMnTSbXmNfYeik2fWFTbEKvyAw+x9/fr/6GGy4cFtT dYOixdrzfbn8aeQA7r/0aHKD8X1VpXrNIjY88Uu2vPYXCrrsxzvvvMP8N/5Dz4MP9XTPUMgnWnaJ 23MKZ+KI/jwwckC9zk9RgQ9fTsN9iJYUWzeajpfQ0AJVPV5EZgF/BtYD/1bVxm2Non/OOKAKuA0L DRlNwKnQBkAEYnyN63HLeIGm5b+7rQhEoHOej8pqf33oaPfXn1I593F2rV1Om6LudDv1Wq6+/FLm rtrM+spqOuf72L67xrGxTIjCfB/jz+8XdTUSqkpuSkFSS6/INRqSyNDQRBHpDNxMQHq6EzDagwHF BFYRlSKST6AI7T5gDnAxMI1AmOlFDzYYhuus36sTgOg58E3J03bdOFbqK4P9WzdS+daT7PxoLjn5 nSg6/ScUDjybH55wcIMK3cpqP74cIS9KlXD7dnubwbiJsKnS5IIkJwkHcw6tHy9ZQy8HX24FhsXx 2d2BKcF9ghxghqq+LCIfAdNEZCJQhimZGjGIptSZSJxi4bEGwdDrCS992CheX7trB9vmz2DbkpmI 5NDp+EsCkhDt2qPAnJWbGg3Y/jqlW0FbqvZUO8ZMw52VW3bJaBcxuKY4ukzsCmYknmiic38hSjKE qv4q2ger6nJgoMPxzwjsFxhGTNzCQYnGKRYemYUUbRAMF4jTGj/by15h67vTg5IQpwYlIYrrz+kR 1OJxIlrhWqSzcprBuznNpmz6tnS5BsMb0TaLFxPI+HH7zzCSjpdN4ERw0aCGA2ppWbljRo1Tk5WQ jarKzo/eZP2jN1Ax+1Ha7nco3a/5P7oOH93ACYScTrRGK80pKkpkQVJLl2swvBFNdG5KKg0xDCeS HQ4K8cL75fUaOxAY3N2Ww+WV1fQa+0r9gL2+sjooCfEYezasDkhCXHo3+b2OaXRtZH6/W6OV5hQV JbIgqaXLNRje8NK8fg4OIaJ4CsoMo6lEy/JJJJGbs7FmvKHWjDc98gpbZj/Btk8WkNuxK/ucM5r2 /U5BcnIbXROZlRRrwG5Oc5JENTbJlq5g2Y6XrKFbwl7nARcBNS7nGkZCSYUTcCKWBEPtjgoq501l x7LXyWmbR/Gwq8kbeB45vnau1zg5l1R3ooqXli7XYHjDS9ZQ5H7APBF5M0n2GEYD4qkRaNZ9It6H sm8ib123p5pt7wUlIWr9dDxmOIUn/IA/X3Ny/WDpptrZUsMpme6sjObjJTQU3rIyBxgE7Jc0iwwj jFQtCAra5lJaVt4gLBMuwaB1texY/t+AJMTOCgoOO4HCk6/C16WEksL8BoOlW4eplhpOsTqC1o+X 0NAS9rasrAE+J6AYahithp17ahulhg4+qAsvL1vP+hXvUjn3n/i/XUfe/kdQfOEdtCsJqKU4DfDR wiktbVC1OoLswEtoKGW9iQ0jnYTnx5eWlXPjX5/j6/89yu51K2hT1IOSi+/kqh9eUi8JEW0gd6vQ bWmDqtURZAdeQkM/B6aqamXwfRFwmao+mGzjjJZBc2a5bteGjqea9ZXVfPHFF1x3zSg2L5tNTn4n unzvBjocfRaS24a5qzZ70iNy+r3cBtWbZyxj9PSlGblCsDqC7MBLaOg6Vf1b6I2qVojIdYA5ghZE skISzZnlul27eO0Wpi/6En9tajOGanftoO795+jzwIv466DTdy6l83EXk9OuoP4cLwOg2+/lVhgX qYIKmbNCsDqC7MCLI8gREdGgTGlQO8jaS7Yg4hms43UYzQkduF379MJ1RBHgTDha42f7+y+xdf4M 6nbv5Jqrr2b5vmeyWTs0Ojc0AEY+p2GHFzNn5SbXrKFqf62nmohMC7tYHUF6SPVekhdHMAuYEWwr qQSa07yWNIuMhON1sG7K7D6WJn60L7PbtalyAqp1VH38NhVvPUnt1m/I63UMfc67gfOvPoeylz6E CBG50ADo9JyeWrCu/jy3wb5WlXxfbkzJjKaGXZIxeFgdQepJx16SF0dwG/ATAm0mBXgdeDQp1hhJ wWuctymze7fQgQjcGKaC6fRlbmqP4USwa91yKuY8wZ6vV+PrdjD7XPo78nsNpJLGsg8h8nwBaa6m 6h+F5CVunrEs6sqgKWGXZA4eVkeQWtKxQR+zQ5mq1qnqQ6p6sapepKoPq2ryVcCMhBFN3CycpmwM OgmcgfOsPlKwbdjhxY1PSjJ7Nq9j478n8M0zd1C7s5J9ho+m+9V/Ir9XQCg31L7SiYoqP7c/v6JJ zitcQ6guihNoatgl2uBhtCzSsUEfTYZ6BdFlqI9KikVGwvEa523KxmBk6MCtqjZE+Jd5zsrUtSCt 2bGFre9MZcfy/yK+PApPvpqOgxpKQngJ23iN9UPAqdSpNgqnuD3nXBFPXcScsOye1kM6NuijhYbO TdpdjZTiNc7r5DCEQJhh6KTZnnLme419JaotnfN99a9TERYKSEI8z7b3XqiXhOh8wg/ILejc4LzQ IOylAY6XWL9ba8jSsnJ27m4s1eW1laQblt3Tehh2eHGDPafw48kimgz12qTd1Ug5XuK84Q6jvLK6 vtcueI85x4r7V1b7OeT2/yRdTK6RJESf71J48pX4ino4nl+n6ioNHUlJWF2AU9aQm6N1a7JTVOBj 3Hn9mhX/teye1oPbSjmZK2gvBWXHE+hVfASBtNFcYKeqdkqaVUbaCDkMp8boXjas3GYz4STTCagq 1WveC0pCfEm7kr4UX/gb2pUcHvW60Mw5mjOEhrH+eAdut03mgrZtErKhG7qHZfe0bDJqjyCMvwI/ AJ4FBgNXAocmzSIjI2jKl7G0rJznlpQny6SY7N7wCRVzHmf3lx/QpksJxRfeQX7v7yASqS3akByh wcw5UkAuUYNrsv/ALbundZBpewT1qOqnIpIbzBZ6QkTeTZpFRkYIk7l9GRUYMOF1RKCyyt/AvlS1 lYzEX/k1lW89SdXHb5FT0Jku3/spHY4+E8n19PWmTmHx2i2eNYOaisXxDS+kI8wXM30UqBKRtsBS EfmDiIwG2ifNoiwnFEcur6yu74J1+/MrKC1L7UzbLS0UAnH+iip/I/tSnaFSW72dLbMfZf2jN1C9 eiGdvjOSkuv/Qcdjhnt2AiGeWfhlkqzcSyJ7CRutlxEDS7hoUAm5wZVsrkijntqJxstfy48IOIxf AKOBAwh0KTOSQKaoPUbGyqMRsi9VBWJas4dtS15m2/zp1O2uon3/0yk88XLadOwK0Ciu74VUdEKz OL7hhVCINfSdrFXluSXlDD6oS+ori0WkGChW1Y+Ch3YBE0TkSGBrUqwxUrZR5CX8FAqL9Br7SsyB dX1lNZcff2DMjeLmEJCEeIuKN5+kdttG8g4eRNEp19C2uGfD84ACXw5V/jrPn50bYx8hUVgc34hF OiaD0VYEfwEecjheAtwB/DCimzu5AAAfT0lEQVQpFmU5qYgjxytH4GWm36MwP6npbbvWLqdi7uPs +frTgCTE2b8iv+cA1/P9tcoVxx/InJWbPK1SLjvugEbHMmGvxsg+0pE1FG2PoL+qNupNrKqzAKsq ThKpiCPHK0cQbb8g3L5kfFH3bFobkISYdge1O7eyz/CbApIQUZwAgL9OmbNyE/PGntqoH3E4OQJX HH8gE0f0b3A8U/ZqjOzDqyRMIonmCHxN/JnRDEYMLOHe7/enpDAfIVC81JyK00hKy8pdZ8ihCuLI wS7SpsJ8H0UFvkb2tfGSeuCRmh1b+PbVP7PhiV+y66uPKDzlakquf5gOR56KiLcbhRyT2x9QUYGP z+4d3sgJgGn3GOkjHUkF0UJDq0XkHFX9T/hBETkb+CxpFhlJiyOHZrnRKK+sZvT0pTy7eB1ffFtN eWV1vbZOSWE+D4wc0Ei6evKsVQ2URptD3e4qtr33AtsWPY/W1tJx0Hl0PmEkufnx1y+GHIBTkZsv Rxh3Xj/Xa027x0gX6UgqiOYIRgMvi8ilBBrYQ6Cg7DuYDlGLxGuevwLz1mypfx/eQWvMv5cB1LeT jCXH4BWtq2XHsllUznuaup2VFBx+IoUnXYmvqHuTPs+XI/W9A6a/1zg1NNY2suX8G+kk1UkFrmts Vf0E6A+8CfQM/vcmcFTwZ1ERkQNEZI6IfCwiH4rIr4PHu4jIf0VkdfDfokT8IkZsEjGb9dcqE176 EGi6Ln84qkrV6gWsf+znbHn9QXxFPdjvR/dTfMFtTXYCAJMvObq+yM3voIldW6dRwzyW829kE1Hr CFR1N/BEEz+7BrhZVd8XkY7AEhH5L3A18IaqThKRscBYAs1vDI80NZslUXn+FVV+esZQGfXC7vWr qJj7RFASYn+Kv38n+YceF1MSAgJ7E266Rlccf2D984jm/KL9zG15DjB00mzLJDJaFfGVX8aBqm4A NgRfbxeRjwmknl4AnBI8bQowF3MEnnFK/QyP6bsNUG7yx74ccZwxJxN/5ddUvjmFqpVvk1NQSJcz fkaHo86Iqxq4vLK6fpP3mYVfUqtKrgiXHXdAg83faM4vVpgncnmejhaChpEKkuYIwhGRnsBAYCGw b9BJoKobRKRbKmxoLTiFYyJj+pEDlFssv8CXwz3fP4rFa7cwdcG6uKtx46W2ehtb353O9vdfQXJz 6XzCD+h07PfJaVcQ92cJgYF54oj+jlk/Icac2Ycxzy5r5Ox8uRJ3mMctk+jmGXv3TQyjJeIpD09E 2orIkcH/4kodFZEOwHPAjaq6LY7rrheRxSKyeNOm1HWyynS8xvnDUx3dYvnVwcrbiSP688DIARTm JycrWGv2sHXhc5Q/fB3bl7xEhyNPpcd1j1B44hVNcgIQcH43Tl/qmO4azoiBJUy+5OgGv1tRgY/J Fx8d98Dt9uxrVRk9fSk9x74S0x7DyES89CM4hUAI5wsCE7EDROQqVX3Lw7U+Ak5gqqo+Hzz8jYh0 D64GugMbna5V1UeARwAGDx6c2thFBhNPnD80cLkNYAoNytZ313iXZPCCah07P3qTyreepHbbJvIP HkzhKVc3koQIZ+ghXXh/3VbPm9BewjOJysCI9uzjbeBjGJmElxXB/cAZqnqyqp4EnAk8EOsiCez4 PQZ8rKp/DPvRTOCq4OurgBfjMzn7KC0rZ+ik2fQa+wpVexrH+aPRM4ZOUMhJJFpCunrtMr6eMppv X76f3PxOdPvB7+l2yfioTgDg3TVbuGhQSYOCulgrlVQVesWqsE61PYaRKLzsEfhUtf5braqfeAwP DSWgXLpCRELVRncAk4AZIjIKWAdcEqfNrQKvmT+R8f2KKj+5OUKthw1eL8uoHoX5UauNQ+QQO/ce YM+mL6iY+wS7PltCbqdi9jn3Ztr3PdlzNbBCvTRECC/1Cqko9Ar9/7l5xrKYaqVWeGa0JLw4gsUi 8hjwr+D7y9lbYOaKqr4DrjIvp3kzr3UST/aJ00y9tk4pKvBR0LZNg565Ly/bQGW137MdAhS0zYlZ FTz0kC4NNqOdqNm+ma3vPM2OFf9D2uZTeMo1dBp0HtKmrWd7QkQOol4ksVNV6OW1r7EVnhktCS+O 4KfAz4FfERg73gIeTKZRrR0vMrOhFYPbwFdR5afsrjMaHJuzclNcjkCB1Rt3xjzvvc8rXH9Wt7uK bQufY9uiUrSueZIQIdo6iBaF4vx3lq5olOGU6kIvr32NDaOl4MURtAH+LxTnF5FcoF1SrUozyZIf jjW4h2bCXkIhORFrLS/hnabiVGegtTV7JSGqtlJwxEkBSYjC/Zp9v901ddxZusJREfS5JeUNBl2B pHdvciJZfY0NIx2Ixoh1isgC4HRV3RF83wF4XVVPSIF9QCBraPHixSm5l9MgnO/LbbYCqJfBvaQw n3ljT2XopNmeBvWiAl+9cFqiNH9ioapUr15AxZtTqNnyFe0OOJKiU66hXY/EzoBzRVhz7zkNjrk9 l1wR6lRtEDaMCERkiaoOjnWelxVBXsgJAKjqDhFpWvJ3CyBZ3YFiZeWEhxO8bjRWVPkTpvrphd3l K6mY+zi7v/ooKAnxW/IPPdaTJES8OG3GRsvjh71V1ovXbolaZGYYRkO8OIKdInKMqr4PICKDgFab EpEs+eFo15dEzGRT1fvXK/6KDQFJiFXvkNO+kC5n/jwgCZETO5WyqTi1jvTyXBSYumBdUvu7GkZr w4sjuBF4VkTWB993B0Ymz6T0kgz54dKycnKCmv6RhMJBofPcNiBTRVGBj+FHdWfOyk2sW/91QBKi 7D9BSYjL6HTshU2uBo4Hp9aRY87s4ykEFlkoZxhGdGI6AlVdJCKHA30I7M2tVFXvqSktDKfBpjlZ IKG9AScnEP65kXsICvXOoKjAx45dNUkXhysq8FF21xlMn/8p/3r4GcrnPIPuqabDUd+j89Af0qbj Pkm9P+AoHBciUhHUzbmC5fEbRjx4kZgoAG4CDlLV60Skt4j0UdWXk29e6kl0dyC3vYFckQYb0G5i cqEVQ2lZOeNnfhhXemi8VOzcTddzb6byrX9Ru30T+YcMofDkq2lbfFDS7hlCgM8nDY95XmS2zujp Sx1XTpbHbxje8RIaeoJAAdl3gu+/Ap4FWqUjAG/aNF5TBt1i2rWqDc6PtTcRLY8+EVR/sZSKOY/j 3/gZbfc7lK7DR5N30FExr0tUCKspA/eIgSWOyqmWx28Y8eHFERyiqiNF5DIAVa2WZKSJtCDiqQzO dQlfCA0bnBQW+Kioajzbjxwg56zclFAnsGfj51TM/Se7Pl9CbqdudD3vFgqOOCmmJIQvBxDBX9t8 awSaPHBPHNGfwQd1sTx+w2gGXhzBHhHJJzjxE5FDgN1JtSrDGT/zw6gppuGrBbdhUtm7WiivrMaX I/hyGw6sTjPbRMW+a7ZvpvLtp9i54g1y2hVQNOxaOh5zrqskRGSuvlthnJvjg0APALRhgZoAl4d1 FGsKqe7vahitDS+OYBzwGgH56akExOSuTqZRmUxpWblrnH59ZXWTG7r765TCfB/t27WJOrN1Wzl4 pW53FVsXPsf2RaWo1tJpyAg6fedScvM7ul7jyxE65LWhMuy+0XL68325jX7/wnwf488PFL/FM3u3 ql3DSD5RK4uDIaD9gSrgeAITuAWqujk15gVIZWVxLKJV/ZYEwzhNrQHwsmHa97evUuWPv29AQBLi NSrnPROUhDiZwpN+hK9wPwp8OfhrtdFMXQkM4Dv31DRaqeT5chwdUknYiqG5g3eyqrwNI1tISGWx qqqIlKrqIKD53cpbAdFCM2PO7MPoKJW+QiDmX7WnxtN+gBPxOgFVpfqT+VS8+U9qKtYHJCEuHke7 7oc1+ExfrlCY72Nrtb/B4D100uxGK6Bqfy3t2uQ0mvm7bdIuXrulSY4hWVXehmE0xEtoaIGIDFHV RUm3pgXgVnBWVOALtEV0iZ1HFo5FznQF6LlPfoMN5OaGQXaXf0zFnCfYXf4Rvn0OoPiiu8g/ZIij JIS/Vmnfrg1LxzVUNHVzfFur/TwwckD975srQrW/lvEzP2ywgiivrOapBevqr4ung1eyqrwNw2iI l24hwwg4gzUislxEVojI8mQblqk4danK9+XWi7+5/Tx8pjxiYAkXDSpp0Kwh1IC+PLjBHBowI/vf eukr7K9Yz6bSe/n6qTH4K9fT5cxf0P3av1IQQxfIaYB1W6X0KMxnxMCS+t83tEFcWe2PmUnktYNX tHsbhpE4vKwIzk66FRlKtI1Kt+NeC9K8pIE6hUHGn9/PVWiutmorW9+dFpSE8NF56A8DkhBtvQ2c TgNsrErrpra49DKrT3SVt2EYzrg6AhHJA24ADgVWAI+panwNc1swsWoFmhuj9hrecOrWtXjtlgbh ljr/brYvmcnW+c+i/l10OOoMOn/3h7Tp0KXBtaGsJKfQlS9HHAfYWI6tqWEaL7P6RFd5G4bhTLQV wRTAD7xNYFXQF/h1KozKBNw2Kie89GHUgSmaAwl9biydnHA6B0NBkauTAl8OO3f72fnhXCrf/he1 2zeTf+ixFJ18Db6ujQXb8n25jD+/X32dw83PLmvQ9zjaFnQ0x9cUpdR4ZvWZWiNgaa1Ga8I1fVRE Vqhq/+DrNsB7qnpMKo0LkY700V5jX/FUwRuZzuiWXlqY72N3TV3cYRRfrjByyAE8t6S8wbXVn5dR Mfdx/Bs/p+1+vSkadg15BzaWhAhlKoUPVAPvft0xaykkOhcPThvf4XUHoX7Kc1ZuajWDpqW1Gi2F RKSP1o8UqlqTbaoSXme6kXF8t1CJWxFajkA0UVF/rTYIA+3Z+DkVcx5n1xdl5Hbel67njaHgiBMd JSHCM5XCcStIczsebfabjeEbS2s1WhvRHMHRIrIt+FqA/OB7IVBi0PTu5Gkg3qW8V+17aDj4xxsq 8aosXbMtKAnxwRvk5LWnaNiooCSEcxZRojZVvegqZWr4JllYWqvR2nB1BKqavPZTKSYekbgQTjPd nbtrHGf24RufbpkubpW4sajbvZOtC/7N9sUvolpHp2MvDEhC5HVwvUYgapiiMN/n+HsU5vsaOcyq PTU2+40gGc2LDCOdeEkfbfE0dSkfOdN1iw1H1giE7hm++gDnBvMi4LRNo7V+ti99ja3znqGuehsF fU+m6KQradN535i/7wMjB0T9vcaf348xzy5rICnhyxH69ejYQN8/2somm2e/ltZqtDaywhHEs5RP RDw8WqgksrlMpBMISEK8G5SE2EC7A/tTdMq1tOveO+bv6VXJ0+n3GHZ4cVx9DrJ59puN+yJG6yaq 6Fym0NysIbdMnsjN1FRkg7jZkitC1ZcfsfOdf7J97YcccPBh6JDLyTnoGNdq4HxfDl3at0vIYBRN TK/xfS1DxjBaAgkRnWsteF3KpyIbxGkV4t9SzqY3p1D1ybt0796dH/32D5S1G8D67Xvq9f0jO4El ejCOFuqJlMcedngxk2etYvT0pTYbNoxWQFY4Aq9L+VRkg4RvNNZWbWXrvGfYvvRVctr4mDBhAoed fhkTXl1D9fY9gXOC+v4XDSpJai6+2waoQH0hGjRt4z3VWLGXYcRH0hyBiDwOnAtsVNUjg8e6ANOB nsAXwKWqWpGM+zsNBpE59ZHneGkX2dxBZsyZfbht+iI2zn+BrQueRf27KRx4Fn+cNJFrvjeQoZNm O65K5qzc5FgTkCicVk1Oew6ZnkPfEhyVYWQaXtRHm8o/gbMijo0F3lDV3sAbwfcJJzQYRFPydDpn x66aQDvFMAQYdnix58+NRm1tLZXL/su3T/yUyreeJO/Aoxhw46M88egjXPO9gUD6ctRHDCzh3u/3 p6QwHyGwf/LAyAFMHNHfkx2ZkkUUzVEZhuFM0lYEqvqWiPSMOHwBcErw9RRgLnBbou/tZdbqdI6/ Tsn35VBTq/XxeAWeW1Je3yC9qbPhWbNmceutt7J8+XKOPfZYnn92OieddFKj87w2sU9G+MNLYVim 5dBHPge3De9McVSGkYkkc0XgxL6qugEg+G+3ZNzEy6zV7Zxqf12jFMrQYO92TXllNUMnzXZcGSxb towzzjiDs846i+3btzNt2jQWLFjg6ARKy8rZsauxwKsvt6EyqNeVSWlZOUMnzabX2Fdc7YsXL/0W UoXTc3ATQsnmdFfDiEWqHYFnROR6EVksIos3bdoU17VeGprEOzCEZpxuRA7Gj766iG7HnMGAAQOZ 884Crr15PB9//DEjR450TQedPGtVgyKvEO3btvEcpw9xZ+kKRk9f2uQwlhtOIaR0pZI6PQeFRs7A ir0MIzqpdgTfiEh3gOC/G91OVNVHVHWwqg4uLi6O6yZeZq1u5xQVOGv3hMIvkdeEU+2v5a5n3+Oi a3/B9ed/l03L59Lp2AvZ7/p/8G7+cbz60eaodkdrC+nlvNDx0rJyx+KwRMXKRwwsYd7YU/l80nDm jT01bZuwbs9BISMclWG0FFKdPjoTuAqYFPz3xWTcxEu6aDxSECEnEn5NZCxaa/1sL3uVL9+dxorq bbTvN4zCE39Em86B6JeXvQSv8fdY502etcq1Qrg1xcrdnoOb6qphGM4kM330GQIbw11F5CtgHAEH MENERgHrgEuSdX8vG5/RzokmMzFiYEm9pr+qUrVqHpVvTaGmYgN5Bx1F4SnX0m6/Qxt9ZqxB2Gvh W6zzot2nNcXKTfPHMBJDMrOGLnP50WnJumeiiOVEQpu6u776iIo5j7Fn/Sp8XQ+i28XjyTt4kOse QKxBOB4to2jnRSsOa02DpGn+GEZiyAqtoURzzM1TWPnyw1R/Mp/cDl3o/N0r6ND/NCQnsH9QVOBj l78uqZpF0XDSTAoVh0XWBRiG0XoxraFm4Jajv3HjRiZMmEDZQ39HfO3o/N3L6TTkQnLa5tVfm+/L Zdx5/YD0zVRtpmwYRjzYiiACp9l0O/wM3j6fl/71EFVVVXQdPBzfkEvIbV/U4NpcEe6/9GjXAddr EZhp5RiGkQiyfkXQ1ME0PDdd62rZ+cEbfPX2U3yyYwsXXHABkyZNYmV1x7jlqr1q4JhWjmEYqaZV OoLmDKbrK6tRVXZ9/j4Vc5/Av+kL2nbvQ/H5t3L1LVcwqjTgXAoLfLRrk8PWar8nR+NVniLTRd0M w2h9tEpH0JzBtFPVV3wy8yF2rV1Gm8L96Hr+bRQc/l2KCto2cC4VVX7yfbkx20KG8CrWlumiboZh tD4yVmKiOTRlMF23bh1XXnklK/76U/Zs/Iyi066jx48fov0RJ1LQtg0iNEvV0ovsRTznGYZhJIpW 6QjiGUwrKyu57bbbOOyww5gxYwZjxozhydcWcMTpPyAn11cvUVDpoAgK3mbqpWXl7NwdW0wOMkvU zTCM7KBVhoa8VJzu2bOHhx56iN/97nds2bKFK664gokTJ3LggQcCcPlJfRt8ppOsBMSeqTtlIdXj kLBlqZ+GYaSaVukIog2mqsqzzz7L7bffzmeffcZpp53G5MmTGThwYIPPiMw6GnZ4Mc8tKY9bzsBp vyKEv04d9y28yGMYhmEkilbpCMB5MH3nnXe45ZZbWLhwIUceeSSvvvoqZ555ZiNJCKeso+eWlNf3 DS6vrCZXpMEegdvAHSt0lKhNYKs9MAyjqbTKPYJIVq1axYgRIzjxxBP58ssveeyxx1i6dClnnXWW oy6QW9bRnJWb6mP4tcFCvFg6/7FCR4nYBG5uC03DMLKbVu0IvvnmG372s5/Rr18/Zs+ezcSJE1m9 ejXXXnstubnufQWiZR3F2xM3Wg+DRG0Cu9l084xlCe1OZhhG66TVhoYARo0axWuvvcZPfvITxo0b R7du3jpjRtP7jzc1NbKHQa4ItaqUJDB843bvyFVLuD2GYRghWrXW0Mcff0xOTg59+sQ363bK9AlJ SLhlD6WzGcrQSbNdm7aHYw1bDCO78Ko11KpDQ0cccUTcTgCi9+XNxDz/WC00Q1h1smEYTrTq0FBz cEvhzMQ8/0ibcoLhp0isOtkwDCdadWgoW4kW2rI9AsPIHrJehjpVZGL+fiauWgzDyFzMETSDTO4d YNXJhmF4pVVvFiebeGsKDMMwMhFzBM3AegcYhtEaMEfQDKx3gGEYrQFzBM0gE2sKDMMw4sU2i5uB ZecYhtEaMEfQTLIxOycTU2YNw2g65giMuMjklFnDMJqG7REYcWEps4bR+kiLIxCRs0RklYh8KiJj 02GD0TQsZdYwWh8pdwQikgv8DTgb6AtcJiJ9o19lZAqWMmsYrY90rAiOBT5V1c9UdQ8wDbggDXa0 KkrLyhk6aXbSO5JZyqxhtD7SsVlcAnwZ9v4r4Lg02NFqSOUGrqXMGkbrIx2OoHG3eGikhS0i1wPX Axx44IHJtqlFE20DNxkDdDamzBpGayYdoaGvgAPC3u8PrI88SVUfUdXBqjq4uLg4Zca1RGwD1zCM 5pAOR7AI6C0ivUSkLfADYGYa7Gg12AauYRjNIeWOQFVrgF8As4CPgRmq+mGq7WhN2AauYRjNIS2V xar6H+A/6bh3a8Q2cA3DaA4mMdFKsA1cwzCaiklMGIZhZDnmCAzDMLIccwSGYRhZju0RRGBa+4Zh ZBvmCMIwrX3DMLIRCw2FYVr7hmFkI+YIwjCpBsMwshFzBGGYVINhGNmIOYIwTKrBMIxsxDaLwzCp BsMwshFzBBGYVINhGNmGhYYMwzCyHHMEhmEYWY45AsMwjCzHHIFhGEaWY47AMAwjyxFVTbcNMRGR TcDadNvRTLoCm9NtRAZhz2Mv9iwaYs9jL819FgepanGsk1qEI2gNiMhiVR2cbjsyBXsee7Fn0RB7 HntJ1bOw0JBhGEaWY47AMAwjyzFHkDoeSbcBGYY9j73Ys2iIPY+9pORZ2B6BYRhGlmMrAsMwjCzH HEESEJHHRWSjiHwQdqyLiPxXRFYH/y1Kp42pQkQOEJE5IvKxiHwoIr8OHs/W55EnIu+JyLLg85gQ PN5LRBYGn8d0EWmbbltThYjkikiZiLwcfJ/Nz+ILEVkhIktFZHHwWNL/VswRJId/AmdFHBsLvKGq vYE3gu+zgRrgZlU9Ajge+LmI9CV7n8du4FRVPRoYAJwlIscD9wEPBJ9HBTAqjTamml8DH4e9z+Zn ATBMVQeEpY0m/W/FHEESUNW3gC0Rhy8ApgRfTwFGpNSoNKGqG1T1/eDr7QT+4EvI3uehqroj+NYX /E+BU4F/B49nzfMQkf2B4cCjwfdClj6LKCT9b8UcQerYV1U3QGBwBLql2Z6UIyI9gYHAQrL4eQRD IUuBjcB/gTVAparWBE/5ioCzzAb+BNwK1AXf70P2PgsITApeF5ElInJ98FjS/1asMY2REkSkA/Ac cKOqbgtM/LITVa0FBohIIfACcITTaam1KvWIyLnARlVdIiKnhA47nNrqn0UYQ1V1vYh0A/4rIitT cVNbEaSOb0SkO0Dw341ptidliIiPgBOYqqrPBw9n7fMIoaqVwFwCeyeFIhKamO0PrE+XXSlkKHC+ iHwBTCMQEvoT2fksAFDV9cF/NxKYJBxLCv5WzBGkjpnAVcHXVwEvptGWlBGM+T4GfKyqfwz7UbY+ j+LgSgARyQdOJ7BvMge4OHhaVjwPVb1dVfdX1Z7AD4DZqno5WfgsAESkvYh0DL0GzgA+IAV/K1ZQ lgRE5BngFALKgd8A44BSYAZwILAOuERVIzeUWx0i8l3gbWAFe+PAdxDYJ8jG53EUgQ2/XAITsRmq ereIHExgVtwFKAOuUNXd6bM0tQRDQ7eo6rnZ+iyCv/cLwbdtgKdV9fcisg9J/lsxR2AYhpHlWGjI MAwjyzFHYBiGkeWYIzAMw8hyzBEYhmFkOeYIDMMwshxzBEarRURqgyqOH4jIsyJSkKL79hSR6uC9 PxKRJ4NFdU39vB2xzzKMpmOOwGjNVAdVHI8E9gA3hP9QAiTrb2CNqg4A+hOojr00SfcxjGZjjsDI Ft4GDg3O1j8WkQeB94EDROQMEZkvIu8HVw4dAERkiIi8G+wd8J6IdAz2E3giqBlfJiLDot00qCv0 HkHhtKDg3GQRWSQiy0XkJ8HjHUTkjaANK0TkgqQ+DcMIwxyB0eoJ6tacTaC6GaAP8KSqDgR2AncC p6vqMcBi4KZgM5TpwK+DvQNOB6qBnwOoan/gMmCKiORFuXcecBzwWvDQKGCrqg4BhgDXiUgvYBdw YdCGYcD9ks3KfEZKMfVRozWTH5R7hsCK4DGgB7BWVRcEjx8P9AXmBcfdtsB8As5ig6ouAlDVbVAv mfGX4LGVIrIWOAxYHnHvQ4L37g38W1VDPz8DOEpEQlo6nYPnfAXcIyInEZDiKAH2Bb5OxIMwjGiY IzBaM9XBOH09wcF+Z/gh4L+qelnEeUfhLH/sdZa+RlUHBNUi54rI+ao6M3j9L1V1VsT9rgaKgUGq 6g8qcrquNAwjkVhoyMh2FgBDReRQABEpEJHDgJVADxEZEjzeMRhiegu4PHjsMAJCYKvcPjzYSGQs cHvw0Czgp6EsIhE5LKg02ZmANr8/uO9wUOJ/VcNwxhyBkdWo6ibgauAZEVlOwDEcrqp7gJHAX0Rk GYFOYnnAg0CuiKwgsIdwtQdlzFKgQEROJNCS8SPgfRH5AHiYwMp8KjBYAg3LLyfgiAwjJZj6qGEY RpZjKwLDMIwsxxyBYRhGlmOOwDAMI8sxR2AYhpHlmCMwDMPIcswRGIZhZDnmCAzDMLIccwSGYRhZ zv8HDv9dGpqK0Y0AAAAASUVORK5CYII= ",
text/plain: [
"<matplotlib.figure.Figure at 0x262d532ffd0>"
]
},
metadata: { },
output_type: "display_data"
}
],
source: [
"# In[9]: ",
"scatterPlot(y, las.predict(x))"
]
},
{
cell_type: "markdown",
metadata: {
collapsed: true
},
source: [
"### 3.4 Comparação dos coeficientes: Regressão Linear X LASSO"
]
},
{
cell_type: "code",
execution_count: 55,
metadata: { },
outputs: [
{
data: {
text/html: [
"<div> ",
"<style> ",
" .dataframe thead tr:only-child th { ",
" text-align: right; ",
" } ",
" ",
" .dataframe thead th { ",
" text-align: left; ",
" } ",
" ",
" .dataframe tbody tr th { ",
" vertical-align: top; ",
" } ",
"</style> ",
"<table border="1" class="dataframe"> ",
" <thead> ",
" <tr style="text-align: right;"> ",
" <th></th> ",
" <th>Intercept</th> ",
" <th>CRIM</th> ",
" <th>ZN</th> ",
" <th>INDUS</th> ",
" <th>CHAS</th> ",
" <th>NOX</th> ",
" <th>RM</th> ",
" <th>AGE</th> ",
" <th>DIS</th> ",
" <th>RAD</th> ",
" <th>TAX</th> ",
" <th>PTRATIO</th> ",
" <th>B</th> ",
" <th>LSTAT</th> ",
" </tr> ",
" </thead> ",
" <tbody> ",
" <tr> ",
" <th>OLS</th> ",
" <td>22.5</td> ",
" <td>-0.92</td> ",
" <td>1.08</td> ",
" <td>0.143</td> ",
" <td>0.682</td> ",
" <td>-2.06</td> ",
" <td>2.67</td> ",
" <td>0.0211</td> ",
" <td>-3.1</td> ",
" <td>2.66</td> ",
" <td>-2.08</td> ",
" <td>-2.06</td> ",
" <td>0.857</td> ",
" <td>-3.75</td> ",
" </tr> ",
" <tr> ",
" <th>LASSO</th> ",
" <td>22.5</td> ",
" <td>-0.537</td> ",
" <td>0.596</td> ",
" <td>-0.0366</td> ",
" <td>0.65</td> ",
" <td>-1.43</td> ",
" <td>2.87</td> ",
" <td>-0</td> ",
" <td>-2.21</td> ",
" <td>0.755</td> ",
" <td>-0.479</td> ",
" <td>-1.88</td> ",
" <td>0.74</td> ",
" <td>-3.73</td> ",
" </tr> ",
" </tbody> ",
"</table> ",
"</div>"
],
text/plain: [
" Intercept CRIM ZN INDUS CHAS NOX RM AGE DIS RAD \ ",
"OLS 22.5 -0.92 1.08 0.143 0.682 -2.06 2.67 0.0211 -3.1 2.66 ",
"LASSO 22.5 -0.537 0.596 -0.0366 0.65 -1.43 2.87 -0 -2.21 0.755 ",
" ",
" TAX PTRATIO B LSTAT ",
"OLS -2.08 -2.06 0.857 -3.75 ",
"LASSO -0.479 -1.88 0.74 -3.73 "
]
},
execution_count: 55,
metadata: { },
output_type: "execute_result"
}
],
source: [
"# Abaixo podemos verificar que, ao penalizar os estimadores com um alpha > 0, quase todos os coeficientes ",
"#ficaram com valores menores em módulo. O coeficiente de AGE ficou igual a 0, ou seja, o algoritmo eliminou um ",
"#parâmetro da regressão. ",
" ",
"# In[10]: ",
"coef_df['LASSO'] = np.append([las.intercept_], las.coef_) ",
"coef_df.T"
]
},
{
cell_type: "markdown",
metadata: {
collapsed: true
},
source: [
"### 3.5 LASSO: Validação Cruzada 5-fold"
]
},
{
cell_type: "code",
execution_count: 56,
metadata: { },
outputs: [
{
name: "stdout",
output_type: "stream",
text: [
"[Fold 1] α: 0.13, R²: 0.69 ",
"[Fold 2] α: 0.13, R²: 0.74 ",
"[Fold 3] α: 0.13, R²: 0.58 ",
"[Fold 4] α: 0.13, R²: 0.06 ",
"[Fold 5] α: 0.13, R²: -0.04 "
]
},
{
data: {
text/html: [
"<div> ",
"<style> ",
" .dataframe thead tr:only-child th { ",
" text-align: right; ",
" } ",
" ",
" .dataframe thead th { ",
" text-align: left; ",
" } ",
" ",
" .dataframe tbody tr th { ",
" vertical-align: top; ",
" } ",
"</style> ",
"<table border="1" class="dataframe"> ",
" <thead> ",
" <tr style="text-align: right;"> ",
" <th></th> ",
" <th>OLS</th> ",
" <th>OLS - CV</th> ",
" <th>LASSO</th> ",
" <th>LASSO - CV</th> ",
" </tr> ",
" </thead> ",
" <tbody> ",
" <tr> ",
" <th>MSE</th> ",
" <td>21.9</td> ",
" <td>37.2</td> ",
" <td>22.7</td> ",
" <td>35.5</td> ",
" </tr> ",
" <tr> ",
" <th>R²</th> ",
" <td>0.741</td> ",
" <td>0.56</td> ",
" <td>0.732</td> ",
" <td>0.58</td> ",
" </tr> ",
" </tbody> ",
"</table> ",
"</div>"
],
text/plain: [
" OLS OLS - CV LASSO LASSO - CV ",
"MSE 21.9 37.2 22.7 35.5 ",
"R² 0.741 0.56 0.732 0.58"
]
},
execution_count: 56,
metadata: { },
output_type: "execute_result"
}
],
source: [
"# ## Validação Cruzada - LASSO ",
"# Faremos também um teste de validação cruzada, dividindo os dados em 5 grupos. ",
"# In[11]: ",
"kf = KFold(n_splits=5) ",
"p = np.zeros_like(y) ",
"for k, (train, test) in enumerate(kf.split(x)): ",
" las.fit(x.loc[train], y[train]) ",
" p[test] = las.predict(x.loc[test]) ",
" print("[Fold {0}] \u03b1: {1:.2f}, R\u00b2: {2:.2f}". ",
" format(k+1, alpha, las.score(x.loc[test], y[test]))) ",
" ",
"mse_lasso_cv = mean_squared_error(y, p) ",
"r2_lasso_cv = r2_score(y, p) ",
" ",
"result_df['LASSO - CV'] = [mse_lasso_cv, r2_lasso_cv] ",
"result_df"
]
},
{
cell_type: "code",
execution_count: 57,
metadata: { },
outputs: [
{
data: {
image/png: "iVBORw0KGgoAAAANSUhEUgAAAYIAAAEKCAYAAAAfGVI8AAAABHNCSVQICAgIfAhkiAAAAAlwSFlz AAALEgAACxIB0t1+/AAAADl0RVh0U29mdHdhcmUAbWF0cGxvdGxpYiB2ZXJzaW9uIDIuMS4wLCBo dHRwOi8vbWF0cGxvdGxpYi5vcmcvpW3flQAAIABJREFUeJztnXl4VOX1+D8nYQIBlICgYtyoICoi UEBR1Iq2rmipa61abetS27qLRn9UAW1BqdXqt9Z9q5aioHGjVSu44sISEBERFUQDCghBlkC28/tj ZuJkcu/MncncWc/neXjI3Jm598xN5pz3PauoKoZhGEbhUpRpAQzDMIzMYobAMAyjwDFDYBiGUeCY ITAMwyhwzBAYhmEUOGYIDMMwChwzBIZhGAWOGQLDMIwCxwyBYRhGgdMu0wJ4oXv37rrnnntmWgzD MIycYu7cuWtVtUe81+WEIdhzzz2ZM2dOpsUwDMPIKUTkCy+vM9eQYRhGgWOGwDAMo8AxQ2AYhlHg mCEwDMMocMwQGIZhFDi+Zg2JyHJgI9AINKjqEBHpBkwB9gSWA6er6no/5TAMwzDcSceOYISqDlTV IaHHFcCrqtoHeDX02DAMw8gQmXAN/RR4NPTzo8CoDMhgGIaR1Xz00UdcffXVNDU1+X4tvw2BAi+L yFwRuTB0bCdVXQUQ+n9HpzeKyIUiMkdE5qxZs8ZnMQ3DMLKDr7/+mosuuoj+/ftz//33s3TpUt+v 6bchGK6qPwSOA34vIod7faOq3qeqQ1R1SI8ecSukDcMwcprNmzczfvx4evfuzUMPPcQf/vAHPvvs M/r27ev7tX0NFqvqytD/q0XkGeBA4BsR6amqq0SkJ7DaTxkMwzCymcbGRh5++GFuuOEGVq1axamn nsqECRPo3bt32mTwbUcgIp1EZLvwz8DRwIfAc8C5oZedCzzrlwyGYRjZiqoyffp0BgwYwAUXXECv Xr2YNWsWTz31VFqNAPi7I9gJeEZEwtf5l6r+V0RmA0+KyG+AFcBpPspgGIaRdVRVVTF69GheffVV evfuzdSpUzn55JMJ6cu045shUNXPgQEOx78FjvLruoZhGNnKihUrGDNmDI8//jjdunXjzjvv5KKL LqKkpCSjcuVEG2rDMIxcZsOGDUycOJHbb78dgGuuuYbrrruOLl26ZFiyIGYIDMMwfKKuro57772X 8ePHs3btWs455xxuvvlmdt9990yL1gLrNWQYhpFiVJVp06bRr18/Lr30Ug444ADmzp3LY489lnVG AMwQGIZhpJR33nmHQw89lFNPPZX27dvz4osv8r///Y8f/vCHmRbNFTMEhmEYKeDTTz/ltNNO45BD DuHzzz/n/vvvZ/78+Rx//PEZywbyisUIDMMw2sC3337LTTfdxN13301JSQljx47lqquuonPnzpkW zTNmCAzDMJJg69at3Hnnnfz5z39m48aNnH/++YwdO5aePXtmWrSEMUNgGIaRAE1NTUyePJnrr7+e FStWcMIJJ3DLLbfQr1+/TIuWNBYjMAzD8MjMmTMZOnQoZ599Nt27d2fGjBm88MILOW0EwAyBYRhG XD766CNGjhzJkUceydq1a3n88ceZPXs2I0aMyLRoKcEMgWEYhgurVq1qng3w1ltvccstt7BkyRLO OussioryR31ajMAwDCOKTZs2cdtttzFp0iS2bdvGJZdcwpgxY+jevXumRfMFMwSGYRghGhoammcD fP311xmZDZAJzBAYhlHwqCr/+c9/uOaaa1i0aBGHHHIITz/9NAcffHCmRUsL+ePkMgzDSIJ58+bx 4x//mBNOOIFt27YxdepU3nrrrYIxAmCGwDCMAmXFihWcc845DB48mAULFnDnnXeyaNEiTjnllKxv CZFqzDVkGEZBsWHDBiZMmMAdd9yBiFBRUUFFRUXWzAbIBGYIDMMoCOrq6rjnnnsYP34869at4+yz z87K2QCZwFxDhmHkNZGzAS677DIGDhyY1bMBMoHtCAzDyFveeecdrr76ambNmkW/fv2YPn06xx57 bNbHACqrqpn00hJW1tSyS1kpo4/py6hB5b5dz3YEhmHkHZGzAZYtW9Y8G+C4447LCSNw3dMLqa6p RYHqmlque3ohlVXVvl3TDIFhGHnD2rVrueyyy9hvv/34z3/+w7hx41i6dCnnn38+7drlhgNk0ktL qK1vbHGstr6RSS8t8e2auXFnDMMwYuA0G2DcuHHsvPPOmRYtYVbW1CZ0PBXYjsAwjJylqamJxx9/ nL59+3Lttddy2GGHsXDhQu69996cNAIAu5SVJnQ8FZghMAwjJ5kxYwZDhw7lnHPOaZ4N8Pzzz7Pf fvtlWrQ2MfqYvpQGilscKw0UM/qYvr5d0wyBYRg5RXg2wFFHHZWXswFGDSrnlMHlFIeC2sUinDK4 3LKGDMMwVq1axYUXXtg8G+DWW2/Ny9kAlVXVTJtbTaMqAI2qTJtbbVlDhmEULps2bWLs2LH06dOH Rx55hEsuuYTPPvuM0aNH06FDh0yLl3IykTXkuyEQkWIRqRKRF0KPe4nIeyKyVESmiEiJ3zIYhpF7 NDQ0cP/999OnTx/GjRvH8ccfz+LFi7njjjvYYYcdMi2eb+Rr1tBlwOKIx7cAt6tqH2A98Js0yGAY Ro6gqrz44osMGDCACy+8kB/84AfMmjWLJ598kr322ivT4vlOWcdAQsdTga+GQER2BU4AHgg9FuBI YGroJY8Co/yUwchtKquqGT5xBr0qXmT4xBm++kmNzDNv3jyOOuooRo4cSV1dHdOmTSu42QCh0IDn 46nA7x3BHcA1QFPo8Q5Ajao2hB5/BfgXCjdymkyU2huZIXI2wAcffNA8G+Dkk0/O+pYQqWZDbX1C x1OBb4ZAREYCq1V1buRhh5c62jkRuVBE5ojInDVr1vgio5HdZCJoZqSXmpoarr32Wvbee2+mTp1K RUUFn332GZdccgklJdkVPkzX7jTfCsqGAyeJyHLg3wRdQncAZSISbm2xK7DS6c2qep+qDlHVIT16 9PBRTCNbyUTQzEgPdXV13HnnnfTu3ZtJkyZx+umns2TJEiZMmJCVA2LSuTvNq4IyVb1OVXdV1T2B nwMzVPUsYCZwauhl5wLP+iWDkdtkYmVk+IuqMnXq1JybDZDO3WmhFJRdC1wpIp8SjBk8mAEZjBwg Eysjwz9mzZrF8OHDOe200+jQoQPTp0/nlVdeYdCgQZkWLS7p3J3mbUGZqr6mqiNDP3+uqgeqam9V PU1Vt6VDBiP3GDWonAkn96e8rBQBystKmXByf19XRkbq+fTTTzn11FMZPnw4y5cv54EHHsiZ2QBh 0rk7tTbUhhHFqEH+bokN/1i7di033XQTd999N+3bt2fcuHFcddVVdOrUKdOiJczoY/py3dMLWyho v3an1S67DLfjqcAMgWEYKaW2trZ5NsCmTZu44IILGDt2bM62hQaaFyPpGB9ZLNLsFoo+7hdmCAzD SAlNTU3861//4vrrr+fLL79k5MiR3HLLLTnfFjpMKnanXmYROxmBWMdTgTWdMwyjzUTOBthxxx2Z OXNmXswGSCVeU1DLSl1aTLgcTwVmCAzDSJpFixZxwgknNM8GeOKJJ3j//fc54ogj0ipHLrQi8RoE dvMA+RlXN9eQYeQoXtwMfrFq1SpuuOEGHnroIbbbbjtuvfVWLrnkkoy0hQ6vtMNKNrzSBrIq0cBr CmrNFudWEm7HU4EZAsPIQWIpP/AvqLlp0yb+8pe/MGnSJOrr67n00ksZM2ZM3LbQfhqtWCvtbDIE u5SVOmb+RKegen1dKjHXkGHkIG7Kb9zzi3xphdDQ0MB9993XPBvghBNOYPHixdx+++2ejICf7Rly pRWJ1wLJ0cf0pbiopR+ouEh8LaS0HYFh5CBuSm69g/ugLatjVWX69Olcc801fPTRRwwfPpxnnnmG YcOGeT6H3yt2Lyvo8I6kuqa2OT2zPM3uNK8pqHO+WEdjU8sMocYmZc4X63yT1XYEhpGDJOomSGZ1 HDkboL6+nmnTpvHmm28mZARiXTtVK/Z4K+3IHQl8n4aZibbmowaV83bFkdx+xkAArpgyv1Vwe/J7 Xzq+1+14KjBDYBg5iJPyCxS5p5V0SSD18IsvvuDss89m8ODBLFy4kLvuuqtNswH8bs8QrxWJ044k TCbamsdzlWWijsBcQ4aRgzi5GbbUNTi6hsBb6mFNTQ0TJkzgb3/7GyJCRUUFFRUVbW4LnY72DLGK veLtPNye9yvAnY3BbTMEhpGjRCu/XhUvur422kBEKrmdO7dju2UzmPnve2jYspEeg37Mn//0J84/ bmjK5IT0tGdwwi2GEKZIhMqq6hby+JmSmo3BbTMEhpEnxFJ4As3KLqzkttQ1sGXJ28x5/VEaalbR YY8B9Bjxa0p22ovbZn1L952rU6asM9k80GlHEkmjaisl7+eqPV5wu2vHgOPOrmuuDq83DCN9jD6m L4FiZx+QQrMvfNJLS1i/7EO+eXw0a5+diLQrYcdTx7LjGTdTstNeQPaPBE2kkjgyhuBG9Of1c9Ue L7i9zcVguR1PBbYjMIw8IbxSvXzKfMfnV9bUsnTpUuY//Ee2fDKL4s7d6HbspXTufxRSVOz4+jBe /OXpqnROxm0TuSPpVfGi46D06ppahk+cwcqaWopcOoCmIsAdz1W2pb7J8X1ux1OBGQLD8EgmWzok IldZaYCa2pauhcYtG2iYM5X9bnuepqJ2dDn0LLYf+jOKStxbQoSVnhfFm842D21127i5ZgRapZhG ksoAd7bN2fBkCERkAHBY6OGbqrrAP5EMI/vIpn42kYq/S2mAzXUN1Dd+nxsfKBYCRUJ9k9JUv42N c5/nu3efhIZtXHD++Rx0ykXc+sY3rj5z+F7pVVZVc9WTC1opxmjFm85MmLa6bZxiBgKOu4RiEZpU 02r4nQx5+LhfxDUEInIZcAHwdOjQ4yJyn6re5ZtUhpFlpFrRJbu7iDZITgqjvlEp61DM5o9eZ9l/ H6Rx4xqGHv4THr3nb+y7774AdO1ezRVPzscpNV0EJpzcH4Drnl7omr8eqXjTmQmTSC+eWPc58rhb kL1JlWUTT0iJ3F5/52NP6sfopxZQH1FdHCgSxp7ULyVyOOFlR/Ab4CBV3QwgIrcA7wBmCIyCoLKq 2lVRJKPonHYXV0yZz+VT5sdtexCrOCpM7fL5rHrtYeq++YxO5XtTcdvfGXPBaS1eEz6/k8KZdNoA Rg0qZ/jEGTGvFal429IoLRGjWFlVzeZtDa2OO7lt4u3iIq8xfOIMXxu9JbKjzES6rRdDIEDkX0Nj 6Jhh5D3hL7AbySgKJ2UeVsVuCiKyV44bdWuWs/61h9n6+VyKt9+R7ideTcd9D+eJFQH2r2qdChqp cMI9eOqbtDl7JpaRi1a8bimam7c1tMrRjyQRBRn92jBdOwa48cR+rV6fyC7O76K3RHeU6Y4heDEE DwPvicgzocejgAf9E8kwsodYK3AvisJptRtvFxGtINwUYJiGTevY8ObjbFr4P6SklLIjfs32g0ci 7UoczxdJ+JiTMu5YUszmutbXDLuOIs8X/nnc84ta5MDX1NbHjKUkoiDdfhcdS9o5njsRd1Wyq3Cv u5lsLCKLJK4hUNW/ishrwKEEdwK/UtUqvwUzjGwg1he1Q6CIK6bMZ9JLS1zTKZ0UbBeXYKDbdd0U YFNdLd+99zTfzX4amhrZfvCJbH/IGRSXbp/Q53BTxm6ofl+TEH5/WBE6hRNiGaJEFGSiyjRRd1Wi q/BEdjOZmDGQCK4FZSLSLfwPWA48DvwT+CJ0zDDyHrcvqhBs2xCrv76bghWhVUGR03XDRVPRCkSb Gtk4/79U33cBG2ZNplPvA/n706+xYXYlu/fcKaHPAcmtSqtrark8FNeIbJ7mZuBiKWuvxxNtXue1 /3+yeB09mQ5Z2kqsyuK5wJzQ/2uAT4CloZ/n+i+aYWQepy+wU6phpAKorKpm0PiXXf3567fUM+Hk /hTH6AS3bvM2Rk9d0OIcqsqWT99n1UN/YN1L/0egbBd2Pvsv7HDStTz+0TZXeeMpnHSsSlOhrBP9 bPG6kraVRF1PfsrSVlxdQ6raC0BE7gGeU9XpocfHAT9Oj3iGkRiRPtuyjgFUYUNtfdKZF4mkGq6s qaWyqprRUxc05/W7MeeLdTHbCtdGVZFu+/pT1s98kG0rFtKu6y70+Nn1lPY5uLktdPjaY59b1GKV WlYaYOxJrQOpkcTrxdNW4ilr8OabT8aP72fQ1W/XUzoRjdPjWkTmqurgqGNzVHWIr5JFMGTIEJ0z Z066LmfkKPGCqqWB4uZVWFuqhN1SDcO9bGJl9iRKw4bV1LzxGJs/eo2i0u0pO/QXdB5wLFLccg3X tWOATVsbWqSCAgSKhTOG7sbMj9e0+qxhwxEvXlHs0m4hFuVlpVlXgZ1qnP7eIv/GsoGQ/o6rq71k Da0VkTEEYwQKnA1820b5DCPljHt+UcxVbaT7pi1VwrFSDa9w6fOTKE1bN7HhnSf5bu7ziAjbDzuN LsNOpbh9p1ZuqdJAMaq0MgIQLC574t0VrdJT53yxjinvf+n4nuhzRxaXedk1lJUGeLviSC8fM6fJ dHvtVOJlR9ANuBE4PHToDWCcqq6L874Oode2J2hwpqrqjSLSC/g30A2YB5yjqnWxzmU7AsMNL/n1 0bitcMvLSj0rMLcdhdtuwSvaWM/GqulsePvfNG3dRKf9j6TssLNpt30P1/e4tS2OhZdVfrEIZx60 GzePChqCyHvt1pIhsiDNyDxedwRxDUEbBBCgk6puEpEA8BZwGXAl8LSq/jsUf1igqv+IdS4zBIYT 8VxBTrgpsPBzybQTiFSQRQJxFtmOqCq1S95mffNsgIF0HfFrSnb6QeInSyFuro5sGAZvxCdlriER 6QFcA/QDmlsVqmrMpZMGLcym0MNA6J8CRwK/CB1/FBgLxDQEhhEmciXu1io4FrFenUz2TLQxcjIC sYwPwNavFvPd6w9R+9ViOuy4J91OG0eHXj9Maj6wV7z6/d1qALI58GkkjpfBNE8AHwO9gHEEawpm ezm5iBSLyHxgNfAK8BlQo6rhZiFfAfbXZHgieuh3Kod5CySV0x2v9095WSnLJp7AHWcMbJX62LCu mjXP/JlvnhhNh63reOCBB9i08lNKfzA4JUaga8cAZw/b3THl8syDdos57D6SbKl+NfzDS7B4B1V9 UEQuU9XXgddF5HUvJ1fVRmCgiJQBzwD7Or3M6b0iciFwIcDuu+/u5XJGnuOl4VqyKMm1k46nJMPx gsjA4pcrv6Z+zlOsmf0CHdq3Z/z48Vx55ZV06tQJCBqPtsQZol1cQ/bo5hjPGLJHtxZZQ25urWyp fjX8w4shCEehVonICcBKYNdELqKqNaE2FcOAMhFpF9oV7Bo6n9N77gPug2CMIJHrGfmJl5VpPDeM G7HGGMYi3mD0yFnBx+zTjY9fep8Jj05g8+bNnH/++YwdO5add965xXtGH9O3VVfQRGXykh4b7d5x S4fMlupXwz+8uIZuFpEuwFXA1cADwBXx3iQiPUI7AUSklGAR2mJgJnBq6GXnAs8mIbdRgMRbmXbt GOCsYbsnNcBjxD7uWTmxcKp2jUSBGysX0uf0CrbbaQ+uu+46+g48iIULF3LPPfe0MgIQVNCdO8Rf ozl5dkoDxYzYp0cLF5pbCwyn62Zz9avhH16azr0Q+nEDMCKBc/cEHhWRYoIG50lVfUFEPgL+LSI3 A1VYJ1PDI/EqYDdtbWDK7C/jVvU6MfPjNY7H462sRw0qZ84X61rk6kcSORugZOc+dB95JRv3GsiS rds7+knD1MRJBw2naULrPPa2DNHJlyBwto4V9Uq65Xc1BCJyFzF22ap6aawTq+oHwCCH458DByYg o2EArfvnR5OsKwWc3U6VVdUtXDTVNbWMfmpBC1kgaESir9x6NsBoOu57GCJFnpRyLJdTdNuI6PO4 FbUlG/TNNaWaTWNFkyET8sfaEVjivpEVjKlcyOT3vqRRtbnIyW0FnixObqfrnv6glXGpb1LGPreo xRcyUsE2bPyWDW89waaF/6PIYTZA9HvclKxb9bIXV00qWx7nolJN5/xkP8iE/LGazj3qyxWNjJBr q7owYyoX8vi7K5ofN6q2eJwqomMElVXVrRq/hYnuzbNLWSlfrl7XPBtAGxvZbvCJdHGZDQDQpTTA oPEvt6gIdlKyyfzOUjltKxeVarYPgYlHJuT3UlA2EwcXUbyCMiN7yMVVXZgnUqj0BVyL0KJjBE49 5Z1oaGjggI2zee++W2jcvJ6O+xxG2eG/JNC1p+t7AkXC5roGx1hGbX0jVz25gCumzE9px9RkDX8u KtVsHwITj0zI7yV99OqInzsApwCtp0cbWUs2r+ri7VRS6f6JVYQWrdhiKboigT2vfYHSrxew6c1H +WrZUvYdeCD1Q86ifoe9YspQXlbKlrqGmL2BwjK2xWCnKuibi0rV7/nDfpMJ+eOmj6rq3Ih/b6vq lcBBvklkpJxsXdVFVwp7TXP0g2jFFkvR1a76lK//fT0fPzaGbzZsoeK2B1g0712W3n8pd5wx0HXg TLipXbyMoBbXcpl4lS5GH9O3VQVyoEiyWqnmehpsJuT34hqKHEtZBAwGWic/G1lLtq7qsmmnsqWu obnwC0JFXVEDZho2fMP6Nx5jy0evU1S6Pd1+8ls6DziWN+q2a24J0fz+qPcGir9XnvGK0KLJtMEm 2q751wIpZeR6Gmy65ffiGppLcFctBF1Cy4Df+CmUkVoS2WqmM6jspgwjjyfTYjkZ1m+pb+2GCenx VrMBDj6dLgedSlH7joCLoo72QEU8dquHcKuKzqTBnvTSklaxjPpGzQq3opE6vBSU9UqHIIZ/eA0e pjuo7NYBM9K1cuOJ/TyNfkwFkbuRSS8toa6+jo3zprNhVuzZANGKetJLSxzTTsPndvt9QOvhL5n2 bWerW9FILV5cQ78HnlDVmtDjrsCZqnq338IZqcPLVtOrqyZ61zBinx6uoxBjGR+3wG2jalIDZ1LB yppaVJWl777C+tcfoaHm65izAZwUtRflGev3kU1pvtnqVjRSixfX0AWq+vfwA1VdLyIXAGYI8gwv Csxp1xCZ1x85CnHa3OqYuwu3LptlpYG07QKiabf2Ew455GbWvPsuge57sGOM2QDFIi2CueHPVebi zirrGPBkRLNpzGOuZ+DkKlnTYiKCIhGR0KAZQr2DSuK8x8hBvKz+vLSCrq1vbK4Ejj4eubtwUzK1 9Y1pNwL166pZ//oj1H7yDlt22YXf3/AXXqjtA0WtG8p17Rhga32Tq5FzG5Owtb7RkxENnycbyKe5 vLlCtrWYCPMS8GRorKQCvwX+64s0RkaINYs2evXn1TfsJV/fScmM2KeHL5XDbjRu2cCGtyezcf5/ kHYllB16Fp/89146depEWeXCVq0swoPiY7nQNtQ6B7fdKpXdzpMt5HoGTq6RVS0mIrgWuAi4mGBi w8sEW1EbCZKNbR6iVx/h9DAFxxm0XlMfY2XAxLoPg8a/3ObP5IWm+m1snPMsG96ditZvpfOAYyg7 9BfsXr5L84CYm0f1dxzq4tbUrbqmll4VLyY1QjMSC8QWNpkI0Ps2vD6V5MPwerehH5kudBk+cYaj Yg8bAS+ZLdEUAU5r30CRcMaBu7WIHUAwx75TSTs21NantJLYCdUmNi+aSc0bj9O4cQ2lvQ+k649+ RaD7bs2/D4jtCnG7Z7EoDRTTIVDkKRU2XHhmFCaxvpOJ/l14HV7vWlksIgtF5AO3fwlJY8Tc7mUS t1VG2C8ZXfULtKp6PHvY7s2Py0oDjkYAoHOHdsz8eE2r+1DfqNSkwQjULp/Pqkcu59sXb6e4Uxk7 nTmBHU+5gUD33SgrDTQbgXjVzvGG0YQpFmlRGXrjif3ivs8CsYbT35fffxexXEMjfbtqAZKt+dhu rp5wRkwkYcP1dsWRrruYWK6d9Vvq01IcFk3dmuWsn/kwW5e1ng0AwZ1KuL//8Ikz4vpno2Mbbgas SbXF7GCAOV+sa9FSe9gPurL829qschcamSUTAfpYbai/8O2qBUi25mPHytxxIpbhqqyqzoiid8Pr bIDIYi+vBjsygOq2lY/+3VZWVTNtbnVz/KBRlXkrNqTMPZiNMSgjOdIdoI/bdE5EhonIbBHZJCJ1 ItIoIt+lQ7h8IhPbPS+4NbhyG+Yey3Bl2s0VpmnbFmrefJyV91/Ipg9nsN3gE9nlogfoctDJrYxA mLCid/t8sT6319+tn+7BbGrgZ+QeXrKG/g/4OfAUMAT4JdDbT6HykWzJx45MFQ23eHDKDoLE2x1k 2s2lTY1s+uBlat56gqbNNcHZAD86l0BZ/B6JYUWfTAGV19+tn+7BbGrgZ+QeXgwBqvqpiBSraiPw sIjM8lmuvMTrds+vLX505lKsvvfRyq1LaQCR4DzcSS8tcZQp0a6aqUJVqf3sfWpee4T6b7+k/a77 0fXkP9J+F2+7rUhFn6zB9vK79dM9mK0xKCM38GIItohICTBfRG4FVgGd/BWrcEmkqtDJYIC7EotV FVxb38jY5xa1eu/bFUd6lsmtq6afbFu1lPUzH2Tblx/Srls5PX72/yjtM8yxJYQTxSKtfPRelHoy xtrPdg3ZGoMycgMvhuAcgrGEPwBXALsRnFJm+IDXLf6YqKrX6ppaRk9dAEpz58tohR1vdVhTW988 jzfyvW4yXfXkguZzR/6fjmZxLWYDdOxCt59cTOcBxyDFnja5zSRT+JVsCwA/3YPWE8hoC67fGhHp AfRQ1Y9Ch7YC40Rkf2BDOoQrRLw2fotufQC4zsANG5EupYFWg9djEVb2sbqEprs3TuPWTXz3zpN8 N/c5RIpazQYA6BgoYluDelbyiey4wi2qk/XH+5UNki0xKCM3ibV8ugv4h8PxcuB64Be+SFTgeG38 lsg6trqmlsqqajbXJT5qulHVtV0EtFSATtXTqUIb66NmAxwVmg3QvdVrS9oVc/Lgnq0qmN1wa7Xt turPVn+89QQykiVW+mh/VX09+qCqvgQc4J9IhY2XVMRkFM7/e2aha0fP8rJSunYMuL433H/IjbA8 XjqTJoqqsnnxm6x84GLWz7gPmUT9AAAec0lEQVSfkp170/NXf6P7CZc7GgEIurimza3mlMHlrmmw 0UTf01ir/mRSTA0jm4llCNw1Q+znjDbgZXB1Mgpnc52zghbg7Yoj47Y/UHAdyl4kQq+KF1MeF9j6 1SK+/ufVrH3uFiTQgR1PG8dOZ9xEyY6tB8REU1vfyMyP13juzRJ9T2Ot+rO1JsQwkiWWa2ipiByv qtMjD4rIccDn/opV2MTb4jsFBgU4a9juCbdwDivA8PUud+msCe5uorZ02nQicjZAcedu7HDcpXTa /yjEYTZALFaGXGKxXFvgrMRjuejMH2/kG67dR0Vkb+AFYBbBAfYQLCg7GBipqp+kRULyo/toqnGa dPXCglUJBYOdup/uWfFi3PeFFavbzOFkCc4G+Bcb5/8XaVfC9gedwvZDRlFU0iGp84XdQrF2Km7F dNnaLdYwEsFr99FYvYY+EZH+BIPC+4cOvw5cpKpbPQiwG/AYsDPBrsT3qerfRKQbMAXYE1gOnK6q 6+OdL99oa9FY5K4h2SBtWKlFyuJFuYdnFaQqOPr9bICn0PptzbMBijt1jfm+WLKGV/luswMgdlvf RFb91uPHSDXp/pvybR6BiPQEeqrqPBHZjuCuYhRwHrBOVSeKSAXQVVWvjXWufNsRuK02Txlc7jgE 3un9kX8km7c1JLQTCFMe2kl4za6JRGh7JbFqE5s/nEnNm/+kceNaSnsfRNcjziOww26ezxEokua6 iTBdOwa48cTvu4kmsyPwiu0cjFSTyr8przuCtA2mEZFnCfYt+j/gCFVdFTIWr6lqzChbthmCeNY6 3vNuyslpTGT0oJTSQBFbPIw89Eo8/7kbYSOS7FjJ2mVVrH/tIepXL6OkZx+6HvFrOuzeP6FzdO0Y YNO2hhbZUIFiYdKpA1rslq6YMj9ujCBZxZ3KISKGAZkZTJMWQyAiewJvEHQxrVDVsojn1qtqTB9A NhmCeNba6fnICVyJrqLLSgNsrmtI+zD3WIQD08nsJFrMBuiyE10P/2WL2QBeKQ0U075dkeNOKPoL E12F7YTXL1m0kXf7XQq0mkVgGF7oVfGi499qMn9TbZ5QFnWyEhHZP/QvodRREekMTAMuV1XP7atF 5EIRmSMic9asWZPIJX0lXithp+cjJ3CFB8R7paa2PiNGoKw04FpboMDk975MyAg0bFzL2ul/Y9XD l1K38mO6jvg15effQ6f9fuRoBNxSVcOyTTi5v+uQ+OjYxc2j+nP7GQNj1hR4iXc4tXp2k9JqCoxk yUSdipd5BEcAS4G/A3cDn4jI4V5OHjIa04AnVPXp0OFvQi6hcBxhtdN7VfU+VR2iqkN69Ojh5XJp IV5VqReF4lSglYhxcCJWQVg8nGQZOaAnN57Yj0Cxs2Res4Watm2h5o1/svK+i9i8aGbzbIDtDzwZ aecsc5HEPv/8G49m1KDyhL4wowaV83bFkUnNWQjjZOSdfpdWU2C0hUzUqXjZEdwGHK2qP1LVw4Fj gNvjvUmC7R8fBBar6l8jnnoOODf087nAs4mJ7D+VVdUMnziDXhUvMnzijBbDPeIpH69WO5x5Ey4a O2vY7p7m4LqxX8/tkjImpYFiDtmrW4v3KjBtbjXjnl+U9G5EmxrZWDWd6vsuZMM7UyjtfSC7XHAP 3Y66gOLS7WK+tynGJSMVeTJfmLZ8ydyMfPTv0gLFRlvwUlSaary0agyoavMIpVBaqZfl53CCnUsX ikg4h+96YCLwpIj8BlgBnJagzL7i1GPm8inzGff8Im48sV/cLo9eWzE7+aSH7NEt6c6dsz5bl3DQ N5xd49S7qLa+Mal2EapK7afvs/61h2lY9xXtd+1H11O8zwaIx+ZtDVRWVbdIn00kza4txWBuMQEL DBu5TtxgsYg8RHDR88/QobOAdqr6K59layadweJY6YZOWTzxsobKOgbYtLWhRYpjrFTRyqrqmNW9 qSSswNyCU4kSPRug6xG/orT3QZ5nA3glkVTbVGKpokY6yMr0URFpD/weOJSgO/QN4G5V3ZaQRG0g nYYgnlJMZvU3pnIhk9/7kkZVikUY9oOuzFuxoVWLiEP26tbqeDSpruZNBQ0bvmH964+xZXFwNkDZ 8F8kNRugLaRLIVvxmOE3mUgf9fJNbQf8LeznF5FioH1C0uQQ8dI7E62mrayqZtrc6mbl3ajq6MZR 4O3P1rmeJ1AkdO7QjvVb6pPO/U8EL9doPRvgDLocdEqL2QCJXq+rww7KC+maz2utng2/yUSbcy+G 4FXgx8Cm0ONS4GXgEL+EyiTxfPxegsGRq8YihxV8UkpcYP2W+uTfnyCxrqEN9WysejE0G2BzzNkA XigW4bbTWxaBxbp/bmR6HoBhpIJMjB31Ygg6qGrYCKCqm0Qk8SVfjhBWRmOfW9SqWMlLdonbgPi2 UCyScPaOU+uFtqKqbPn4LWpef4SGDd/QYc9BdB3xK09toWNx5kG7uc4MTqSPUpFIcyDZMHKVTIwd 9ZI+ullEfhh+ICKDgbxeeo0aVM78G4/mjlARUiIpXH4MZ0nUmJSXlTLptAHNsscqzvJKi9kAJaUJ zQaIx+PvrmDQ+JdbpOmGiUyli0d4dKbTeQwjV8hE+qiXYPFQ4N/AytChnsAZqjrX/V2pJZtaTMTD SwZOaaCYH+7exVPKZ1lpgE7t2yWUUnrHGQNjjl2MRXRsoH5dNetfe5jape9S3LkbZYedQ6f9j0x4 NoAX4gV8vWZUde0YoOqGo1MtnmHkHClrMaGqs4F9gIuB3wH7ptMI5BpufrxikRbW/YkLDm5ueyAE lVegqOXKvTRQzNiT+jkWQcVi7HOLWqyKnVYYZw/bvXmVHd4xRBa2NW7ZwLpX/sHKB3/H1i8WUHbY Oexy4X10PuAnvhgBaNmqw4lRg8o9VVCv31JvuwLDSIC4MYJQPOBKYA9VvUBE+ohIX1V9wX/xcg83 /57TSjc6AyVWauKcL9Y1p6DGo6a2vnnQevj9kbGP6ppaHn93BWG7s3OXDs3X2rJlC29PvZ/Xn3oA rd/G9gOP5aizfseyzYHmYLWfxNv53HhiP0+7m3RkEBlGvuDFNTSF4CyBX6rq/iJSCryjqgPTISDk lmsIUp9rnuzgmci848qqakY/tcA1gNyhGI4u+YR//WMS336zitI+w+j6o3MJ7LBbq0K6tswgKC4S isBVDgFuj3JtRRO+v7HksO6fhpHagrI5qjpERKpUdVDo2AJVHZAiWeOSa4Yg1cQbruJGpDKMdY7I 2QCdd+1Lp8N/RYfd9m/xmshYRbJ1DOGWFuCclRUmkcKZgeNe9tSK2jAKkVQWlNWFdgEaOvFeQNqq io3k8+N3KSuNuXquW72M9a89zNZl8yjushPdTxztOhugpra+WeF6NQJlpQHGntTPcXU/alC563zk RD7v2JNau4qs+6dhJIYXQ3Aj8F9gNxF5gmAzufP8FMoPcrk1QDIjIUsDxYzYp4ejS6lh41pq3nyc zQtfpah9R7qO+DXb/fBE17bQySAE20XHojwFhTNtaSJnGEaQmIYg1Er6Y+BkYBjB7/dlqro2DbKl DKeOotHB1GzGa0fTsMsmPIc3uqahadsWvntvGt/NrkS1ke2G/pQuB58Rty10MnQpjW9UUlU4Y20f DKNtxDQEqqoiUqmqgwHnfXwOEGuqWFuGlqdrFRq56nXz0UcObA9zRSjnXpsa2bTgJWre+hdNW2ro uM9hlP3oXNp33Tlm7/+24KWGzVbzhpEdeHENvSsiQ0P1BDlJok2cYin5yqrgwJbIVMp07DDCq163 oG/Hknatrt2zSwc+nfO642wAAX5x0O7M/HhN0oHoWDakxmOqqa3mDSPzeDEEI4DfishyYDMhHaCq B/gpWCpJpIlTLDcS4OqiSWSHkexuorKq2lVpV9fUstd102lUpaw0wHdfLmblyw80zwbocfKYFrMB FHji3RWcNWz3uIPdo4kMArsZJpvZaxi5gxdDcJzvUvhMIr7oeMPpY/np462sK6uqW6VNet1NhA1U LBpVadjwDUuf+342QLefXOw6G0AJ9vnpGChiS31Ti+ditb3e1tDULNOWuoZW542+t7kcqDeMQsDV EIhIB+C3QG9gIfCgqrb+1ucAbr5oCObXRx5rSy9wAdful7GKwrzsJuI1s2vcuonvZk3hu3nPI1Kc 0GyALfVNBIqFTiXt2FBb30JZO634a+sbGff8IrbWN7WSKTplNNcD9YZRCMTaETwK1ANvEtwV7Adc lg6h/MCpnYOTgirr6NxKIezqiLXqV9xbG8RT5PEMjevg9OjZAP2PouzQxGcD1Dcqndq3a5Xy6XZd t3YTndq3jFX4Eag3DCO1xDIE+6lqfwAReRB4Pz0ipQc3BdW+XRGlgWJXN1K8NM5kdxTxfOrRcY7g bIA3qXn90ZTNBnDz9ScSTI7+nJmYtmQYRmLE6j7avOTLVZdQLNwU0Ybaetde4F5647sp9FiK3kvu fGQH0q1ffsjX/7yKtc/dGpwNcPr4uLMBAkXSouOoE05zC5w6n5YGiilzqROI/pzJ3A/DMNJLrB3B ABH5LvSzAKWhx+Gsoe19l85HYmUSxUppDD/n5POPpdDdisKc8v/drlu9/DNuGHM96z56m+LO3djh +Mvp1G9E3LbQ0X57t9YOTp1NRw0qb9H5tFiEUwaXM2SPbp4+fyamLRlGrpPuBAtXQ6Cq/jSdzxLa qqASLYaK9frKqupWQevI86xevZpx48Zx7733Ulpayu5H/xrd/3iKAh3iyunUfM2ttUNZaaCVHADT 5lY3G4lGVabNrWbIHt2YcHL/uJ/fy32yrCLD+J5MJFjE7T6aDfjVfTQbFJDbzmLCyf3ZVlvLNeMm 8OVrk9GGbRx7yjk8+n+3Mqu6PqGJY9HtmJ2uGSgSEFrMRi4NFNO+XZGv3T1jfX4zBkYh4labk8x3 LpXdR/OWZKpaU208nILWW7bVcfGNt7H2tcdo2Pht82yAj3fYjQP/OpvyslJOGVzOix+sijssxskX 77RK31LX0OpctfWNrsYmVcFeyyoyjJZkIsGioA1BovixZYv+5dYum8f6mQ9Rv2Y5JT37sNOJo5tn A4TX6tU1tUybW91qWEx04VcsV1e0EezlEjdwI1XBXssqMoyWJNIJIVWYIYgi1orfbfV61ZMLgOSM QfiXXrd6GetnPsTW5VVxZwOErzvppSW8XXFki+KtZHcrbn98nUqKaVJ8C/b68UefDS4/w0iWTCRY mCGIIN6K322V2qia9M7g14O257LRE4KzATp0ouuI37DdD0d6mg0QLU8irq5oZTlinx5Mmf1lixgB QF1DE2ccuBszP17T4rWTXlrCFVPmt1nRpvqP3iqZjVwnE11589YQJLMqjOevjlVclahfe+PGjdxy yy389a9/ZWtdQ1KzAZJdNTspy2lzq2lXJK0MQX2TMvPjNS1mH6dS0ab6j95iDkY+kO6uvL4ZAhF5 CBgJrFbV/UPHugFTgD2B5cDpqro+1ddOVlnF81fHGxDjxa9dX1/PAw88wNixY1m9ejU///nPOeKs S7njvQ0JDadvy6rZTVm6Efm5/FC0qfyjt5iDYSROrMritvIIcGzUsQrgVVXtA7waepxy4nUQdSNe FWy4stipAjfW+yHYEuLZZ5+lf//+/O53v6Nv37689957TJ48mYtGHhyzYrk0UNxcFRxd7ZwMiSrF yM+V7YrWKpkNI3F82xGo6hsismfU4Z8CR4R+fhR4Dbg21ddOVll58VeHla/TzmBLXYNj99HZs2dz 9dVX88Ybb9C3b18qKys56aSTmmcDxDqvAKcMLufmUf1jyu6Em3vMzcXVtWOgVUfR6M+fiYyGRLBK ZsNIHD93BE7spKqrAEL/7+j2QhG5UETmiMicNWvWJHSRZFeFkb2EYq28w6+L7rezfkuw0KuyqhqA ZcuWceaZZ3LggQeyePFi7r77bhYuXMhPf/rTFkYgjNNORoGZHyf2+eF791h1TS3K9+6xyqpq1/5B N57YL+7nd3tvtihar79DwzC+x9fK4tCO4IWIGEGNqpZFPL9eVbvGO0+ilcVtrVaNF2gOP+8WON6p fQOHbX6Tu+66i+LiYq688kquueYaZny2MeZ5e1W86DgpzKk6OB7xqhPbkmJp6ZmGkRtka2XxNyLS U1VXiUhPYLUfF2lLJkq8QHOsATPaUM/GeS/w5TtTmL1tM+eddx7jx49n11139RTATnSkZqzPF889 1pYArc0ZNoz8It2G4DngXGBi6P9n/bpQssoqXlaMo/smajZAWZ+hvD71AQ444ADP5wXv/m0vRiXe gJ1cwXYfhuE/fqaPTiYYGO4uIl8BNxI0AE+KyG+AFcBpfl0/WeKtpKOf3/rlh6yf+RB1qz4h0GNP djvzZu4cfR4HHFDu+P5Y1/O6k4lnVCqrqtm0tfUIiUCxZI0v3wtWHGYY6cHPrKEzXZ46yq9rpoJ4 7pnw8/XffsX61x+hdum7FHfegR2Ov5y9hx/PNcft16yMIxW61xW6l51MPKMy6aUl1De1jjZ0KmmX UwrUisMMIz1YZXEU8dwzFwzdgSuuHUPNvOlIoD1lh/+SHQ/+GbecMTTmwPZAkRAollZtnpNZoccz VrGmr+US2V6zYBj5QrrTR9NCrNTJeLilHx7dtyt/+tOfuPRnh/Hd/P+w80Ej2fXC+9nvuHNbGAFw XsnWNymdStqlJK0xXgpnvhRV5cvnMIxsJy93BG11KUS6ZxobG3nsscfY+8Q/Ul1dzahRo5g4cSJ9 +7qv5GOtyOffeHQCn8RdPnCPJeRLUVW+fA7DyHby0hCkwqVQWVXN/7vrCZa+8A/q1yynz/4DeWPy ZA477LC4701H9W28ucqQ3u6FfpAvn8Mwsp28NARtVcR3THmFMddXsPnzebTrshPdT7qGov5H8G3n H3h6fzasZPMl1z9fPodhZDN5GSNItg3CV199xa9+9SuuOPMYald+QtcRv2GX8++h076Hs7WhKW7T ujDW5sAwjFwib4fXJ5I19N1333Hrrbfy17/+lcbGRjoMOIHtDzmD4g6dW722vKzUdzdFMhlPVnhl GEY0XltM5K0h8EJ9fT33338/Y8eOZc2aNfz85z/nz3/+M2dPWeboWnKaCZzqlX4yfZLa2lvJMIz8 xKshyEvXUDwiZwP8/ve/Z9999+X9999n8uTJ9OrVy9G1FG0EwNuMAwgq6uETZ9Cr4kWGT5wRM401 mVkKyc5fMAzDgAI0BO+//z4/+tGPGDVqFADPPvssr732GkOHDm1+jZOP323fFC8TKdGahmQynqzw yjCMtlAwhiA8G+Cggw5iyZIlzbMBogfEhBk1qJy3K45k2cQTeLviSNfpYfEykRJdrSdTRGWFV4Zh tIW8NwTr1q3jqquuYp999uHZZ59lzJgxfPrpp1x88cUEAoH4JwiRbCaS26q8uqbWcVeQzHWyfViM YRjZTV7WEYT5+9//zh//+Edqamo477zzuOmmmygvT74HPyRe3ORW0wA4dtJM5jpWeGUYRlvI66yh 66+/nnnz5nHrrbe2mA2QTmINsoHvJ4YZhmGkmmydUJZWxo8fT7t2mf2I4VX55VPmOz5vAV3DMDJN XscIMm0EwowaVJ50sNkwDMNv8toQZBMW0DUMI1vJjiVzAZDugK6fLSesnYVh5BdmCNJIujpp+jnr 1+YIG0b+Ya6hPMTPlhPWzsIw8g8zBHmIny0nrJ2FYeQfZgjyED9bTlg7C8PIP8wQ5CF+ZihZ9pNh 5B8WLM5D/MxQsnYWhpF/5HWLiXRgqZSGYWQr1mIiDVgqpWEY+YDFCNqApVIahpEPmCFoA5ZKaRhG PpARQyAix4rIEhH5VEQqMiFDKrBUysIlkTnUhpHtpN0QiEgx8HfgOGA/4EwR2S/dcqSCbEqlNMWU PhKdQ20Y2U4mdgQHAp+q6ueqWgf8G/hpBuRoM05D7iec3D/tgWJTTOnFYkNGvpGJrKFy4MuIx18B B2VAjpSQrkZysYilmDItWz5isSEj38jEjkAcjrUqZhCRC0VkjojMWbNmTRrEyl1MMaUXiw0Z+UYm DMFXwG4Rj3cFVka/SFXvU9UhqjqkR48eaRMuFylkxZSJ2Eg2xYYMIxVkwhDMBvqISC8RKQF+DjyX ATnyhkJVTJmKjWRLbMgwUkXaYwSq2iAifwBeAoqBh1R1UbrlyCcKtf9PJmMj2RAbMoxUkZEWE6o6 HZieiWvnK4WomCw2YhipwSqLjZylkGMjhpFKzBAYOUuhxkYMI9VY91EjZynU2IhhpBozBFHYfIHc ohBjI4aRaswQRGDzBQzDKEQsRhCB9ZAxDKMQMUMQgaUjGoZRiJghiMDSEQ3DKETMEERg6YiGYRQi FiyOwNIRDcMoRMwQRGHpiIZhFBrmGjIMwyhwzBAYhmEUOGYIDMMwChwzBIZhGAWOGQLDMIwCR1Rb zY3POkRkDfBFpuVoI92BtZkWIouw+/E9di9aYvfje9p6L/ZQ1bhD33PCEOQDIjJHVYdkWo5swe7H 99i9aIndj+9J170w15BhGEaBY4bAMAyjwDFDkD7uy7QAWYbdj++xe9ESux/fk5Z7YTECwzCMAsd2 BIZhGAWOGQIfEJGHRGS1iHwYcaybiLwiIktD/3fNpIzpQkR2E5GZIrJYRBaJyGWh44V6PzqIyPsi siB0P8aFjvcSkfdC92OKiJRkWtZ0ISLFIlIlIi+EHhfyvVguIgtFZL6IzAkd8/27YobAHx4Bjo06 VgG8qqp9gFdDjwuBBuAqVd0XGAb8XkT2o3DvxzbgSFUdAAwEjhWRYcAtwO2h+7Ee+E0GZUw3lwGL Ix4X8r0AGKGqAyPSRn3/rpgh8AFVfQNYF3X4p8CjoZ8fBUalVagMoaqrVHVe6OeNBL/w5RTu/VBV 3RR6GAj9U+BIYGroeMHcDxHZFTgBeCD0WCjQexED378rZgjSx06qugqCyhHYMcPypB0R2RMYBLxH Ad+PkCtkPrAaeAX4DKhR1YbQS74iaCwLgTuAa4Cm0OMdKNx7AcFFwcsiMldELgwd8/27YoNpjLQg Ip2BacDlqvpdcOFXmKhqIzBQRMqAZ4B9nV6WXqnSj4iMBFar6lwROSJ82OGleX8vIhiuqitFZEfg FRH5OB0XtR1B+vhGRHoChP5fnWF50oaIBAgagSdU9enQ4YK9H2FUtQZ4jWDspExEwguzXYGVmZIr jQwHThKR5cC/CbqE7qAw7wUAqroy9P9qgouEA0nDd8UMQfp4Djg39PO5wLMZlCVthHy+DwKLVfWv EU8V6v3oEdoJICKlwI8Jxk1mAqeGXlYQ90NVr1PVXVV1T+DnwAxVPYsCvBcAItJJRLYL/wwcDXxI Gr4rVlDmAyIyGTiCYOfAb4AbgUrgSWB3YAVwmqpGB5TzDhE5FHgTWMj3fuDrCcYJCvF+HEAw4FdM cCH2pKqOF5EfEFwVdwOqgLNVdVvmJE0vIdfQ1ao6slDvRehzPxN62A74l6r+SUR2wOfvihkCwzCM AsdcQ4ZhGAWOGQLDMIwCxwyBYRhGgWOGwDAMo8AxQ2AYhlHgmCEw8hYRaQx1cfxQRJ4SkY5puu6e IlIbuvZHIvJYqKgu2fNtiv8qw0geMwRGPlMb6uK4P1AH/DbySQni13fgM1UdCPQnWB17uk/XMYw2 Y4bAKBTeBHqHVuuLReRuYB6wm4gcLSLviMi80M6hM4CIDBWRWaHZAe+LyHaheQIPh3rGV4nIiFgX DfUVep9Q47RQw7lJIjJbRD4QkYtCxzuLyKshGRaKyE99vRuGEYEZAiPvCfWtOY5gdTNAX+AxVR0E bAbGAD9W1R8Cc4ArQ8NQpgCXhWYH/BioBX4PoKr9gTOBR0WkQ4xrdwAOAv4bOvQbYIOqDgWGAheI SC9gK/CzkAwjgNukkDvzGWnFuo8a+UxpqN0zBHcEDwK7AF+o6ruh48OA/YC3Q3q3BHiHoLFYpaqz AVT1O2humXFX6NjHIvIFsDfwQdS19wpduw8wVVXDzx8NHCAi4V46XUKv+Qr4s4gcTrAVRzmwE/B1 Km6EYcTCDIGRz9SG/PTNhJT95shDwCuqembU6w7Auf2x11X6Z6o6MNQt8jUROUlVnwu9/xJVfSnq eucBPYDBqlof6sjputMwjFRiriGj0HkXGC4ivQFEpKOI7A18DOwiIkNDx7cLuZjeAM4KHdubYCOw JW4nDw0SqQCuCx16Cbg4nEUkInuHOk12Idibvz4Ud9gj9R/VMJwxQ2AUNKq6BjgPmCwiHxA0DPuo ah1wBnCXiCwgOEmsA3A3UCwiCwnGEM7z0BmzEugoIocRHMn4ETBPRD4E7iW4M38CGCLBgeVnETRE hpEWrPuoYRhGgWM7AsMwjALHDIFhGEaBY4bAMAyjwDFDYBiGUeCYITAMwyhwzBAYhmEUOGYIDMMw ChwzBIZhGAXO/weql3DbMjvI3AAAAABJRU5ErkJggg== ",
text/plain: [
"<matplotlib.figure.Figure at 0x262d53352e8>"
]
},
metadata: { },
output_type: "display_data"
}
],
source: [
"# In[12]: ",
"scatterPlot(y, p)"
]
},
{
cell_type: "markdown",
metadata: { },
source: [
"#### É possível verificar que o R^2 continua baixo para os dois últimos grupos, porém o R^2 geral da validação cruzada foi maior que o da validação cruzada no método de mínimos quadrados ordinários."
]
},
{
cell_type: "markdown",
metadata: {
collapsed: true
},
source: [
"### 3.6 LASSO: Comportamento de cada coeficiente da regressão de acordo com a variação do parâmetro de regularização $\alpha$."
]
},
{
cell_type: "code",
execution_count: 58,
metadata: { },
outputs: [
{
data: {
image/png: "iVBORw0KGgoAAAANSUhEUgAAAY0AAAEOCAYAAAB1g0unAAAABHNCSVQICAgIfAhkiAAAAAlwSFlz AAALEgAACxIB0t1+/AAAADl0RVh0U29mdHdhcmUAbWF0cGxvdGxpYiB2ZXJzaW9uIDIuMS4wLCBo dHRwOi8vbWF0cGxvdGxpYi5vcmcvpW3flQAAIABJREFUeJzsnXd8HMXZx7+ze1136pIlW7Yk945t DJhqg4GEDiEhjRBICAkktBeSN4TQ3wCpJIEQIMVACgFCqAkBDJhmunHvTVazerl+e7vz/rGnZsu2 jGWdJM/38xnP7Mzs7nOn8/52Zp6ZEVJKFAqFQqHoC1q6DVAoFArF0EGJhkKhUCj6jBINhUKhUPQZ JRoKhUKh6DNKNBQKhULRZ5RoKBQKhaLPKNFQKBQKRZ9RoqFQKBSKPqNEQ6FQKBR9RomGQqFQKPqM I90G7A/5+fmyrKws3WYoFArFkOLjjz9ulFIW9Me10iYaQggP8CbgTtnxTynlLXs7p6ysjI8++mgg zFMoFIphgxCior+ulc6WRhw4SUoZEkI4gbeFEC9KKd9Lo00KhUKh2AtpEw1pL68bSh06U0EtuatQ KBSDmLQOhAshdCHEcqAeeEVK+X467VEoFArF3kmraEgpTSnlLKAEOFIIMX3XOkKIy4QQHwkhPmpo aBh4IxUKhULRyaBwuZVStgJLgM/2UvaQlHKulHJuQUG/DP4rFAqF4lOSNtEQQhQIIbJTaS9wMrA+ XfYoFAqFYt+k03uqGHhECKFji9cTUsoX0miPQkEykSARi5KMxzHisc60aZogJUiJlBKJBAmapqE5 nOhOJw6nE93hQHc60R1OHG43bp8P3eFM98dSKPqNdHpPrQRmp+v+ikMPKSVtdTtpqt5Bc3UVLTtr iLS12qG9jUhrK0Y81u/31Z1OXB4vjS2tJKVk6oyZuLxeXF4fnowMPP4Angy/HfsDePzd0wEcTiU6 isHDkJoRrlDsD4lohNrNG6nduJ6aTeup3bSBWCjYWe7NzMKfnYM3K5viwiIysrPxBrJwejx2cHcF zaEjEAhNAAIhBAiwTAsraWAaBslkEtMwMFPHRjxGIholEY2QiEbZ9NyzOIRA0zQiba207qwhFg4T CwWRlrXHz+Fwu/H4A3i7CYs7w2+LS2ee387rOM7w4/b5ENqgGLZUDCOUaCiGDZZpsnPLJipWfkLF qk+o2bi+82GcVzKG8UccTfGEieSPLiV35Gg8fv+A2vd/f30CgJ/fclePfCkliWiUWCiYCiFi4a50 NBQkHg51HrfUVhMLBYmGgpiGsecbCoHb5+sSkU5R8Xcd+7uLTAYunw+Xx4vL58PhdNniqFB0Q4mG YkhjxGNsX7GMTe8vZesnHxIPh0EIRpSP54izz6dkynSKx08acIHYH0Tq4e72+cgqHLFf5xqJOPFQ iFiHqITDKYHpEJ6QfZwqDzY1dpZbZnLvdmkabq8Pp9eL2+vD5fV1dqt1xXa6o57L4021ztx2SLXY HG43TpdbtXyGAUo0FEOOpGGw5aP32fDum2xb/jHJeBxPIJPxc4+mfPbhjJ42E19mVrrNHBCcLjfO XDf+3Lz9Ok9KSTIe72rFhEPEw2ESsSiJSMSOU91qiWiEeCovFg7R3tjQVRaL2g4CfcThctsC4nZ3 6/6zj3Wny3YkcDjQusWa7ujK3yWt7Vpf0xGahqanYk1H07SeeZ1lGiJVvmtZj3P1rmuolpcSDcUQ om7bFtYsWcy6t5cQCwXJyM5h2gkLmXDUMYyeOgNN19Nt4pBBCNE5dkP+p5//JC2rc+wmHo1gRKMY CdvzzIjZcYcnmh3iGPE4yXgMI9aVF2lvS40HJbHMZCo27fGhZBIrae6zZTQQCNFTgISwx7kEAjqO uwWESJ2TGgvTupf1vX5n/m51ATrSopudqTz7oF+/AyUaikFNMpFg/Ttv8Ml/X6B++xZ0h4PxRxzN 9AUnM2bmLDRNCUU6EZrW2U3lZ/9aO/uLlBLLNLGSyV3ExY47hEZaFtKyOtOWZWJZFtK0Y8sye5R3 pC3LQu5at3udbud11LW9sC2kJQGJtCRSWtCRn3LRRkr7OthCK7u7b/e5voXEBGGAsGMpLIRIInUT NDsthAWaCVoSOtL9iBINxaAk3NrCilf+w4pXXiTS1kr+6FJO+sZ3mHzsfLz+QLrNU6QBIURn19RQ cUKWUmJZUQyjjWSyPRW3YSTbSCaDmGYkFcKYya50snt+ZzrCYFjTVYmGYlDR3lDP+888wZolizGT ScbOOYI5p5/DmOmHqf5kRdqxrCSG0UIi0dgVjEYS8QYSRhOG0YJhtNvCYNjCIGVir9cUwoWu+9B1 L7qegUP3oes+nJ7iVL4PXc+wyzUvmubuFlxoetex3qOsK0B2v30HSjQUg4IOsVj9+mIApp94Moef cR65I0el2TLFoYJlGcTjdcRiNcTjtcRiNcRScTxeSzxej2G00Nvbvqa5cbnycTpzcDqy8HiKcTgy cTqycDizcDoyU3GWne+0Y133oWmugf+wB4ASDUVaCbe28O4/H2PVay8DMOOkUzny3C+QeQCDswrF nkgmw0SjO4hGK4hEK4hGtttxtIJ4vI5dBcHhyMbjGYnHM4qszNm4XPm7hDxcrnx03X/ItISVaCjS gpGIs+zfz/LBs0+STCRSYnGBEgtFv5BMBgmHNxMKbyQc2mjH4U0kEj23V3A68/D5SsnJORqvpwSP ZyRuz0g87mI8qe4hRU+UaCgGFCkl65e+yVt/f5hgYwPj5h7FCV+9hNyRJek2TTFESSQaaW9fRXtw FcH2VYTCG4jFqjvLNc2LP2MCebnH4/OV4/WV4fOW4vWOweFQThX7ixINxYDRXFPN4j/+jso1Kyko G8tnL7+WMdNnptssxRDCsgza21fQ2voh7cFVtLevJB6vTZUKMjLGk5V1OKNGfpkM/0T8GRPxeEYh hJqJ3l8o0VAcdCzL5KPnn2bpk3/D4XRx8qVXMGPhZ9QcC8U+kdIiFFpHc8u7tLQspbX1w5TrKXi9 pWRnzyUzMINA5kwC/qk4HBlptnj4o0RDcVBpb2zgv7/7FZVrVzHhyGNY+M3LycjOSbdZikGKlJJo dDvNzUtpbllKS8t7JJOtAPh84ygq+hy5OceQk3MkTqf6HaUDJRqKg8aGd99m8R/uw0wm+czl1zBt /sJDxsNE0XdisVpaWpamWhPvEo/vBMDtLqYgfyE5uceQkzMPj7sozZYqQImG4iCQiEZ47eGHWLNk MUXjJ3L6ldeTUzQy3WYpBgmWZdDW9jGNTa/T1PQG4fAmAJzOXHJy5pGTczS5Ocfg9Zaql4xBiBIN Rb9Sv30rz99zF211dcw7/0vM+9yX0B3qZ3aoYxgtNDS8SmPT6zQ3v41phhDCSU72kYws/gI5ucfi z5ioBqyHAOp/s6LfWPX6y7z2pwfw+P1ccMudlEyZnm6TFGnEMFqob3iZ+voXaWlZipQmbncRI0ac QX7eAnJyjsHhGLz7nCh6R4mG4oAx4jFe/dMDrHljMWOmH8YZV30fX1b/rXWjGDqYZoT6+hfZWfd8 p1B4PWMYM/pSCgtPIxCYrrqchjhKNBQHRHNNNc/fcxeNlRXMO/9LHP35LytX2kMMKSWtbR9RW/tP 6utfxDTDtlCM+RYjCk/H75+qhGIYkTbREEKMBh4FigALeEhK+Zt02aPYfza9v5T//v4eNIeTz/3w VspnHZ5ukxQDiGG0UVPzONU1jxGN7kDXMxhReAbFxeeTlXW4EophSjpbGkngOinlMiFEAPhYCPGK lHJtGm1S9AFpWSz952O899RjFI2fyFnX/pDM/MJ0m6UYICKR7VRWPUxt7VOYZoTs7CMpL7uSwsLP qrWaDgHSJhpSylqgNpUOCiHWAaMAJRqDmEQ0wou/u4fNH77LtPknc/KlV+BwDa2lnRWfjmBoPdu2 3UtDw0sI4aBoxFmMHn0JgcDUdJumGEAGxZiGEKIMmA28n15LFHujtW4nz/78DpqqKllw0beYc/rZ qgviECAYXGOLReMr6LqfstLvUFJyEW63al0eiqRdNIQQfuAp4BopZXsv5ZcBlwGMGTNmgK1TdLBj 9Qqev+dukJLzf3Q7pTNnpdskxUEmGFzL1m2/prHxVRyOAOVlVzF69MU4nVnpNk2RRtIqGkIIJ7Zg /E1K+a/e6kgpHwIeApg7d276N8g9BFn+0r957eEHyR1Zwrnfv4nsouJ0m6Q4iESjVWzd+it21j2L w5HF2PJrGD36YrWMuAJIr/eUAP4ErJNS/ipddij2jGWZvPGXP7PsP88y9vAjOePK63F51UDncMUw Wtm+/X4qq/6CEILS0u9QOubbOJ2Z6TZNMYhIZ0vjWOBrwCohxPJU3o+klP9Jo02KFEYsxr/v/Tlb PnqfOaefw/yvfUPNvximWJZBVdVf2Lb9XpLJIMXF5zO2/Bo8HtWiVOxOOr2n3gbUKOogJNTSzDM/ u536bVs56ZJvM/uzZ6XbJMVBornlXTZuvI1weBN5uScwfvwP8fsnpdssxSAm7QPhisFFw47tPH33 bcRCQc79wU2MnXNEuk1SHARisVo2bb6T+vr/4PGMZubMhyjIX5husxRDACUaik62L/+Y5399Ny6P ly/e9lNGlI9Lt0mKfsayklRWLWLbtt8ipUl5+TWUjvkWuu5Jt2mKIYISDQUAq157mVf+cB/5o0s5 739vIZCXn26TFP1MMLiOdet/SDC4mvz8hUyccBNe7+h0m6UYYijROMSRUvLBM0/y9j8epeywOZx1 7Q+Vh9Qww7LibNv+OyoqHsThyGL69HspLDhNTcxUfCqUaBzCSMvijb/+iY///SyTj53PZ6+4Vm2Y NMxoa1vG2nU3EIlspqjoPCZOuFHtra04INQT4hDFTCZ5+cHfsvbN15h92lmceNG3EJraNW24YFkJ tm77DRUVD+JxFzPrsD+Tlzc/3WYphgFKNA5BjEScF+65m63LPuTYCy7kqM99UXVVDCNC4U2sXXMd wdAaRhZfwIQJN6od8hT9hhKNQ4xYOMQzP7ud6g3rWPjNK5h16unpNknRT0hpUVX1KJu3/Axdz2Dm jAcoKDgl3WYphhlKNA4hwq0tPPWTm2iqruLMq3/ApKOPT7dJin4iHq9n7drv09zyNnl5JzJlyt24 XcoDTtH/KNE4RGjdWcs/77yJSGsr5/3wFspmzk63SYp+oqnpLdas/R9MM8KkSXcwauSXVXej4qCh ROMQoH77Vp6682Ys0+QLN/+E4vFqmYjhgGUl2bbt12yveICMjPFMn/53/BkT0m2WYpijRGOYU7Vu Nc/87A6cXi8X3HwXeSVqMtdwIB6vY/Xqq2lt+5CRxRcwceLN6Lo33WYpDgGUaAxjtnz8Pi/c81MC BYV8/sbb1T7ew4SW1g9ZvfpKkskQU6f+kuKic9NtkuIQQonGMGXNG6/y0gO/obBsHJ+74VZ8mWq3 taGOlJLKqofZvPluPJ4SZs96RK1IqxhwlGgMQz564Wne+MufGDP9MM65/ka1LMgwwDQjrFt/I3V1 z5GffzLTpv5C7aSnSAtKNIYRUkre/sejfPDMk0w86lhOu/J6HE5nus1SHCCRyHZWrbqCUHgj48Ze R2npdxBCzd5XpAclGsMEyzJZ/Mf7WfXqS8w8+bMs/Oblaqe9YUBT05usXnMVQjiYddgi8vLU3BpF elGiMQxIJhL8595fsOmDpcz73Bc55oILlZ/+EKdj/GLTpjvx+ycxc8YDeL0l6TZLoVCiMdRJRCM8 +4v/Y8fqlZz49W8x5/Rz0m2S4gCxrAQbNtxCTe0TFOSfwtSpv8ThyEi3WQoFoERjSBNpb+Nfd91C /fatnPa965h6/InpNklxgCQSzaxa/T1aW9+nrPRyxo79HzV+oRhUKNEYorQ31PPPn9xEsKmRc7+v 9vIeDoRCG1m58tvEEzuZNvUeiorOTrdJCsVupFU0hBB/Bs4E6qWU09Npy1CiqWoH//zJTRjxGJ+/ 8Q5GTZ6abpMUB0hj4+usXnMNuu5lzuzHyMqalW6TFIpeSXdL42HgPuDRNNsxZKjZuJ6nf3obutPJ F2+5m4LS8nSbpDhAqmseZ/36HxPwT2HmzAfxeIrTbdKhhZRgmWDGwUyAadhxMt6V7oy75yUgmehK d+RLE6wkWFa3dCqWVrf0HupJM1Wnez3TtlNaQCruNdB7fj+SVtGQUr4phChLpw1Die3LP+bZX92J PzuX82+8g+wRRek2SXEASCnZtv1etm37DXm5JzB9+n1qwHtPSAmJMMSDEG+341hbz+NEBJJRMLqF 3Y5jYETASMXJmC0OyINnu9BB00FzdEvrqbRjl+M91eseCxDa7oGO/F3LBfBJv32cdLc0FH1k/dI3 efG+X5FXMprzf3Q7Gdlqn+ehjGUl2bDxZmpqHqe46HwmT/4JmjaMJ2JKCYkQRJoh2gzRllS6BWKt KRFo30UUOo5T4tCXN2ahg9MHTi84PXbakYo9meAsSh13K3N4QHeB7rRjhyt13JHn7lm+xzpOO3R/ 6Hc+tNPNon670qAXDSHEZcBlAGPGjEmzNelh2YvP8/ojD1EyeRrn/uAm3D71NjqUMc0oq9dcTWPj q5SVXpHykBoMD5b9JBGBUB2E6lNxt3S40RaHDmGItoBl7Plautt+qLsD4E7FueVdx7uWebJ6HrsD 4MqwH9qKg8qgFw0p5UPAQwBz5849iG3IwUf3ZUHGHzGP06/6Pk6XO91mKQ4Ar9dk2ScX0t6+gkkT b6Ok5MJ0m9Q7lgXhemithLZUaO0eV9ktgN0QkFFgB18uFEwCb46d9ub2nvZkgUP9rocKg140DlUs 0+SVP9zH6tdfYebCz7LwUrUsyFAnOzvJV77SQCjUxIwZv6Ow4DPpNciyoL0KmrZA02Zo3mqnm7fY wmDGe9Z3Z0H2aMgeA2XHQqAY/CNSodCOfXmgq8fKcCbdLrePAQuAfCFEFXCLlPJP6bRpMGDEY7zw 65+yddmHzDv/yxzzha8Mze4LRSfB4BouvqQOhwNmz/ob2dlzB+7myTg0boL6dVC/Fho3psRha09h cHghbxwUToVJp9vikDXaFoqsErtF0J9I2eURtNfQrc4ePYf2cZ2O+3UMeHf2WcheymQ/lqWOdytj L2W9daj0ktfXev1Mur2nvpzO+w9GoqEgz/z0dmo2rWfhN69g1qmnp9skxQHS1Pw2q1ZdgWUJHl5U wJln9INgSGm7dybCKW+gqB03b4WGjXbcss1uMQRr6XyYCC3VNZQNI6alxgJ8tmDozi43z+atttBY yb0Esytt7lImu7mI7unBPgAPOEX/o9qRg4j2xgb+ddcttO6s4axr/peJ845Lt0mKA2TnzmdZu+4H ZPjGsejP7cTDGgTrbA+hWJvtORTrSLd15ceDtiB0iEIiAkY4FUfsfGnuv0HSgkijHTRnynvIlfL+ caRcQJ3dXEEdPYPT2+24l/Lu+Z2uoPTuIrqrW+g+y/dVZw/XQXTzYNolDbuUsZeyvZ23l7LO476U 7XL/7vTa29DHerf132RRJRqDhKaqHfzzzptJRCKc/6PbGT1tZrpNUvQFIwrtNV0eQ5FGCDchI41E Gt7D2byGeZYXr9zCU7PrcGkSfjlxz9cTepenkMtvu4W6fHZs+MARhKiw5xeYKdEQDrv7KG8s5E2A /AmQNz41wOyxB5l1lx073F0upJpa00qx/yjRGATUbFzH03enZnnfejeFZWPTbZIC7Lf61gpoqYBg DbTXdotrbbGItfZ6quVwIRxJvL5cvAVzEBmFPPXcywSTOpddeb09qOzJsgXCk0q7M223UdOAulVQ +UFXaK+yL+zwQNEMmHwmFB8GI2dBwWTlaqoYMJRopJktH3/AC7/+Kf7cXD5/4x1kFapZ3gOGZUFo J7Rs7z2E6nY5QYB/BDJQhPSPQubNRLpysZw5WFoACx+GpbHV8RTNrlUUhI5mZP18wi0JZINB3Yr3 0CTsfLkezBpk0kSaSYjHkME6ZHs9hBqRkbauwVuHxx5/8BwDnmxwB5CVAgiCfAt4y6636/CAwF4d Vwi7RSEEQkt1g/TxGE3YDhhiD8d7usbezvkUx/Z1u3UzCezjjm6dHud1vz/d8rTOczuv13l+t+t1 u2bXZ+n4jPu4R4eNnX+Dnl1Onc4sorc6u3ZZda8ieq/boxuqD/fqJ5RopJHVr7/Cyw/dS2HZOD73 w1vwZWWn26ThRzxotxRatqdaDds7g2ypQHTzHpIILEcOJlkkk/kYsRKMiBOjXRBvMzGa45jBMDJS D9TvdivLK2n+dpLEREnmUzrOVz+mgY/tQk3jJMvCFIK2Z55GCAmYCGkgrAQIaT+DXB5wF4A7A1w+ hO6yzzeApAGhZvt4bw+gTq8kiexYj8jqGoiWUoKVqmNZSPbv2L5u1z3sOt3u0cuxYvigRCMNSCn5 4Jknefsfj1I6czZn/88NuLy+dJs1NJHSHkto3GiHDlForbBFIdrco7olnSQTXhLtGvFmF4mgByOk kwg5MCI6WAJEAj3Li57lQgsE0DMDOEYHcE31owcy0QJ+9EAALcOP5vMiPB4Md5j1iV9iWDVMzP8+ RTeejvg/L5rbjcBAVH/I3++6nFnZISZl7bQHsTUHjDocyo6zw+ij7O6pYciuItNDePp6bKXcW7uL laQrr8d5dPPY2kXkOvI6hJDu10ud21tep/fXHu7RXRx7dentFnd8Jz3K2K3Ons6X3evsdl4v55x7 7j7/Rn1FicYAYyaTvPqn+1n12stMOW4Bn7n8anSH6o/eJ1JC6w5oWA8NG7pEonGjvURFRzV0TMtP IqwTb0xitAVIhB0YYR0jpCNyinGWjMZVMgrH+GLceXn48nJx5Oai5+bhyMtFz85GOPr+XyMU2sja FZeQFCFmzfozudnzoHY5rHoNtrwOle+DleSCElgXzIDjrhn2IrErnV04ALo9SVXNPBqaKNEYQBLR CM/fczfbVyxTe3nvDdOwxWHnqm5hpe2KmsLS/BgJP7EmF9GabBJtGvF2B8mojqN4JO6x43BPHouz tBTf6NE4R5XgHDUSzd2/y1W0tH7IypWXoeHgcO9XCbz6B9j61S4hK5oJR38Pyk/gzMtuJWbpLLnn 5n61QaEYSJRoDBDB5kaevvs2GisrOPXbVzHjpFPTbdLgwLKgaRNUfWiH6mW2YJgJAKTmJikKiQcL CFdmEt0RJR50YCU0nCNH4p4yBfeJ48kaNw5X+Vjc5WVoGQPw9h4PUb/uPtY0/QlPAmYtb8Qb/wn4 i2DiaTDuJBi7APwFnafErDsOvl0KxUFmv0VD2BsW+6WU7QfBnmFJQ8U2/nX3rSSiET73w1spO2xO uk1KH5FmqP64SySqPu5c+E66AiSdo4klphPZHia0vplEyAFC4hpbjGfKVAKnTKFg6hQ8kyejZw+g 44Blwc4VsMXucqo0lrFxrIesoMVh4Zk4559qC0XhlIPisaJQDBb6JBpCiL8D3wFM4GMgSwjxKynl zw+mccOB7SuW8fw9d+Hy+vjirT899OZgtFbCjnehYqkdN6wHQAoNmT0ewzOTcLOkbVktseoI0Iqe lYVn1myyvjkb76xZeGfMGJjWw64E62yR2LwYtr4OkSYksGVaKRV5XvK9s5h+7B/RPWpvE8WhQ19b GlOllO1CiK8C/wH+F1s8lGjshVWvv8wrD91HfskYzvvhrQTy8tNt0sHFsqBxQ5dA7HjPXkobwJ2J VTSHeNF0whVxWt+vwKhpBEI4iorImPcZcq6Yi3f2bFxlZSm//AEmmYDK92Dzq7DlVXssBexlvsef jDV2AevEUnY2vciokV9m4sRb0TTVw6s4tOjrL94phHAC5wL3SSkNYTuaK3pBSsk7j/+V959+nNKZ sznr2htw+4ahS62Udsth25uw9Q3YsbRrANg/AsYcjTnjYkI7TFrfXEfkrx+BuRE9JwffvKPIu2we GUfPwzlmTPocApq32iKx+VXY/pa9u5zmsD2bFt4M4xZC0UySVoRVq79Hc9NbjC2/hrKy7yknBsUh SV9F40FgO7ACeFMIUQqoMY1eSBoGLz/wG9a9vYTpJ57KyZdegb4f7puDnpYK2PaGLRTb3uyaNZ1T BpPPgDHHYPgnEnxnDe3PvEL0kz+DlLjKy8m79FICp5yCZ+qU9LQkAOIhWxw2v2p3O7Vss/OzS2Hm BTD+ZCg73l7eo+OURCMrVnyTUGgdUybfxciRF6THdoViENCnp5mU8rfAb7tlVQghTjw4Jg1dYqEQ z/3yJ1SuXcWxX/waR513wdB/Gw03wbYldkti2xv2xDmAjEIoPwHGzofy+ViufIKLF9N273OE37sT LAv3pEnkf++7ZJ56Kq7x49PzXUgJdattgdj8qt1lZhn2AoBlx8O8y22hyB3b6wB2JLKN5cu/QTzR wMwZD5Kfr372ikObvg6EjwDuBEZKKU8TQkwFjgYO+Q2TOmirr+Nfd99K685aTv/edUw5fog+XCzT dnvd/Ir9oK1eBkh7Mb2y4+Coy22hKJiMNE3C775L252/I7h4MTIaxTlqFHnfvoyss87CPTZNg/6t lbbAbV1ii104teRH4bSUSCyEMUfvc4vRtvYVrFhxKQBz5vyNrMzDDrLhCsXgp6/9Jg8Di4AbU8cb gcdRogHAzi2bePqnt2EmDT5/4xBc1jxUn+quecX2Foq2AAJK5sKCG2xX0pGzO7fxTGzfTusvf0nr s89iNjSiZWWRdfbZZJ19Ft45cwa+RRFtgW1vpURiib1dKdgD2GMX2GHcQsgs7vMlGxtfZ9XqK3G5 8pk9axE+X3m/m61QDEX6Khr5UsonhBA3AEgpk0KIT7EDzPBj43tv8+Lv7sGXlc0FN99FXsnodJu0 bywLqj+CjS/ZQlG7ws7PKICJn7W7a8adBL7crlPicYIvvkTrE08Q+eAD0HX8CxaQde45+OfPR3O5 Bs5+I2ovzdHRkqj5BJD2/hOlx8IRl9pC8SnnTFRXP8b6DTcTCEzlsJl/xO0u2PdJCsUhQl9FIyyE yCO1EpYQYh7QtvdThjdSSt576h8sffJvFE+czDnX3UhG9iD21zdi9sD1hn/DhhftAWyhw+gj4aQf w/hT7CUvdhmgjm/eTOuTT9Jry5wIAAAgAElEQVT2zLOYbW04S0oouOYasj53Hs7CwoGxPR60RaJi qR2qP7ZnjGsOKDkCFvzQFolRhx/QvhJSSrZuu4ft239HXt58pk+7F4fj0FgbSqHoK30Vjf8BngPG CSHeAQqALxw0qwY5RjzGf3//Gza++xZTTziJUy67EodzEC46GG2BTa/A+hfs7qdEyH4bH3+yvYnP hJPBu7vQyUSC9pdeouXvjxH95BNwOgmcvJCcL3wB37x5B9/zKdLcNSGw4h2oXWmvCit0u5vsqO/Y 4yulx9g73PUDlmWwfv2PqN35L0YWX8CkSbejaYPwb6pQpJm+isYaYD4wCXtxyg3AIblXZLCpkWd+ fgf127dywoXfYO6Z5w0uD6ngTlj7nC0UFe+AlbTnTMz4gu0SW37CHgeAjbp6Wh9/nJYnnsBsbMRV VkbhD35A1rnn4MjN7fWcA8ZMQsO6riVFqj/qnDWO7rZbEsdfZwtEyRHg9ve7CclkiFWrvktzy9uU l19NedmVg+tvqhhySCkxLIOEmSBuxnukE1YCwzQwLANTmpiWSdJKkpTJzrQpe+Z1HqfKTMvseX6q niUtTNkztmT/7mfSV9F4V0o5B1s8ABBCLAMOaBElIcRngd8AOvBHKeXdB3K9g03FyuX8+96fYxoJ zvvBzYydc0S6TbLpEIo1T9tv6EjInwjHXAmTzrC7bfbQOpBSEl22jJZHH6Z98etgWfiPmkXONV8l Y3opwoxB9WtQadpv+1a3WNNBc9pdQprD3ne6R9oFDldXWnfa+w/sXAVVH9ndTDWfgBGxjfHm2sIw 4/NQehyMmrNPD6cDJR6vZ/mKbxIOb2DK5LsZOfKQbUAfUiStJGEjTHuinWAiSMSIEElGiCajuwcj 2mtZLBnbozAYlnHQP4MudDtoOg7hQNM0dKGjCQ1NdKV1offrffcqGkKIImAU4BVCzKZrCfxM4ICm OAshdOB3wClAFfChEOI5KeXaA7nuwUBaFu89/ThLn/w7eaNGc9b/3EDeqDQPePcmFAVT7P79qedC 4WT7wR6stccD2irtdKgewo1YrXW0f1JN87IQ8SbQnBa54yPkjA/jCvwbVv8bVh9E+zUnFM+E2V+z haLkcMgpH9DF/sLhzSxffglGspXDZv6BvLz5A3ZvRf+QMBM0x5ppibXQEmuhOd6Vbk+0EzJCBBPB 3UIkGenzPbwOb4/gc/jwOrwEfAFcmgun7sStu3FpLlx6V3Drbpyas0farbvtcs2FQ3PYD3zNgUM4 Oh/+PWLNgS52iTW9UxD6iujH3Uv21dL4DHAxUAL8qlt+EPjRAd77SGCzlHIrgBDiH8A5wKASjUh7 Gy/e90u2r1jGlOMWcMq3vofT40mPMXsSiqO/a7csjKjdtfOf6+0Ni9qr7e6pbhhxHy3bcmhdD2ZM 4h6RQdGXJpM1fw5aZi44M+yNgVwZ9viH02u3HDTd3hNZ0+2xBU23Ww1mwu5isoxe0gl7b4xk3I7N hN1KKZgCRTPAmabvEWht/YgVKy9D05zMmf13MjNnpM0WRU+klISMEPWReuoiddRH6nuEpmiTLRTx FsJGuNdraEIj05WJ3+kn4AqQ6cqkNLOUgCtgB2egM+13+clwZvQqDh6HZ78eznv8TJ3b5dK13a4l UxsHdtu5L7VroJRAMpXZ0bvUsUMgSUxpYHbfsa/7Zn3djnuk+wnRY9vAPVUS4nwp5VP9emMhPg98 Vkp5aer4a8BRUsrv7emcvFKf/MwPJ9vn03PnLwF0rIa1yxbte627a3lH7LMEn2l3EbB6/mDELt/X rvotdAun20r1Btl1PTJOttmGg929lO3zd9nusZfr6tIiKxZBAO0uD7WZOdQEcgi5e3vw7vJpux9a qZtoGmgaQhvYvnuf5iXg8PbPxT7lfwYpLEK+5biMEZTX3IQrOcLO7/P19uPG3aquXLkSgJkzD2Ae T3+v+NbHD21Kk4TZ1RefsAwM08CSZsqkrn+FpEde56263U/S9bOU3ep19NV374fveEvWNR2n5sQh HF1v6cKBQ9PRO97Wu72V7/Hlen++w10f9LL7Q797vkRa9Ex3bku7H/c7SIz+6QkfSynn9se1+jqm 8YIQ4itAWfdzpJS3H8C9e/uT7vbnFEJcBlwGkDXGQ5tugOgmyr3EHWkpesnbpby3MoB2HVZ6E1xT 52CUseubRk/Te9wjCVZcILyguUAKQZvIpN0RICCDZMs23DK+p0vt8boGgo1FedRm+wl5O/r5kwhC e75Ab4jUf8F+1Yq+XUxKSZAmTOHBpx3csYrd2MXErOBxFDdcgsMK9Hho9e2ziL73onWrZ6YehHsU 6j5fs/+FPmEliCVjxMxYZ7983Ix3pjse4h3flUDg0l2ph7Po9tIldnlL27VjpOP3Z8cS2XUOAl3o +HUvrlQ3jltz2WmHC70f3vi7zNiP71BL/b010ZUWdhqR+nt2T6fKhJaqt6f8jnNE9++sK93zu+yW Ft1+fx22dFTplu6ez08/9Te1G30VjWex52V8DMT3UbevVAHdBwZKgJpdK0kpHwIeApg7d67892Uf 9dPt987KhpVc/frV/MQX5Wcn/IwTSk7o03mVzRF+/Mxq3tjYwIxRWXz75ExebHyRF1sdRH3HIjUP 07ySq8vLOL0gm2Q0ScXqJrZ+0sCONU0kDQvNo9OSqfFxNMpGkcThd3Dq1CI+O6OIeeV5eF39O7A1 UJimyXPPPcc7y1Ywf/58TjxxiC618im5a8FVACz5/dcH/N5hI0xVsIqqUJUdd0tXh6rtgdtuOp7n yaMoo4jijGKKMoooyihiRMYIinx2usBbgK4Nzd+h4sDoa/fUainl9H69sRAO7OVIFgLVwIfAV6SU a/Z0zty5c+VHHw2MaADsDO/kqteuYn3zeq6bex0XTb2oT66YUkr+vaqW255fS1MozsXHlHPRcbk8 sfUpHqmqpcV3ApajkBzd5LLRxVw0qpA8lwMjbrJjbRPbljdSua6ZSLu95WnCq7ERg23CpMktmTQ2 hxMmFXD8hAImFwWGlHuoZVk899xzLF++/JATjgULFgCwZMmSfr+2aZnUR+o7haAyWElVqIrqYDVV oSqaY8096vudfkYHRlMSKLGDvysuyijCpQ/gDH/FQUcI0W/dU30VjYeAe6WUq/rjpt2uezrwa2yX 2z9LKX+yt/oDLRoAESPCj9/5Ma9UvMI5487h5qNv7vN/qLaowS9e2sBf36+gKNPDrWdP4/iJmTy9 +Vl+t/lDKvU5GN7p6JicmuPg+nETmBawndKklDTXhqla10Ll+maqN7SQTNhdBAkNajSTnbpFzK8z rjybw6cXMm9iPiU53kEvIrsKx4IFCwa9zf3BgYpG3Ix3CkJH6DjubC2k0IVOUUZRT0EIlDDabwtF pivzkPjOFTbpEI21wHhgG3b3lACklHJAV+ZLh2gAWNLiwRUPcv+K+5ldOJt7FtxDnjevz+cv29HC j/61ivU7g5wydQS3nj2NokwX79e+z6JNr/FqMIOI7xjQ3BRqQc4uzObS0gmU+boGuU3Tork6TH1F O/UVQaq3ttFWG+4x8BESkpALPDluCkf4GDsmi7FjssjM9ZCR7cbtcwyaB4VlWTz//PN88sknnHDC CZx44okH1baEZVEdM9gRS1ARjRM0LT6Tn8l438B5cO1LNKSUtCfae4hC91Afqe9RP8OZwejAaLvF kBKGjtZDUUYRTjWjXZEiHaJR2lu+lLKiP4zoK+kSjQ5e2v4SP377x+R4crj3pHuZlDupz+capsWf 397GPYs3AnDlSRO49Phy3A6dtngbz29fwiOVVaxPjsBwjwcgVwQ5IdvFhWMmcHRODvouD9VkwqS1 PkpLXZgtW1vZsb2NtoYoIpTEY/Xim60JPH4HGQEXHr8TT4YLr99pp/1OPBnOruMMJ063jsOl43Ae HC+r7sJx/PHHc9JJJx2QcMQtix3RBNui8VRIsC1ip6tiiV6dWOZm+vhScR7nFGYTcBzcPvr5J87H 8ln85s+/oTZca4dQbVc6XLubC2m+N79LGFKi0BFy3DmD5iVAMbgZcNFI3fQ4YIKUcpEQogDwSym3 9YcRfSXdogGwpmkNV712FcFEkF8t+BXHjTpuv86vbo1yx/Nr+e+anYzNz+D2c6Zz3ISuvcNbY608 ue1NnqypZoORQ9w1HoQDl4wy1RPlhNxszioex7TMTLQ9PDCklFQ0hHl/XQNrtzRTXROivTmGxwSv FGRqGrkOBz4pcCYlMr5vn0CHU7MFxK3hdKXExKV15Ts1dJeOMxXb+RoOZ6peh/i4JIVlAXwZtv+7 ZVm88MILLFu2jOOOO46FCxfu9UEYMy12xFLCEIn3EIjqXYQh06FR7nV3hjFeF6UeN6VeF7oQ/Kuu hcdqm9gUiePVBGcUZHPJqHwOz+r7IoUdcwra4m00xZpojDbSFLXjjtAUbaIh2kBtsHa3xXey3dmd g80j/SMpzijuajH4S/A5h+E2wYoBJx0tjVuAucAkKeVEIcRI4Ekp5bH9YURfGQyiAdAQaeC7r36X TS2buP3Y2zlr3Fn7fY0lG+q55bk1VDRFOGNGMT8+cwrFWT3nL8TNOG9Wf8xjVZt4LwgtejlSt7ch dcgoox1BZmQ4OCI7h/kFo5kQyNvjAzeeNNmwM8jKqjZWVbWxvi7I5rog4YSJkOCWUOxxMS7Ly0iv mzyngxy3gyyXA7+u4xYC07BIxk2MhEXSMEnGTZKGRbLjuDM2MY09/65MkaQmcxMVuWuozFtHwhNm esMMRoTK2VrYRGVhBNORi6nnYOg5GFoWCZFJXMvEED0fok4ZJ1MEyRQhskWYbC1KrhYlV4/h1yRO 3dHl15/y4e8MwoEuHFQmvbwXyeSDsI+o1BjjjHK0p54Jjp2YVqzTFTWUCNGeaKct3kZ7or1zCYo9 re2T68klz5tHvieffG8+i59ejBbS+MUtv2BkxkiKMoqUKCgGhHSIxnJgNrBMSjk7lbfyUBnT6I1Q IsQ1r1/D+zvf5/q51/P1afvvRhkzTP7w5lbue30zuia4euEELjm2HJejd3/0hkgDL9esYXFDLavC JjutfJLOos5y3Wwni2ZG6BFGuaHc62aSP8B4fw7Z7m4zYJ1+NKEhpaS2Lcam+hCb6oJsrg+xuT5E ZUuEuvbuntUWLqdBQZZFtj9JZoaB1xNDd7Yj9TYM0Uo42Uyb0UhTrN4ekJWgWW7cjiLyfZPJ8Jbi cBSCyCYS9BCOuohoDsIeQcQLEZeG2cv6WC7ieGUYD0E8VhCXbMdtteG2GnElGxAyZC/iZnUt6JaU yZ6LvqXS+8ISHuIZxxINnIrpHIkwW8kILSE39g4+YeB3+cl0ZXYFtx1nubPIdGXaAuG1BSLHk7Pb mMLB9J5SKPZGOkTjAynlkUKIZVLKOUKIDOxFDA9Z0QB73Zsfvf0jXtr+EhdPu5hrD7/2Uy05UNkc 4bbn17J4XR3jC/3cfvY0jhmfv8/zTMtkQ1s1bzZUsaythY3RJDWGl6DIQYpuDyxpoCcb0cxWNLMN zWzDSxQnCZzCwEkSl0jiwkTKBEnLIGkmSHQEK44UjlRwgnAhhRMpvFgiC0vkYpGNJTKRWgDL4Uc6 M5BOZ6+TqFyAX2hkSUEgLvG0GujNCTLiFm5fPcRqWDB1Bp878Vgy+mmcQUrZJSbdVhXtsXKoNFNr BLlYFpL8pTbIa81BPJrgwpF5fGd0IaM8n94VVYmGIl2kQzSuByZgLy54F/AN4O9Synv7w4i+MthE A2zPqrs/uJvH1j/GWWPP4rZjb/vUXiuvrqvj1ufXUNkc5azDRnLj6VMoytp/7x5LSmpiCdYGW1nV 3sSWcJSqeJImQ9JqCoKmgwT9O+jrEwIvAg/gsQTupEQ3LETMxIwmSYQMIsEE7e1xDGP37pyAJZhh Ophs6Di964l7G3AnJ+AePYXMiVnkZrnJ8bnI8jnJ9jrJ8bnI9DrRD/IyKJvCMe7bUc9Tdc0IBJ8v yuF7YwoZ9ym8rpRoKNJFugbCTwFOxXa3fUlK+Up/GLA/DEbRAPst9qGVD3Hf8vtYULKAn8//OR7H p3PljBkmv1+yhd+/sQWnJrj2lIl8/ZgynHr/bl8STpq0myahpEXItAin0oaUWKkF00wpsbD/4B5N w62Jztita2TqOllOnSyHvptn156QUhIzLJrCcZrDCZpCCRpDcRpDCZpCcZrCCUL1YQoaPsGlNeJv G48eLWady2SVK0mtLjuXqBACMj1Osn1Osn2ulJjY6axu6Y7yvAwXeX4XPldfF0LoojKW4Pc76vl7 bRNxS3LeiBy+X1ZEua/vy6Eo0VCki7SIxmBgsIpGB4+vf5yfvP8TZhfO5r6F9xFwffpd5Sqawtz6 3Bpe39DApBEBbj9nGkeN7fvckKFOMpnkiSeeYOPGjZTnHk50UwDTsHDnuXFPzCRR4qXNsmiLJGiJ GLRGDVojCVojBi2RBMFYco/X9rl08vwuJhQGmFmSlQrZ5Pv3LQANCYMHKhv4c1UjCWnxpaJcri0r oqQP3VZKNBTpYsBEQwjxtpTyOCFEEHZb1U1KKTP7w4i+MthFA+C/2/7LDW/fwLiscTxwygPke/c9 NrEnpJS8sraO255fS3VrlPNmj+KG0ydTGEjfkuIDSTKZ5LHHHmPLli2cdcbZeGIjWPtOLfXb29Gd GhOOGMHMBSUUjNldnJOmRXssSUtKSFojCZpSLZumUJz6YJz1O9vZVB/qXOh1ZJaHGSkBmVmSxcxR 2WT5eu9qrI8b/HZHHY9WNwFw0ag8ri4dQYFrz12TSjQU6UK1NAY571S/w7VLriXfm89DpzxESaDk gK4XTZjcv2QzD76xFbdD49pTJnLR0aU4+rnLajBiGAZ/+9vfqKio4Pzzz2f69Ok0VYdY9UY1G96r JZmwKBqbxcwTSxg7pwB9P7+TcDzJmpp2Vla1srKqjZVVrWxv6tqgpzTPZ4vIKLtFMm1UFn53V/dW VSzBPdt38o+dzbiExuVjCvju6MJeB/CVaCjSRToGwucBa6SUwdSxH5gmpXy/P4zoK0NFNABWNKzg isVX4NbdPHjKg0zImXDA19zaEOKW59bw1qZGJhcFuOPc6RxRdpD27h5EJBIJ/vrXv1JZWckFF1zA lClTAIhHDNYtrWXVG9W0N0TxZbmYfsIoph0/Cl/mp/dyaosYrKpuY2V1Kysr21hV3UZ1axSwx1HG F/iZUZLFYSXZzCjJYmpxJjVGkru31fJcfSsjXA7+t7yYLxbn9hjrUaKhSBfpEI1PgDkyVVkIoQEf pfYNHzCGkmgAbG7ZzLdf+TZRM8r9C+9nVuGsA76mlJKX1uzk9ufXUtMW4/w5JfzwtMkUBAZ4f4oB JhaL8Ze//IXa2lq+9KUvMXHixM4yaUkq1jSxakkVO9Y0ozs1Js8rYtbJY8ge0T+T5xqCcVZXt7Gi qpVVVW2sqGqjMWTPZXFogvGFfqYWZ+Iv9rFET7IxkWBqhodbxo9ifq7dfaZEQ5Eu0jK5T0o5a5e8 Q3pyX1+pDlVz2cuXUR+p55cLftnnfTn2RSSR5N7XNvPHt7bicepcf+okLpxXetBdUNNJNBrl0Ucf pb6+nq985SuMGzdutzotO8Msf7WSDe/uxDQtymfmM/vUUorHZfWrLVJKdrbHWFFpd2mtrW1nXW07 de1xJGCN8CInZ5H06JRZGt/IyeGRH12FI9bCG0o0FANMOkTjX8AS4PeprCuAE6WU5/aHEX1lKIoG QGO0kSsWX8HGlo3cNO8mzp94fr9de3N9iFueW807m5uYXBTgpjOncmwfJgYOVSKRCI888ghNTU1c eOGFlJWV9V6vPcHK1ytZ/UY18UiSorFZzD51DOUz8w/qFrdNoTjraoOsrW1jdW2Qt4wYtYUu0AV6 ZRjnhiZmj85n0ogA4wv9TBgRYEKhn+Isj1p8UHHQSIdoFAK/BU7C9qJ6FbhGSlm/1xP7maEqGmDv nHbdkut4p+Ydvj3z23x31nf77SHRsenTXf9ZT3VrlIWTC7nh9CmML/T3y/UHG6FQiIcffpi2tja+ 9rWvMWbMmD3WTcSSrFtay4pXKwk2xcge4WPu6WVMOGIE2gC1ymoicW5eX8ULre2IeIIJrYLQ5jaa w4nOOn63g3GFfiZ0hBF+JhQGGJXtHTA7FcMX5T01RDEsgzvevYOnNz/N2ePO5tajb8Wp99+eBzHD ZNE72/nd65uJGiYXHjWGq0+eSG7G8NuFLRgMsmjRIsLhMBdddBGjRo3aa33LtNiyrIGP/1tBU3WI 7BE+jjyrnPGHFw7YG/68L32VutPOJzpmLIcFvPxvyQgyIiabUmt+baoPsqkuRH2wa90vl0OjNNdH aV4G5fl2XJaXQWmej5HZ3mHdHanoPwZynsYPpJQ/E0LcS895GgBIKa/qDyP6ylAXDbBbBQ+seID7 V9zPvOJ53LPgHvyu/m0RNIbi/HrxRv7+/g4y3A6uPGk8Xz+mDPdB3i9ioGlra2PRokXEYjG+/vWv U1xcvM9zpCXZuryBD17YRnNNmBHlmRz3hQkUje3fMY/eWLBgARK46h//4vYtNdQlklxQlMOPx46k 0N318tAWMdjcEGRjXYjtjWG2NYapaIqwvSlMPNm1BItL1xid66UsL4PRuT5GZXsZleNlZLaXUdle 8v0u1eWlAAZWNM6UUr4ghOh1CVcp5SP9YURfGQ6i0cHTm57m9ndvZ2z2WO5feD8jMkb0+z021gW5 8z/rWLKhgdG5Xm44bQqnTS8aVg+SlpYWFi1aRDKZ5OKLL6awsLBP51mWZMN7tbz3zFYi7QkmHDGC o88bRyD34E2c7O49FUqa/LqijgcrG/BoguvKivhmSQHOvbQcLEtSF4yxvTFCRVOYbU1hKhptMals jhBO9FzJ1+XQGJXtZWS2JxV7Kcr0UJjppjDgoTDgJs/vVq2VQ4CBFI2/SCm/JoS4Wkr5m/644YEw nEQDYGn1Uq5dci0BV4Dfn/z7fpnL0RtvbGzgzn+vY0NdkLmlOdxw+mQOLx0+8zuamppYtGgRUkou ueQS8vP77giQiCX55OUdfPLKDgBmnTyaOZ8pxeXZ//Wp9kVvLrdbIjFu2lTNa81BJvjc/N+Ekk4X 3f1BSkl7NEl1a5Tq1ig1qbi6NUp1i33cvdurA01Ant9NYcDNiExbSAoDbvID9gKRuRkucnwucjLs RSI9zuHVWj1UGEjRWAucBjwHLICe+4dKKZv7w4i+MtxEA2B983quWHwFsWSMX5/4a44sPvKg3Cdp Wjz5cRW/fHkjjaE48ycWcN2pE5lZkn1Q7jfQNDQ0sGjRInRd55JLLiE3d/9EMdgc492nt7Dpwzp8 mS6OOmcsk48u7tdB6D3N05BS8kpTOzdvrmZ7NMHp+VncOn4kY7z9O/cmnjRpCNpLqNS3x2kIxjrT 9R3pYJymUBxrD48Fn0vvISK5GfZCkZleJwGPg0yPk4DHSaa3I+3oLBtu3aNDiYEUjauAy4GxQDU9 RUNKKcf2hxF9ZTiKBkBtqJbLF19ORbCCO469gzPHnnnQ7hVJJHlkaQUPvrmF1ojBKVNH8D+nTGRK 8YAuI3ZQ2LlzJ4888ggul4tLLrmE7Oz9F8SdW9t4+8lN1G1rJ3+0n+M+P4FRk3L6xb59Te6LmRYP Vjbw64o6JJLvjinke2NG4B3g5WJMS9IcTtAaSdAcTtCSWhSyOZygJZygObWeV2dZOEEontyj0HTg dmgEPE78bh2vy4HPpeNz6XidqTiVl9Et7U2VuxwaLoeGOxVceleey6Hh0rvKXbqmPM52IR0ut7+X Ul7eHzdMXe8LwK3AFOBIKWWflGC4igZAW7yNa5dcy4c7P+TqOVfzzenfPKhjD8GYwaJ3tvOHt7YS jCU5Y0Yx154ygfGFn35l3sFATU0NjzzyCD6fj0suuYTMzP0XQyklmz+qZ+nTmwk1xyk/LJ9jzh9P duGBzS7v64zwmliC27fU8Ex9KyUeJ7eOG8UZBVmDeizKsiThRJJgLEl7zLDjqNF53D0diptEE0ki CZNIwiSaMIkYSTtOmEQNkwN16nTqolNIXA4Np67h0AS6JnBoGromcOo9jx26SNWx6+71WBcIAboQ aEKgCRDd0ppml3ceC5EqT+Vp3dK7niu6n9tVLoT91i6ESMWpgF2wWxmis86x4wvSsp/GccAEKeUi IUQ+EJBSbvtUNxViCmABDwLXK9GwSZgJbnrnJv6z7T9cMPECbjjqBhxa//etd6ctYvCHt7ay6J1t RA2Tc2aN4sqTxjO2YOjO8aiqquLRRx8lEAhw8cUXEwh8OiFMJkyWv1rJsv9WYCYtZpxYwhGnl+He w8q3+2J/lxFZ2hLixk1VrAvHOD7Hz/9NKGFSxvBf4bhjz5VISliihkkiaRFPWiSSFgkzFSctEmbP sl7rJC0My8K0JElLkjS70qYlMXY5TpqSpGXtdtxZx5QYloUlbVstaW98NphnL1T89MwBb2ncAswF JkkpJwohRgJPSimPPaCbC7EEJRo9sKTFb5f9lj+t/hPzS+bzsxN+hs/ZP+sn7Y3mcIIH39jCI+9u J560OH1GMd9dMJ6pI4dmt1VFRQV//etfyc7O5uKLLyYjI+NTXyvcFuf957aybmktHp+TI88qZ9rx I9H2s9vo06w9lbQkj9Q08rNtOwmZJt8cVcD15UVkqvGBQYdMCYe1i5DYx6k8qyvdXXCsXs/tSpuW XS4lyNQmabLjnpASrO75PcuOGZ8/8GtPAbOBZVLK2am8A157SonGnnl8/ePc+cGdTM2dyr0L/7+9 O4+Pujr0Pv45s89kY7KHbBACkV12roICLlVLS90oFMVSqw/euvTlrfqoj7e3t1d7e2vbl0WtrbWP j1pRFCyKVeuCG25EIGENYBaSkJBtkkkms895/phJgBDIBCaZSXLer9fv9dvndzgk881vO2fdOfXL 0R9NHW6e+bSC5z+vomVC0ToAACAASURBVMPtY8l56fxkcSGz8iNzXX8wlZeX8+KLL5KamspNN92E 2Ww+p89rrG5n26uHqC1rxZpp4cLrxpM/JfyOsc6lwcJmT7AV3ReONpOi1/HguCy+n5mMJoYvWSmx Ixr3NL6SUs4VQuyQUs4UQsQBn58pNIQQ7wGZvax6UEq5ObTNh/QRGkKIW4FbAfLy8mZVVVX1Wd7h YuuRrdz78b2kmFN46tKnGJM0ZtCO3eb08txnlfx1WwW2Ti/zC5K5ffF4LixMielr6z0dOnSIl156 iYyMDFavXo3JdG6Xd6SUVJQ08dnGw7Q1OsmblMwF1xWSMrrvy3mRaOW2pL2TBw/WUGzvZGaihYfH 5zAjceDPRJWhLRqh8TNgPHAZ8CvgR8CLUsp153RwdabRp92Nu7n9g9vxSz/rlqxjRvqMQT2+w+1j /VdHePqTco7Z3UzLSeLHCwu4ckpmxPstHyhlZWW8/PLLZGdnc8MNN2A0nvujrH5fgN0f1lD8j0o8 Th+TFmYz7ztjMSecvsmWSDWNHpCSjcds/PKbozR4fKzMSuaBgqwz9hqojGxRaXtKCHEZcDnBm/Tv SCnfPeeDq9AIS7W9mtvev426jjr++6L/5rL8ywa9DG6fn1e/ruEvn1RQ0eRgdJKJmy4Yw4q5eSSZ Y//Lat++fbzyyivk5+fzgx/8AIMhMu1xOTs8bN9SyZ6Pa9EbNMy6agzTF+ei1Z8aqJHuT6Pd5+d3 lfU8XdOIRavh38ZksiY7FYNmaIS5MniiFRoZwJzQ7Ffn0sKtEOJqYB2QBrQCu6SU3+prv5EaGgA2 l407PriD0sZS7plzDzdOujEq5QgEJB8caOCZTyv4vLwZi0HL8tm5/OjCseSlxPZlktLSUjZt2sS4 ceNYsWIFen3kwq6lzsFnGw9TtaeZxFQTF1xTSMGMtJMu5Q1UJ0yHHC7+/XAtW1vayTcZeGBcFt9N GzWkLiMqAysal6eWA78h2KeGABYC90gpX41EIcI1kkMDwOVzcf8n9/Pekfe4YeIN3DPnHjQien9V 7qlt46+fVvB6yVH8UnLZxAxu/Jd8LhyXGrMvV+3cuZPNmzczfvx4li9fHtHgADiyr5ltrx6m5aiD zIIk5i0rICf0cuBA99y3tdnOf35zlP0OFzMTLfx83GjmjRq6j04rkRON0CgBLus6uxBCpAHvSSmn R6IQ4RrpoQHgD/h5tPhRXtj/ApflX8bDCx7GrDu3p4LO1TG7i//3WSUvba+mxeFhTIqFVfPyuW5W DtYYbJa9uLiYLVu2DMgZBwSbYd+3rY7iNytwtHnILrIyf1kBK360DBjY7l79UrKhvoVfl9dT7/Fy ZWoSD47LotAy/N/vUE4vGqGxW0o59YR5DVBy4rLBoELjuOf2PsejxY8yOWUyjy15jHRLeK27DiS3 z8/be+p54YsqtlfaMOg0LJ2axar5+czMi63LJTt27OD111+noKCAFStWROwex4l8Hj97PznK129X 4mz3UtdxiD2NW/n7Oy9F/Fg9dfoD/Lm6gcePNOAMBFiVlcJP8zMYbYq9EFcGXjRC4zfANGB9aNH3 gVIp5X2RKES4VGicbOuRrdz3yX0kGBJYt2Qdk1ImRbtI3Q7U2/nbF0d4bWctHW4f52UmcO3MHJad P5r0xNj4q3fXrl1s3ryZ/Px8Vq5cGZGnqnrjcfnY/WENH2/ci0FrpmBGGnOXjiUle+AvHTV6vPyu 8hgvHG1GI2D16BTuyMs4qf8OZfgbzAYLC4EMKeU2IcQ1wAKC9zRswN+klN9EohDhUqFxqrKWMu74 4A5sLhuPLHwkKk9WnUmH28fmXbVsKK6hpLoVjYALC1O5ZmY2l07MIMEU3S+v0tJSXnvtNXJzc1m1 atWABQfApUu+xYTk+ZyfswSvy8+YaanMuiJ/UDqAOuJ08/uqY2yob8EgBGuy0/hJXjophoFtpkaJ DYMZGluAB6SUpT2WzwZ+LqX8TiQKES4VGr1rcjbx060/paSxhDtm3MEtU2+JqUtBXb5p7ODvO2vZ tKOW2lYnBq2GBeNTuWJyJpdOyohat7R79+7l1Vdf7X6P41xfADydrhvhb7/5Lrs/rKHkg2rcDh/Z RVZmXZlPTpF1wP/fKjrd/Laynk3HbJi1Gm7JSeOWnDQVHsPcYIbGHinllNOs263uacQOt9/Nzz/7 OW+Wv8m3C77NLy74BUbtwP3VfC4CAcnXR2y8vaeet/fUU9vqRCNg7thkrpicySUTM8hNHtzHd/fv 388rr7xCZmYmN9xwAxZL5I/f8+kpj8vHvk+PsvPdI3S2eUgfk8isb+UzZvrAP3120OHit5X1bG5o xazRcMPoZNbmppOt7nkMS4MZGoellIX9XTdQVGicmZSSp3c/zbqd65iWNo3HFj82aG1WnS0pJXuP 2nlnbzBADjV0AFCQGsdFE9K4uCiN+WNTMBsGvoG+srIyNmzYQEpKCjfeeONZt457Oqd75Nbn9VP2 RT073qnC3uQiMdXEtMW5TLwgC4N5YM8ADjpcPH7kGJuO2QC4NiOZ2/PSGT8CWtMdSQYzNNYDH0gp n+6x/Gbgcinl9yNRiHCp0AjPu1Xv8sAnDzDKNIrHlzxOUXJRtIsUtvLGDj462MhHBxv5/Jtm3L4A Rp2GeQUpLChMYd7YFCaPTkQ3QE2YlJeXs379euLj41m9ejVWa+QaauzrPY2AP0D5riZK3q+mvrwN vUnLxH/JYurinHPuy6MvNS4PT1U38LejzbgCkitTk7g1N415SXExealT6Z/BDI0M4DXAA3wdWjwb MABXSynrI1GIcKnQCN++5n3c8cEdtHva+fXCX7M4b3G0i9RvLq+fLyta+KiskQ8PNlDe6AAg3qhj Vr6V+QUpzCtIZmp2UkTbwaquruZvf/sber2e1atXk5aWFpHP7c/LfQ1Vdko+qOZwcQOBgGTMlBQm L8wmb3Jyv5tk749mj4+/1DTyf2ubaPX5mRxv4uacNK5Otw56D4JK5ETjkdvFQNe9jb1Syg8icfD+ UqHRPw2dDdz5wZ3sa97HT2f9lDWT1wzpvxqP2V18WdHCl+XNfFnRwuHQpSyTXsPU7CTOzx3F9NxR TM8ZRY7VfE7/1mPHjvH888/j9/u58cYbGT169DmX/2zeCHe0udnzUS17P6nF2e4lbpSRiRdkMfHC LBJTBu6lzk5/gNeO2fhLTSP7HS6S9VpWZaVwU3YqOeq+x5ATlbanYoEKjf5z+pw8tO0h3ql8h2Xj lvHv//LvGLTD45e+qcPNVxUtbK9soaS6lT1H7Xh8AQBS4w1MzwmFSO4opmUn9fvt9ObmZp577jmc Tic/+MEPGDNmzDmV91yaEfH7A1SWNrHv06Mc2dcCQN7EZCYtGM2Yqam9NpAYCVJKPmvt4JmaJt5u akMCi5IT+H5mMlekJmFSZx9DggoNpV+klPyx5I/8seSPzEyfye8X/55kU3K0ixVxHl+Asvp2dtW0 sutIKyU1rd1nIwB5yRam5SQxPWcU03KSmJKdRJzxzDea29raeP7552ltbeX666+nqOjs7w9Fqu0p e7OT/Z/VceCzOjpsbgxmHeNmpjFhTgajJ1gH7MmrapeH9XXNvFzXQq3byyidlqszrFydPopZSXFo h/BZ7HCnQkM5K29VvMVD2x4i1ZzK40sep9A6qA+/RYXd5WVPTRslNW2U1rRSWtNGbasTAI2AosxE LhiXwgXjUpg7NrnXlw0dDgcvvPAC9fX1LF26lFmzZp1VWSLdYGEgIKnZ38LB7cco39mI1+0nLslA 4ZwMxs/KID0/ATEAAeKXkk9tHbxU18w/mtpwByRWnZbFKYlcmpLI4uQErHr13kcsUaGhnLXdjbu5 c+udOH1OfrXgV0PyBvm5aupwU1rTSkl1G9srWyiusuHxBdBqBNNykkIhksqsfCsmffBRX7fbzSuv vMLhw4e5+OKLWbRoUb/vmQxkK7dej5/K0iYOfnWMI3ubCfglliQDY6alMnZaKjlFVnQD8Niy3edn a4ud95rtfNDcTrPXhwaYnRTH4uQELhwVz/mJFtXHR5Sp0FDOSb2jnru23sW+5n3cNv021k5fG9Um 1qPN5fWz44iNz79p5rNvmtlV3Yo/IDFoNczIG8XsMVZm5yczPSeRj997m127djFjxgyWLl2KVhv+ F/FAN43exeXwUrWnmYqSJo7sbcbr9qMzaMidmMzY6ankT0nFkhj5+1oBKdll7+TdZjvvN9vZ3eFE AmaNhvmj4rhgVDwXWuOZFm9BF6NN5w9XKjSUc+byufjlF7/k9W9eZ1HuIh5Z8AgJhsi+zDZUdbh9 bK9oYdvhJr6qbGHvUTv+QPD3ZHx6PKMNTvzHDjFnTAr/a9U1YTc7MlihcSK/N0DtQRsVpU1UljbR YXODgMyxSeRNTianyEr62ES0A3BDu8Xr4/PWDrbZOtjW2kGZwwVAnFbDrEQLc5LimJsUz6xEC/G6 gX95cyRToaFEhJSSFw+8yG+2/4bchFweW/IYBUkF0S5WzOn0+NhV3crXlTaKq2zsOGKj3eUDwKLx M3NsKjPzU5gausGecZpWfKMRGieSUtJU3dEdII3V7SBBZ9QyunAUOUVWcs6zkpITPyA30xs9XrbZ OviyzcH2Ngf7OpwEAA0wOd4cCpE45iTFqeZMIkyFhhJR2+u387OPfobb7+aRBY+wJG9JtIsU0wIB ycGGdt788gBvby+jRcZhCxgJnYyQlmBkWnYSU3OSmJqdxMSsRLKSTCxeHLx/FK3Q6MnV4aX2kI3a AzZqymzY6jsB0Ju0ZIxJJLMgicxxSWSMScQUF/nWiNt9fr62O/gqFCJf2zvp9Acfmc426rsDZG5S HBPjzerprHOgQkOJuHpHPT/d+lP2Nu9l7fS13Db9thF9nyNcdXV1rF+/HnunmykLvkW73sru2jZ2 17RxuLGDrl+vBJMOT0MlBmcT9966igkZCZyXmUiSJXb6tXC0uqkps1H/TRv1FW001xwvvzXTQsbY RFJzE0jLjSclJwFjhNvF8gUkex1OtrcFg+SrVgf1Hi8A8VoNsxOPh8jMRAtx6pJW2FRoKAPipPsc OYt4ZKG6zxGO9vZ2Xn75ZWpqaliyZAkLFy5ECIHD7WNfnZ0D9e2U1dt55Z/b8FrSCOiOX77KTDQx PiOesalx3UNBajzZVjPaKN8s9rh8NFTaqS+3U1/RRkOlHWe7t3t9YqqJ1NwErBkWEtPMJIWGuCRj RB71lVJS7fJ0h8j2Ngf7HS4koBXBS1pzk+KYlmBhUpyJ8XEmjOoprV6p0FAGTM/7HL9f9PsR8T7H ufJ6vbzxxhuUlpYyZcoUli1bdkrf44sWLUICL21+iwP17Rysb6esvp1vGjsob3TQ7vZ1b2vQashP sQSDJC2OvGQLOVYLOVYz2aPM3Y8CDyYpJZ12D03VHTTVtIfGHbQ1OpGB498jWp2GxFRTMEhSzcRb TcRbjcSNMgbHScazfoO9zevja3tnd5DssDtwho6tE1BoMTEp3szEuOC40GIkx2QY8Ze2hnxohLqP /Q7BhhC/AdZIKVv72k+FxuDpus/h9Dl5aP5DfGfcoPa3NSRJKfn00095//33ycrKYvny5Se1knum G+FSSpo6PFQ0Oaho6qC8yUF5o4OKJgdVzQ68/pN/T1PjjeRYzaEhGCajR5lITzCRkWgiJc4w4H1y dPH7A3S0uLE3OmlrctLW6MR+wtjr8p+yjzlBHwoRE/GjjMRZjSeN460m9Ma+g9EXkFQ43eztcLLf 4WJfh5N9HU5q3cfPiAxCMMZsZJzFSIHFyDhzcJxvNpBh0KMZAYEyHELjcoJNrvuEEL8GCKe/cRUa g6uhs4F7PrqHHQ07uH7C9dw3976Y7dgplpSVlbFp0yY0Gg3XXHMN48ePB87+6Sl/QNLQ7qLG5qTG 1klNi5PaVmf3fG2r85RQ0WkEaQlG0hOMpCeayEg0kpFgIj3RSEqckeR4A8kWA9Y4A4km3YA2ZOlx +uiwueloddFhc+NoddPR6sZhc3fPuxzeU/YzWnTBYBllxJxowJJgwJJkwBwaWxIMWBINmOL0p1wO a/X6OOBwUd7p5hunm/JON4c7XVQ6PXhP+M7TC8Foo54ckyE0BKdzTQYyjXoyDHritZoh3dAnDIPQ OKkAQlwNXCelXNXXtio0Bp8v4GPdznX8dc9fmZg8kd8u+i25CbnRLlbMa25uZsOGDRw7doxFixZx 0UUXsWRJ8Km0SD89FQhIGtrd1LU5OWZ309DuosHu5pjdxbF2Nw12F8fsLmydp34xQzBgrHFdIaIn Oc5AcpwBq8VAoklPgklHQvdYR6I5OJ1o0mPUReYL1efxHw+S1lCw2Nx02Fw4Wt10tnvotHsI+E79 vhIagTlejzFOjylOh9Gix2TRYYzTY7ToMMXpMYaW68w6mnWSaumnPuCjzu+jxu2lxuWhxuXlmMdL zyOYNRrSDToyjHrSDDoyDHrSDTrSjXqSdTqsei1WfXA8SqdDH4MvLg630HgDeFlK+UJf26rQiJ6t R7by4LYHQcLDCx4ekc2P9JfH42HLli2UlpZSWFjIs88+i8/ni9ojt26fn8Z2Ny0OD80ODzaHh5bQ YOsMjR1emh1ubJ1ebJ0e+vp60GsFCSY98UYdJr0Gk16LSafFZNBi0oXm9RrMei0mvRZjz3mdBoNO g0GrQa/TYNQG5/UnjLu20WkEeAP4HD68Di/Odi+ddg9OuwdnuwdXpw93pxeXw4fb4cXV6cPnPvXS 2Cn/BqMWvUmLwaRDmLQ4ErS0xWtpN2voMArsBkGbHtq0EpuQNBPAcUq0HBev0ZwUJMl6HQk6LfFa LQk6DQk6LXFaDQlabWi5hnidloTQ2KzRRDx4hkRoCCHeAzJ7WfWglHJzaJsHCXbqdI08TUGEELcC twLk5eXNqqqqGpDyKn2raa/h7g/vZn/LftZMWcOdM+5Ep1EN052JlJLi4mLeeustOjs72b9/P5s3 b452scISCEgcHh/truBgd3lpd3lD077u6XaXF4fbj8vrx+kNjl3eQGgcmvb5cXr8uENN10eCQatB rxUnhUxXAHUt02sEOiHQAlop0EqJRoJWgiYABCT4JdIfHAd8EvwBAj6J9AWQvgABb3CdAATBlxED Arx6gVcXHDx6DV5dcJlHr8GjF3j0Ardeg8cQ2kYHfm3Xp4SIHmMECNBI0AN6CXoEBhm8N2MADAgM CIwCDGgwCoFBCPQnjjXBaYMQGLSC+y4tiv3Q6PPAQtwErAUukVJ2hrOPOtOIPrffzf989T9sOLiB mekz+fVFvyYzrre/DZQT1dbW8thjj2E2m7n44ou5+OKL+9Vu1XARCEg8/gBOjx+XLxgoXn8Ajy+A JzTunj9pmcTj8+PxB6fdPbbr+RnB7bqmZWg7f+hzjq/zBSR+KQkEJL7A0HmStL+qfr10aIeGEOIK 4HfAxVLKxnD3U6ERO7aUb+GXn/8SnUbHf17wn1ySf0m0ixTzLrnkEgoLC8nKyiInJ4drr702on2Q K+cuEAoRf0AS6BoHOGmZLxAMGf8JgeM/3bb+4DggJVKCJNiwIxIkwWUBGTwjlYTGJ2zXNX18eY99 QseSgeD23lCoegMB3P4APr/EE5A89O1JQz40DgNGoDm06Asp5dq+9lOhEVuO2I9w78f3srd5L8sn LOeeOfdg0oXXeN9I1PX01Lp169iyZQsAV111FdOmTRvyT+cosS2S9zSi8vqklLJQSpkrpTw/NPQZ GErsyUvM4/krn2fN5DVsOLiBlW+u5JDtULSLFfOmTp3K2rVrSU9P57XXXgs2Q2K3R7tYihIW9c69 ck70Wj13z76bP136J2wuGyvfXMlLB14i2k/lxTqr1cqaNWu4/PLLKS8v58knn2TXrl2q3pSYp0JD iYgLsi9g43c3MjtzNg9/+TB3bb2LFldLtIsV0zQaDRdccAFr164lLS2Nv//977z44ou0tbVFu2iK cloqNJSISTGn8OQlT3LP7Hv4tPZTrt58NR9VfxTtYsW81NRU1qxZwxVXXEFFRQWPP/4427Ztw+/v +x0DRRlsKjSUiNIIDasnr+alpS+Rak7l9g9u5xef/4JOb1hPVY9YGo2G+fPn85Of/ISCggLeffdd nnrqKSorK6NdNEU5iQoNZUBMsE5g/bfXs2bKGjYe3Mj1b1xPSWNJtIsV86xWKytXrmTlypV4vV6e ffZZNm3apC5ZKTFDhYYyYAxaA3fPuptnvvUM3oCX1W+t5vGdj+MN9N4GknJcUVER//qv/8rChQvZ u3cv69at44MPPsDtdke7aMoIp0JDGXBzMuew8bsbWVqwlD+V/okb/nED5W3l0S5WzDMYDFxyySXc fvvtnHfeeXz88cf84Q9/oLi4WN3vUKJGhYYyKBIMCTy84GF+t+h3HO04yvI3lvPi/hfVI6ZhsFqt XHfddfz4xz8mOTmZLVu28OSTT1JaWkogELm2nBQlHCo0lEF1Wf5lbPruJuZkzuFXX/2K2967jYbO hmgXa0jIycnhRz/6EcuXL0er1bJp0yaeeOIJFR7KoIp60+j9oZoRGT6klGwo28CjxY9i1Bl5aP5D fGvMt6JdrAF1tp0w9SYQCLB//34++ugjGhoaSElJ4eKLL2by5MkjsiFE5cyGRNPoA0GFxvBT2VbJ /Z/cz57mPSwtWMr98+4n0ZAY7WINiEiGRpee4ZGYmMi8efOYOXMmZrM5YsdRhjYVGsqw4g14ebr0 af5c+mfSLGk8suAR5mTOiXaxIm4gQqNLIBDg4MGDfPHFF1RWVmIwGJgxYwbz5s0jOTk54sdThhYV GsqwVNpYygOfPsAR+xFWnLeCu2beRZw+LtrFipiBDI0THT16lC+++II9e/YQCAQoLCxk1qxZTJgw QV26GqFUaCjDVqe3k8d2PMb6A+vJiMvgofkPcVHORdEuVkQMVmh0sdvtFBcXs3PnTtrb24mPj+f8 889n5syZ6uxjhFGhoQx7uxp28fPPfk55WzlXjb2K++beR7JpaH/RDXZodPH7/Rw+fJivv/6aQ4cO IaUkNzeXqVOnMmnSJOLj4we1PMrgU6GhjAgev4e/7P4LT+9+mnh9PPfOuZelBUuHbIdF0QqNE7W1 tVFaWsru3btpaGhACEFBQQFTp06lqKhI3TwfplRoKCPKIdsh/uOz/6C0qZR5WfN4YO4DFIwqiHax +i0WQuNEx44dY/fu3ezZs4fW1lY0Gg35+fkUFRVRVFSkuqIdRlRoKCOOP+Dn5bKXeXzn4zh9Tm6Y dANrp68dUjfKYy00ukgpqampoaysjLKyMhobGwFIT09nwoQJjBs3jpycHPR6fZRLqpwtFRrKiNXs bOaxHY/x2uHXSDen82+z/40rx145JC5ZxWpo9NTc3NwdIEeOHEFKiU6nIy8vj4KCAgoKCsjMzESj UQ1KDBUqNJQRr6SxhIe/eJj9LfuZnTGbe+bcw6SUSdEu1hkNldA4kcvloqqqivLycsrLy7vPQoxG I7m5ueTm5pKXl0d2djYGgyHKpVVOR4WGohC8ZLXx0EYe3/k4NreNpQVLuXPGnWTFZ0W7aL0aiqHR U3t7OxUVFVRVVVFdXU1DQ7DdMI1GQ1ZWVneI5OXlqaeyYsiQDw0hxC+BZUAAaAB+KKU82td+KjSU 3rR72nlm9zO8sP8FpJSsmrSKH0/9ccw1RzIcQqMnp9NJdXU1R44cobq6mtraWnw+HxBsnTczM5Os rKzucUJCQpRLPDINh9BIlFLaQ9N3ApOklGv72k+FhnIm9Y561u1cxxvfvEGSMYlbpt7C8qLlmHSm aBcNGJ6h0ZPP56Ouro7q6mpqamqoq6vDZrN1r4+LiyMrK4u0tDRSU1O7xxaLJYqlHv6GfGicVAAh 7gfypJS39bWtCg0lHAdaDvC74t/xed3npJnTuHnqzVw34TqMWmNUyzUSQqM3LpeL+vp66uvrqaur o76+nqamppM6krJYLKSlpWG1WklMTDxlMJvNQ+Jhh1g1LEJDCPEwsBpoAxZLKRv72keFhtIfxfXF PLHrCYqPFZNuTufmqTdz7YRroxYeIzU0ehMIBGhtbaWpqYmmpiYaGxtpamqitbWVjo6OUzrn0ul0 JCQkkJiYSFxcHHFxcVgslu7pE+fNZrN6squHIREaQoj3gMxeVj0opdx8wnb3AyYp5c9P8zm3ArcC 5OXlzaqqqhqI4irD2Fd1X/HErifY0bCDdEs6qyet5roJ1w36Ox4qNMLj9/vp6OjAbrfT3t6O3W7v Htrb23E4HDgcDpxOZ6/7CyEwGo2YTKY+B6PRiMFgQK/Xo9frT5keLg08DonQCLsAQuQDb0opp/S1 rTrTUM6WlJIv67/kTyV/ovhYMQmGBFYUrWDVxFWkmFMGpQwqNCLL7/fjdDq7Q6Rr6OzsxOVynXbw eDxhH0Oj0XSHiFarRafTndVYq9Wi0WjOOISzTdcghOgedw1nmjeZTBELDV0kPqS/hBDjpZSHQrPf BQ5EoxzKyCGEYH7WfOZnzae0sZS/7vkrf9n9F57b9xzfK/weN02+idyE3GgXU+kHrVZLfHx8vx/t 9fv9uN3u7hDxer3dg8fj6XXe5/Ph8/nw+/0njX0+H263u9d1XeNo/2EeadF6emojUETwkdsqYK2U srav/dSZhhJJFW0VPLv3Wd745g380s+leZey8ryVzMqYNSA3XdWZxsjk9/uRUuL3+wkEAv0aTreP lBIp5UnTZ5pfsGDB8Lk81R8qNJSB0NDZwAv7X+DVg6/S7mmncFQhK4pWsHTc0oje91ChoURLJO9p qEcMlBEv3ZLO3bPu5v3r3+cXF/wCvUbPf335X1zyyiU88uUjHGhRV08VpUtU7mkoSiwy68xcM/4a ri68mpLGEl4ue5lXD77K+gPrKbIWsaxwGVeNvWrQbpwrSixSl6cU5QxaXa28VfkWrx9+nT3Ne9AJ HQtyFvDtgm9zodb6rwAACqhJREFUUfZFWPThv8msLk8p0RLJy1PqTENRzmCUaRQrz1vJyvNWcth2 mNe/eZ03yt/gw+oPMWlNLMxZyOX5l3NRTv8CRFGGKhUaihKmQmshd8++m7tm3sWOhh28U/kO71W9 x7tV72LSmliQvYBFuYtYkL1AXcJShi0VGorST1qNljmZc5iTOYf7597PjoYd/LPyn7x/5H3eO/Ie AsGU1CkszFnIRdkXMTFlIhqhnjlRhgd1T0NRIiQgAxxoOcDHNR/zSc0n7G7ajUSSbEpmbuZcPnnx E/R1ej7e/LFqfE8ZVMOqGZH+UKGhDCXNzma2Hd3GZ0c/Y3vddhqcwQ6L0i3pzMucx5zMOUxPm86Y pDHqTEQZUCo0FGWIkVJy0bKL8GZ5WfCDBWyv306LqwWABH0CU9OmMi1tGtNSpzEtbRpJxqQol1gZ TtTTU4oyxAgh0Nq1aO1aHr34UaSUVNgr2N24m5LGEkobS/lz6Z8JyAAA2fHZFFmLOC/5PIqSiyhK LmJ03Gh1WUuJOhUaihIFQggKkgooSCpgWeEyADq9next3ktJYwllLWWU2crYWr0VSfBqQIIhgfGj xlMwqoCxiWMZkzSGsUljGR03Gq1meDThrcQ+FRqKEiMsekv3U1ldOr2dHG49zIGWAxy0HeSg7SDv V72PzX28C1WDxkBeYh5jk8aSk5BDTnwO2fHZZMdnMzp+NAatIRr/HGWYUqGhKDHMorcE73WkTTtp uc1lo9JeSWVbJRVtFVS0VXDIdogPqz/EG/B2bycQpFvSyY7PJt2Sftoh2l3hKkOHCg1FGYKsJitW k5UZ6TNOWh6QARo6G6jtqA0O7bXUdNRwtOMo+5r38WH1h7j8rlM+L8mYRJo5jVHGUVhNVpJNyd3T VqP1pGWJxkRMWpO6vzJCqdBQlGFEIzRkxmWSGZfJrIxZp6yXUtLubafB0UCDs4GGzuNDk7MJm8vG 4dbDtLpaaXW3dt9P6UkndMQb4onTx5FgSCBeH0+8IT441sdj0Vsw6UyYtWZMOlP3cNK81oRZZz5p nU6jU2EU41RoKMoIIoQg0ZBIoiGRQmvhGbf1B/zYPXZsLhstrhZa3a20uFqwe+w4vA7aPe10eDvo 8HTQ4e2grqOODm8H7Z52nD7nSZfJwi4fAoPWgEFrwKg1YtQa0Wv03dNd6/pcrzGg0+i6B63QotPo 0Gv0aDVadEJ30nqdRodO6ILrQvN6oT9pXiu06DX67umR+vCBCg1FUXql1Wi7L4MVUNDv/X0BH26/ G6fPicvnCg5+1/F5f3DZifMevweP34Pb78YTOD7t9rvx+r24/W46PB1nXH+6s6NIE4juQBEItEIb fLS6l7FGaE4eCPX3zfFlZ9pfCIGGUJ/fiOPj0HTXy6Hd82hABOcj/eKoCg1FGSQjrUn0ri/USPZ+ 2BcpZXdY+aUfb8CLL+DDL/34Ar7jgwyO/QH/Kcu6hq59vAHvaffv+owAwW5V/dJPQAZ6Hwh118rx ZX7p796v59gX8J2yX9fL2BJJQAaQyO5lfc1HigoNRVGGDSEEeq0evVYf7aLEFEHk7hOpBm8URVGU sKnQUBRFUcIW1dAQQvxMCCGFEKnRLIeiKIoSnqiFhhAiF7gMOBKtMiiKoij9E80zjd8D98IgPR+n KIqinLOohIYQ4rtArZSyJBrHVxRFUc7OgD1yK4R4D8jsZdWDwAPA5WF+zq3ArQB5eXkRK5+iKIrS f4Pec58QYirwPtAZWpQDHAXmSinrz7Sv6rlPURSl/4ZVd69CiEpgtpSyKYxtG4EqIAlo6+ehzmaf cKQCJ5b9xOP0dsxwl51peV/r+rNNJPYJ14l11fM4fc2fqWzRqKdz2a8v0aincNaHu00k9gnHmX73 wpk/U9mG2+9ekZQyISKfJKWM6gBUAqn93OfPZ3Gcfu8T5ucWn+44vR0z3GV9lTmcf08s1VPPuup5 nL7mY62eBrKuolFPA1lX0fjdG8i6Gmr11FtdncsQ9WZEpJRjzmK3NwZpn7Pxxmmm+7vsTMv7Wtef bSKxz9noeZy+5k+37EzL+1rXn20iud+5HGOg6imc9eFuE4l9zsZQ/5karHo6J1G/PDXUCSGKZYSu FQ53qq7Co+opPKqewhfJulLNiJy7P0e7AEOIqqvwqHoKj6qn8EWsrtSZhqIoihI2daahKIqihE2F hqIoihI2FRqKoihK2FRoRJgQokAI8YwQ4tVolyWWCSHihBD/TwjxtBBiVbTLM1Son6/wCCG+F/rZ 2iyECKvJopFICDFRCPGUEOJVIcRt4eyjQiMMQoi/CiEahBB7eiy/QghRJoQ4LIT43wBSynIp5c3R KWl09aeegGuAV6WUtwDfHfTCRkE/66dXI+HnK0L19PfQz9YPge8PYHGjJkL1tF9KuRZYDoT1SK4K jfA8C1xx4gIhhBZ4ArgSmASsFEJMGvyixZRnCb+ecoDq0Gb+QSxjND1LmPUjhJgqhNjSY0gf/CJH xbNErp7+T2i/4ehZIlBPoVbHPyXYJmCfov5G+FAgpfxYCDGmx+K5wGEpZTmAEOIlYBmwb3BLFzv6 WU81BINjFyPkj5f+1I+U8lfA0sEtYWyIRD0JIQTw38BbUsodA1vi6IjUz5OU8nXgdSHEm8CLfR13 RPyyDpBsjv+lDMEvwWwhRIoQ4ilghhDi/ugULab0Wk/AJuBaIcQfGSLNJwyQ09VPr0bwz1e/6gm4 A7gUuE4IsXYgCxZj+vvztEgI8QchxJ+Af4RzAHWmcfZEL8uklLIZGEk/pH05XT05gDWDXZgY1Gv9 nG7jEfzz1d96+gPwh4ErTszqbz19CHzYnwOoM42zVwPknjDf1S+IcjJVT2em6ic8qp7CM+D1pELj 7G0HxgshxgohDMAK4PUolykWqXo6M1U/4VH1FJ4BrycVGmEQQqwHPgeKhBA1QoibpZQ+4HbgHWA/ sEFKuTea5Yw2VU9npuonPKqewhOtelINFiqKoihhU2caiqIoSthUaCiKoihhU6GhKIqihE2FhqIo ihI2FRqKoihK2FRoKIqiKGFToaEovRBCXC2EkEKI80LzY3o2Qd3LPn1uoyhDnQoNRendSoLNRa+I dkEUJZao0FCUHoQQ8cCFwM30EhpCiB+KYI9wb4c6u/n5Cau1Ithj3F4hxD+FEObQPrcIIbYLIUqE EBuFEJbB+dcoSmSp0FCUU30PeFtKeRBoEULM7GWbucAq4HzgeiFEV69n44EnpJSTgVbg2tDyTVLK OVLK6QSbdxjWve8pw5cKDUU51UrgpdD0S6H5nt6VUjZLKZ0E+wZZEFpeIaXcFZr+GhgTmp4ihPhE CLGbYNhMHpCSK8oAU/1pKMoJhBApwBKCX/IS0BLsj+DJHpv2bLSta959wjI/YA5NPwt8T0pZIoT4 IbAocqVWlMGjzjQU5WTXAc9JKfOllGOklLlABcF+CU50mRAiOXTP4nvAtj4+NwGoE0LoCZ5pKMqQ pEJDUU62Enitx7KNwAM9ln0KPE+wj/ONUsriPj73IeBL4F3gQATKqShRoZpGV5R+Cl1emi2lvD3a ZVGUwabONBRFUZSwqTMNRVEUJWzqTENRFEUJmwoNRVEUJWwqNBRFUZSwqdBQFEVRwqZCQ1EURQmb Cg1FURQlbP8femRQWWd6Ty8AAAAASUVORK5CYII= ",
text/plain: [
"<matplotlib.figure.Figure at 0x262d4739d30>"
]
},
metadata: { },
output_type: "display_data"
}
],
source: [
"# In[13]: ",
"las = Lasso() ",
"alphas = np.logspace(-3, 1.5, 1000) ",
"alphas, coefs, _ = las.path(x, y, alphas=alphas) ",
" ",
"fig, ax = plt.subplots() ",
"ax.plot(alphas, coefs.T) ",
"ax.set_xscale('log') ",
"ax.set_xlim(alphas.max(), alphas.min()) ",
"plt.vlines(alpha, coefs.min(), coefs.max()) ",
"plt.xlabel("Alpha") ",
"plt.ylabel("Coeficientes") ",
" ",
"plt.show()"
]
},
{
cell_type: "markdown",
metadata: { },
source: [
"Quando $\alpha$ é muito grande, a penalização é significativa e todos os coeficientes ficam muito próximos de 0. ",
"A medida que o $\alpha$ tende a 0, os coeficientes se estabilizam e tendem aos valores calculados pelo método dos mínimos quadrados ordinários."
]
},
{
cell_type: "markdown",
metadata: {
collapsed: true
},
source: [
"### 3.7 LASSO: seleção automática do $\alpha$"
]
},
{
cell_type: "code",
execution_count: 59,
metadata: { },
outputs: [
{
name: "stdout",
output_type: "stream",
text: [
"[Fold 1] α: 0.76, R²: 0.73 ",
"[Fold 2] α: 0.66, R²: 0.70 ",
"[Fold 3] α: 0.67, R²: 0.40 ",
"[Fold 4] α: 0.02, R²: 0.08 ",
"[Fold 5] α: 0.16, R²: -0.03 "
]
},
{
data: {
text/html: [
"<div> ",
"<style> ",
" .dataframe thead tr:only-child th { ",
" text-align: right; ",
" } ",
" ",
" .dataframe thead th { ",
" text-align: left; ",
" } ",
" ",
" .dataframe tbody tr th { ",
" vertical-align: top; ",
" } ",
"</style> ",
"<table border="1" class="dataframe"> ",
" <thead> ",
" <tr style="text-align: right;"> ",
" <th></th> ",
" <th>OLS</th> ",
" <th>OLS - CV</th> ",
" <th>LASSO</th> ",
" <th>LASSO - CV</th> ",
" <th>LASSO - CV (α selection)</th> ",
" </tr> ",
" </thead> ",
" <tbody> ",
" <tr> ",
" <th>MSE</th> ",
" <td>21.9</td> ",
" <td>37.2</td> ",
" <td>22.7</td> ",
" <td>35.5</td> ",
" <td>38.6</td> ",
" </tr> ",
" <tr> ",
" <th>R²</th> ",
" <td>0.741</td> ",
" <td>0.56</td> ",
" <td>0.732</td> ",
" <td>0.58</td> ",
" <td>0.542</td> ",
" </tr> ",
" </tbody> ",
"</table> ",
"</div>"
],
text/plain: [
" OLS OLS - CV LASSO LASSO - CV LASSO - CV (α selection) ",
"MSE 21.9 37.2 22.7 35.5 38.6 ",
"R² 0.741 0.56 0.732 0.58 0.542"
]
},
execution_count: 59,
metadata: { },
output_type: "execute_result"
}
],
source: [
"# Faremos uma implementação de validação cruzada para encontrar o melhor parâmetro de regularização $\alpha$ de ",
"#acordo com os dados da amostra. ",
" ",
"# In[14]: ",
"from sklearn.linear_model import LassoCV ",
" ",
"las = LassoCV() ",
"kf = KFold(n_splits=5) ",
"p = np.zeros_like(y) ",
" ",
"for k, (train, test) in enumerate(kf.split(x)): ",
" las.fit(x.loc[train], y[train]) ",
" p[test] = las.predict(x.loc[test]) ",
" print("[Fold {0}] \u03b1: {1:.2f}, R\u00b2: {2:.2f}". ",
" format(k+1, las.alpha_, las.score(x.loc[test], y[test]))) ",
" ",
"mse_lasso_cv_2 = mean_squared_error(y, p) ",
"r2_lasso_cv_2 = r2_score(y, p) ",
" ",
"result_df['LASSO - CV (\u03b1 selection)'] = [mse_lasso_cv_2, r2_lasso_cv_2] ",
"result_df"
]
},
{
cell_type: "code",
execution_count: 60,
metadata: { },
outputs: [
{
data: {
image/png: "iVBORw0KGgoAAAANSUhEUgAAAYIAAAEKCAYAAAAfGVI8AAAABHNCSVQICAgIfAhkiAAAAAlwSFlz AAALEgAACxIB0t1+/AAAADl0RVh0U29mdHdhcmUAbWF0cGxvdGxpYiB2ZXJzaW9uIDIuMS4wLCBo dHRwOi8vbWF0cGxvdGxpYi5vcmcvpW3flQAAIABJREFUeJztnXl4VOX1+D8nyQBhkYCiQpClLlgs SgCtilWxKlo33HCvItafra2KiiKuIFUqWmut9lss7lZBwbhgRSu4oSBgQEBRXBANFLAkLCGQ7fz+ mJk4Ge6dubMnM+fzPDxk3rlz77k3mfe871lFVTEMwzByl7xMC2AYhmFkFlMEhmEYOY4pAsMwjBzH FIFhGEaOY4rAMAwjxzFFYBiGkeOYIjAMw8hxTBEYhmHkOKYIDMMwcpyCTAvghd1220179eqVaTEM wzBaFIsWLfpBVbtEO65FKIJevXqxcOHCTIthGIbRohCRb70cZ6YhwzCMHMcUgWEYRo5jisAwDCPH MUVgGIaR45giMAzDyHFSGjUkIquALUA9UKeqg0SkMzAV6AWsAoarakUq5TAMwzDcSceOYIiq9lfV QYHXY4C3VHVf4K3Aa8MwDCNDZMI0dBrwRODnJ4BhGZDBMAyjWfPpp59y/fXX09DQkPJrpVoRKPCG iCwSkcsDY3uo6lqAwP+7O31QRC4XkYUisnDDhg0pFtMwDKN5sG7dOq644gr69evHI488whdffJHy a6ZaEQxW1QHAicCVInKk1w+q6mRVHaSqg7p0iZohbRiG0aLZtm0bEyZMYJ999mHKlClceeWVfPXV V+y///4pv3ZKncWquibw/3oReRE4BFgnIl1Vda2IdAXWp1IGwzCM5kx9fT1PPfUUN998M2vWrOH0 009n4sSJ7LfffmmTIWU7AhFpJyIdgj8DxwPLgJeBiwOHXQy8lCoZDMMwmjP/+c9/GDhwICNGjKC4 uJh3332XGTNmpFUJQGp3BHsAL4pI8Dr/UtXXRWQBME1ERgKrgbNTKINhGEazY9myZdxwww38+9// pmfPnjz77LMMHz6cvLzMpHalTBGo6tfAQQ7j/wN+marrGoZhNFf++9//cttttzFlyhQ6dOjApEmT +P3vf0+bNm0yKleLKENtGIbRkqmqquK+++7jnnvuYceOHfzhD3/g1ltvZdddd820aIApAsMwjJRR X1/PE088wa233sqaNWs488wzufvuu9l3330zLVoTrNaQYRhGCnjzzTcZMGAAI0eOZK+99uL999/n hRdeaHZKAEwRGIZhJJVly5Zx4okncvzxx7NlyxamTp3Khx9+yODBgzMtmiumCAzDMJLA2rVr+c1v fsNBBx3EvHnzuPfee/nss88YPnw4gejJZov5CAzDMBKgqqqKe++9l3vuuYfa2lquuuoqbrnllmbj CPaCKQLDMIw4qK+v5/HHH+fWW29l7dq1nHXWWUycOJG9994706LFjJmGDMMwYmTWrFmUlJRw2WWX 0bNnT+bOncvzzz/fIpUAmCIwDMPwzCeffMLQoUM54YQTqKqqYtq0aXzwwQccfvjhmRYtIUwRGIZh RGHNmjWMHDmS/v37s2DBAv785z/z6aefcvbZZzd7R7AXzEdgGIbhwtatW5k0aRL33nsvtbW1jBo1 iptvvpnOnTtnWrSkYorAMAwjjPr6eh599FFuu+02/vvf/zJ8+HDuuuuuFusDiIYpAsMwjACqyqxZ sxg9ejTLli3j8MMPZ8aMGRx22GGZFi2lmI/AMAwDWLJkCUOHDuXEE0+kurqaF154gffffz/rlQCY IjAMI8cpLy/n0ksvpaSkhEWLFnH//ffz6aefcuaZZ2aFI9gLZhoyDCMn2bJlS6MjuL6+nmuvvZab b76ZTp06ZVq0tGOKwDCMnKKurq7REbxu3TrOOecc7rrrLn7yk59kWrSMYYrAMIycQFX597//zejR o/n0008ZPHgwpaWlHHrooZkWLeOYj8AwjKxn8eLFHHfccZx00knU1NQwffp03nvvPVMCAUwRGIaR tXz//fdccsklDBgwgLKyMh544AGWL1/OGWeckTOOYC+YacgwjKxjy5Yt/OlPf+LPf/4z9fX1XH/9 9YwdO5aioqJMi9YsMUVgGEbWUFdXx5QpU7jttttYv3495513HnfddRe9evXKtGjNGlMEhmG0eFSV 1157jdGjR/PZZ59xxBFH8Morr3DIIYdkWrQWgfkIDMNo0ZSVlXHsscdy8sknU1dXx4svvsi7775r SiAGTBEYhtEi+e6777j44osZOHAgS5Ys4cEHH2T58uUMGzbMHMExYqYhwzBaFJs3b250BKsqo0eP 5qabbjJHcAKYIjAMo0VQV1fHI488wu23386GDRs4//zz+eMf/2iO4CRgisAwjGaNqvLqq69yww03 sGLFCo488khmzpzJwQcfnGnRsoaU+whEJF9EykTk1cDr3iIyX0RWishUEWmVahkMw2iZLFq0iGOO OYZTTz2VhoYGSktLefvtt00JJJl0OIuvBj4Lef0n4H5V3ReoAEamQQbDMFoQq1ev5qKLLmLQoEEs W7aMv/3tbyxbtozTTjvNHMEpIKWKQES6AycB/wy8FuAY4IXAIU8Aw1Ipg9GyKS0rZ/DE2fQeM5PB E2dTWlaeaZGMFLJ582bGjh1Lnz59eP755xkzZgxffvklV155JT6fL9PiZS2p9hH8BbgB6BB4vStQ qap1gdffA8UplsFooZSWlXPTjKVU19YDUF5ZzU0zlgIwrMT+bLKJ2tpaHnnkEe644w42bNjAhRde yIQJE+jZs2emRcsIpWXlTJr1OWsqq+lWVMjooX1S+jefsh2BiJwMrFfVRaHDDoeqy+cvF5GFIrJw w4YNKZHRaN5MmvV5oxIIUl1bz6RZn2dIIiPZqCovv/wy/fr148orr6Rv374sWLCAp556KqeVwE0z llJeWY3y4wIolbvhVJqGBgOnisgq4Dn8JqG/AEUiEtyJdAfWOH1YVSer6iBVHdSlS5cUimk0V9ZU Vsc0brQsFi5cyJAhQzjttNMAePnll5kzZw6DBg3KsGSZJRMLoJQpAlW9SVW7q2ov4FxgtqpeAMwB zgocdjHwUqpkMFo23YoKYxo3WgbffvstF154IQcffDDLly/noYceYunSpZxyyinmCCYzC6BMlJi4 EbhWRL7E7zOYkgEZjBbA6KF9KPTlNxkr9OUzemifDElkJMKmTZsYM2YMffr0Yfr06dx00018+eWX /O53vzNHcAiZWAClJaFMVd8G3g78/DVg1aCMqASdY+l0mhnJp7a2ln/84x+MGzeOH374gYsuuogJ EybQo0ePTIvWLBmyfxeenrfacTxVWGax0awZVlJsE38LRVV56aWXuPHGG/niiy84+uijue+++xgw YECmRWvWzFnhHBzjNp4MrPqoYRhJZ8GCBRx11FGcfvrp5OXl8corrzB79mxTAh7IFR+BYRhZyqpV qzj//PM55JBDWLFiBX//+99ZunQpJ598sjmCPZIJH4EpAsMwEqayspIbb7yR/fffnxdffJGbb76Z L7/8kiuuuIKCArNAx0ImgiTsN2QYRtzU1NQ0OoI3btzIr3/9a+6880722muvTIvWYslEkIQpAsMw YkZVKS0t5cYbb2TlypUcc8wx3HvvvZSUlGRatKwg3UESZhoyDCMm5s+fz5FHHskZZ5yBz+dj5syZ /Oc//zEl0IKxHYFhGJ745ptvGDt2LM899xy77747//jHP7j00kvNB5AC0l10zn6DhpGFJHMiqaio 4K677uKvf/0r+fn53HLLLdxwww106NAh+oeNmMlE1V0zDRlGlpGs6pU1NTU88MAD7LPPPtx3332c f/75fPHFF9x5552mBFJIVhWdMwwjMyQ6kagq06dPp2/fvlxzzTWUlJTw8ccf89hjj9G9e/dUiGyE UO6SOOY2ngxMERhGluE2YXjJTJ0/fz6/+MUvOOuss2jdujWvvfYab775Jv3790+2mIYL+S6Jd27j ycB8BIaRRZSWlSM4d3uKlJn69ddfM3bsWKZOncoee+zB5MmTGTFiRItxBKfbuZpK6tWxV5freDJo Gb9lwzA8MWnW545KQMAxM7WiooIJEybw4IMPUlBQwG233cbo0aNp3749kLwJNpUTdba1NM0XcZz0 bUdgGIYn3Mw/StNJsaamhocffpjx48dTWVnJiBEjGD9+PMXFPx6TrAk21RN1JJ9IS1QEmdgRmI/A MLIIN/NPcWBcVXnhhRfo27cvo0aNYtCgQZSVlTFlypQmSgCSF72S6iiYWKp1lpaVM3jibHqPmcng ibNT2gc4XooKnZv0uI0nA1MEhpFFRCpY9uGHHzJ48GDOPvtsCgsLef3113njjTc46KCDHM+VrHLI qS6r7LVaZyaawsdDbX1DTOPJwJMiEJGDROT3gX/OfzWGYWScYSXF3H1GP4qLChH8O4GrDu7Av+4e xeGHH84333zDI488wh2PzWR8mS/iyjhZ5ZBTXVbZa7XOTMTnx0NVTX1M48kgqiIQkauBZ4DdA/+e FpE/pEwiwzASYlhJMXPHHMOiGw7j5+tf5eqzhjBz5kxuv/12Vq5cyW4DT+SWlz6NujJ2mmABqnbU xbSKTnVZZSfld/cZ/XbyD2Si4UtLwYuzeCTwc1WtAhCRPwEfAg+mUjDDMOJjx44dPPTQQ9x5551s 2rSJSy+9lPHjx9OtWzcAJs36yJNzNfjzuFeWU7GttnG8sro2JmdvOsoqR6vWWVpWTp5LNI7XnUky I58inautL49ttTubgdr6UmfJ96IIBAj9q6kPjBmG0QwITirlFdto/d1HbHr3CdaVr2bo0KHcc889 HHjggU2Oj2VlPKykmEmzPm+iCCD2qJxkl1WOZVIO+gaclIDXnUkyI5+inatVQb6jImhVsPPuLFl4 UQSPAfNF5MXA62HAlJRJZBiGZ4KTSsU3y6iY809q1nxO6917cdvfnmbclRc4fqZbUaFj9rHbyri5 mVRinZSdfAPgj8t3MiE5kawQ1dKycq6btmQnpRR6rk3VtY6fdRtPBlEVgar+WUTeBo7AvxMYoapl KZPIMIydcFsBj39mNqtf+T+2ffEB+e07s+uJV9HuZ7/kP1vaM87lXKOH9mkykULklXGsiiPVxDop uymsBtWo5qTgM3eL4I9FGUbamYSeq6itb6cdWHA8VbgqAhHpHPJyVeBf43uqujFlUhlGDhHNzOG0 Ar7h6bk8eu+blD33OJJfQMcjLmCXg08nr1UbIPIEFWqzL6+sJl+kSfRM+OToVXGko8xDaVl5zLWU 4lFk4c/cjViUodvOJPxc212OcRtPBpF2BIvwJyQK0AOoCPxcBKwGeqdMKsNogcQzEXoxc4ROIFpX y5aPX2HTB1NZWVPNHoNOpOCQcyho37nJeaNNUMNKiln47Uaenre6cYVaXlnN6BeWNLl2uByxKKtk l3kIXsMNt3uOR5G5OZZDiTXyKVL10NBzVTv4ByKNJwNXRaCqvQFE5P+Al1X1tcDrE4FjUyaRYTRT Ik308U6EXswcayqrUVW2rXiPineeoH7TOtr8ZCCdjx7BQ78fFpOZJ/Renp63eqfx2nrl2mmLGTV1 cZN7DHf2BjN0g89iW01dyss8RFpRR7pnJ0U2ZP8uTJr1eeN9Dtm/C9MXlTeeP5ISEIh5xxOpGGAs vopU4cVZfLCqXhF8oar/FpE7UyiTYTQ7ok308ToTvThi21d+yRcv/52atZ/j69KLXYffSWHvEoqL Cj1Nck4TVqQkqobAbOWmzJyeRaz3Fw+RzhU+kTop7bljjml8L1z+Z+atdvUDhFJcVNh4nliIVAzw vuEHZbwmkpfA1B9E5BYR6SUiPUXkZuB/qRbMMJoT0bJS442scTNn5Inw8EvvceaZZ7LsH9fQsPUH dj3xarpe8gCFvUuarICDCWT3n9OfbTV1PD1vdZNksVFTF3NLaVOTitcJ2inzNpqt28v9xUOkOkpO isotYc5Jfi9KIJEkOK/FAAE6uTiF3caTgZcdwXnA7UAwfPTdwJhhNGuS6byMNtHHG1njZL+u37aJ jR88x5X3vEZegY+iIy5gr6OGk+drw6bqWk82+lAUeGbeagb17Nz4GTd5I92j22s3YonR9/J78mrr d1Pa101bEpP84DfbNKi6yuVVdrfnXezw93H7KQcw+oUl1Nb/qJ58+cLtpxzgWe5Y8RI+uhG4OtYT i0gb/EqjdeA6L6jq7SLSG3gO6Ax8DFykqjWxnt8wIpFs52W0id5pkpLAdXvfNJOgybmo0Mcdp/q/ 0MEJpGOhjx119dTX1rB50Sts+nAaWlNN+wOPp+iIC8hv34nNdVAoDdx/Tv+YYuWDaOCY4GdHD+3D 6OeXUNsQfS0crszcnkVRoY92rQuS7iwP4jVD2W2ir1flphlL6Vjoo9IhJj/chl/oy49ou49F9lhC dtORiR2OaBTPuIh0AW4ADgDaBMdVNaKhTEQEaKeqW0XEB7yPX6FcC8xQ1ecCjuglqvr3SOcaNGiQ Lly40Mv9GDlOY5aty2RQHPhSJRrdAztPFKHXdnMMAuSJf6UZnIRVG9j2WcARvHk9hT8ZRNHRI2jV padn+UdNXRzVvCHANxNPanx9S+lSR4dxKL484ZxD9mLOig1NfBChjtXwZxHLTmzwxNmuK+V4bPGR zhmkU1sf22sbdpL/zIHFTe4z2t9FrLJnoouaiCxS1UFRj/OgCN4ApgLXA1cAFwMbVPXGGIRpi18R /BaYCeypqnUichhwh6oOjfR5UwSGF7zGfhf68iNO6JHOH+2L7JY56sb275ZRMWcKNWtX4tu9N52G jKSwV+T+wOHyg1+5RFvch09Q0SZMt/NGmjS9KMxQeo+Z6epEDVVasRDt70CA+8/pn/CknArZk41X ReDFR7Crqk4RkatV9R3gHRF5x6MQ+fjzEfYBHgK+AipVtS5wyPeA49MXkcuBywF69Ojh5XJGjuPF iRlMngolUnRPsmrahFO7sZyKdx6n+osPyW+/K7v+ahTtDjgayYteT8bpHqMpASczhBdbudN5q2vr eXb+d47RLrFGT6Uiazl4HTeF3C3gXE50Nd7cMq4TwYsiCBrT1orIScAaoLuXk6tqPdBfRIrwO5t/ 6nSYy2cnA5PBvyPwcj0jt4m2unVaSQdx62aVjJo2odRv28SmD55jS9lrSEErin5xER0OPo08n9/q GjQpFRX6qKqpa+IwjBdf3s7hlRCbwzicoL194bcbm+wMYs36jbXchVeC95qKcwdJleyQfjOSF0Uw QUQ6AtfhLz29CzAqlouoamWgXtGhQJGIFAR2Bd3xKxbDSIjw8MhwBBjQoyNzv3KujOJUxyVZNW0A tK6GzYteZtMH09Da7XToP5SOg88nv12npsfht2G3bVXg6NCMB7eEVKeJLBaqa+ub+BgiKRW3VXIq HaOpdrqm6vzpyNIOx0vU0KuBHzcBQ7yeOOBkrg0ogUL82ch/AuYAZ+GPHLoYeClWoY3cxWmlBP7w yEgoMO/rCvf3HRbeseYGOK2I/Y7gdwOO4A0U7n2w3xG8m7u5s2JbrWPRsURwUl7B19dMXZzUa4UT bZWc7BLV6Tp3qs6frEqnsRCp6NyDRMizUNWropy7K/BEwE+QB0xT1VdF5FPgORGZAJRhJa0Nj7it lFoX5HlKCIpku3cq8RuLDbi0rJyqHXVNxravXkrFnEep+e9KfrL/z9h+0ih8PQ7c6bPpoLyymt5j Zu60ah1WUhxREfjyxFOIaTjFRYVpjY7JJjJR9jvSjiChMB1V/QQocRj/GjgkkXMbsZOJ0LVk47ZS ite0EYrT5B5LsbLQ42r/973fEbxyHvkddqPrqdfTvv8vqd+RuuqRvjx3E1CQ0Cxb+HFHUBwh2SkY qhotJDaceEM/jcw4oSMVnXsiZVc10kombI6pIFUrIl+eJJTYE1RQ9ds2sWnuv9hS9m/E15qiI39N h0Gn+jOCPSiBfBE6tInPN1AXQ2HKcDNDJIUXavoIX0xUbqtxbKieylIIuUAqndBuRPURiMgcHBYC 0RLKjOZDJmyOySQ4AXlN0IqVSWcnVvTr+w2Vfkfwh8+jtdtp3/8Eigaft5MjOBK+PGHS2QcBeM74 DSXWOw9Vql4VnlMF0nSXQsgFMpFZ7CVq6PqQn9sAZwJ1LscazZDm1mowFrwkiTUo5Of5Qy6TFWnj dO3wnVRDQwP/+te/WPvPa6ndvIHCfQ6h01Ej8O22V+wXC3QBH1ZSvFOz+ETI99iwPR6nZyYmrFwh 1U7ucLxEDS0KG5rrNaHMaB605MQXr5Uua+uVdq0L2LK9znNWb+g1vOYFBIuXXTHpSba++zhV5V/Q es+92eNXo2jTM7oj2E1Z1dZroxyVSVICwQxgp3IQyTIzpHvCMlJD1DLUItI55N9uIjIU2DMNshlJ YvTQPhT6mmasptrmmCxi2bWUV1bHrASCnxs8cXZjmeJI167933esfWE8654dy/bNFex28nXs8ev7 PSkBgDtOPSC4+N+J0EqmiVJcVMjdZ/RjwrB+3H1GP4qLCpGQcZu8jVC8mIZCW1bWAd8AI1MplJFc WvIWvm2rfEeHZLJxcqCH7qTqqyqpnPssWxcHHMFHXUyHgaeS52sd03VumrHUtTl5pEqmvnyhXauC xjLUQ/bvwrPzv3NUfOE1hWzVbkTDi2nIehNnAS1xMigtK0+LEggS2oQlGDLZULuDLQtfYtO859Ha HXQoOZGOh59HfruiuK8B6ljuompHHaVl5Z4V96CendMeXWKkh3SHe3upPnol8IyqVgZedwLOU9WH UyZVGFZ9NPeItYpnMin05bOtppaq5W9T+e5T1G/ZQOG+h9LpqIvx7RqHI9iBCw/twcxP1u60M/Ba CTVINuSHGE2JtYJrJJJZhnqxqvYPGytT1Z2SxVKFKYLM4DbJpHry8VpOOhXki1C1aom/NPS6r2i1 5z50GjKSNj36efp8MAlr4bcbI9b6D3amSnYtfqPlk8weDcksQ50nIqIBjREoGdEqJmmMZke0ydwt dHLhtxubRKEkkpzmJkMsPXGTSe0P37H+7Uep/moB+bt0YdeTr6Nd36MQ8dLa2+9EmzvmGErLypm+ qDzisZGc4C0hrNdIHc2txESQWcC0QDcxxd+c5vWUSZTFNJdtvJdMY7fQSScHZTzJaZFkSPdEWF9V QeX7/2LrkllIqzYUHXUJHQae4uoIdiu1EHT2elFk3SLsCFpCWK+ROjIR7u1lqXMjMBt/d7Ergbfw t640YiA48ZVXVjep+RIespgO3Cb5a6YubgyjjNT31YlYJ+9I2c4dC9NToqChdjubPphK+eTL2frJ G3Qo+RXFlz/Cnr84J2I00AWH9ogYjhvtWQSPdQrr9eUJ22rq6D1mpmNIq5H9ZCLc20vUUAPw98A/ I06aU5mHSBNVeWV1xP63XjNVI1FaVu5au768shpfvlukfXJQbaBq+ZyAI/iHgCP4Eny7dm+08Y+d 8QnbHKq4Dd67MxOG+f0Fwd1RvghnDix2DDsNp9hhJxjaxL6qpq7RgdxSa0IZidGsSkyIyFIil6HO TD3dFkpzKvMQrTOV2y/da6ZqJBNYcGcUiWR05XKjetViKuY8Su36r2nVdV92O+V62uz1syb3EQy1 veCRD3dqZPPx6k3cUrqU6YvKGxVivSrTF5UzqGdnhpUUuxYNc4r6CA3rHTxx9k5Zxy2pJpSRPNId 7u0aNSQiPSN9UFW/TYlEDmRD1FAyIwESJZ6onOIIUUND9u/S2K6w0JfnuJIuKvRxx6kHNMbnp5ua H1ZTOedRqr9eSP4uu9PpqItp+9NfNDqCg/KFfvncfmduu6J8ERpUd3omkVZ0oc/STf1luhl6c/Ft GbGTcNRQOif6XCATpWWdCH6pq2vrXSe0cILRMEHCSxOH3peTEgCorK7NSEio3xH8DFuXvIG0KqTo 6BHsMvAUpMAf+CYCF/y8R6O5J5RY/STB8fLKaqYvKo8a9+1VIWfSeZwtJcyNyHipNXSoiCwQka0i UiMi9SKyOR3CZRPDSoozXvMl1GEN/onLlydRbfKRJqJYQj2DyicdNNRup/KD5wKO4DfpMOAkii+f TMefn9moBMDfonL6onJHp6zbfXu5h9AsZTe8PLtMZwpH8m0Z2YOX8NG/AecCzwODgF8D+6RSqGwl 02UenL7UtQ1KUaGPdq0LHLtQRZuIYvVxBJVPvL0DoqEN9QFH8JPUb91I2/0Op+ioi/F1dn/ubnZ4 t12ck5/EiWjPJtL7As3CDNOcfFtG6vCiCFDVL0UkX1XrgcdE5IMUy5XTeLHJxmO3dfvybqquZfHt x0c8r9t4NMezE6lSAn5H8BRq13/jdwSfekOjIzgaTs8mUvTGoJ6dG8fz4oykcnt2zSmzuCWXMDe8 40URbBORVsBiEbkHWAu0S61YuYsXm2y8dttoX+pISsDtek6r5nRTs2EVFW8/xvavF5HfcQ92O2V0 E0ewF9wmNrddXCQ/CXgz6TQXv1EkWoKMRuJ4UQQX4fcl/B4YBeyFv0uZkQK85Bu4HXPHy8sb33fa KUT6Ukea7CPJFFy5pjsaSIC6rRVUvv80Wz95M+AIvjTgCI4tIS2eiS1caZ45sNhTlFAoLaE8eEuQ 0UicSOGjXYAuqvpp2PjPgHWquiEN8gHZET7qld5jZjqGEYaGELodA+xkfw+PX3db9UcKb3ULbQwP a3Q7R7JpqNlO9aJS/vfhC2h9LR1KTqLj4HPJL9wl5nPli3Df8Nh6FidSHdJCMY104jV8NNLe+UGg i8N4MfBAvIIZkXEzUYSOR7LPhtvfQyM8Ik1Cbv6D8kDGqxN5IpSW+SNu0qEEtKGerZ+8wZpHLueH d5+msPcAuo18mM7HXu6oBLzEJzWoxjwRxxtJ05zKjBhGKJFMQ/1UdafexKo6S0TuS6FMOY0Xm+zo oX24Zupiz+csr6zmltKlPDNvdePKPtyvEMnpW1VT5xjpU68akxyJUP1Nmd8RvGEVrbr2YbfTxtCm e9+In/Hiko7H6RlvJE1zKjNiGKFE2hFEMrSmpypYDuIl32BYSTGd2sb2K3g6RAkECV3FOhW6ClJb r7RvU5C2HIBQajasYt2021m8977FAAAeFElEQVQ/7Va0pprdTr2RPS+6N6oSAP+zK44w0cfrG8hz eQ7RlIqFYhrNlUg7gpUi8itVfS10UEROBL5OrVi5jZd8g9tPOSAp0TrBSSh4PbcVfsW2Wk+mlmRR t3Ujm957mq1L/0Neq0I6DRlJhwEne3YEh07yo19YslP9IqeSEtEImnacQkW9KBULxTSaK5EUwSjg VREZjr+BPfgTyg4DTk61YNlOok7D0GiORGzzoZPQsJLiiO0h09E0sqFmO5s/msHmj6aj9fV0GHgK HQ8/l/zCDp7PkS/C3Wf4S0aMe2W5YxG7kw/qmhTfQOj1op3PQjENr6Q7qCBSraEvRKQfcD4QzMp5 B/h/qro9ZRLlAMmq3xLcOUSKIopGeWU1gyfObvxDy0SPYAg4gpe+xab3n/ZnBPcZTNFRl+Dr1DXm czUE7iHSjumZeasbq4V6xc2E49XhbKGYhhcyUd8pas/iuE8sshfwJLAn0ABMVtUHRKQzMBXoBawC hqtqRaRzZVv4aKKVSMNXC1U76nYqXxwrwdISXgvRJZPqrxdR8fZjfkdwtz50GnIZbbr/NO7zhZbM iESsGbxuv7fg9WxyN5JBc+1ZHC91wHWq+rGIdAAWicibwCXAW6o6UUTGAGPwd0HLGSKFag6eODti eYeitj62bq9rjOAJNnJJtH5P8JOxKAFfvoAqLgVHo1Kz/hsq5jzK9lVlFBTtyW6njaFtn8FIgk5p EW8O2GjHOJXbDq8x5MsTqmp+VMRWndNIlObaszguVHUt/nIUqOoWEfkMfw7CacDRgcOeAN6mhSkC L43fI73v5jQUfuxhG9osfuqC7xrt3MHuVaHU1iud2vrYXF2X1tV8vA1k6rb8j8r3nqZq6X/Ia9OO TsdcRoeSk2LOCHajclutpxpICk3MYqE4bc+nLyrfKYN4W0hHsSAWEmokQiaCCjyZhgK1hvYLvPxc VWOyQ4hIL+Bd/L6G1apaFPJehap2ivT55mQaipZV6vS+L19o16qATdW1ritLt4boeQJeFvqCv5fu 0/NWx39zKaahpprN82ewecGMgCP4ZDoedk5MjmAvBJvoeI2qcsoK9ro995IJbhixkEjmejjJyCwO nuhoYCXwEPAw8IWIHBmDIO2B6cA1quq5j4GIXC4iC0Vk4YYNaatmAdCYKevUQDxaVqljqed6pbK6 tjGbNLiyDM0VcJvrvVp72rbKZ86K5D2nZIaKakM9Wxa/zprJl7Ppg2cp3PsQuv3m/+h8zGVJVwKh 7SZD8zGKCn2uuRdOWcFet+deMsENIxaGlRRz5sDixryd8J7YqcCLaeg+4HhV/RxARPYDngUGRvug iPjwK4FnVHVGYHidiHRV1bUi0hVY7/RZVZ0MTAb/jsCDnEkhmsc+2gThxY5XXVvPnBUbmqwsEy3R UFVTT1VN8myIyXjgqsr2bz729wj+4VtaF/+ULqePpXVx/I5gN5zq9zvlY7it4J0meC/bcwsJNZJN aVl5xJ7YqcBLnV5fUAmAP6wUD5nF4vf4TQE+U9U/h7z1MnBx4OeLgZe8i5t6oq34o60Ava4Ewyee SJm9LZGa9V+zftptrH/+drSuht2G3cQeF9yTEiVQXFTINxNPYu6YY6J+Ubyu4J1+H04TfHPoPGdk F5noCudlR7BQRKYATwVeX8CPCWaRGIy/hPVSEQmmq44FJgLTRGQksBo4OzaRU0ukiJ7SsvKoK0Cv tumOhb6dIoTuPqNfyss5t8oXausVxe9/QP2xvcmibssPAUfwW+S1aU+nX/6GDiW/QvJTU5Uk1tW3 1xV8LDH/me48Z2QXmYgaiuosFpHWwJXAEfh34O8CD6vqjpRJFUY6ncWRTDRBhw1EniBCo4batsqn qsYhGzVPqHcoFw1EzO5tlS/UxBGt06mtjx219Ts1l/cFFEOiNOzYFsgIfhHVenYZcAq7HH4O+W3a J3zucMJzHoojTNJOWCloozmTiTwCL4qgHbA90KYSEckHWqvqtpgkSoB0KgInj30oyUpCcqLQlweI 47VDowbCK4lGo1NbH9trG1LSRcxfGvpNKt9/moaqStr+9EiKjvw1vqI94z5nsC/w1I++2yk3oqjQ x8kHdd0p6ireqArDaG5kImrIi2noLeBYYGtQJuAN4PCYJGohRCu+Fuv2LJbjq10ys4JRA5Nmfc6o qYvpVlRIx0Kfp2ziQl8+qiRdCagq279eSMWcx6j932paF/el0xm30rpbYk7STm193H7KAQBMXfBd k/d8+cLJB3Xl2fnf7bRjsth9I1vIRCkSL4qgjaoGlQCqulVE2qZMombAsJJiV1u9F2dwqOnBrbF5 LASjBkIjmbxQHMhZ8Jpb4LW8RM26r6mYM4Xt3y6hoFNXugwbS+F+hyWcEQzQtlVBY8e0cJNVbb1G 3AlZOWcjW0i338lL1FCViAwIvhCRgUDWf+O8Ro2EE96Fymli9eXFNmHmi7O5KBKrJp7E6KF9mL7I e/erhoC93QkB6jb/wA8z72ft41dTs+5rOv3ycrqNfJi2fQ5PihKA6GG4kdRUsGOaYRix4WVHcA3w vIisCbzuCpyTOpGaB/FuzyKVKm5QbTzPuFeWO5aLcCLeHYWbLG50c8nIbdWwg3XvT2PLglK/I/iQ 0+l42HDyUuAIDg3DjTV6ql6VUVMXs/DbjUwY1i/pshlGthJVEajqAhHZH+iDf2G4ItYSEy2VeLZn kUoVh5cc8BJm6rWSZijBDNpYTCWhGbkQ6HOwcSv5K+ewZs6TVG3aSNufHkWno35NQcc9PJ83FqKF 4bqV4QhFia/EtGHkMl5KTLTFXxTualVdCvQSEWtM44LXhKXwRKRObX07mYwKffncceoBDNm/S0wy qPpNVF6T28KToE7r342x/app++oYvi79C/mditnzovvocurolCmBcBmcErUuOLSHp9IXCilNvjGM bMOLaegx/AlkhwVefw88D7yaKqFaMrGUHAjfcbjFt8c6qVVW13LttMWc//MeO4VZhhKeFzFq6mJ2 2fY9Ou8pli6Yy7777suLL77I1R8WJM0H4HR9t5W7247MS+isOY4NwzteFMHeqnqOiJwHoKrVkopZ IUtIJPTLbeKLZ1JrUJix6HvuPuPAJr0MVGFTdS0dC32I+MNkBajdvIHK955i1bI55BV24Pjf3MSr D41j5rL15M1bnPQ2lbEmgQWZMKwfg3p2jpqBbUXfDMM7XhLKPgB+CcxV1QEisjfwrKoekg4BITkJ ZS05mzSRgnROxdhCE1Yadmxj0/wXAo5gZZdBp9HxsLPJa92OTm19nh3asXDhoT2S5sx1Sq6z5DLD 8JPMhLLbgdeBvUTkGfw1hC5JTLz0kokeoMkkltr64QRLX4fe76RZn7NtRw1bl8yi8v1naNi2ibZ9 j6LTkRdT0HH3xs8mqgTc8hKSWS47dIfQEpW8YTQHIu4IAiag7sA24FD8C8x5qvpDesTzk+iOIJm1 OzJFcEeTSEG6okIfbVvl8+Wid6iY8xh1G7+n9V4/o9OQkbTuum9M5woNh3VqtFPoy3dVXNa0xTDS Q1J2BKqqIlKqqgOBmUmTLs2koppfuk1NQf9BImaidd98RsWcKexYvZSCzsV0OeNWCvc5JGZHsJPp xWlV7qa48kToPWamrd4No5ngxTQ0T0QOVtUFKZcmRSS7B2gmTU3xmInqNq+n8t2nqFo+h7zCXeh8 3BW0P+gEJD/2ltVuTl43R7eTrEFzUXllNaOfX8K4V5Y39hk2xWAY6cfLTDAEuEJEVgFVBPJ6VPXA VAqWTNxCOofs32WnngDBvsNuq/3SsnLHMtHpKnoWPP8dLy+PWnSuYcc2Ns17ni0LX/I7gg89i46H +h3BTgTNPR0LfVTV1DWp9ROvA7aNL6/xuTslhNU2aKMvoqX5bgwjW/CiCE5MuRQpximkM9yuHZyE Fn670XE8yE0zlrqWfPBqsonXrBTqJ3Ay5gj+3sVbq3f4HcFz/0XDtk20O2AIRUdeRMEuuzt8yk/4 RJ+o6cuplK6XEFSrImoY6cfVWSwibYArgH2ApcAUVa1Lo2yNpKIfgZut3S3SJViMLdJkL8D95/R3 ncRKy8odV/JeVtteehCoKtVffkTF2yGO4GMuo82e+0T8XHGU3dDCbzc2ln7OF+G8n+8VNfwz0ZBX cyYbRuIkw1n8BFALvId/V9AXuDo54mUeN0ex22rfi2M5WNrAaUKP1PAm2iq4tKw8qhLYsXal3xH8 3TIKOneny5m3Urj3IXRq28qxkYsAF4TF8zv5Pq6durhJK8t6VZ6et5oZi76nurbBdbeQiCPeksEM I71EUgR9VbUfQKBn8UfpESk9uDmQ3XYE3TzsCMB9AoxWCTTSxDlp1ueuSqBu03oq332Sqk/fJq9t Rzof/zvaH3h8oyO4XesCz7H2TjK69TMOtrx0s+t7qR5a5OKLiKUHsWEYiRNJETTaL1S1LtuqSrg5 kM8cWOwYEx+cnKJF7LitZqOtkCOtgp0+27Cjik0fPs/mhS8hIuxy2HA6/vws8lq3dfysl0qq8a7i nXY00aKbgjkcLTnj2zBSRbq/F5EUwUEisjnwswCFgdfBqKFdUiZVGohUEyja6jnUYRte2sBtNRtp hezLF6p21LnG1od+Vuvr2LL432ya+ywN1Ztp97NjKPrFRRTs4lyhNBYzSzw9AIKEK5FI0U2hzynd nZgMo7mTifD0qLWGmgPpbF4fC7FobTcfQbtW+dTUNTRp0h5eFbS8shpU2bZyHhXvPE7dxnLa9DiQ 868ayynHHBFRMcUS8unkkM7D3TwUSqQsbVv1G4Z3klkJwauz2BRBjCQyqTl9NlLZiODEvmPtF1TM nsKO75dT0Lk7+5x8BXddfTGnD+ge8fxD9u/CnBUb4lZUQYcy0Bg1JOIfbwj7swk2nY9ngjdFYRg/ 0nvMTEefYDzRdKYI4iRaMpmTXyGRSpduv3SAuk3rqHjnSbZ99g55bYsoOuJ8+hw5jA9uPs7TfUSS Nfw+t9XUORaZc1qFJBIGG6uchpFrZGJH4KV5fc4Q3ng+aJsLNkR3iqqprq3numlL4m6a7mTDb9i+ lYq3H6P8kSuoXvkhuxx2DsWXT6ZDya9Yu6XG03ndZJ0063PH+3SrNOrkQB5WUky71ju7l4Lnj4VI chpGLjJ6aB8KfflNxlIdTRd7sZksJtKkNKykOGLuQbzOnNFD+zBqqr/xi9bXsmXx6wFH8JYQR/Bu jcd7df5GKrQXS1P7WKOgYo08SkVBQMNoySTS3CpeslYRxGN3jjYpRYqqibc0wrCSYq5+rozqlR9S 8fbj1FWsoU3PA+k0ZCSt9ti7ybGhq4Jo9xep0J7XSTaeKKhYk8GSXRDQMLKBdEfTZaVpKJqJx41o jeedtmyhxLOKnT9/PhXTbmLDi3cheQXsftbt7H7OH3dSAvkiTez70e4v0vbS7T6LCn1NmsVHstMn a/uaiW2wYRhNycodQTQTjxvRGs8HP+tUfRT8dfZLy8o9afJvvvmGsWPH8txzz9Gx827s+as/0OqA Y5E8Z0XToNpky+jl/loX/Fj5Mzyqx+k+7zjVe9RPsravmdgGG4bRlJQpAhF5FDgZWK+qPwuMdQam Ar2AVcBwVa1I9rXjtTt7mZTcJlLw5iuoqKjgrrvu4q9//Sv5+fnceuutjB49mre+3BwxlDR0FR/t /pwicbbX/pgNkMxJPBkTtiWVGUZmSeWO4HHgb8CTIWNjgLdUdaKIjAm8vjHZF07E7uxlUoq0M3Db edTU1PD3v/+d8ePHU1FRwSWXXMKdd95JcXFx4Jwdmph93HYlXu7Py44hmydfy0swjNhImY9AVd8F NoYNn4a/qimB/4el4tqJ2p1Ly8oZPHE2vcfMZPDE2Y6+hWElxTR4qFSqqkyfPp2+fftyzTXXUFJS wscff8yjjz7aqATCz3v3Gf0i2uqj3V8uR+LE6x8yjFwm3T6CPVR1LYCqrhUR104pInI5cDlAjx49 YrpIIqaPWOp8RFuZz58/n+uuu465c+dywAEH8Nprr3HCCSdE7REcbbUe7f5yORInXv+QYeQyzdZZ rKqTgcngzyyO9fPxmj68TCThncLC6/tcdEAbzj33XKZOncoee+zB5MmTGTFiBK8uXccRf5qTFJNF pPuL5vTOZnJ5N2QY8ZJuRbBORLoGdgNdgfVpvn5UYnXEKj/WBNqjdR17fv0yV/3pMQoKCrjtttsY PXo07du3T2tFwWyKxInV3p/LuyHDiJd0K4KXgYuBiYH/X0rVheJ1GMbjiG2oryXvszdZ+cGzLKis ZMSIERw+/Lc8WraZJye801jLJ50mi2xwBsejPHN5N2QY8ZIyZ7GIPAt8CPQRke9FZCR+BXCciKwE jgu8TjqJOAxjccSqKlUr3mfNP3/HqpkPM2jQIBYvXswpvx/Pve//EHctH8NPPHWIvDjbDcNoSsp2 BKp6nstbv0zVNYMk4jD06ojdUf6ZvzT0mhX4duvJT0dM5I1H/ZGwv504O+FaPkZi+SA28RuGd5qt szgREnUYhiuD4Ap0WEkxF/ZtzY1j7mDLZ++R364TnU+4ii4Djueus/rHfB0zWUTG7P2GkR6yUhEk OoE42aZveOYDHr3vTV6f9jh5+QXs9cuLkQNPpvvunT0XfCsq9NGudUGLd+CmC7P3G0Z6yEpFkOgE Empa0rpatnz8Kps+eI6VNdsYeemljB8/nm7dusV8/Vhq+RjZFf1kGM2ZrFQEiU4gayqrUVW2rXif yncep27TOtr0HkCno0fw2T59GfzXMroVrXA9ZyYmsGwtq2D2fsNIPdaq0oF+v32QL15+iJo1n+Pr 0otOQy6lsPeAhJvDpwpr92gYhhPWqjIOvvzyS8466yyW/d9VNGzewK4nXkXXSx5wVALQfFoqWrtH wzASIStNQ7Hyv//9jwkTJvDQQw/RqlUrxo0bx37HnseD737XaGpxKw/tJUIoVrNNrMdbWQXDMBIh pxXBjh07+Nvf/saECRPYvHkzI0eOZNy4cXTt2hWAcw/ft/HYwRNnxxWJFGt2bDzZtBZmaRhGIuSk aUhVmTp1Kvvvvz/XX389hx12GEuWLGHy5MmNSiCceEtbu5ltrpu2xDHTOR4zj7V7NAwjEXJuR/D+ ++9z/fXXM3/+fA488EDeeOMNjjvuuKifizcSyM0849bNLB4zj4VZGoaRCDmjCFauXMmYMWOYMWMG 3bp147HHHuOiiy4iP9+9GX048YQyRvIvOJW9iNfMY2GWhmHES9abhn744Qeuvvpq+vbty6xZsxg/ fjxffPEFl1xySUxKIF6czDahhK/0zcxjGEa6yeodwYMPPsitt97Kli1buOyyyxg3bhx77rlnWmWI 1N8Ydl7pm5nHMIx0k9WKYN26dQwePJh77rmHAw44IGNyBCdxr2UvkmHmydZMY8Mwkk9WK4Jx48al xfzjhXSu9NPZDc0wjJZPViuC5qIEgqTLoWsN3A3DiIWsdxbnIpZpbBhGLJgiyELcQk0t09gwDCdM EWQhqQ5BLS0rZ/DE2fQeM5PBE2d76gVtGEbzJat9BLlKKh3T5og2jOzDFEGWkirHtDmiDSP7MNOQ ERPmiDaM7MN2BAmSa4lbVvLaMLIP2xEkQNBeXl5ZjfKjvTybnadWC8kwsg9TBAmQiy0ih5UUc/cZ /SguKkSA4qJC641sGC0cMw0lQK7ay63ktWFkF6YIEqA52ctzzVdhGEbyMNNQAjQXe3ku+ioyjSXV GdlERhSBiJwgIp+LyJciMiYTMiSD5mIvz0VfRSYxxWtkG2k3DYlIPvAQcBzwPbBARF5W1U/TLUsy aA728lz1VWQKS6ozso1M7AgOAb5U1a9VtQZ4DjgtA3JkDVZkLr2Y4jWyjUwogmLgu5DX3wfGjDhp Lr6KXMEUr5FtZEIRiMPYTs18ReRyEVkoIgs3bNiQBrFaLs3FV5EJMuG0NcVrZBuZCB/9Htgr5HV3 YE34Qao6GZgMMGjQoJ27vhtNaA6+inSTqUqo6Ww7ahjpIBOKYAGwr4j0BsqBc4HzMyCH0cLJpNM2 FxWvkb2kXRGoap2I/B6YBeQDj6rq8nTLYbR8zGlrGMkhI5nFqvoa8Fomrm1kD80ps9swWjKWWWy0 WMxpaxjJwWoNGS0Wc9oaRnIwRRCGFW9rWZjT1jASxxRBCNaY3TCMXMR8BCFY8TbDMHIRUwQhWDii YRi5iCmCEKyGjGEYuYgpghAsHNEwjFzEnMUhWDiiYRi5iCmCMCwc0TCMXMNMQ4ZhGDmOKQLDMIwc xxSBYRhGjmOKwDAMI8cxRWAYhpHjiGrz7wIpIhuAbzMtR4LsBvyQaSGaEfY8fsSeRVPsefxIos+i p6p2iXZQi1AE2YCILFTVQZmWo7lgz+NH7Fk0xZ7Hj6TrWZhpyDAMI8cxRWAYhpHjmCJIH5MzLUAz w57Hj9izaIo9jx9Jy7MwH4FhGEaOYzsCwzCMHMcUQQoQkUdFZL2ILAsZ6ywib4rIysD/nTIpY7oQ kb1EZI6IfCYiy0Xk6sB4rj6PNiLykYgsCTyPcYHx3iIyP/A8popIq0zLmi5EJF9EykTk1cDrXH4W q0RkqYgsFpGFgbGUf1dMEaSGx4ETwsbGAG+p6r7AW4HXuUAdcJ2q/hQ4FLhSRPqSu89jB3CMqh4E 9AdOEJFDgT8B9weeRwUwMoMyppurgc9CXufyswAYoqr9Q8JGU/5dMUWQAlT1XWBj2PBpwBOBn58A hqVVqAyhqmtV9ePAz1vwf+GLyd3noaq6NfDSF/inwDHAC4HxnHkeItIdOAn4Z+C1kKPPIgIp/66Y Ikgfe6jqWvBPjsDuGZYn7YhIL6AEmE8OP4+AKWQxsB54E/gKqFTVusAh3+NXlrnAX4AbgIbA613J 3WcB/kXBGyKySEQuD4yl/LtijWmMtCAi7YHpwDWqutm/8MtNVLUe6C8iRcCLwE+dDkuvVOlHRE4G 1qvqIhE5OjjscGjWP4sQBqvqGhHZHXhTRFak46K2I0gf60SkK0Dg//UZlidtiIgPvxJ4RlVnBIZz 9nkEUdVK4G38vpMiEQkuzLoDazIlVxoZDJwqIquA5/CbhP5Cbj4LAFR1TeD/9fgXCYeQhu+KKYL0 8TJwceDni4GXMihL2gjYfKcAn6nqn0PeytXn0SWwE0BECoFj8ftN5gBnBQ7LieehqjepandV7QWc C8xW1QvIwWcBICLtRKRD8GfgeGAZafiuWEJZChCRZ4Gj8VcOXAfcDpQC04AewGrgbFUNdyhnHSJy BPAesJQf7cBj8fsJcvF5HIjf4ZePfyE2TVXHi8hP8K+KOwNlwIWquiNzkqaXgGnoelU9OVefReC+ Xwy8LAD+pap/FJFdSfF3xRSBYRhGjmOmIcMwjBzHFIFhGEaOY4rAMAwjxzFFYBiGkeOYIjAMw8hx TBEYWYuI1AeqOC4TkedFpG2arttLRKoD1/5URJ4MJNXFe76t0Y8yjPgxRWBkM9WBKo4/A2qAK0Lf FD+p+g58par9gX74s2OHp+g6hpEwpgiMXOE9YJ/Aav0zEXkY+BjYS0SOF5EPReTjwM6hPYCIHCwi HwR6B3wkIh0C/QQeC9SMLxORIZEuGqgr9BGBwmmBgnOTRGSBiHwiIv8vMN5eRN4KyLBURE5L6dMw jBBMERhZT6BuzYn4s5sB+gBPqmoJUAXcAhyrqgOAhcC1gWYoU4GrA70DjgWqgSsBVLUfcB7whIi0 iXDtNsDPgdcDQyOBTap6MHAw8BsR6Q1sB04PyDAEuE9yuTKfkVas+qiRzRQGyj2Df0cwBegGfKuq 8wLjhwJ9gbmBebcV8CF+ZbFWVRcAqOpmaCyZ8WBgbIWIfAvsB3wSdu29A9feF3hBVYPvHw8cKCLB WjodA8d8D9wlIkfiL8VRDOwB/DcZD8IwImGKwMhmqgN2+kYCk31V6BDwpqqeF3bcgTiXP/a6Sv9K VfsHqkW+LSKnqurLgc//QVVnhV3vEqALMFBVawMVOV13GoaRTMw0ZOQ684DBIrIPgIi0FZH9gBVA NxE5ODDeIWBiehe4IDC2H/5CYJ+7nTzQSGQMcFNgaBbw22AUkYjsF6g02RF/bf7agN+hZ/Jv1TCc MUVg5DSqugG4BHhWRD7Brxj2V9Ua4BzgQRFZgr+TWBvgYSBfRJbi9yFc4qEyZinQVkR+gb8l46fA xyKyDPgH/p35M8Ag8TcsvwC/IjKMtGDVRw3DMHIc2xEYhmHkOKYIDMMwchxTBIZhGDmOKQLDMIwc xxSBYRhGjmOKwDAMI8cxRWAYhpHjmCIwDMPIcf4/y0sy/UcLFSgAAAAASUVORK5CYII= ",
text/plain: [
"<matplotlib.figure.Figure at 0x262d52f7780>"
]
},
metadata: { },
output_type: "display_data"
}
],
source: [
"# In[15]: ",
" ",
"scatterPlot(y, p)"
]
},
{
cell_type: "markdown",
metadata: { },
source: [
"## 4. Regressão Ridge ",
" ",
"Utilizaremos a técnica Ridge com parâmetro de regularização $\alpha = 0.13$ para ajustar um modelo de regressão"
]
},
{
cell_type: "markdown",
metadata: { },
source: [
"### 4.1 Ridge: Ajustando o Modelo "
]
},
{
cell_type: "code",
execution_count: 61,
metadata: { },
outputs: [
{
data: {
text/html: [
"<div> ",
"<style> ",
" .dataframe thead tr:only-child th { ",
" text-align: right; ",
" } ",
" ",
" .dataframe thead th { ",
" text-align: left; ",
" } ",
" ",
" .dataframe tbody tr th { ",
" vertical-align: top; ",
" } ",
"</style> ",
"<table border="1" class="dataframe"> ",
" <thead> ",
" <tr style="text-align: right;"> ",
" <th></th> ",
" <th>Intercept</th> ",
" <th>CRIM</th> ",
" <th>ZN</th> ",
" <th>INDUS</th> ",
" <th>CHAS</th> ",
" <th>NOX</th> ",
" <th>RM</th> ",
" <th>AGE</th> ",
" <th>DIS</th> ",
" <th>RAD</th> ",
" <th>TAX</th> ",
" <th>PTRATIO</th> ",
" <th>B</th> ",
" <th>LSTAT</th> ",
" </tr> ",
" </thead> ",
" <tbody> ",
" <tr> ",
" <th>RIDGE</th> ",
" <td>22.5</td> ",
" <td>-0.883</td> ",
" <td>1.01</td> ",
" <td>0.0386</td> ",
" <td>0.697</td> ",
" <td>-1.93</td> ",
" <td>2.71</td> ",
" <td>-0.00781</td> ",
" <td>-2.98</td> ",
" <td>2.34</td> ",
" <td>-1.78</td> ",
" <td>-2.02</td> ",
" <td>0.854</td> ",
" <td>-3.69</td> ",
" </tr> ",
" </tbody> ",
"</table> ",
"</div>"
],
text/plain: [
" Intercept CRIM ZN INDUS CHAS NOX RM AGE DIS RAD \ ",
"RIDGE 22.5 -0.883 1.01 0.0386 0.697 -1.93 2.71 -0.00781 -2.98 2.34 ",
" ",
" TAX PTRATIO B LSTAT ",
"RIDGE -1.78 -2.02 0.854 -3.69 "
]
},
execution_count: 61,
metadata: { },
output_type: "execute_result"
}
],
source: [
"# ## Regressão Ridge ",
"# ",
"# In[8]: ",
"from sklearn.linear_model import Ridge ",
" ",
"alpha = 5 ",
" ",
"rdg = Ridge(alpha=alpha) ",
"rdg.fit(x, y) ",
" ",
"# Apresentamos abaixo os coeficientes calculados. ",
"coef_df2 = pd.DataFrame(index=np.append(['Intercept'], boston.feature_names)) ",
"coef_df2['RIDGE'] = np.append([rdg.intercept_], rdg.coef_) ",
"coef_df2.T"
]
},
{
cell_type: "markdown",
metadata: {
collapsed: true
},
source: [
"### 4.2 Ridge: Calculando estatística de ajuste"
]
},
{
cell_type: "code",
execution_count: 62,
metadata: { },
outputs: [
{
data: {
text/html: [
"<div> ",
"<style> ",
" .dataframe thead tr:only-child th { ",
" text-align: right; ",
" } ",
" ",
" .dataframe thead th { ",
" text-align: left; ",
" } ",
" ",
" .dataframe tbody tr th { ",
" vertical-align: top; ",
" } ",
"</style> ",
"<table border="1" class="dataframe"> ",
" <thead> ",
" <tr style="text-align: right;"> ",
" <th></th> ",
" <th>OLS</th> ",
" <th>OLS - CV</th> ",
" <th>LASSO</th> ",
" <th>LASSO - CV</th> ",
" <th>LASSO - CV (α selection)</th> ",
" <th>RIDGE</th> ",
" </tr> ",
" </thead> ",
" <tbody> ",
" <tr> ",
" <th>MSE</th> ",
" <td>21.9</td> ",
" <td>37.2</td> ",
" <td>22.7</td> ",
" <td>35.5</td> ",
" <td>38.6</td> ",
" <td>21.9</td> ",
" </tr> ",
" <tr> ",
" <th>R²</th> ",
" <td>0.741</td> ",
" <td>0.56</td> ",
" <td>0.732</td> ",
" <td>0.58</td> ",
" <td>0.542</td> ",
" <td>0.74</td> ",
" </tr> ",
" </tbody> ",
"</table> ",
"</div>"
],
text/plain: [
" OLS OLS - CV LASSO LASSO - CV LASSO - CV (α selection) RIDGE ",
"MSE 21.9 37.2 22.7 35.5 38.6 21.9 ",
"R² 0.741 0.56 0.732 0.58 0.542 0.74"
]
},
execution_count: 62,
metadata: { },
output_type: "execute_result"
}
],
source: [
"mse_ridge = mean_squared_error(y, rdg.predict(x)) ",
"r2_ridge = r2_score(y, rdg.predict(x)) ",
" ",
"result_df['RIDGE'] = [mse_ridge, r2_ridge] ",
"result_df ",
" ",
"#print(mse_ridge,r2_ridge)"
]
},
{
cell_type: "markdown",
metadata: {
collapsed: true
},
source: [
"### 4.3 Ridge: Gráfico Real X Previsto"
]
},
{
cell_type: "code",
execution_count: 63,
metadata: { },
outputs: [
{
data: {
image/png: "iVBORw0KGgoAAAANSUhEUgAAAYIAAAEKCAYAAAAfGVI8AAAABHNCSVQICAgIfAhkiAAAAAlwSFlz AAALEgAACxIB0t1+/AAAADl0RVh0U29mdHdhcmUAbWF0cGxvdGxpYiB2ZXJzaW9uIDIuMS4wLCBo dHRwOi8vbWF0cGxvdGxpYi5vcmcvpW3flQAAIABJREFUeJztnXl8VOXV+L8nyQTCGpCoGNlcUUFF UFGsCq1bqUpdUNTWrfX1V22rVhSrqLRYqNjavtr2VSvutbhG3IoLWMUFAQMim6IoGhBQErYEsp3f HzMTJ5N7Z+5M5s5MMuf7+fBJ7p07zz1zyTznec4qqophGIaRu+RlWgDDMAwjs5giMAzDyHFMERiG YeQ4pggMwzByHFMEhmEYOY4pAsMwjBzHFIFhGEaOY4rAMAwjxzFFYBiGkeMUZFoAL/Tq1Uv79++f aTEMwzDaFAsXLvxGVUviXdcmFEH//v1ZsGBBpsUwDMNoU4jIF16uM9OQYRhGjmOKwDAMI8cxRWAY hpHjmCIwDMPIcUwRGIZh5Di+Rg2JyOfAVqABqFfVYSLSE5gB9Ac+B8aqaqWfchiGYRjupGNHMFJV D1XVYaHjCcDrqrov8Hro2DAMw8gQmTANnQ48FPr9IWBMBmQwDMPIapYtW8a1115LY2Oj7/fyWxEo 8IqILBSRy0LndlPVdQChn7s6vVFELhORBSKyYOPGjT6LaRiGkR2sX7+eyy+/nMGDB3Pffffx8ccf +35PvxXBCFU9DDgFuEJEjvX6RlW9V1WHqeqwkpK4GdKGYRhtmurqaiZPnsw+++zD/fffzxVXXMGn n37KwIEDfb+3r85iVV0b+rlBRJ4FjgDWi0hvVV0nIr2BDX7KYBiGkc00NDTwyCOPcOONN7J27Vp+ /OMfM3XqVPbbb7+0yeDbjkBEOotI1/DvwInAR8BM4MLQZRcCz/klg2EYRjbz2muvMXToUC6++GJK S0t58803eeaZZ9KqBMDfHcFuwLMiEr7Pv1T1PyIyH3hCRC4F1gBn+yiDYRhG1vHRRx9x3XXX8fLL L9OvXz8ef/xxxo4dS15eZlK7fFMEqvoZcIjD+W+B7/t1X8MwjGzl66+/5uabb+b++++na9euTJs2 jSuvvJKOHTtmVK42UYbaMAyjLbN9+3b+9Kc/cfvtt7Nz505++ctfMnHiRHbZZZdMiwaYIjAMw/CN hoYGHnroISZOnMjatWs588wzmTJlCvvuu2+mRWuG1RoyDMPwgVdffZXDDjuMSy+9lD59+jB37lye euqprFMCYIrAMAwjpXz00UeccsopnHjiiWzdupUZM2bw7rvvMmLEiEyL5oopAsMwjBSwbt06fv7z n3PIIYfw3nvvcccdd7B8+XLGjh1LKHoyazEfgWEYRivYvn07d9xxB7fffjt1dXX86le/4qabbsoa R7AXTBEYhmEkQUNDAw8++CATJ05k3bp1nHXWWUydOpW9994706IljJmGDMMwEmTWrFkMGTKEn/3s Z/Tr14+3336bJ598sk0qATBFYBiG4ZkPP/yQk046iZNPPpnt27fzxBNP8M4773D00UdnWrRWYYrA MAwjDmvXruXSSy/l0EMPZf78+fz5z39m2bJlnH322VnvCPaC+QgMwzBc2LZtG9OmTeOOO+6grq6O q6++mhtvvJGePXtmWrSUYorAMAwjioaGBqZPn87NN9/M119/zdixY/nDH/7QZn0A8TBFYBiGEUJV mTVrFuPHj+ejjz7i6KOP5plnnuGoo47KtGi+YorAMAwDWLx4MePHj+fVV19l77335qmnnuKMM87I iA+grLyCabNWsraqhj2Kixh/0v6MGVLq2/3MWWwYRk5TUVHBJZdcwpAhQ1i4cCF33nkny5Yt48wz z8yYErjhmSVUVNWgQEVVDTc8s4Sy8grf7mmKwDCMnGTr1q3cfPPN7Lvvvjz22GNcc801rFq1iquu uorCwsKMyTVt1kpq6hqanaupa2DarJW+3dNMQ4Zh5BT19fVNjuD169dzzjnn8Ic//IG99tor06IB sLaqJqHzqcAUgWEYOYGq8vLLLzN+/HiWLVvGiBEjKCsrY/jw4ZkWrRnFnQJUVtc5nvcLMw0ZhtHu WbRoESeccAKjR4+mtraWp59+mrfeeivrlACAamLnU4EpAsMw2i1fffUVF110EYcddhjl5eX89a9/ ZenSpRmLBvLC5pqWu4FY51OBmYYMw2h3bN26lT/+8Y/8+c9/pqGhgWuvvZbf/va3FBcXZ1q0uOxR XESFgz9gj+Ii3+5pOwLDMNoN9fX13HPPPeyzzz7cdtttjBkzhpUrV3L77be3CSUAMHJgSULnU4Ht CAzDaPOoKi+99BLjx49n+fLlHHPMMTz//PMcccQRmRbNkVgJY3NWbHR8j9v5VGCKwMhq0p1habQ9 ysvLufbaa5k9ezb77rsvzz77LKeffnrW+gDCCWPhXIFwwhjAmCGlGQkfNdOQkbVkIsPSaDt8+eWX XHjhhQwdOpTFixdz1113sXTpUsaMGZO1SgDiJ4x1Ksx3fJ/b+VRgisDIWjKRYWlkP1u2bOHGG29k v/32Y8aMGYwfP55Vq1Zx5ZVXEgj4F2ufKuKt+LfXNji+7nY+FZhpyMhaMrFFNrKX+vp67rvvPm65 5RY2btzIeeedx2233Ub//v0zLVpCZCIqKB62IzCyFrcvRia/MEb6UVWef/55Bg8ezC9+8QsOOOAA 3n//fR577LE2pwQAxp+0P0WB5maeokA+40/aP0MSpUERiEi+iJSLyAuh4wEiMk9EPhGRGSKSuepO RlaTjV8YI70sXLiQUaNGcdppp9HY2EhZWRlvvPEGhx9+eKZFS5oxQ0qZcsZgSouLEKC0uIgpZwzO aBBEOkxDvwaWA91Cx38E7lTVf4vI/wGXAv9IgxxGGyP8xbCoodxjzZo13HjjjTz66KP06tWLu+++ m8suu6zJB9BWo8mi5b7znENbyN3DpdZQDx9rDfmqCERkT2A0cBtwjQRd+aOA80KXPATciikCw4Ux Q0rbxBfcSA1btmxh6tSp3HnnnagqEyZMYMKECXTv3r3pmnjhl9mKV7lHH9ybR99b0+L9ow/u7Zts fu8I/gJcB3QNHe8CVKlqfej4KyB7/+cMw0gLdXV13Hfffdx6661s3LiRCy64gMmTJ9OvX78W18aK JmuNIoi3y2jtLsSr3JlIKPPNRyAiPwI2qOrCyNMOlzrW1BORy0RkgYgs2LjRvwdgGEbmUFVmzpzJ 4MGDueKKKzjwwAOZP38+jzzyiKMSAH+iyeLlrKQip8Wr3O0toWwEcJqIfA78m6BJ6C9AsYiEdyJ7 Amud3qyq96rqMFUdVlLiX40NwzAyw4IFCxg5ciSnn346ADNnzmTOnDkMGzYs5vv8iCaLl7OSipyW 7kXONv5oud36DrTJfgSqeoOq7qmq/YFzgdmqej4wBzgrdNmFwHN+yWAYRvooK69gxNTZDJjwIiOm znZdLX/xxRdccMEFHH744SxdupS//e1vLFmyhFNPPdVTRnAy0WTxZIu3Cm/tKr2svILttfUtzgfy pIXcmehHkImEsuuBf4vIZKAcuD8DMhiGkUK8OEI3b97MlClT+Mtf/oKIcMMNN3D99dc3cwR7IdFo Mi+yuSV55YkwYMKL5InQ4DATe92FTJu1krqGlu/v0rGghdztth+Bqr4BvBH6/TMgO0sCGoaRFLFM J6MH7co999zDpEmT+Oabb/jJT37C5MmT6du3b9L3SySazIuTdvxJ+zdTFmHCk7+TEkgkp8Vt51Dl ECZq/QgMw2iTOE10qson789m0KBB/PKXv2TQoEEsXLiQhx9+uFVKIBWyRZ+PTvLKdzFR5YsklQSW iF/D+hEYhtEmiV7F7lz3MZWz72fnV0vZZeBAnn/+eUaPHp2RqqBeV9iRu4wBE150HKtRldVTRycs g9OOw21H0a7CRw3DyB3CDtz6zevZOHMaXz98DfWbvuJ/fjuFJUuWUF86hGP+OCeuIzlZYjmDk3Eu pzoyKZGyEpkIH7UdgWEYreb4AZ054MuZlD32T0DYc+T5/HHSTZz3vYG+ZwLHGz+ZUiWJrOC94tWv kQkfgSkCwzCSpra2tskRvGnTJn7605/y+9//nj59+jRd41cmsJfxw6/Hqu3jRCbrXPmhhOIh6mdw aooYNmyYLliwINNiGIYRQlUpKyvj+uuv55NPPmHUqFHccccdDBkypMW1Aya86Fg+QCApe7vX8SE4 gUZOqIF8oXNhAVU1deSHQkJLs7Bo3U1lS3h83pc0qJIvwrgj+zB5zOCExxGRhaoaO0MP8xEYhpEg 8+bN49hjj+WMM84gEAjw4osv8tprrzkqAfC/r4TbOPkiLXYKdQ1KVSgePxwS2poWqF6T6BId8+mF Fc1CV59eWOFri1ZTBIZheGL16tWMGzeO4cOH8/HHH3PPPfewePFifvjDH8aMBvK7r4Tb+E6x/24k 0wLVr57amWjRaj4Cw2hnpLJWf1l5BVPKFrDiPw+zdeHzBAL53HTTTVx33XV07do1/gD4b293G3/a rJWOTlc3Eo3K8cv3YVFDhmG0imQjdJyUR11dLVdO/CPfvPkvGndso/Og77P7qJ8y9IxRnpVAGL/7 SriN75Qt7Eaipiq/JmzLLDYMo1UkY1aINnF8VVnNFbf9gwtOHsGGV+6hcLe96H3RX+k1+irqi3r6 aqJIJdGx+z06BQjkOZuwkjFV+eX7yESLVtsRGEY7IplVaqTy2Ll2ZTAjuGIZgV36sutZt9Jxr6HN fAAVVTWMmDo7ZeYdP9tORu8UwveqqKppddSQX2GeY4aUsuCLTc2ihs4c6u+OyhSBYbQjkjErrK2q oa7qa6r++xDVK94ir3MxPU+6ki4Hn4Dk5Tu+J1VJYeluO5lKE5Vfvg+3qKFh/Xr6pgxMERhGO2Lk wBLHfrf9d2muCMIr4zVfb2TzO/9m68IXkLx8uh89jm5HnkFeYRE9OgXYUdfoamNPhWPU72Qzv/HD 95GJZ2KKwDDaKE4mFbfCZG9/uon+E16ktLiIkQNLeOr9z9kw73k2v/M4jTu203nwDyj+3vkUdO0F BE0ct5x6EEDM6JvWOkb9crj6aW7yG4saMowcw23CcjoP35khuhcF2F5b39TsJGxSiRch81VlNfc+ +C8q//sQ9VXr6Nh/CD1GXkzhrns1XZMv0qIg2tUzFjlm77bWMZqoKcvLBJ9uc1OqsVpDhpFDuE1Y C77YxNMLK5qdH//UYlCoawxOx1UO3apq6hqaHKBO7KxYHnQEr11BoFc/dj17EkV7DW1xXaNqswlz 2qyVriUiWusYTcTh6nWCb+vmpkzUGvKkCETkEOB7ocO3VHWxbxIZRo7gNmGFo0UicWpz6ISTEqir XBd0BK+cS37nHvQ8+Zd0GfwDV0dwnghl5RVNk6abSSJ8pxFTZ7vuXOKZZRJxuHqd4DNhWkklmSh4 F7fonIj8Gvg58Ezo1I+Be1X1Lt+kisKKzhntkVjF0pJF+G6CbqjZGnQEf/Aikp9PtyPOoNsRQUdw 5HVu9OgU4JZTD3L1ERQXBdhZ39yZHMiXZjsXCK5mE+nm5YbX4nUjps52lLe0uIi3J4xqlQxtjVQW nbsUOFJVb1bVm4HhBBWDYRitIFaxtGQIT+5aX8eW959l7T0/Y+uCmXQZNIo9fn4vxcecT15hEUWB fM4f3jfufSqr67jhmSWMHFjimOAkgmNRt0glAKmrk+M1gSsTCVmpxo9idrHwoggEiPzfbgidMwyj FThNWAIM36tHi/PxKC4K0KjK9uVvsfafl1M5534K99if3hf/L7uc8is6dOvVrDPW5DGDafRQlK2m roE5KzY6dtdyarzuRirMMl4n+ES6gWUjfhWzi4UXH8EDwDwReTZ0PAa43zeJDKMdESvKJZxB+th7 a5pMHgp8sGYzZw4tZc6KjZ6LplV/uZRvZt1H9VfLCZT0b+EIduq16xadEk1FVQ1Xz1jUorFLIkXd UhHxkojt3O/aRn6SlXkEqvpnEXkDOIbgguViVS33RRrDyEISLUsQeX2kLd4pymXOio0t7N7hVfjb E0ZRVl7hGroJUFe5lqo3HqT643co6NqTXU75FZ0Hfb+FI9hpInaKTnEjcmUalt8teS1PINI6lEqz TFue4L2SVXkEItIz4vDz0L+m11R1k29SGUaWEB2yGN3MBJqHLkZf7zTJR7ZQjJeoNWZIKVfNWNTi 9YaaLWx+Z0bIEVxA92POp9vhPyavsKPjeG4TcYeCPM/VOaPlf3zel47XdOsYoHOHgjaZzJUNZFse wUKCf8cC9AUqQ78XA2uAAb5JZRhZgtM2PYzTdj3W9WG8JH/tUVzUtLOIROvr2PrB82x+ZwaNtTV0 OfgEuh9zPgVderqMFIz+iZd0BcGVe9gktTZkn44lv1u+wuaaOhbdcqKrPEZssiqPQFUHAIjI/wEz VfWl0PEpwA98k8gwWkGqSwvE245Hv+5l++7UQjGSokA+IweWNN9ZqFK94i0q//sQDZvX03GvofQ4 /mIKS/rHvJdAU6mISNzs0C8sXkfnDgVNcjpN9vHk93PlmgtkIo/Ai7P4cFW9PHygqi+LyO99k8gw ksSP0gLxHKoKzUoyx7s+kC8xk8PCk2xkUtmOr5ZSOXs6tetWEijpzy5jf0/RAOf+wE7yOX12N4VV VVPXoqdvJNHN4J1eb0thmtlKun0hXhTBNyJyE/Aowb+rC4BvfZXKMJLAS7RFojsGLw7VyNIQ1bX1 MWWMlyEcWXq4blNFMCP443fI79KTXU75NZ0HjXLNCHaiNEbsvdeIn3wRGlXjtoB0qlFktA28KIJx wC1AOHz0zdA5w8gq4kVbJLNjiA6VdDOX1NQ1NAsDbQ0N1ZuDGcHlLyH5gbiOYDdirc7Hn7R/zGik SJxCT51s2KYE2i5xS0wkPbBIR4JKowNBhfOUqt4iIgOAfwM9gQ+An6hqbayxrMSE4QW30gIQXBlX 19ZT6ZAElWjpAT9KQwBofS1bFj7P5nefQGtr6HLwiRQfcz75XXp4HiORrlv9J7zoaUyn59OWyzzn El5LTMTdEYhICXAdcBDQtCRR1XjfnJ3AKFXdJiIBYK6IvAxcA9ypqv8OOaIvBf4RTw7DiEcsM04s M4hXE0mYRMwqXlBtpHp5yBG8ZQNFew2j+PiLKSzp53mM6BV5eKIOJ4I5TdSlHj6H264iF+L5cwkv JSYeA1YQDBedRDCfYH68N2mQbaHDQOifAqOAp0LnHyKYqWwYrSaytEAiCCSUvu9U6iBZdnz5EZv+ NZ5vnp9GXsfO7HrOZHY9+9a4SqC4KND0OcMO5mmzVlJWXuG5RIHT5wjkC8VFgTZZmsFIHi/VRxeq 6lAR+VBVDw6d+6+qHhd3cJF8gvkI+wB/A6YB76nqPqHX+wAvq+ogh/deBlwG0Ldv36FffPFFYp/M yGkSNd/06BSg/Gbvse+R2cNuFAXyOaxvd975dFMLWeo2VVD53wep+fhdSktLue2227hz9a5U7WiM e+/w6h+cbfUdCvIc+xUka+IxM1DbJWWmISD8F7VOREYDa4E9vQihqg3AoSJSTNDZfIDTZS7vvRe4 F4I+Ai/3M3KHeB28EqWyuq5ZDf54hE0jbn6JyAiasvIKfvPEYhpUmzuCCwrZfdSF7HncWG5drnQv ygfiK4LwuCOmznaMknKLcHJ6LvFMPG2925fhDS+KYLKIdAd+A9wFdAOuTuQmqloVqlc0HCgWkQJV rSeoUNYmJrKRy5SVV3DrzKXNVrxOHbycCOQJXToWODqMAceiXvFWw25+iQZVfvPEYhZ8sYlh/XrS paCRNXOfZvM7T6B1O+hyyEn0OvZ8Crr04Ovq77qORdfpiaa0uChuwxg3kkn0auvdvgxveCk690Lo 183ASK8Dh5zMdSElUEQwG/mPwBzgLIKRQxcCzyUqtJGbOJVFCOOlg1ddoxLLEho9sXpZDYd/Tnp+ aQsF06DKI+9+zj3THw45gjdStPfhFB9/Mbv22RsRWrynUYNmKtWW7SijHbduTusenQLsqGtMSYmC tt7ty/BGrKJzdxGjiZGq/irO2L2Bh0J+gjzgCVV9QUSWAf8WkclAOVbS2vCIlzo+8XCynYeJXjEn shreUdfSpLNjzRIq50yn9utPKNxtb3b54VUU9TsEoKkom6OM1XWsnjo6qd1IUSC/qaREKuz6mSiA ZqSfWDuCVgXuq+qHQIs8eFX9DDiiNWMbuYUXx2xrcVoxx6sMGiZaYdR9+1XQEfzJe+R37cUuo6+h 80HHI5LXbIx4k2w8+328mjSpMN1kogCakX5iFZ17KJ2CGIYTscxBqcIp+aqsvMK1r2/0ajisGBqq N7P57X+xtfxlJNCB4mN/Stdhp5EXaJkRHJ60WzvJ+h3Pn4kCaEb68ZJQNgeH74OHhDLDaDWpMAfF Y+TAkhYT27RZK13tolXVtQyY8GLTpLhb5zxWvj6Dze8+GXQEH3oyxSPGkd/ZOSNYCO42wpFEiWQD ZwJLHmv/eIkaujbi947AmUDsylpG1tFWY8H9NAeFCXfZmjxmcNO5WM7Q7bVBxfRV5XZ+MemvbH/7 EbZ88zVF+xxBj+MuJtCrj+t7I3cZkQXmwjuBtvB/YrQ/vEQNLYw69baI/NcneQwfaMux4PHCKVPF 4/O+bKYIijsFXMNMAXas+TDkCF5F5z325Xf3/JX/bOrF2qoa8mLU8Xdr5mIhmUYm8WIaimx9lAcM BXb3TSIj5bTlWPB0KAFoWXvfLcy07tsvqXzjQWpWzSO/awm7/Og3dDnwOCZedioTQ9e4df+KZ+Ky kEwjU3gxDUW2rKwHVhMsFGe0ESwWPD75Is2ON0eFmTZsr6Lq7cfZtijkCD7uQroOPY28QIcWtY3c HKzxIp8sJNPIFF5MQ9abuI2TK7HgblE+XijIl2YlJsLPrLFuJ1sXPMfm955E63bSdcgpdD96HPmd i5veu31nfYvyFG4O1lgRUE7jGEY68GIaugJ4TFWrQsc9gHGq+ne/hTNSQ1uOBRdxN9NE0xor0s76 xmZ+k9+csC9X/u5/2TDnIRq2bqRo3+Hs/v1LOO+k4bz44bpm/oOqmroWPpdYzvnwziD6szmNkw20 1UADwzteqo8uUtVDo86Vq6q3pqkpwBrTtJ5Ufpmjxxo5sIQ5KzamdKJIRxKZE6XFRZzc8xv+OOlG tq9dReHu+9Bj5KV07DuYHp0C3HLqQa5yhat7uvkIoks6uxWsS7RRThg/Jmyvn8VILan6v/RafdSL IvgQOERDF4ZKRnyoqgclLFWSmCLIHrwkeCUyUbhVEfU7icyJum++pPKN6dR8Op/8biUUH/tTOh94 XLOM4FhOXwFWTx3teYJ3K5UdHicR/JqwU62sjPiUlVcw/qnFzepnBfKFaWcdkvD/ZSrLUM8Cngh1 E1PgcuA/CUljtBnirUS8JHh5jUhyC2vtGMhLqxJo2F5J1dx/sW3xLKSwI8XHXUTXoaeSF+jQ4tqa ugbXMNA8kZh9EKKd86n03fgVGWaBBuln0vNLWxRRrGtQJj2/1LddmBdFcD3wP8D/I7hYeQX4py/S GBkh0gwT6XB1yjfwOgF4uc5t8kqXEmis28HW+c+xed5TaH0tXYf8kO4jxpHfqXvM94UTwJxKT8ci eoJPpe/Grwk7VwINsgm3/JVYeS2tJW6rSlVtVNV/qOpZqnqmqt4TajhjtAMi2xpCS4dreFUZxusE EOu6svKKmI3m/Ua1kW0fvc7a+y6n6q1H6NjvEPa45G/0POFyCiOigdwIt3AsLS5CaBl66oTTBB/Z WrO1rSHdnndrJ2yndpZtJdDA8E6sMtRLiF2G+mBfJDLSihdTT0VVDSOmzmb8SfvHbBAfJtZEkY4i crGo+XwRlXOmU7fhMwp770uvU6+lY5/vOqW6rfbDRJaCCE/YAya86Ho/gZjOvlTV8fErMsyKzqWf 4qKAY7n04qKAb/d0dRaLSMzu2aqatibC5ixOPclE5UT2yo0VNTRyYEmzEMviogC3nnZQzNaOYVqT CxCL2m/WUDVnOjWfLSC/2670OO5COh3wvWaOYPiuEmn483UvCiAS7BHgNglmi0PVwjzbB2XlFYx/ cnGzbnuBPGHa2f45i+NGDWUDpghSS2tW5W6TmxfFcsHwvjz23hrXib7UxR7dGoKO4MfYtvgVpLCI 7keNpdvQU5GCwhbXJhtlYyGWRqpJd/iol4Sy4QR7FR8AFAL5wHZV7ZawVEZWEM8cFGtV7uR89KpY wlU+3UilEmis28GW+WVsmfd00BF82Gi6H31uTEdwshO3mU+MVJPu0t9eoobuBs4FngSGAT8F9vFT KMNfYkWSRJpGvEaLpKNngFe0sYHtS+dQ9ebDNGzbRKf9jqb4uAsJ9Iz/pWrNF8/rF9fMN0Y24kUR oKqrRCQ/FC30gIi847NcOY3fk4VbSGC02Sd6lR9uqBJ2HCcaUuo3QUfw/dRtWB10BJ92XTNHcCy8 RP60lrZcDtxo33hRBNUiUggsEpHbgXVAZ3/Fyl3SMVm4RZiMHFjCiKmzmxTQmUNLmbNiY9z8AjfF ki5qN35O5RsPsOOzheR3341ep453dATHYtyR7s1kUkVbLgdupJd07xy9KIKfEMw3uBK4GuhDsEuZ 4QOJTBZu5Rni/QE52bRHDizh6YUVzRTQ0wsrmHLGYEczUaRMXkJK/aBhWyVVcx9l24evIoVFFB9/ ScgR7D3MLl+EcUf2adaUxgvJfFEtS9fwQiZ2jrHyCEqAElVdFjq1A5gkIoOAzb5IY3ieLJz+WMY/ tRiUprCzWH9A0TbtEVNnuyqgeDKFx7lqxiJPn7G1NNbuYMv8Z4OO4IY6uh72I7qPOJf8oubxC4E8 obAgr6m1ZDQC/Gls4iF5yX5RLUvX8EImdo6x9s53ASUO50uBv/oijeE5Q9Tpj6WuQZvFHkPzzOBw Ru+ACS8yYupsysormq5zm+wrQrH0TuSJNI0xZkhpiwYtqUYbG9j24St8/c//YfPcxygacBh7XPp3 ev7gshZKAKBLxwIC+e5/4grNsqa9EuuLGgvL0jW8kImdYyxFMFhVW/QmVtVZgGUV+4SXyaKsvCIh m3xFVU2zUhLKd6vY8EQea1VrVXIpAAAeOElEQVS6vbaeQF5LZ2qDarMxxp+0P4F8f5yuNavLWffg r/n25f8lr2svdjv/dkp+/NuY0UBV1XUtOo1Fk8yXK9kvaipLShjtF7/KhcQilo8glqHVv1znHCde THp4Qk+UG59tacP3aueProQYPcak55f61jugduPnVM55gB2rF1LQfTd6nXY9nQYeg3iI8gl/cVLd HrI1Jp50x4cbbY9MNJKKpQg+EZEfqupLkSdF5BTgM98kMmJOFsnG7LvZyVNh56+srkt5ZcT6bZvY /NajbFvyGnmFRfQYeSldD/uRZ0dw5BcnOl3f6ZpEaMsd34zsJxMJirEUwdXACyIylmADewgmlB0F /Mg3iYyYpNpOGLmKHTOklN88sThuOWU/aazdwZb3n2HL+0+jDQ10HXpqMCO4qGtC44RNLmXlFUGv cBRFgTzLJDaylqzJLFbVj0VkMHAeEM7K+S/wP6q6Ix3CGUEiQxXzXJqiJIPTKjZTSkAbG9i25HU2 z300mBG8/wiKj7uIQI/eCY9VXBRoNlk7mbZ21DW2Sl4z8RjtiZh5BKq6E3ggmYFFpA/wMLA70Ajc q6p/FZGewAygP/A5MFZVK5O5Ry4QHaqYyom6Q0Fe0z0mPb/U18YXsaj5bCGVbzxA3cbPKdxjf3qd fgMd9zwg6fEi3QduO6hwxFCsydxrroCVjTDaOp5KTCRJPfAbVf1ARLoCC0XkVeAi4HVVnSoiE4AJ BLug5TxOE4qfdXyqauq4ZsYiJE9ocLCh+03thtVUzpnOjs/LKSjenV6nT6DT/iM8OYJjURWh0GJl Pccys3nNFbCyEUZ7wDdFoKrrCJajQFW3ishygjkIpwPHhy57CHiDNqYI4q0Ak1khuk0osZRAuHdu cVGA7bX1MaN73GgESLMSqN/6LVVvPcr2Ja+R17EzPUb9jK5DRieUERyLSL/H+JP25+oZixyrqcaK 8vGa1GNlI4z2gCdFEKo1tF/ocKWqJmRDEJH+wBBgHrBbSEmgqutEZNdExso08VaAbhm/t85cyuaa OtdSENW19Y4TSizC3bRuPe0gAG545kNqWmn79kJ+kjuIxtoatsx7hi3znwk6gg8/ne5HnZOwIzhM ngSVYWREULTfY8yQUhZ8salFH4R4UT6xEuwi6zEls9swjGwjblUuETke+AT4G/B34GMROdbrDUSk C/A0cJWqbkngfZeJyAIRWbBx40avb/OdeFmlbhm/VTV1TYlc459azPgnFzdL7krWPh9579r69Kzs u3Yo4ILhfT1fr40NbF30H9beexmb33mcor2PYI+f/x89R/3MVQl4qQaqCtPOPiRugtbkMYO585xD E0rkctsthCuwhv/f3KS0shFGWyJuhzIRWQicp6orQ8f7AY+r6tC4g4sEgBeAWar659C5lcDxod1A b+ANVY0ZgJ1NHcoGTHjR0cwgwOqpo11f95tYfXaTIZAnjrH3YfI9RC+pKjtWfxDsEfzNF3QoPYAe Iy+hQ2l8R/CIvXvywZrNMT+Tn60gnZrtuDXsiT5v3cmMbMFrhzIvdXoDYSUAwbBSPGQWS9Djdz+w PKwEQswELgz9fiHwnAcZ0kqsmjzx0r8zsRLMF0mpEiguCjDt7ENirsrjKYHaDZ+x4Ymb2fDkLWh9 Lb3G3MBu59/uSQkAvPdZZVM5Bif8TuByKgfh9ok19LqVjTDaKl52BNMJ/q0/Ejp1PlCgqhfHed8x wFvAEkI+SeC3BP0ETwB9gTXA2aq6KdZY6dwRuLVd7NEpwC2nhm3x7v1pW9MPuLgoQOcOBQk3lE+V EsgXaVaNs/+EFxMeo37rNyFH8OvkdexC9xHn0nXID5H8xB3Bn08d3fR7LAd8usI3s6VJvWF4JWXN 60WkA3AFcAzBXfCbwN9DOQZpIZ2KwO3LDt9N+BA7qzRyYiruFGDbjvpmZpY8cQ7UuWB4X4b16+k5 pr9zYT6B/Dyq4hRWS4RIpRbrWUTTuLM6lBH8LKoNdDvsVLodfQ75HbskJUe+CJ9O+WHc69LZON6a 1BttjVQqgs7AjlCbSkQkH+igqtUpkdQD6VQE8Wz8yaz+oles1bX1jhN9USAPaGnm8WqbThXhz+hl dxMsDf0qVXMfpXF7FZ0OOJbiY39KoHj3VslwwfC+nprFpHuVbsljRlvCqyLwEj76OvADYFvouAh4 BTg6efGyl3htF5MJC4wuRzDAxeTiFvoZyzbthUQVRmSIZPeiAB0DeS0Ul6qy47MFVM55gLpv19Ch 9EB6nDGRDnu03m4/Yu+enjuGpbt2u5WWMNojXhRBR1UNKwFUdZuIdPJRpowSr+2iF2dw9Kpx5MAS 5qzY2HRc3CngazmHsIs3vGJNtKJoOEQScDQ71a7/jMo597Pji8UU9OhNyZjfUrTfUa3OCA77YRKZ aK3rl2G0Hi+KYLuIHKaqHwCIyFCg3WbLhCehW2cubTEJeolUcUooe/S9NU2vV1TVODZ5iYWbT8EN pbmj1a2iaJ5Ah4KWzma3W9Vv+Yaqtx5h+0ezyevYhR7fv4yuQ05JyhEcjVdTULSS7b9LEWtDcf1h rCS0YSSGF0VwFfCkiKwNHfcGzvFPpMwT3v4nYw/2UhuorlERCSZEeaG1FSDcQj0bFc4cWtoi67bF dTur2TzvabbOLws6go/4Md2PGkteko5gJ+asiJ806KRko3cDQvAzmfnGMLwTVxGo6nwRGQjsT/B7 tiLREhNtlVj2YDcl4dU2reot9DOZkNIenb5boZeVV8RM/orcrbSQMdQjuOqtx2isrqLTAcfR47if UtB9N8+yeMXLc/OiZBVvSsUwjO+IqwhC/oBrgH6q+nMR2VdE9lfVF/wXLzuJVW8onrM5TGlEdVG3 MNPmdYS85yaE8x3CciZaulpVqflsAVVzplP37Zd02PMgepyZGkewG15s+l6VrNX5MYzE8GIaeoBg h7KjQsdfAU8SLB2Rk8SqNxTP2RymurYeoFmIYzxTlNe+wLHqHsWjdv2nIUfwhxT02IOSH99I0b7D W+0IjsSpJIObTT+ZpjzmKDaMxPCiCPZW1XNEZByAqtZIKmeFNkiskEWnNoYjB5bwwuJ1zZzPldV1 LerWxzJFhV/zUssoXNgukbLU9Vs2hhzBc8gr6kqPH/wPXQ89BclPfaXy84f3bRZFFavhS6JNecxR bBiJ4+VbXisiRYQWcSKyN5C2rOJsJF7IotOEPmfFxhZRSMnUrfdqeqpr8OaQDjqCnwo5gpVuR55J 96POJq9D52bXFRcF2Fnf2OpyFsVFAc85Am47mnwRGlUdQ3MtwcswEseLIrgF+A/QR0QeA0YQ7DKW sziZf5Ktb5+oPdur6QmCSsAtmUwbG9i2eBZVcx+jsXoznQ48jh7HXkhB95btISJ9FfHMND06BehU WNBUojnaBBQexwtuz6ZRldUR4bGGYbSOmIogZAJaAZwBDCc4r/xaVb9Jg2xZi5P5J95KNFWJT02N Vuat8RR+qnynDIoCeVTXNlDz6ftUznmA+k1f0aHPIHqcdSsdeu/b7H3h95RGfbbIQm9OyjAyIay1 5RgsWcww0kO85vUqImWh3gOJl6JsxyRaaiCZXYQTZeUVzHj/S885CBCc0IuLAmz+ciXrX72PnWuW UNCzlJIzJlK0zxGICIF8oXNhQbMuapETemRXrsjXkmnJ6fU9qXpmhmHExotp6D0ROVxV5/suTTsm 2YkzmmmzVsZsGONE/ZYNrHrhEbYvnUNeUTd6nnA5XQ45uckRHL3qjyRea85YeRZOLTtRmuSP1+g9 Vc/MMIzYeKk+uoxgMtnnwHZCVgNVPdh36UKku0NZJmrfex03kQ5ojTur2fzek2xd8FzQEXz46XQf 3twRHO6s5kay1T0TKWFt9fwNwx9SWX30lBTI02aItQIGWrx29YxFXDVjUcxVtdM9osNLn15Y4brq jnyfl1h6bagPOoLf/heN1ZvpfNBIio/9CQXdWjqC49nbk3VyJ+IEtwQww8gsropARDoClwP7EOwy dr+q1qdLsEwRrzm9W4G2eGYOCE7k0cXsKqpqHGv9RIeWeskSVlVqVr1P5RsRjuCzJ9Fh930cr/di b/fisHXazXgNc40eyzCM9BOrZ/FDwDCCSuAU4E9pkSjDxFoBx1u5RiqMaMITuVNZZ7epPfJ+8bKE d677hPWP38DGZ34PQMmZE9lt3JRmSqC4KJBwb92RA0ting9/ropQBdCwQhw5sISiQH7MscGcv4aR DcQyDR2oqoMBROR+4P30iJRZ4q2A461y3ZRFMuUeijsFmqJ1XEtDb95A1ZsPs33ZG+R16k7PE39B n+Gj2V6HY92iRP0ZbgXcwufddlBzVmxkyhmDY/ZCSMScZhiGf8RSBE1LV1Wtz5WqEvFCFuOVbnAz cyRjB9+2w7mlJUDjzu1sfjfoCEaEbkeNpe9x5/L7sUd4KqF9U9kSHp/3JQ2q5Isw7sg+jhm/8XwE 8cptuNVHMgexYWQPsRTBISKyJfS7AEWh43DUUDffpUshXqNyYoUslpVXxOz5GMvMkYjNPIxTmKg2 1LN10ctsfvtxGmu20HXQ9+n2vQso6FbCVsVTaOdNZUualZ9uUG06jlYG8XZI8V5vr7kA1rvYaE/E DR/NBlobPuqWBevFRh5JrJDIeGYOt0bwXhvUqCo1n7xH5X8fpH5TBV0GHELvE35ObY/+jrLEWm3v fcNLjk5nITiBR05u0LIEduSz8/Js29ukmaq/J8PwG6/hozmhCJKNhY/GLYY/Xix+GKcJEZwn2siG 8TvXfUzl7PvZ+dVSCnruSY+Rl9Bz4HB21Ds3u48nT/8J3pLEw5MbxE7qam8TfTxS9fdkGH6TyjyC No+bHbuiqqZF6QRwn/RaW/smlrnGSUH8ZvprfP36A1Qv/y95nYrpeeIv6HLISUhePjvqG107j8WT J1bHskjCUVBvTxgVc2JPtNxGWydVBQQNI1vICUXgNoEL30UBVVTVMP7JxSA0OYOjcwP8sndHT6RV VVVMmTKFL+/9Kw2NSrejzqH7kWeS16FTs/c1qLZod+lFnnFH9onZojISm9xaYsXwjPZGrDyCdsP4 k/ZvEdPuVJ65rlFbRARF5gaMGVLKlDMGJxyL75Xa2lruuusu+g7Yi9unTaNwv2MYcu3DDDjpkhZK gIj7JyrP5DGDuWB4X/JDkWD5InQudI75t8mtJU5/T+3BAW7kLjnhI4CWduxEIni8+gCSRVUpKyvj +uuv55NPPqFT/0PofvwlFO62NwCBfGlWrA0gkCd06VhAVXXLaqHJ4OQAFYLdxLw2ksklcs0vYrRN zFkch2wpijZv3jyuvfZa5s6dy4EHHogefgHbdxvcokdwuOHL2qoauhcF2F5b32z3koqolZvKlrQo d+E0bjZNgtkki2FkG14VQU6Yhpxw2t4H8oJ1+SOJt+UP1+ofMOFFRkydHcw18MDq1asZN24cw4cP 5+OPP+aee+5h8eLF1Ox+sGOj+KrqOt6eMIrVU0fTuUNBTBNWssxZsdG15lEYt5ISXj93KskmWQyj LeObIhCR6SKyQUQ+ijjXU0ReFZFPQj97+HX/eDjZ+6edfQjTzjrEs809mYmosrKS8ePHM3DgQJ57 7jkmTpzIqlWruOyyyygoKHC1yUee9ytqxcu48YrypZNsksUw2jJ+Rg09CNwNPBxxbgLwuqpOFZEJ oePrfZQhJm5hj15NC7Emougxamtr+cc//sHvfvc7Kisrueiii/j9739PaWnz67xEJvkVteJl3GwK nUwkLNjMRYbhjm87AlV9E9gUdfp0glVNCf0c49f904GXSVFVefrppznwwAO56qqrGDJkCB988AHT p09voQTAW2SSX1ErXsb1smNJF273DIcFm7nIMLyR7jyC3VR1HYCqrhORlp1SQojIZcBlAH379k2T eIkRawVdVl7BzfeV8fHMv7OzYhl99t6fl156iZNPPtnRBxBJvAQtv1o4ehk3m2oHOcniFBbstksz DCOIr1FDItIfeEFVB4WOq1S1OOL1SlWN6ydId6vKeIQjVSqqalpMPEWBfEaVKo/cNZWty94kr3Mx xcdcQMnQkznr8L7MWbGxzZsssilSx2tYsN8hwIaRjWRriYn1ItI7tBvoDWxI8/1bTXS8vfLdKnS3 DvXs/tlM/jFlOkg+3Y8eR7cjzyCvsIgdDTQLzYzVjjJVk6xfE3Y2lZSIlsUtLNgS4wzDnXQrgpnA hcDU0M/n/LqRX5Ogk4O4saGOvOWv8sk7jzO/qorOg35A9++dT0HXXs2u89qOMl7vYi+kcqy2RDaZ rgyjreBn+OjjwLvA/iLylYhcSlABnCAinwAnhI5Tjp/x5dGO4O0r5rL2n7/g8xf/zrBhw1i0aBEH nzehhRLwMl4qwyFzNbTS7zIghtEe8W1HoKrjXF76vl/3DJNIWGeihO3QOyuWB0tDr11BoFc/9vrJ bbzy8G8BGN/gXK7ByRvjV2imm608F4rIZZPpyjDaAu2y+mhrJ9RYZqULDuzAddffwrYVc8nv3IOe J/+KLoO/T15BAWXlFc0mocgxRg4s4emFFWnJDygrr/CkeAzDMKCdKoLWTKhutvWtmyspnzmdu+++ mwby6D7iPLod8WPyCoNj1jVqsx2H06p0WL+eaQnNnDZrpWsDHbOVG4YRTbtUBK2ZUKPNSlpfx/r3 n+XiO2bQuHM7l1xyCbM6HEt+111avDfejiNd+QFucijt21FsGEZytEtF0JoJNTyJqirVK+ZS9d8H qd+8no4DDmPKlKk8uTqffJeJNhVml1TYt912RKVmFjIMw4F2qQgg+Ql1j+IiPv3oAyrn/JPatSsJ lPRn17G/o/eBR3LPRw3U1NU6vi+bQhQthNIwjERot4ogmTyCVatWoa/9ifWvv0R+l57scsqv6Dzo +3TqUIgILSKRwpRmWZawXyUoDMNon7RLRZBoMtW3337L5MmT+dvf/kZhYSHnXv4bVvceyfpqmibR q2cscryXQMqb1qQiGc5CKA3D8Eq7VARe8wh27tzJ3XffzeTJk9myZQuXXnopkyZNonfv3o5jtiYS yevEnqsZwYZhZI522aEsXh6BqjJjxgwGDhzItddey1FHHcXixYu59957HZUAJF/6OdEs51zNCDYM I3O0S0UQq2b+3LlzOeqoozj33HPp1q0br7zyCi+99BKDBg2KOWaypQsSndizqfGLYRi5Qbs0DTlF zeRv/ZrG+U/zvRteZo899uCBBx7gJz/5Cfn5+Y5juJlzUhXTX1FV05SJHIlf3ccMwzDcaJeKIDJq 5su1X1O/8Ck2vP886zt04He/+x3XXHMNnTt3dn1/Ku30sWrkO42ZbOhnNvUIMAyjbdEuTUMQnFzP 7byULQ//gvXvPcell1zCqlWrmDhxYkwlAKm10zv5FmKNmYwJys9qq4ZhtH/a5Y4gzPr16xkxYgS3 3347Bx10kOf3pdJOH57Ar3IJP3UaM1ETlJ/VVg3DaP+0a0UwadIkVx9ALFJtpx8zpLRV4afxiOWH GDDhRTMVGYYRk3ZrGgKSUgKQfKhouscME0uZmKnIMIx4tGtFkCx+dLnys3NWLD9EGMtFMAzDDVF1 qlyfXQwbNkwXLFiQaTGymsioIbf/UQFWTx2dTrEMw8ggIrJQVYfFu65d+wjSQbaEbUY6mEdMne1r LkK2fGbDMFKDmYZaQbaGbfrpj8jWz2wYRvKYImgF2VoXyE9/RLZ+ZsMwksdMQ60gm+sC+VWGOps/ s2EYyWE7glYQq7hdeyUXP7NhtHdMEbQCP23x2UoufmbDaO+YaagV5GJLyFz8zIbR3rE8AsMwjHaK 1zwCMw0ZhmHkOKYIDMMwcpyMKAIROVlEVorIKhGZkAkZDMMwjCBpVwQikg/8DTgFOBAYJyIHplsO wzAMI0gmdgRHAKtU9TNVrQX+DZyeATkMwzAMMqMISoEvI46/Cp0zDMMwMkAmFIE4nGsRwyoil4nI AhFZsHHjxjSIZRiGkZtkQhF8BfSJON4TWBt9kareq6rDVHVYSUlJ2oQzDMPINTKhCOYD+4rIABEp BM4FZmZADsMwDIMMlJhQ1XoRuRKYBeQD01V1abrlaG9YsxjDMJIlI7WGVPUl4KVM3Ls9Em4WE+4T EG4WA5gyMAwjLpZZ3A6wZjGGYbQGUwTtAGsWYxhGa7Ay1FG0RVv7HsVFvjarNwyjfWM7ggjaamN2 axZjGEZrMEUQQVu1tfvZrN4wjPaPmYYiaMu2dr+a1RuG0f6xHUEE1pjdMIxcxBRBBGZrNwwjFzHT UATWmN0wjFzEFEEUZms3DCPXMNOQYRhGjmOKwDAMI8cxRWAYhpHjmCIwDMPIcUwRGIZh5Dii2qJd cNYhIhuBLzItRyvpBXyTaSGyCHse32HPojn2PL6jtc+in6rG7fXbJhRBe0BEFqjqsEzLkS3Y8/gO exbNsefxHel6FmYaMgzDyHFMERiGYeQ4pgjSx72ZFiDLsOfxHfYsmmPP4zvS8izMR2AYhpHj2I7A MAwjxzFF4AMiMl1ENojIRxHneorIqyLySehnj0zKmC5EpI+IzBGR5SKyVER+HTqfq8+jo4i8LyKL Q89jUuj8ABGZF3oeM0SkMNOypgsRyReRchF5IXScy8/icxFZIiKLRGRB6Jzv3xVTBP7wIHBy1LkJ wOuqui/weug4F6gHfqOqBwDDgStE5EBy93nsBEap6iHAocDJIjIc+CNwZ+h5VAKXZlDGdPNrYHnE cS4/C4CRqnpoRNio798VUwQ+oKpvApuiTp8OPBT6/SFgTFqFyhCquk5VPwj9vpXgF76U3H0eqqrb QoeB0D8FRgFPhc7nzPMQkT2B0cA/Q8dCjj6LGPj+XTFFkD52U9V1EJwcgV0zLE/aEZH+wBBgHjn8 PEKmkEXABuBV4FOgSlXrQ5d8RVBZ5gJ/Aa4DGkPHu5C7zwKCi4JXRGShiFwWOuf7d8Ua0xhpQUS6 AE8DV6nqluDCLzdR1QbgUBEpBp4FDnC6LL1SpR8R+RGwQVUXisjx4dMOl7b7ZxHBCFVdKyK7Aq+K yIp03NR2BOljvYj0Bgj93JBhedKGiAQIKoHHVPWZ0OmcfR5hVLUKeIOg76RYRMILsz2BtZmSK42M AE4Tkc+BfxM0Cf2F3HwWAKjq2tDPDQQXCUeQhu+KKYL0MRO4MPT7hcBzGZQlbYRsvvcDy1X1zxEv 5erzKAntBBCRIuAHBP0mc4CzQpflxPNQ1RtUdU9V7Q+cC8xW1fPJwWcBICKdRaRr+HfgROAj0vBd sYQyHxCRx4HjCVYOXA/cApQBTwB9gTXA2aoa7VBud4jIMcBbwBK+swP/lqCfIBefx8EEHX75BBdi T6jq70RkL4Kr4p5AOXCBqu7MnKTpJWQaulZVf5SrzyL0uZ8NHRYA/1LV20RkF3z+rpgiMAzDyHHM NGQYhpHjmCIwDMPIcUwRGIZh5DimCAzDMHIcUwSGYRg5jikCo90iIg2hKo4ficiTItIpTfftLyI1 oXsvE5GHQ0l1yY63Lf5VhpE8pgiM9kxNqIrjIKAWuDzyRQni13fgU1U9FBhMMDt2rE/3MYxWY4rA yBXeAvYJrdaXi8jfgQ+APiJyooi8KyIfhHYOXQBE5HAReSfUO+B9Eeka6ifwQKhmfLmIjIx101Bd ofcJFU4LFZybJiLzReRDEfmf0PkuIvJ6SIYlInK6r0/DMCIwRWC0e0J1a04hmN0MsD/wsKoOAbYD NwE/UNXDgAXANaFmKDOAX4d6B/wAqAGuAFDVwcA44CER6Rjj3h2BI4H/hE5dCmxW1cOBw4Gfi8gA YAfw45AMI4E/SS5X5jPSilUfNdozRaFyzxDcEdwP7AF8oarvhc4PBw4E3g7Nu4XAuwSVxTpVnQ+g qlugqWTGXaFzK0TkC2A/4MOoe+8duve+wFOqGn79ROBgEQnX0ukeuuYr4A8icizBUhylwG7A16l4 EIYRC1MERnumJmSnbyI02W+PPAW8qqrjoq47GOfyx15X6Z+q6qGhapFviMhpqjoz9P5fquqsqPtd BJQAQ1W1LlSR03WnYRipxExDRq7zHjBCRPYBEJFOIrIfsALYQ0QOD53vGjIxvQmcHzq3H8FCYCvd Bg81EpkA3BA6NQv4f+EoIhHZL1RpsjvB2vx1Ib9Dv9R/VMNwxhSBkdOo6kbgIuBxEfmQoGIYqKq1 wDnAXSKymGAnsY7A34F8EVlC0IdwkYfKmGVAJxH5HsGWjMuAD0TkI+Aegjvzx4BhEmxYfj5BRWQY acGqjxqGYeQ4tiMwDMPIcUwRGIZh5DimCAzDMHIcUwSGYRg5jikCwzCMHMcUgWEYRo5jisAwDCPH MUVgGIaR4/x/ZHTHGuTrPaEAAAAASUVORK5CYII= ",
text/plain: [
"<matplotlib.figure.Figure at 0x262d49fd828>"
]
},
metadata: { },
output_type: "display_data"
}
],
source: [
"# In[9]: ",
"scatterPlot(y, las.predict(x))"
]
},
{
cell_type: "markdown",
metadata: {
collapsed: true
},
source: [
"### 4.4 Comparação dos coeficientes: Regressão Linear X LASSO X Ridge"
]
},
{
cell_type: "code",
execution_count: 64,
metadata: { },
outputs: [
{
data: {
text/html: [
"<div> ",
"<style> ",
" .dataframe thead tr:only-child th { ",
" text-align: right; ",
" } ",
" ",
" .dataframe thead th { ",
" text-align: left; ",
" } ",
" ",
" .dataframe tbody tr th { ",
" vertical-align: top; ",
" } ",
"</style> ",
"<table border="1" class="dataframe"> ",
" <thead> ",
" <tr style="text-align: right;"> ",
" <th></th> ",
" <th>Intercept</th> ",
" <th>CRIM</th> ",
" <th>ZN</th> ",
" <th>INDUS</th> ",
" <th>CHAS</th> ",
" <th>NOX</th> ",
" <th>RM</th> ",
" <th>AGE</th> ",
" <th>DIS</th> ",
" <th>RAD</th> ",
" <th>TAX</th> ",
" <th>PTRATIO</th> ",
" <th>B</th> ",
" <th>LSTAT</th> ",
" </tr> ",
" </thead> ",
" <tbody> ",
" <tr> ",
" <th>OLS</th> ",
" <td>22.5</td> ",
" <td>-0.92</td> ",
" <td>1.08</td> ",
" <td>0.143</td> ",
" <td>0.682</td> ",
" <td>-2.06</td> ",
" <td>2.67</td> ",
" <td>0.0211</td> ",
" <td>-3.1</td> ",
" <td>2.66</td> ",
" <td>-2.08</td> ",
" <td>-2.06</td> ",
" <td>0.857</td> ",
" <td>-3.75</td> ",
" </tr> ",
" <tr> ",
" <th>LASSO</th> ",
" <td>22.5</td> ",
" <td>-0.537</td> ",
" <td>0.596</td> ",
" <td>-0.0366</td> ",
" <td>0.65</td> ",
" <td>-1.43</td> ",
" <td>2.87</td> ",
" <td>-0</td> ",
" <td>-2.21</td> ",
" <td>0.755</td> ",
" <td>-0.479</td> ",
" <td>-1.88</td> ",
" <td>0.74</td> ",
" <td>-3.73</td> ",
" </tr> ",
" <tr> ",
" <th>RIDGE</th> ",
" <td>22.5</td> ",
" <td>-0.883</td> ",
" <td>1.01</td> ",
" <td>0.0386</td> ",
" <td>0.697</td> ",
" <td>-1.93</td> ",
" <td>2.71</td> ",
" <td>-0.00781</td> ",
" <td>-2.98</td> ",
" <td>2.34</td> ",
" <td>-1.78</td> ",
" <td>-2.02</td> ",
" <td>0.854</td> ",
" <td>-3.69</td> ",
" </tr> ",
" </tbody> ",
"</table> ",
"</div>"
],
text/plain: [
" Intercept CRIM ZN INDUS CHAS NOX RM AGE DIS RAD \ ",
"OLS 22.5 -0.92 1.08 0.143 0.682 -2.06 2.67 0.0211 -3.1 2.66 ",
"LASSO 22.5 -0.537 0.596 -0.0366 0.65 -1.43 2.87 -0 -2.21 0.755 ",
"RIDGE 22.5 -0.883 1.01 0.0386 0.697 -1.93 2.71 -0.00781 -2.98 2.34 ",
" ",
" TAX PTRATIO B LSTAT ",
"OLS -2.08 -2.06 0.857 -3.75 ",
"LASSO -0.479 -1.88 0.74 -3.73 ",
"RIDGE -1.78 -2.02 0.854 -3.69 "
]
},
execution_count: 64,
metadata: { },
output_type: "execute_result"
}
],
source: [
"# Abaixo podemos verificar que, ao penalizar os estimadores com um alpha > 0, quase todos os coeficientes ",
"#ficaram com valores menores em módulo. O coeficiente de AGE ficou igual a 0, ou seja, o algoritmo eliminou um ",
"#parâmetro da regressão. ",
" ",
"# In[10]: ",
"coef_df['RIDGE'] = np.append([rdg.intercept_], rdg.coef_) ",
"coef_df.T"
]
},
{
cell_type: "markdown",
metadata: {
collapsed: true
},
source: [
"### 4.5 Ridge: Validação Cruzada 5-fold"
]
},
{
cell_type: "code",
execution_count: 65,
metadata: { },
outputs: [
{
name: "stdout",
output_type: "stream",
text: [
"[Fold 1] α: 5.00, R²: 0.66 ",
"[Fold 2] α: 5.00, R²: 0.73 ",
"[Fold 3] α: 5.00, R²: 0.59 ",
"[Fold 4] α: 5.00, R²: 0.09 ",
"[Fold 5] α: 5.00, R²: -0.15 "
]
},
{
data: {
text/html: [
"<div> ",
"<style> ",
" .dataframe thead tr:only-child th { ",
" text-align: right; ",
" } ",
" ",
" .dataframe thead th { ",
" text-align: left; ",
" } ",
" ",
" .dataframe tbody tr th { ",
" vertical-align: top; ",
" } ",
"</style> ",
"<table border="1" class="dataframe"> ",
" <thead> ",
" <tr style="text-align: right;"> ",
" <th></th> ",
" <th>OLS</th> ",
" <th>OLS - CV</th> ",
" <th>LASSO</th> ",
" <th>LASSO - CV</th> ",
" <th>LASSO - CV (α selection)</th> ",
" <th>RIDGE</th> ",
" <th>RIDGE - CV</th> ",
" </tr> ",
" </thead> ",
" <tbody> ",
" <tr> ",
" <th>MSE</th> ",
" <td>21.9</td> ",
" <td>37.2</td> ",
" <td>22.7</td> ",
" <td>35.5</td> ",
" <td>38.6</td> ",
" <td>21.9</td> ",
" <td>35.9</td> ",
" </tr> ",
" <tr> ",
" <th>R²</th> ",
" <td>0.741</td> ",
" <td>0.56</td> ",
" <td>0.732</td> ",
" <td>0.58</td> ",
" <td>0.542</td> ",
" <td>0.74</td> ",
" <td>0.575</td> ",
" </tr> ",
" </tbody> ",
"</table> ",
"</div>"
],
text/plain: [
" OLS OLS - CV LASSO LASSO - CV LASSO - CV (α selection) RIDGE \ ",
"MSE 21.9 37.2 22.7 35.5 38.6 21.9 ",
"R² 0.741 0.56 0.732 0.58 0.542 0.74 ",
" ",
" RIDGE - CV ",
"MSE 35.9 ",
"R² 0.575 "
]
},
execution_count: 65,
metadata: { },
output_type: "execute_result"
}
],
source: [
"# ## Validação Cruzada - LASSO ",
"# Faremos também um teste de validação cruzada, dividindo os dados em 5 grupos. ",
"# In[11]: ",
"kf = KFold(n_splits=5) ",
"p = np.zeros_like(y) ",
"for k, (train, test) in enumerate(kf.split(x)): ",
" rdg.fit(x.loc[train], y[train]) ",
" p[test] = rdg.predict(x.loc[test]) ",
" print("[Fold {0}] \u03b1: {1:.2f}, R\u00b2: {2:.2f}". ",
" format(k+1, alpha, rdg.score(x.loc[test], y[test]))) ",
" ",
"mse_ridge_cv = mean_squared_error(y, p) ",
"r2_ridge_cv = r2_score(y, p) ",
" ",
"result_df['RIDGE - CV'] = [mse_ridge_cv, r2_ridge_cv] ",
"result_df"
]
},
{
cell_type: "code",
execution_count: 66,
metadata: {
scrolled: true
},
outputs: [
{
data: {
image/png: "iVBORw0KGgoAAAANSUhEUgAAAYIAAAEKCAYAAAAfGVI8AAAABHNCSVQICAgIfAhkiAAAAAlwSFlz AAALEgAACxIB0t1+/AAAADl0RVh0U29mdHdhcmUAbWF0cGxvdGxpYiB2ZXJzaW9uIDIuMS4wLCBo dHRwOi8vbWF0cGxvdGxpYi5vcmcvpW3flQAAIABJREFUeJztnXl8VOX1/98nyQQStoBEhCiCG2gF BVFQrIq2bqBSF9SvtmqtS3/1W7WKBbUsikJFq9XWb4sr7ohLxK1YFdxRA0ERZXNBCAgoJCwJySR5 fn/MTJhM7r1zJ5k763m/XrzI3Ny588zNzDnPc855PkeMMSiKoijZS06yB6AoiqIkF3UEiqIoWY46 AkVRlCxHHYGiKEqWo45AURQly1FHoCiKkuWoI1AURcly1BEoiqJkOeoIFEVRspy8ZA/ADd27dzd9 +vRJ9jAURVHSioULF/5ojCmOdl5aOII+ffpQVlaW7GEoiqKkFSKy2s15GhpSFEXJctQRKIqiZDnq CBRFUbIcdQSKoihZjjoCRVGULMfTqiER+Q7YBjQA9caYISLSDZgF9AG+A8YYY7Z4OQ5FURTFnkSs CEYYYw41xgwJPh4HvGWM2R94K/hYURRFSRLJCA2dAcwM/jwTGJ2EMSiKoqQ0S5cu5frrr6exsdHz 1/LaERjgDRFZKCKXB4/1MMasBwj+v7vVE0XkchEpE5GyTZs2eTxMRVGU1GDt2rVceumlDBw4kAce eIAVK1Z4/ppeO4LhxpjBwCnAH0TkGLdPNMbMMMYMMcYMKS6OukNaURQlramsrGTcuHHsv//+PPHE E1x99dV888039O/f3/PX9jRZbIxZF/x/o4i8CBwBbBCRnsaY9SLSE9jo5RgURVFSmZ07d/LPf/6T 2267jcrKSi644AJuvfVWEqmv5tmKQEQ6iEin0M/AicAXwBzgouBpFwEveTUGRVGUVKWhoYHHH3+c fv36cf3113PEEUewaNEiHn/88YQ6AfB2RdADeFFEQq/zlDHmPyLyKfCsiFwKfA+c4+EYFEVRUgpj DHPnzuXPf/4zn3/+OYMHD+bhhx/mhBNOSNqYPHMExphvgEMsjv8EJO8dK4qiJImysjJuuOEG5s2b R9++fXn66acZM2YMOTnJ3durO4sVRVE85uuvv+a8887j8MMPZ8mSJfz9739n2bJlnHfeeUl3ApAm /QgURVHSkY0bN3Lrrbfyr3/9i/z8fG6++WbGjh1L586dkz20ZqgjUBRFiTPbt2/nb3/7G9OnT6em pobf/e53TJw4kZ49eyZ7aJaoI1AURYkTfr+fBx98kMmTJ7NhwwbOPPNMbr/9dvr165fsoTmijkBR FKWNGGN44YUXuPHGG1mxYgVHH300L774IkceeWSyh+aK5GcpFEVR0ph3332XI488krPPPpu8vDzm zJnTdCxdUEegKIrSCr744gtOO+00jj32WNasWcODDz7IZ599xmmnnUZw/1TaoKEhRVGUGFi7di0T Jkxg5syZdOrUialTp/LHP/6RwsLCuL1GaXkF0+cuZ11lDb2KChh7Uj9GDyqJ2/UjUUegKIrigi1b tjBt2jTuvfdeGhsbueaaa7jxxhvZbbfd4vo6peUVjH9hCTX+BgAqKmsY/8ISAM+cgYaGFEVRHNi5 cyd33nkn++67L9OnT+ecc85h+fLl3HXXXXF3AgDT5y5vcgIhavwNTJ+7PO6vFUIdgaIoigUNDQ08 9thj9OvXj7Fjx3LEEUdQXl7OY4895qko3LrKmpiOxwN1BIqiKGEYY3j99dcZPHgwF110EcXFxbz5 5pv85z//4ZBDWsinxZ1eRQUxHY8H6ggURVGCfPrpp5xwwgmceuqpbN++nWeeeYZPPvkkocqgY0/q R4Evt9mxAl8uY0/yblOaOgJFUbKeVatWce6553LEEUewZMkS7r33Xr766ivOPffchIvCjR5UwtQz B1BSVIAAJUUFTD1zgFYNKYqieMHGjRu55ZZb+Pe//01+fj5/+ctfuP7665MuCjd6UImnhj8SdQSK omQdkaJwl112GRMmTEhZUTivUUegKErWECkKd9ZZZ3HbbbelvCic16gjUBQl4zHG8Pzzz3PjjTey cuVKfv7zn1NaWsqwYcOSPbSUQJPFiqJkNCEBuHPOOYf8/Hxefvll3nnnHXUCYagjUBQlI/niiy8Y NWoUxx57LGvXruWhhx7is88+Y9SoUWknCuc16ggURcko1qxZwyWXXMLAgQN5//33mTZtGitXruS3 v/0tubm50S+QhWiOQFGUjGDLli1MnTqVe++9F2MMf/rTnxg/frwnekCZhjoCRVHSmp07d/KPf/yD 22+/ncrKSi688EJuvfVW9t5772QPLW1QR6AoSlrS0NDAE088wV/+8hfWrFnDySefzLRp0zzTA0p0 j4BEojkCRVHSCmMMr732GoMGDeLiiy+mR48evPXWW7z++uueOoHxLyyhorIGw64eAaXlFZ68XqJR R6AoStrw6aefcvzxxzNy5Eh27NjBM888w8cff8zxxx/v6esmukdAaXkFw6e9Td9xrzJ82tueOxx1 BIqipDyrVq1izJgxHHHEESxdupT77rsvoaJwiewRkIzVh+d3UERyRaRcRF4JPu4rIh+LyEoRmSUi +V6PQVGU9GTDhg384Q9/4MADD+S1115jwoQJrFq1iquuuor8/MSZjkT2CMjUDmVXA1+FPf4rcLcx Zn9gC3BpAsagKEoasX37diZPnsx+++3Hv//9by677DJWrVrF5MmTk6IMGq8eAW5CPhnXoUxE9gRG Ag8GHwtwPPBc8JSZwGgvx6AoSvrg9/u5//772XfffZk0aRInnXQSX375Jffffz977LFH0sYVjx4B bkM+yehQ5nX56D3ADUCn4OPdgEpjTH3w8VogM+qvFE/I5JI9ZRfGGJ577jluvPFGVq1axTHHHMNL L72UUnpAbe0R4BTyCb/uiP7FPLHg+xbPH9G/uNWvHQ3PVgQiMgrYaIxZGH7Y4lRj8/zLRaRMRMo2 bdrkyRiV1CbTS/aUACEBuDFjxtCuXTtefvll5s+fn1JOIB64Dfm8+vl6y/PsjscDL0NDw4HTReQ7 4BkCIaF7gCIRCa1E9gTWWT3ZGDPDGDPEGDOkuNg7T6ikLslImimJY8mSJYwaNYrjjjuOdevW8fDD D2e0KJzbkM+War/leXbH44FnjsAYM94Ys6cxpg9wHvC2MeYCYB5wdvC0i4CXvBqDkt4kI2mWTiS6 1jxefP/991xyySUccsghvP/++/z1r39lxYoVXHLJJRktCpeMpvRuSYbExJ+BZ0RkClAOPJSEMShp QK+iAiosjL6XSbN0IRQ2C62YQmEzIGVzKOGicADXXXcd48ePp1u3bkkeWWII/V1SMeeVEEdgjJkP zA/+/A1wRCJeV0lvxp7Ur5mxg9SZQSUbt4nHVGDnzp3cd9993H777VRVVfHrX/+aW265JStF4RLd lN4tKjqnpCypPINKNukQNosUhTvllFOYNm0aAwcOTPbQlAjUESgpTarOoJJNKofNjDG8/vrrjBs3 jiVLljBkyBBmzpzJiBEjkj20tKBroc8yMdy10OfZa6rWkKKkIU6Jx2QmkT/55BNGjBjByJEjqa6u ZtasWU3HFHdMPO1n+HKbV035coWJp/3Ms9fUFYGipCF2YbOy1Zt5csH3TZtzEpVEXrlyJTfddBOz Z8+muLiYf/zjH1x22WUJ1QNKJ5w2SiYjJKqOQFHSlMiwWWl5RTMnEMLLJPKGDRu45ZZbmDFjBu3a tWPixIlcd911dOrUKfqTE0gq7VBPxYovdQSKkiFMn7vceps+8U8ib9u2jbvuuos777yTnTt3cvnl lzNhwoSk6QE5GXorwzv2uc+YNGcpVTV+W8fglfOIVvGVDEehjkBRMgQnYx8tiezW6Pn9fmbMmMEt t9zCxo0bOfvss7nttts44IAD2jz+1hLNcFoZXn+DobLGb3m+m2u2hWgVX8koDdZksaJkCE7G3mnv hRtNJ2MMs2fP5qCDDuKqq67iwAMPZMGCBcyePTupTgCiS5G4WQ1FSpd4KW8STWoi42SoFUVJHGNP 6tei2iRE2erNts+LZvTmz5/P0KFDGTNmDO3bt+eVV15h3rx5DB06NH6DbwPRDKfbktrw63hpjKNJ TSRDhlodgaJkCKMHldAh3zra++SC723LSO2M23crvuTUU09lxIgRrF+/nkceeYTFixczcuTImEXh vCxpjWY4rQxvtOt4aYyj9Tawk5v2UoZacwSKEoVUqjiJRlWNtUKlAdsYc+TmtPqtG6l870l2LH2b 6i5duOOOO7jqqqsoKGidEfQ6+RlNiiS8HLOisgYRMBFZ9QJfLiP6FzN82tusq6yhS4EPX67gbzCW 12wrThsl5y2zlt23Ox4P1BEoigOpWOrnhN2OY7Ce+d9cuqTpeEPNNrYumM3WhS8jwBkXXs7D99zu WhTOzmF6nfx0U3cf+jnSYUBgx+7IgT15fmFF0+8qa/z4coSuhT4qq+0ri7wgGTkCdQSK4kA6ibtB YHZ87azFlmWk4WGN0vIKbnpxCTvqGmj017Jt0cts/Wg2jbXVdBl4AtOn3sZlp7rXhnRymF4YNiun 88G44x3PyxGhIXIpABTm5zFv2aaWlUWNhsL8PMonnNjqcbaGIhuJiSIPJSbUESiKA+kg7hbO6EEl LXYXQ/OwRshoV9fWsWPpPCrfe4KGbT9SsM8Qio69iIIe+zQ5gZtLl/D0x2toMIZcEc4fuhdTRg9o 8bpODjPeukhuV2mR51k5AXD+Wybj77yjtj6m4/FAHYGiOGBnxLoU+JriyYnOG0TLWUwZPYAhe3ez PeeO/yzjp2ULqJz/KP4fV5Pfc3+6j/oT7XsHVEEbjKG0vIKy1Zub9c5tMKbpcaQzcHKYd597aFzl xN2u0qzOsyLkkFJFxK+uwdph2R2PB+oIFMUBq0SkL0fYUVfvuCEpRDSjHWsi2u1s2C4Z+fHHH7Po /66hds0X5HXtSfczxlHYb3iLKqDxLyxhZ721EX1iwffMW7ap2VidZv3RYvix3gO3qzQ3s/lwh+R1 74tULjpQR6AoDlgZseq6+hYxXKsZaTSjHUsiOmRErIytm5zFihUruOmmm3juuefwdSyi2y9/T8dD TkJyrU1AtJl0aKxlqzczb9mmQDUOtMhN7Kitp7S8wtYxtSYZ7zbUZHdergiNxlgaY68MdSzv0+o+ ho57hToCRYlCpBHrO+5Vy/NCM1A3Rhvgumc/axG3duNQnF47kg0bNjB58mRmzJhB+/btmThxIv1+ cT63zP3WVdjEiRp/Q7NchJXxqqzxOxr21iTj3XauszsvvGY/HC97X8TyPi8Y1rtZSC78uFe4cgQi cgjw8+DD94wxn3k2IkVJcZxmpG6Mdmg26DZ56SbW3aWgeUXJtm3buPPOO7nrrruora3liiuuYMKE CfTo0QOAgg4do1bTuMHNs5wMe2uS8W5lmlOpw10s7zOUf3GTpI8XUR2BiFwNXAa8EDz0hIjMMMbc 59moFMVj2hKvdZqRujHauSKO50SWCbqJdYdC/HV1dTzwwANNonDnnHMOt912G/vvv3+z88Nnv07O K0egMQ45Srv30NqKIrez91TpcBfr+5wyeoCnhj8SNxITlwJDjTETjDETgGEEHIOiJJ3WSBe4EVlz wkkiIJrRLvDlRp19b99Z32wsbipXNu+oY/czxtGlZ1+uuuoqdnboSc9f30XF4CuZuXSn4z0KvZ9c C9mIeDgBp/cQTXcnU0j19ykmyodSRJYAhxtjdgYftwc+NcYkzF0NGTLElJWVJerllDTBaibrFAMO MXza25azs5KiAstNSeGvF20VYXft0PVDqwa7c0KEJww75OdSV9+I38Yq71z9OVveeYS69Svxdd+b rsddTPt9htjqAdndo77jXnUV6omVaH+TVK6miUYsY0/G+xSRhcaYIdHOc5MjeAT4WEReDD4eDTzU lsEpSjxo7a7f1sSlnao+QmNZV1lDUaEPX440M9pWhjBaHiHcIO+oawheJ4caf2OTk6jb+C1b3nmU nd8sJLdTMbudei0dfnYckuMssGZ3j+zCF10Lfez0N7ZwuE7jLykqcG3wUiV8EyuxVjyl8vuM6giM MX8TkfnA0QQmKpcYY8q9HpiiRKO1u35bE5e2czqT5iyltn6XkdxS7ceXKxQV+Kiq8dOlwIe/oZFr Zi3mmlmLKSrwMen0n3HWYSVNyUC37PQ3cs+5h7JpfQU33Xwzm8rfJKddIUXHXUKnwaPI8bVzfS2r e2SX+wg1TY+czdqtbKKtrDKFdJMfccLWEYhIuNLUd8F/Tb8zxtgLnCtKArAz6IZAiMZuJuq2/DAc O+dSaaH26W8wbNtZzwXDejPr0zXNFCwra/z86dnF5LaiUqe+ZhsXX/m/VC18BREY/ZsrWNfnZDbU xl4FbuX0olXZRJa0Vte1lDzwOu6dSmGkdJMfccLpE7SQwHdKgN7AluDPRcD3QF/PR6coDlgZ9BBO +jOhmVzIGJe4MChOqp5WhMsxRNJooDEGJxApCtfh4BMo+vkFLO5cjKl1fZkm2mqs7aqMQqsdrwxz qinBxltDKZnYVg0ZY/oaY/YB5gKnGWO6G2N2A0axq5RUUZJGePWOFaHQTYjwaiEIGGsh0PAjmiGx q/ro6qEipGlsYPvn/2XdA1dQOf9R2pUcSM/f3kf3kdeQ17k4psSuXROUcNxWU9mVyHZol+epQfay fWRrSPVKoFhws6Y83BhzZeiBMeZ1EbnVwzEpimtCCTi7ipfKGj99xr1KSVAaItKQGALdu4bs3S1q QhNahk0geuI3Vowx1Hz9KZXvPIr/x+/J73lAM1G4WLGL2ZeWVzBpztKm8JbVngGrmHeyQiKpFopJ pQ1rbcWNI/hRRG4GniDwvbkQ+Cnak4Jlpu8C7YKv85wxZqKI9AWeAboBi4BfG2PqWjl+RQGih26c fufUvSscp6oPK7mI1lC7bjlb5j8SFIXrZSsK5xbBunF9aXkFY2d/1qy6yW7PQKShTVZIJBVDMalc CRQLbjaUnQ8UAy8CpcDuwWPRqAWON8YcAhwKnCwiw4C/AncbY/YnkHe4tDUDV7ITuw1kbV2Ot2VW OXpQCXeNOcRVX1wrSooKKKjewKYXb+eHx6/Dv3kt3U78f/S69H46H/jzVjsBCDg5O40fu30JkUQa 2mSFRDIpFJNquCkf3QxcHeuFTWCn2vbgQ1/wnwGOB/4neHwmMAn4v1ivr2QfVsnCa4NlmSVFBRT6 cqj2N7bq2m3t/hQytpNfXmrZXcqKAl8uNxzTg09emMGMBx7A5PjoMvx/6HzEr8jJL6DAl8vg3l34 4OvWF+jZ5U/cOj4rQ5uskEgmhWJSDTdaQ8XADcDPgPah48aYqIXCIpJLoPpoP+CfwNdApTEmVHe2 FrD8K4rI5cDlAL17e6e6p6QPVsnC0Jw2looeK+IQ1QECtf5ukLoaBm7+gP/91QPU1tby+yuvZMjo 3/FA2eYWtfpWFPpy6NqhHRWVNU3VT5HyxU6zZadQmpNMc4hkhUQyJRQTjUSXybrJETwJzCJQLXQl cBGwyc3FjTENwKEiUkQgtHSg1Wk2z50BzICAxISb11PSj1g+8F4mBass9gPEihvBOdPgZ9vi/1D1 4TN8V13F8F+eRvXAs3k1bzfKyza3eP/XzlpseZ0afyNfRiSAY7mXY0/q1yJHAODLFaaffUhWGNtU JRllsm4cwW7GmIdE5GpjzDvAOyLyTiwvYoypDO5OHgYUiUhecFWwJ7Au5lErGUGsH/hYa/ljIR4J R8eEtGmketn7VL77OPWV6+m8zyHcPPk2Hl6e2+z9j539GZNfXkpldWBXsl2XErsNYW4NRei88Kqh roU+Jp7m3T4AxR3J2LHsxhGEpkrrRWQkAcO9Z7QnBUNK/qATKAB+QSBRPA84m0Dl0EXAS60ZuJL+ uP3Ahzd6seve1BbikXB0Ui6tWf0ZlfMfpe6HlfiK+7Dnebdw79hLuPONFdT4mzsPf6NpyjFY7VqO 13ghe8Is6UYyymTdOIIpItIFuA64D+gMXOvieT2BmcE8QQ7wrDHmFRH5EnhGRKYA5aiAXdbi5gMf uWoIbXVvjTOIFIMD592wpeUVzZK/dueGxhhJ3cZv2TL/UXZ+u5D8LrvTfeS17H/UKdxwykFA6/Ia uSJR1VVDY9KkanqSjDJZN1VDrwR/rAJGuL2wMeZzYJDF8W+AI9xeR4kPqWgYonX6shM1a+2KwN9o XMtKlJZXMPa5z1rqBAVj9pF9bsNXNvVVG6l873F2LJ1PTvsO7H3KFSx74R7at2/fdG0rx+GGRmNc OYF4xphT8bOTybRGC6utOInO3YfDd84Y80dPRqTEnVTTaAlh94Ef0b847rt1QzQYQ26OsKO2nmtn LWb63OWWhm363OXNnECIRgJxdaudtg01W9n60Wy2LnoZEDoPPZMeR5/LHRcc1eQEQtdu7XtzMyuM Z4w5VT87mUwyymSdVgTaCSZDSFW53NGDSihbvblZb9azDith3rJNnjiBEA2Npin+bmfYnOKxkbH7 Hh1yWP7Ws1QtmI2prabDgBMoOvoC8joXU0dg13HZ6s1NrQedru3LFUsHBO5nhfGMMafqZyfTSXT+ xtYRGGNmJmwUiqekmkZLiNLyCp5fWNEkzdBgDM8vrPDUCVhhZdjcVCg1NDQwc+ZMVv3jJio3/kDB vodTdOxF5Bf3aX5emBLplNEDbK8d3sFsXWUNXQp8iEBltT+mWWE8Y8x298Cr6i0lObjZUDYPixCR mw1lSmqQihotYD/bbI1Wf1uJdIpjT+rHNTY1/IKhx9kT2Pb+49Rs+I6hQ4dyzW338fqP3VgXVO60 4umP1zBl9ADHGHA8ZoLxjDHb/S2s+hunEprXiA03VUPXh/3cHjgLaNmRQklZkpF8coPdiqTBmKit EONNjgil5RXNmrCUrd7coqdAbcWygCjc2qXkde1Fr7Nu4s83XsmvBu/JzcFz+ox71fI1QgbV6xhw PK9v55AT7ahjQfMaseOmamhhxKEPYt1QpiSXZGm0RJuVRQuRhG928poGY1oYiymjBzBk725Mn7uc 1V+vZMu7j1G94kNyOhTR7cT/R8eBJyK5edz5xgp+NXjX1ho3s2ivY8Dxun6Jw98oVcmEvEbKSUxE tKzMAQ4D9vBsRIonOBkGLz50bmZl0VYqtfWtE5BrLVbGYugeOQxcPZuPH3mAxtx8uhx9AZ0PH01O /i5DGLmyOX/oXpbdyc4fupd3g/eIVF1NOpGqOTG3pKrERHjLynrgW1Q6OmPw6kPnZlbmtFIZPu3t hCeNYZex2Lp1K7+7fgLPP/pvGhv87DH0NHY7+ny253Ro8ZzIXEuoOii8Gur8oXs1HU8n0lHxM1Vz Ym5JSYkJY4z2Js5gWvOhi1xBjOhfzLxlm5oZCrezMruVSrKqUvbomMd9993HzRMns3XLTxT2/zlF x/waX9de1OYIPqFZeafd7HjK6AFpafitSDcpinRcxYSTkhITIvIH4EljTGXwcVfgfGPM/Z6NKkNJ xUqGWD90ViuI8DBIaEXRpcBnGd93OytLdOVQSBRu+SdP88cf1tB5n0PZ47SbaNfzgKZz/I2GogIf HdrlpdTfUGlOOq5iwklJiQngMmPMP0MPjDFbROQyQB1BDKRqJUOsHzo3u2Jr/A209+W0qPxxOysr La9IqBMIiMI9Qt0PqyjcYx9ef/11rpxXDxYlklU1fhZPPDHqNe2cfipOBjKRdFvFhJNSEhNh5IiI BDuOhZrN5Hs2ogwlVSsZYv3QuV2eVlb7ufvcQ2M2hiGNn0RQt/GboCjcInI7F7PbyGvpeNBxnHzy yZQsftvRQUZ7D1ZOv2z15mYb5lJlMqCkFslY0YiJMvMSkelAH+BfBJLGVwJrjDHXeTaqCIYMGWLK ytJb8aLvuFctNxoJ8O20kYkeTjNimaUOn2ZtICMpKSrgg2DjlPDrF+bnsqOuuUMs8OU2KWq6vX5b iBSF63LkGDoNHoXk5TeNO9KYQ+BvdcGw3gzZu1uL3/lyhI7t86is9pPjUD5qdTz8XilKPBGRhcaY IVHPc+EIcoArgBMIfBfeAB4Mdh9LCJngCOwMXKoZgWhOwcpARhKSibZroWhF6D7YbcaKBw01W6n6 6Fm2LXoFkRw6HXY6nYedTW77jkBzhwRwc+kSnlzwfYv2j+3ycuK+v0FAQ0VK3HHrCNxUDTUSaC6v DebbQDpUMrjJY1gtW0NVQ5GNY0KzXzfR/orKGs+cQKO/lm0L51C14DlMXQ0dDj6BoqP/h7zOxU3n +HJoofM/b9mmFmOv8Te0uqzVKQFu0FCRkjycZKiX4CxDPdCTEWUoiYr7tSUZ6TaPYZeIS0RYJxZM YwPbl7xF1ftP0rD9J1tROIBGIy3eUzzL9Qp8uQzu3YUPvt7seF4q5I2U7MNpRTAqYaPIEryuZGhr ZVJb65dTZeemMYaarz+hcv5M/D99T37PfnQ/fSzt9zrY9jnhM/WQM7WbBXUt9LF9Z32LbmeR5IrQ aEyTQ54+d7mr8afKfVSyBycZ6tWJHIgSO5Gz/x219W2qTGpr7b+XzeXdUlvxFVvmPxoQhetWQvfR 4yk84CgkilpmSAcoWg7ElyuMHNiTWZ+ucbxeZL4B4FobNdNI0mUHrJI5uNlQNoxAr+IDCZSN5gI7 jDGdPR6b4kBkItPJALuZYZaWV7CjrqWorC9HXOcxxp7Uj7GzP4s6U/YC/09rqbQQhetY0K5FlZIV IR2gaPskOuTnMW/ZJsvmMZErgEjn68ZRplreSMkO3Owj+AdwHjAbGAL8BtjPy0EpzpSWV7SoZnEi UmLZCrvWjB3b57WoGrLLQYweVNKs2XsiqN++maoPnmL7Z28gvnYtROF8uTmAsyO4cFhvV93DILCh rMqmYqjRGMdSYKuCgfCyU60aUpKFG0eAMWaViOQGS0YfEZEPPR5XVhMt4esUv7YiJLFctnpzC02g 0HXtDOCWan+TE3GTg6hMkBNorK1m68fPs7WsFNNQT6fBI+ly5LnkdihqOqekqCCqYS8pKmimCRRt 1h4K27RGAsDrggHdtay0Fjcyl/tBAAAgAElEQVSOoFpE8oHFInIHsB5oKcGoxAU3xtbJuHWw2LAF gVxBZCgp/LpOBjC009dNVZHXeQLT4Gdb+etUffgMjTVbg6Jwv8HXtWez84TAe4ymWVRdV99stWQ1 aw8RHrZpbSmwVwUDqSphoqQHOS7O+XXwvKuAHcBeBLqUKR7gZGxD2M08hUB4wg6rmvjQdcee1I8C X67l8/wNhmufXWxr4MMdk9N12oIxjez48h3WPfh7trw1g/zd+7DHb+6m+Iw/NzmBUDrYai+DHVuq /Yx/YQml5RVAwGhOPXNAU+OVUBK5pKigKfkbfo5E/C5ZuPncKIodTvsIioFiY8yXwUM7gckicjBQ lYjBZSNuSjitZq0CHLVvt6h16nbXDRkxuz69TvY00jG1y8uJay+Bmu8WU/nOo9T9sApfcR92P2cy 7fsOblEJVFToY0u131bKw+4tWPVJiGbUU03ULN2bsSjJxSk0dB/Wu4lLgBuB//FkRFmOGzVQu929 T3/sXNJo93rh17VzBHaEh0SsJBnaQt2Gb9jyTrgo3J/o8LPjCKieNEfAMUkdbUxtMZipEJtP92Ys SnNSqVXlAGNMi97Expi5InKXZyPKEuz+0G6lKMJnpKH4cKzSzVbXLbLZS2BF10IfIwf2ZPrc5TE7 ECfqqzZQ+d4TQVG4jnQdcSmdBo9E8uxFb9vqfFprMFMlNp8OEiaKO1KtVaWvlb9TIrDq6BVNjjiW 2YCbHgFWhOLa4eMrKvSRA7jtFhz+PtpKQ81Wqj6cxbbyVxHJofPQs+gy7GxygqJwXtEWg5kq8uLp 3oxF2UWqtapcKSKnGmNeCz8oIqcA30S7sIjsBTxGoNF9IzDDGPN3EekGzCIgbf0dMMYYs6V1w099 rLy7Vfikxt/ApDlLm32R7z73UMs/fKRjaU2VTtdCn2VJ6JZqP75codFiT0Ek8dov0OjfybaFL0eI wl1AXufucbm+EyVtNJipFJtPtbyF0jpSrVXltcArIjKGQAN7CGwoOxJ3OkT1wHXGmEUi0glYKCL/ BS4G3jLGTBORccA44M+tfQPJIJb4nZV3tzOxlTX+prCM3XLQakexG5nnSLZU+xk+7W2q61rKUlht LPOCFqJw+x1B0TEXkV+8d5uv7eaehG8kay0am1fiTTI+U479CESkHYGkcEitaynwlDFmZ8wvJPIS gV3K/wCOM8asF5GewHxjjOO6PJX6EVhp0UTqyoQ7iraa1JKwRLBTDqA1zqAttEWX3xhDzapPqHwn KArXqx9dj7vEURQuFmLpd9zWFYGbz4OixEI8P1Nxa0wTD0SkD/AuAYfyvTGmKOx3W4wxXZ2en0qO IFqDGTeNWyDxhjue5Ipw15hDgICQWizvIyAK9wi1a78kr1sJXY+5iIIDjowqCucWX44w/ZxDmD53 ueuQWVsNdypUDSmZRbw+U3FrTNNWRKQj8DxwjTFmq9svvIhcDlwO0Lt3b+8G6IDVHyNa/M5N4rbA l8tZh5U0k3uorqtvU8y9a6GPwvy8uOzqjeakGo1pyi+09+VQ44+eWvb/tJYt786kZsVH5HboSreT /kDHAb9Eclv3EQzdw1c/X99034oKfEw6/WdNXxg3DhnanojT2LyS7njqCETER8AJPGmMeSF4eIOI 9AwLDW20eq4xZgYwAwIrAi/HGUlpeQWT5ixtFvYIxexDm5YiCcXvnBI6ke0Iwx1Ngc/NJm97dvob 2Bmn6p32vhzqG41trqBLgS9s5ePsBOq3b6bq/afY/nlQFO7nF9J5yGhy8tu3enzhBt8uxh9eRePG ObpNxOnsX/GaVCsfbSKoNXRA8OFyY0zUqasEpv4PAV8ZY/4W9qs5wEXAtOD/L8U0Yo9xCu3U+Bto l5dDgS/Xtl7bLtET2Zs48nWqXcyqnXAyyEUFPjq0c79aqPE34ssR25WBv6GR6579zDEO31hbTdXH z7OtrBTT0BAQhTvqPHILu0R9fSGg+19n4YiKCnwsnniiq/cRudfCySm4ScSlyp4BJbNJRvlo1Gmo iBwHrAT+CdwPrBCRY1xcezgBnaLjRWRx8N+pBBzAL0VkJfDL4OOUIVpop6rG76gzY6W148sVdtTW 03fcqwyf9naTUYqnDIMTVTV+Phh3PPeceyi+HHehOX+jsQ0P7ahrsO+92+Bna9kcKv79O7Z+NIuC /YbS63f/R7dfXOHKCZQUFXDUvt0snYAvV5h0+s+AgFEePu3tZvfUidGDSpruQeTfx+0+AtXzURJB qpWPhrgLONEYsxxARA4AngYOc3qSMeZ9dumARXJCLINMJNFudq+iAseY8OhBJZSt3txU5ZMj0NBg WpSFJsoJhMYccj5eNY0xppHqr96j8t3HqK/aQPu9B1J07CW067m/62tcOKw3Q/buZtvJq0N+4ON6 6OQ3WoTtrpm1mElzljbLEVjRlo1XqbRnQMlcklE+6sYR+EJOAMAYsyIY+89InDZouZk5lpZX8PzC iqYZs5XdrfE3xFTi2Fa27KhtVeewogIftfWNUZ1WzXeLqZz/CHUbvsa3e19bUbhozFu2iXnLNjnu s3CqUqqs8bsK1bQ2uat7BpREkAy5EDcZyjIReUhEjgv+e4BdG8wyDjsZ5a6FPlclhm5DPg3GWIaQ wpPGcaqopNrfaOkEnK4vBAxru7wcuhZa+/26Dd+wYdZf2DjrZhpqtrHbqOvoefHfKdjnsFaVg66r rIk6u47myrwM1Vh9NlTPR4k3yZA5d7Mi+D3wB+CPBOzDuwRyBRlJWzVb3IYJigoCxjXkNLoW+ph4 mnVYw27vQltxWpCEflVZ42+RV6iv2kDlu4+z48v55LTvRNfjf0enQac6isK5wan7Vyx4FapRPR8l USS6JNmNI8gD/h6q/BGRXKCdp6NKMm35I7jR/vHlCDvq6puVZ+50qPpx6pqVCEKriYbqKqo+enaX KNyws+kyND6icE7dv2LFy1CN7hlQMhE3oaG3gPBvVgHwpjfDSX/sqoaKCnxNy7yO7fNa1Og7hTSs looXDutNh/zWdwLz5YhtyCeSRv9Oqj56lop/X8a2hS/T8WfH0+vyGXQ99uK4OAGn7l+5MYaYBBjR v7jNY1KUbMLNiqC9MWZ76IExZruIFHo4prTGTfig77hXLZ8bS0hjyN7dmjZT9R33auxyFQIjB/Zs ISMdvncgIAr3ZlAUbjMF+w2l6NiLyO8e353eFZU1TU4w5Awiey24XSEYAtLYQ/bupjN3RXGJG0ew Q0QGG2MWAYjIYYDWyzkQLXwQa/VJtI1MdtfLFaHRGHIsKpT8DYZ5yzYx9cwBzXZRF+bnUutvYOuK BUFRuDW069Wf7qffEDdROCvsNmdFOlar9xJJMvoBKEo64yY0dA0wW0TeE5H3CPQSuMrbYWU2sVaf RNvIZHe9u8YcwrfTRto2tA+tQGrrd+UnfvrmCyqeuIFNL0zBGEPxr26kx4XTPXUCIezCY6HNYN9O G8ldYw6xrOqKRGv7FcU9UVcExphPRaQ/0I9A5GCZG4kJxZ5Yq0+ibWSKdj2nFUjIyfh/WsOWd2ZS s3IBuR26sueoq9lt8ElU1rZN+iJWohlwtxpCWtuvKO6J6giC+YA/AXsbYy4Tkf1FpJ8x5hXvhxc/ Uk0sLJbqE7cN7e2uZ1d1tGVHLVs3b6Lqg6ctReES7QTAnQEPvVe7sloBre1XlBhwExp6BKgj0JkM YC0wxbMReUAoxl4RbBQTikdH06dJFdq6kWn0oBLOOqykmd5HY+0OKt6ayboZl7N9yZt0GjySkise pOio81wrgxa2UTE1klg3Z1ndFwEuGNZb8wOKEgNuksX7GmPOFZHzAYwxNRKvLiIJwgs1v0SuMOKx kSkk3WDq/Wxb/BpVH86isWYrhQceS9Exv8ZXtEdMYyr05WBspaRipzWdwnSDl6LEBzeOoE5ECghW FYrIvkCtp6OKM/EUCystr2Dyy0ub9SRIhBxxWzcyrd2yg+qv3qXy3ceDonCHUnTcxbTbY79m57nV QKqpb3TcmWxHpLS1L1fokJ/HuogSUrfoBi9FaTtuHMFE4D/AXiLyJAF56Yu9HFS8aU25ptUsM1qv ArcrjESuJkrLK7ju7sf54Y0Hg6Jw+7D7mFso6Du4xbklRQWunWNrnEBkZ7aiQh/bd9a3UGYF1fdX lETi6AiCIaBlwJnAMAITuquNMT8mYGxxIxY1P6ea/WiCcm40ctrS3CS8uUpo5u4UUvnb03P5y03j qf62nNwuPdht1HV0OOhYRKxj+yP6FzNv2aa46RoVFfgQgcpqv6XDGz7t7Rbd3nQPgKIknqjN64PN jx17D3hNPJrXW83CoWV82a4sMTRbdrpbAtx97qGORsyu0iWyg5nV+O1WI6FwS8gpHFJUx80338xT Tz1FTkFnuhx5blAUzllSIvT8eOgadS30UT7BuZOY3Y5oAb6dNrJNr68oSnyb1y8QkcONMZ/GYVxJ IzKWbDcztzOAIWfhNFs2EHU229p8hdNqJGRMv1/3A7+98j62lb+GLy+XLsPOofOws8lp18Hx2iEq Kmu4dtZiigp9tMvLoaomMJPfsqM25laa4fMLu1CY6vsrSmrgxhGMAK4Uke+AHQQnoMaYgV4OzGvs KonskqW9XM6WnQx6aXmFrURCNOPndN1G/062lc2hasFzGP9OOg38JRf/7/W8uqou5uY3BthS7afA l9u0urHTRnKiKhj3dwqFJaMBh6KkA4ne9+TGEZzi2asnETvDGmoYY2Wc3OxqjaYXZGWY3Rg/q9mz aWxg++f/peqDpwKicPsPo+iY35DfvTdzVtoXdtk1pQ8nPFbvRlrbarzgXLobCoVp+aei7KItecTW YusIRKQ9cCWwH7AEeMgYU+/JKJKAnXErCcsVWBmnUIjJKmYfq14QBMo1zzqshOlzl3PtrMW2xjB8 9myMoWblAra8M5P6zWtpV3Ig3c/4M+33/JnjexYgL1daSGDbEXKWVjP3kDPpGqz8Ce+AFn4f3Mhj qOFXlF14se8pGk4rgpmAH3iPwKrgIOBqT0aRBJzCEm6MU7z0ghqMaSYFHe79I69/1mElzHrlTdb8 50FqK74kr9ueFP/qJgr2H+aqNaQBSydgFw7rEuyiFu29Oi1jNQ+gKLERz31PbnFyBAcZYwYAiMhD wCeejSIJtHZXamtjd05S0Vbef9Kcpc0ax3+3agV/f+Rmtq/4iNyO3eh20lV0HPhLJKf1zWlCNBiD L0da9DXeUVffJMNht68i/LhVxZSbPECq6UApSjJJxuTJtnxURBYZYwbbPU4k8SgfjQd24SA3jaXt nhutTLN+209UffAU2z//b0AUbujZdBpyhms9oBACFBX6WtTtQyAcVl1Xb/m7roU+dvobW4z7rMNK WjS1sbsXToa+LfdUUTKReH4n3JaPOjmCBgJVQhCwIwVANbuqhjrHNKI2kCqOwG4PQK4Id405pFWr CbvEc2PtDqo+fp5tn76EaWyg06BT6XLUueQWdmn1+O8591DLqqeiAl/T7l632IWTou2HiKS1+yoU JZOJ1yq5zfsIjDFtjzlkGE5xfjdZfbvcw7WzFu9qD1nvZ1v5a1R9FBSFO+hYin6+SxSua6GPymp/ zK0pS4LLyva+nBaOoLLG76qSKBy7stRY45jJiIcqSqqT6CIKN+WjaYkXcWenMsrWZvVHDyrhmlmL MaaRHV++Q+V7T9BgIwonYBm+iUaBL5cR/Ysd90AYWpaVFvhyaZeXY7lacNpvEQuaTFaU5BNfQfkU wav+A1b69+G0dhbbYdNSfph5LT+9che57Tuy+5hb6XHelBbKoK3QeaOowMfUMwcwb9mmqPmIUDlo iHZ5OYw6pKdlL4Tzh+7Vph4JIdraa0FRlLaTkY4gWo/f1jJ6UAlTzxxArk2pZqyz2EWLFnHiiSfy 5cN/xuzczm6jrmOPi+6moO+gZue1RfW/Q7s8Rg8qceWkQonhEJU1fp5fWMFZh5VQUlSAEAgxTT1z AFNGD2DqmQNaHG/Niige1wmntLyC4dPepu+4Vxk+7e20aUCkKMnCs9CQiDwMjAI2GmMODh7rBswC +gDfAWOMMVvi/dpexp1DBqot0gjffvttkyjcbrvtxt13303Jkadzz7zvWFdZQ5cI1U6nXb2Cc8gq 9J7d7A7e6W+gJkJTqMbfwLxlmywTt/GKY8YzHpqMXZmKku54mSN4FPgH8FjYsXHAW8aYaSIyLvj4 z/F+Ya/jzq3dg/Djjz8yZcoU7r//fvLy8rjxxhu54YYb6NIlUAl0ztB9LJ/nprLG7pzQe3ajkxTp BEKkU+I2GbsyFSXd8cwRGGPeFZE+EYfPAI4L/jwTmI8HjqCtYmZuEs2xzGJ37NjBPffcwx133MH2 7du59NJLmTRpEr169Yrb+xnRv5gnF3zfItkbOseNTpId6ZS41SokRYmdRFcN9TDGrAcwxqwXkd29 eJG29LJ1E1pwW5FUX1/PI488wsSJE1m/fj1nnHEGU6dO5cADD4zr+yktr+D5hRXNnIAAZx3W3FmF nNe+41+zrPjJEWiXZy24ly5oFZKixE7Klo+KyOXA5QC9e/eO+fmtjTtHCy24cRTGGF566SXGjx/P smXLOOqoo5g9ezbDhw+PeTxu3o/VmA2BhvVW2O0BaDQw9cwBaS33oNLWihI7iXYEG0SkZ3A10BPY aHeiMWYGMAMCO4sTNcBooYVojuKDDz7ghhtu4MMPP6R///6UlpZy+umnIyKeaerEGg4pcVBeTTU1 0FjvWVtWg4qSrSTaEcwBLgKmBf9/KcGvH5VooQU74/rdqhWMHn0vL730Er169eL//eUOytsdyjUf 1XHHV/MY0b/YVmXUq41uduGQdJk1t7YCKNWcmaKkOp7tIxCRp4GPgH4islZELiXgAH4pIiuBXwYf pxQj+he3qNsPN5KRxrV+24/89Pq9rHv4D8ybN4/bbruNv81+h7fNANZtq2va0Pbkgu892dsA1puy fLnCjtp6y1p6L2r3vcCr/SCKojTHy6qh821+dYJXr9lW3CRdQ7PpHdu3UrXgObaVzcE0NnDa+b/l 4b9PpXv37gyf9rZlzN6K1lazRIZMzjqshHnLNrGusoaiYLOYkDSE1Uw6HWbNWgGkKIkhI3cWtxa7 pOvTH69pmlGfclB3jqr5mPUzLmPrgtnsdvDR/Ould5nz5AN0794diM1QtaaaxUpC4/mFFYw9qR/f ThtJYX5ei94C8ZxJJ2rnrt290QogRYkv6gjCcFIXHff8Z1x7233079+fh++axIjhQ1m0aBGbyt/k ilFHNjvfzlA5hZxiIVrIxMuZtFc6TlaoDpGiJAZ1BGHYGfCabxfxzQP/yz03/5GuXbvyxhtv8MYb bzBo0CDL8+0M2AXDesclLh/N0Hs5k05k3D5dchmKku6k7D6CZBBZTVP7wyoq5z/KztWLye3Sg+6n XU9Z6V/JyXH2n23d0BbteXZVQjki9B33KkWFvhatJ+M1k0503D4dchmKku6oIwgjZHD+OOM//PTO 41R/9Q45BZ3pesJldDr0VPbs3rmFE7Az3K0xYFblktfOWkzZ6s1MGT2g6Tw73aDQRrEt1X58uUKB L6dJP6i9Lz6LP925qyiZhzqCMDZt2sS8R+9g/YP/RwM5dD7yXLoMPZOcdh0sZ9Ru69zdboqyS1Y/ ueB7huzdrVnFT+j8dZU15Fg0ifE3GOobdh3bUu2Py76FdNmDoCiKezRHQEAUbsqUKey7777885// 5Le/vYQHX/2Ag0+/nNx2HWxj027i5bEkV+3CKyb4WuGMHlTCB+OO59tpI2m0kYyIPBrPngwat1eU zCGrVwT19fU8/PDDTJo0ifXr1zN69GimTp1K//79Afjtic7PdxMvj0UW2U1fASvc9Bpwcx23aNxe UTKLrFwRGGN48cUXOfjgg7niiivYZ599+OCDD3jxxRebnIAb3FTn2BneisqaFquCsSf1s+1G5hSD t6pSas11FEXJTrLOEbz//vsMHz6cM888MyAEV1rKe++9x1FHHRXztdzUuTsZ3sgQ0ehBJVwwrHfM +w2swjUXDOutNfiKorhCjE18OZUYMmSIKSsri+k5kQna8/YX3nzsHubMmUOvXr2YPHkyF198MXl5 bYuORUsERyaUIwnvMub2mvEam6IomY2ILDTGDIl6XiY6gnDjW7/tR6ref4rtS96ksEMHbr5xPFdf fTWFhYUejrjleK6ZtdjydwJ8O21kwsaiKEr24NYRZGSyOJSgrfroWao+nIUxDXQ67DT6n3wR48f/ KuHjGT2oxLZFpMbsFUVJNhnpCMITtIUHHEnRMb8mr0sPNvmTN6ZMqr/XkJOiZBYZ6QhC5ZSdh52D iDQ7niwypXNWa5vFKIqSumSkI/Bq9t3WmXAm1N/Hsi9CUZT0ICMdgRezb50JB9BmMYqSeWSkI4D4 z751JhxARecUJfPIug1lrUVnwgG0WYyiZB7qCFyibRMDqOicomQeGRsaijeZVP7ZVjIh6a0oyi7U EbjELgENMHza2ylXEqq1/oqiuEUdQQxEzoRTtZIoVcelKEpqojmCNpDIRu6xkKrjUhQlNdEVQRtI 1UqiVB1XJqGhNyWTUEfQBlKppj7cMFn1ME7WuDIRDb0pmYaGhtpAqtTUR/ZFtnIC2Vrh5AUaelMy DV0RtIFUEZKzMkwAuSI0GqOhizijoTcl00iKIxCRk4G/A7nAg8aYackYRzxIhZp6OwPUaIw2vfGA VAoJKko8SHhoSERygX8CpwAHAeeLyEGJHkcmkc27nkvLKxg+7W36jnuV4dPebtYD2itSJSSoKPEi GTmCI4BVxphvjDF1wDPAGUkYR8aQrYYpMjcSStp67QxUZkPJNJIRGioB1oQ9XgsMjTxJRC4HLgfo 3bt3YkaWpqRKriLRJFMRNhVCgooSL5LhCMTiWIsyF2PMDGAGBJrXez2odCcbDZMmbRUlPiQjNLQW 2Cvs8Z7AuiSMQ0lzsjk3oijxJBmO4FNgfxHpKyL5wHnAnCSMQ0lzsjU3oijxJuGhIWNMvYhcBcwl UD76sDFmaaLHoaQ/2ZobUZR4I8ZiF2qqMWTIEFNWVpbsYSiKoqQVIrLQGDMk2nkqMaEoipLlqCNQ FEXJctQRKIqiZDnqCBRFUbIcdQSKoihZjjoCRVGULEf7EUSgLQgVRck21BGEoS0IFUXJRjQ0FIa2 IFQUJRtRRxCGqlkqipKNqCMIQ9UsFUXJRtQRhKFqloqiZCOaLA5D1SwVRclG1BFEkI2dvhRFyW40 NKQoipLlqCNQFEXJctQRKIqiZDnqCBRFUbIcdQSKoihZTlr0LBaRTcDqZI+jjXQHfkz2IFIIvR+7 0HvRHL0fu2jrvdjbGFMc7aS0cASZgIiUuWkinS3o/diF3ovm6P3YRaLuhYaGFEVRshx1BIqiKFmO OoLEMSPZA0gx9H7sQu9Fc/R+7CIh90JzBIqiKFmOrggURVGyHHUEHiAiD4vIRhH5IuxYNxH5r4is DP7fNZljTBQispeIzBORr0RkqYhcHTyerfejvYh8IiKfBe/H5ODxviLycfB+zBKR/GSPNVGISK6I lIvIK8HH2XwvvhORJSKyWETKgsc8/66oI/CGR4GTI46NA94yxuwPvBV8nA3UA9cZYw4EhgF/EJGD yN77UQscb4w5BDgUOFlEhgF/Be4O3o8twKVJHGOiuRr4KuxxNt8LgBHGmEPDykY9/66oI/AAY8y7 wOaIw2cAM4M/zwRGJ3RQScIYs94Ysyj48zYCX/gSsvd+GGPM9uBDX/CfAY4Hngsez5r7ISJ7AiOB B4OPhSy9Fw54/l1RR5A4ehhj1kPAOAK7J3k8CUdE+gCDgI/J4vsRDIUsBjYC/wW+BiqNMfXBU9YS cJbZwD3ADUBj8PFuZO+9gMCk4A0RWSgilwePef5d0cY0SkIQkY7A88A1xpitgYlfdmKMaQAOFZEi 4EXgQKvTEjuqxCMio4CNxpiFInJc6LDFqRl/L8IYboxZJyK7A/8VkWWJeFFdESSODSLSEyD4/8Yk jydhiIiPgBN40hjzQvBw1t6PEMaYSmA+gdxJkYiEJmZ7AuuSNa4EMhw4XUS+A54hEBK6h+y8FwAY Y9YF/99IYJJwBAn4rqgjSBxzgIuCP18EvJTEsSSMYMz3IeArY8zfwn6VrfejOLgSQEQKgF8QyJvM A84OnpYV98MYM94Ys6cxpg9wHvC2MeYCsvBeAIhIBxHpFPoZOBH4ggR8V3RDmQeIyNPAcQSUAzcA E4FS4FmgN/A9cI4xJjKhnHGIyNHAe8ASdsWBbySQJ8jG+zGQQMIvl8BE7FljzC0isg+BWXE3oBy4 0BhTm7yRJpZgaOh6Y8yobL0Xwff9YvBhHvCUMeY2EdkNj78r6ggURVGyHA0NKYqiZDnqCBRFUbIc dQSKoihZjjoCRVGULEcdgaIoSpajjkDJWESkIaji+IWIzBaRwgS9bh8RqQm+9pci8lhwU11rr7c9 +lmK0nrUESiZTE1QxfFgoA64MvyXEsCr78DXxphDgQEEdseO8eh1FKXNqCNQsoX3gP2Cs/WvROR+ YBGwl4icKCIficii4MqhI4CIHC4iHwZ7B3wiIp2C/QQeCWrGl4vICKcXDeoKfUJQOC0oODddRD4V kc9F5Irg8Y4i8lZwDEtE5AxP74aihKGOQMl4gro1pxDY3QzQD3jMGDMI2AHcDPzCGDMYKAP+FGyG Mgu4Otg74BdADfAHAGPMAOB8YKaItHd47fbAUOA/wUOXAlXGmMOBw4HLRKQvsBP4VXAMI4C7JJuV +ZSEouqjSiZTEJR7hsCK4CGgF7DaGLMgeHwYcBDwQdDu5gMfEXAW640xnwIYY7ZCk2TGfcFjy0Rk NXAA8HnEa+8bfO39geeMMaHfnwgMFJGQlk6X4DlrgdtF5BgCUhwlQA/gh3jcCEVxQh2BksnUBOP0 TQSN/Y7wQ8B/jTHnRx3ILjkAAAESSURBVJw3EGv5Y7ez9K+NMYcG1SLni8jpxpg5wef/rzFmbsTr XQwUA4cZY/xBRU7blYaixBMNDSnZzgJguIjsByAihSJyALAM6CUihwePdwqGmN4FLggeO4CAENhy u4sHG4mMA8YHD80Ffh+qIhKRA4JKk10IaPP7g3mHveP/VhXFGnUESlZjjNkEXAw8LSKfE3AM/Y0x dcC5wH0i8hmBTmLtgfuBXBFZQiCHcLELZcxSoFBEfk6gJeOXwCIR+QL4N4GV+ZPAEAk0LL+AgCNS lISg6qOKoihZjq4IFEVRshx1BIqiKFmOOgJFUZQsRx2BoihKlqOOQFEUJctRR6AoipLlqCNQFEXJ ctQRKIqiZDn/H327U3mm8YthAAAAAElFTkSuQmCC ",
text/plain: [
"<matplotlib.figure.Figure at 0x262d5583ac8>"
]
},
metadata: { },
output_type: "display_data"
}
],
source: [
"# In[12]: ",
"scatterPlot(y, p)"
]
},
{
cell_type: "markdown",
metadata: {
collapsed: true
},
source: [
"### 4.6 Ridge: Comportamento de cada coeficiente da regressão de acordo com a variação do parâmetro de regularização $\alpha$."
]
},
{
cell_type: "code",
execution_count: 67,
metadata: { },
outputs: [
{
data: {
image/png: "iVBORw0KGgoAAAANSUhEUgAAAY0AAAEOCAYAAAB1g0unAAAABHNCSVQICAgIfAhkiAAAAAlwSFlz AAALEgAACxIB0t1+/AAAADl0RVh0U29mdHdhcmUAbWF0cGxvdGxpYiB2ZXJzaW9uIDIuMS4wLCBo dHRwOi8vbWF0cGxvdGxpYi5vcmcvpW3flQAAIABJREFUeJzsnXdgldXdxz/nuSs39+ZmBzIJJOwd goAgomjds9qqrUpb6+hyVVtra4etHdZWba2tdWtfrVVxIA5Qhuy9dwIJWYTs3CR3n/eP5yYECHAJ N7kZ5yOP5zznOeP33CTne88WUkoUCoVCoQgFLdIGKBQKhaL3oERDoVAoFCGjREOhUCgUIaNEQ6FQ KBQho0RDoVAoFCGjREOhUCgUIaNEQ6FQKBQho0RDoVAoFCGjREOhUCgUIaNEQ6FQKBQhY4y0AadD UlKSzM7OjrQZCoVC0atYv359lZQyORx59SrRyM7OZt26dZE2Q6FQKHoVQoiicOWluqcUCoVCETJK NBQKhUIRMko0FAqFQhEySjQUCoVCETIREw0hRJQQYo0QYrMQYrsQ4teRskWhUCgUoRHJ2VNu4Hwp pVMIYQKWCSE+llKuiqBNCoVCoTgJERMNqZ8z6wzemoKXOntWETJSSnxeD+6mJv1qduJuakJoGlE2 Oxa7HavdgcVmQwgRaXMVij5BRNdpCCEMwHogF3hGSrm6gzi3A7cDZGVlda+BvYxZs2YBsHjx4oja EU58Hg+H9hdQvncXVcUHqCkrweV04m5uwt3kxO/znTIPo8mMLSEBe3wCtvhE7PEJ2BOCbjAsJiER U1RUN7yRQtG7iahoSCn9wAQhRBwwVwgxRkq57Zg4zwHPAeTn56uWSD/A63KxfekX7Fj6OZX7C9qE wRafQGJ6Jo7kAUTZbFiibVhsdizR0Uf5A4EA7iYnLqeTlsYGmupqcdZU01Rbw+EDhezfsBav23VU mUJoDMwZStbYCWSNGU/a8JEYTaZIvL5C0aPpESvCpZR1QojFwMXAtlNEV/RRWpyNbPz4QzZ+8iEu ZyPJ2UPIu/QqUoeNIG3oCGxx8WEry9PSjLO2BmdNDU211dSUlVC8bQtr3v8fq+f+F6PZQvqIUQwK ikhy9mA0zRC28hWK3krEREMIkQx4g4JhBS4A/hgpexSRw1lbw/qP3mPzZ/Pxul3k5E9l8hXXkjZ8 ZJeNRZit0SRYo0lIy2gLm/51cDc3U7JzK0VbN1G0ZRNL//NSML6VtOGjyBgxmvSRoxmYM0y1RBT9 kki2NFKBV4LjGhrwlpRyXgTtUXQzTXW1rHz7DbYt+oyAP8CI6TM566rrSMrKjphNluhociZNIWfS FAAaa6oo2bGN0l3bKdm5nWVvvgqAZjCQmDmIAYNzSMkeQsrgXFIGDVbjIoo+TyRnT20BJkaqfEXk 8LpcrPtoLmvffwe/z8voWRdw1pXXETcwNdKmHUdMQhIjZ8xi5IxZADQ31FO2eyfl+3ZTub+AgnWr 2bZogR5ZCBLSMkjKHER8ajoJaenEp6YTn5ZOlM0euZdQKMJIjxjTUPQPpJTsWbWcxa88h7O2hqFT zuacG28lPjU90qaFTLQjltzJU8mdPBXQ38lZU82h/QVU7i+g8oB+7V2zAhkIHEkXG0d8ahqO5AHE JCYRk5iMIylZ9yclY4lW04IVvQMlGopuwVlbw+cv/IN9a1eRMjiHy+75CRkjRkfarDNGCBEUgSRy 86e0hft9XuoOVVBbVkpteSk1Qbd013acNdUE/P6j8jFZooiOjcXqiCXaEXRj44iOcbT5LdHBGWPB 2WJGi0UJjaLbUaKh6HJ2LlvM5y8+i8/j4Zyb5pB/+TVohr49E8lgNJGYnklieuZxzwIBP011tTRW VdFYXUVjVSXO2mqaGxporq/DWVND5YFCWhrqT7oORWgaFms05mgbFqtVd6OjMVmiMJotGM1mjGYz JovlqHvdf+ReMxgQmoamaUG3/f3Rz47zGwzt7oN+IUAIJWh9FCUaii4j4Pez9D8vsf6j90gbNpKL 7rr7qNlK/RVNMxCTkERMQtJJ40kp8bQ009xQT3N9vb7ivbkZT3Mz7uYmPC3Nwfsm3C16WGNNNT63 G5/Hg9fjxufR/cgILXESAoFAaAIQ6HqioXt0v64tusi0Ck6r6LQKj9A0RGt+QgumPRK/fRnHpT1h vnoawRFb6EDojg6SIALB+AEQEoRECEkwy2CcVjcY3i5Mf4/gz0NIBDJomzw6nibblYkeD9EuTquB 7Wxrb3MXabYSDUWX4HI6mffUHynaspEJF13OrFtuw2BUv26ngxCirUsqfmBap/ORUuL3+doERBeV oN/jIRDwEwgEkMFL9/t1v9/fLizQYbyjw/zIgF75SQnIQFCvpB5HNwgZvGjvIo9JK5EyAJLgswBo bqTwgPCAcOuu5kEKD0LzIvGB5gPhB+FDiFa/v124H9Hq1/x65d8mBgGEaPW3Vvqt/kBHmtLvUH/F irBTXXKQ9//8KPWVlVx4+w8ZN/uiSJvUrxFCYDSZ9HUltkhbo+P3t+B2V+B2V+L11gavuiOury54 X4fP14Df34Tf33xaZQhhQtMsaJo56FowaNY2f+szoRkRovUyoAkTQhj0e814xB+8tKPuW/0aemtJ A4JddGht4XprSAOhIU75XLTFO5InR+Lqd20trHZvfEzYkZYXjOzkT+p4lGgowkrhxrV89NTjGM1m rn/kd31isFtxevj9blyug7S0FNPiKsHtrsTtrsDjrsTlPoTHcwifr7HDtJpmwWSKx2SKw2SMw24b htEYg8Fox2iwYTDaMBhsGA12DEabHmawYTTa0QxWDFrUETEQfXvcLFIo0VCEBSklaz94hy/feIWU QUO46oGHcSSlRNosRRchpcTlKqOpaTdNTXtpbimipbmI5pYi3O4Kju5fN2I2J2OxDMRmyyEhYRoW 80AslhTMlhTMpgRdJEzxGAzWyL2UIiSUaCjOGK/HzWf/fJpdy5cwfNo5XHTX3ZgsamV0X0HKAE3N BTTUb6KhcQtO526czt34/c62OCZTItHWLOLjp2C1DiLaOgirNYsoayZmU0JbF4ui96NEQ3FGNNXV MvePv+HQ/n3MuOEWzrr6ejXVspcTCHioq19Pbe1KGuo3Ud+wuU0gjMYY7LYRDBx4NXb7cOy2Ydjt wzEaYyJstaK7UKKh6DR1FeW8/dgvaK6r4+oHft62X5Oi99HSUkx19VKqa5ZSW7sSv78ZIQxBgbiS WMcEHI6JREdnq1ZDP0eJhqJTVB4o5J3HHiEQCHD9I78jNXd4pE1SnAZ+fzO1tauprllCdfVSWlqK AIiKymTgwGtITJhJfPxUjEa1Z5biaJRoKE6bkl3bmfuHX2OJtvG1h3/T4apnRc/D5SqjqmoRVdWf U1u7kkDAg6ZFER8/lcyMW0lMnInVmq26FxUnRYmG4rQo37ebuX/4Fbb4RK57+FEcScmRNklxEpqb 91Nx6EMOH16A07kDAKs1i/T0b5CYOIu42MkYDJYIW6noTSjRUITM4aL9vPvYL7HGOLj+F7895TYY isjg9dZRUfEeFRXv09C4BRDExk4iN+dBkpJmEx2do1oTik6jREMREjVlJbz9u19gtFi4/he/U4LR w5BS0tC4hdKS/3Coch6BgBu7fRS5uT9lwIAriLIMjLSJij6CEg3FKWmqq+Xt3/4CKSXX/fy3xKao CqinIGWAqqovOFD0TxoaNmIwRJM68FrS079BTEz4to5QKFpRoqE4KT6vl/ef+B0tjQ3c8Os/qkHv HoKUfg4dmseBomdpatpLVFQGw4Y+QmrqtWrNhKJLUaKhOCFSShY89zfK9+zi8nt+yoAhuZE2qd8j paS6ejEFBY/jbNqNzTaM0aP+QkrKZWia+nNWdD3qt0xxQtbNm8uOpV8w7bqbGD5tRqTN6fc0Onex Z89vqKtbjdWaxZjRT5GScqlabKfoViImGkKITOBVYCAQAJ6TUj4VKXsUR1O0ZRNL//MSw6bOYNpX b4i0Of0av7+Z/fv/RvHBFzAaYxk27Fekp30dTTNH2jRFPySSLQ0fcL+UcoMQIgZYL4RYIKXcEUGb FEBzQz0fP/MECWkZXHzXPQhNfZONFNXVX7Jr989xuUpIS/0aubkPYjLFR9osRT8mYqIhpSwHyoP+ RiHETiAdUKIRQaSUfPrsk7icjVz70K8xRandaiOB3++moOBPHCx5mejoHPImvkF8/FmRNkuh6Blj GkKIbGAisDqylig2fTqPwg1rOW/O7aRkD4m0Of0Sp3MP23fci9O5i4yMm8nN+SkGgxJvRc8g4qIh hLAD7wD3SCkbOnh+O3A7QFZWVjdb1784XLSfJa+/yOCJ+Uy8+IpIm9MvOXRoHjt2/gSDIZrx454n Kem8SJukUBxFRDurhRAmdMH4j5Ty3Y7iSCmfk1LmSynzk5PVPkddRcDv55N/PIkl2qaPY6htJroV KQMUFDzBtu13ExMzmilnzVeCoeiRRHL2lABeAHZKKf8SKTsUOhs+/oDKAwVcce9PiY6Ni7Q5/Qqf r4kdO+7ncNUCUlOvZ8TwX6NpahNBRc8kkt1T04Gbga1CiE3BsJ9JKedH0KZ+ScPhSpa/9TpD8iYz dMr0SJvTr/B669i0+Ts0NGxh6NCfk5kxR7XyFD2aSM6eWgaov44II6Xk8xefBWD2t+9SFVY34vZU sWnTrTQ1FTJu7DMkJ38l0iYpFKck4gPhisiyd/VyCjes5dybv4MjOSXS5vQbXK4yNmy8Gbf7EOPH /5vEBLXiXtE7UKLRj/G6XHzx8nOkZOeQd8mVkTan3+B2V7J+w034fHVMnPAycXH5kTZJoQgZtdS3 H7P+o/doqq3h/G/fiWYwRNqcfoHXW8+mTXPwequZMOEVJRiKXocSjX5Kc0M9az98h9zJU0kfrs5d 6A78/hY2b/kuTc37GTf2n8Q6xkfaJIXitFHdU/2UtR+8g9flZsYNt0balH5BIOBj67YfUF+/gTFj /kZCgpqlpuidKNHoh3jdLrZ+8SnDps0gMUMdqtQd7Cv4A9XVixk+/FEGpFwSaXMUik6juqf6IXtW Lcfd1MT4C1Xl1R2Ul8/l4MGXyMyYQ0b6TZE2R6E4I5Ro9EO2LPyE+LQMMkaOibQpfZ6Ghi3s2v0z 4uKmkJv700ibo1CcMUo0+hlVxQco27OTcbMvUgv5uhiPp4otW+/CbEpi7Ji/oWmmSJukUJwxakyj n7Hl808xGI2Mmnl+pE3p00gp2bHjAbzeWiZNeguzOTHSJikUYUG1NPoRXreLHUu/YOiU6UQ7YiNt Tp+mpPR1qmuWkpv7EI4Y1Q2o6Dso0ehH7Fm1HHdzE+MuuDjSpvRpmpoK2Lfv9yQmzCQj/ZuRNkeh CCtKNPoRmxd+rAbAu5hAwMv2HfdhMEQzcuQf1biRos+hRKOfUFNWQvmeXYw9/yuqIutC9h/4O42N 2xgx/HdYLGoDSEXfQ4lGP2HX8iUgBCOnnxtpU/osTuceior+ycCB15CSclGkzVEougQlGv0AKSW7 li8lc9RY7AlqFk9XIKVk955fYjDYGZr7s0ibo1B0GUo0+gGV+wuoLS9lxPSZkTalz3Lo0AfU1a0h N+fHmM0JkTZHoegylGj0A3atWIpmMKqjXLsIn6+Rvfsew+EYT1ra1yNtjkLRpajFfX0cGQiwa8VS ssdPxGqPibQ5fZKCwr/i8VQzftzzCKG+hyn6Nuo3vI9TumsHzuoqRsyYFWlT+iRO525KSl4jPf0m HI6xkTZHoehyItrSEEK8CFwOVEop1eKBLmDXiiUYLRZyJ02JtCl9koLCJzAabeQMuS/SpijCiZQg A0dcTnXfQXrd00FYu/DuCAszke6eehn4O/BqhO3ok/h9PnavWk7OpCmYoqIibU6fo65+PVVVn5Mz 5MeYTHGRNqd7kRJ8LvA0Hbm8LeB3g88Nfk8719VBmDsYN/g84Dvm8p/g3n/qOCes5GVoItBFlW1f IaKiIaVcKoTIjqQNfZnirZtwNTYwQq3N6BIKCp7AbE4iM7MXnn7oc0NzDbTUQEsttNSBq65j190I 3lZxaA4KRFPH37BDRRjAaAGD+YirGY+5tKPvDSYwWfW0mhE0Q8dpRPBCBP2ig3txiuft7zl1fgQX zB61cLajsPaPxdHxujLs19/o2IZOEOmWhqIL2bt2JWarlezxeZE2pc9RW7eWurrVDBv6CwyG6Eib o+N2QmMFNJZBQ7nuOiuhuVoXiObqI35P40kyEhAVC9Y43bU4wJoBZhuYo8FsB1N08N4eDLOB0aoL gNECBgsYzWCMOloYWp8ZVNXTvfQj0RBC3A7cDpCVlRVha3oPMhCgcMNassdPwmhS5ziEm6KiZzGZ Erp3iq3PA/UHoaYQavbrbu1+qD0ADWXgbjg+jdkO0YkQnaC7SUN115oQDEsAazxExQVFIk4XCU3N kVF0TI8XDSnlc8BzAPn5+aqzMUQOFe6jqbaGnHw1AB5uGhu3U129hJwhP8ZgsIa/AL8Pagrg0Hao 3AGHduhuXdHRXUImGyQMhsRcGHwuOFIhJi3oBi+LPfz2Kfo1PV40FJ2jYP1qhNAYPGFSpE3pcxwo +icGg52MjDBte15fCiVroXQdlKyDsk3ga9GfCQ0Sh0LqeBh7vS4SCUMgfjDYU07cX65QdBGRnnL7 BjALSBJClAC/lFK+EEmb+goF69eQPmIU1hhHpE3pUzQ376ey8mMGDboTo7GTiyUbD0HhYv3avwQa SvVwg1kXh0lzdHfAKEgaDqYwzHyTEvxefeZSwBv0t977dH/AB9IPgUDQ9R/jnma4bD8NVJ6By+nF P9ln0PGD8MQ/aZrOxA+jXWEk0rOnboxk+X2VhsOVHC7az8xvfjvSpvQ5DhT9C00zk5U5J/REgQCU rIGdH0LBIqjcrodHxcGgs2HizXoXkz1Fn37qatBnJxWthH2f61NZfS26e9TVrMf3NrcTAW9QFDx6 N1erSAR8XfJ5RJ72M6HauyeJ32HwidKcbvwwltGZNN3Q8FTdU32QgvWrAchRC/rCistVRkXFXNLT b8RsTjr6oZT61NWmKmg6DM5DepdT8Wo4vFOv2BH6rKOoWL1Cd9XD7vn6dSpM0fpMJFO0Pu3U1M5v jddbKQbTkamrbfetYaZj7o3HpAlOXxUG3S8Mwemr7e9PFq4dH+9ElXmH4afpqm650+Oh8H1eSjT6 IAXr1xCflkFCWnqkTek7SEnFvueIrXMx2J4CSx6H+mKoL4G6g7rbOg5xLAazPkAdlwW2JH12UpTj BG5wiqvZFhQHqy4WqpJU9BCUaPQxjAIObt9K3qVXRtqU3omUugBU7oSq3XB4N1TtQR7eTbarjmyA zQ/pcW3JEJsJKSMgMUePW7sf0PRupzHX6pc1PnLvo1CEGSUafYxks4GA30fOpLMibUrPx9OsT2Ot PaBX+CVr9ct56Eic6CRIHk7LkDxK3KsZOPpBHFmXQWyG/nzT/8HKv+trJuKzYfYjMP4mfdrrMUgp wecj4PYgvR6kp+Mr4PGA34/06YPK0h84gasPQku/H/wBZCDo+v1HnreGH7UlkTzWsGMtDeHD66Dl c2xr6Lj7jrIRx9x2GOnk+YazrOPCOvGeHSTrS0csK9HoYwywGImyx5A2bGSkTekZNNfoglBTqItD +6up8ui4CUMIZJ2Dz5yFz5CKX0sk4DMSaHGx2/4sXkcqsYt8NDe/SeDgFmTJFgJuN9IUi7TPQJoc yKUrkZ7FBDwepMd7nCCc9uyacKBpxy/WO7YCPTbNySq5Y96hwzc6pTB1Mo4i4ijR6GOkmA1kj89D MxgibUr3EQjoK6Wr9updSlV74PAe3d9cfSSe0PQWQnw2ctjF+EUsnlqJ61ALLYW1tCwtxlu2Alhx VPbe9ABND/twvGOgZvHLaAa/fkVZEHFZCHs8wmxGmE1oDgea2YwwW4Jh5rZnwmwOPjv2+bHPzAiD AQxGhEEDgwGhdeyiaXrcNteAMB7zvA99y+0I2VUC1UGc40I6W1Z3IiXYbGHL7rRFQ+inzNillB3s WaCIJDFGDYtBY9DYCZE2pevwefTZSOWboXyL7h7aFpydFMSaAMnDYcRl+jqHpGEEolNpLqiiZct2 WpZtwbVlLf76ej2+yYRl8GCsEycS97XrseTmYkhIRLNGoVmt7Kv9O1rdPMbnZWBOXgsDxsDsX8LQ C9UAdQ/gOFHswp+J+mmHKBpCiP8D7gT8wHogVgjxFynl411pnOL0SDLrrYusseMjbEkXUF8Cy56E ja/paxMAzDGQOg7ybtUHo5OG6SJhS0R6PLRs3kzTylU0rXqFli1bwOcDTcOSm0vMVy4katw4rOPG YxkyGHGC/bl8zYeoLPiQAZVNmKv2wZV/gwnfVHszKfotobY0RkkpG4QQ3wDmAz9BFw8lGj2IJLMB py+AIykl0qaEj9oiWPZX2Pg6IGHcDZB7PqRO0LfSaFd5BzwempYtp2H+fJxffEGguRk0jajRo0n8 1rewTZuKdfx4tFCb6gfXUL74VvzpPjLss+AHT4EtsUteU6HoLYQqGiYhhAm4Gvi7lNIrhFAjVD0I v89HkslAiauPrPyt2Q9fPgGb39DHIvJugRn36Gsd2iF9PppWr6Zh/nwaFywk0NCAITYWx2WXYj/3 XKInT8YQG3t6Zft9sPRxWPo4ZfkJxJizcZz/ehhfTqHovYQqGv8CDgCbgaVCiEGAGtPoQVQU7MWo Cao8vVw0qguCYvGmvkI5/zsw/W6IPbJQUQYCtGzcSMNH82n49FP81dVoNhsxF8zGceml2KZNQ5jN nSv/wHL47OdQtgHnxCtwWlcybNDNYXo5haL3E5JoSCmfBp5uF1QkhDiva0xSdIbibZuQUlLl8Ufa lM7RUgcLfwkbXtUP6ZlyJ0z/EcQMBPQZMq5t22mYP5+Gjz/GV1GBsFiwn3cejksvwT5zJtqZHGlb thE+fxQKPte3FL/uJSqi9iIOrmHAgMvD9JIKRe8n1IHwAcBjQJqU8hIhxChgGqB2pO0hFG/dTL0v gLc3dhru+gjm3aevm5hyJ8y4V9+8D3Dv30/9++/TMP9jvMXFYDJhnzEDx/33Yz/vPAz2M5xK2FwD n/0CNr2uz7r6ym9h8m1Io5mKFTNJSJh5/D5TCkU/JtTuqZeBl4CHg/d7gP+iRKNH4HW5KNuzq/e1 MlpqdbHY/q4+jfXGNyBdP5rWtWMHlX/5K03LloGmYZs6laQ7bifmggtOf4ziRBxYDv+bo5+TPf0e OOd+fQ8ooLZmOW53BUNzHwpPWQpFHyFU0UiSUr4lhHgIQErpE0L0shqq71K6azsBv693iUbJenh7 jn5M6XkP65W20UygpYXDTz5JzWuvY4iLI+lHPyTuuuswpYRxRpiUsOY5+PRn+gysm9+FgWOPilJR 8R4Gg52kpAvCV65C0QcIVTSahBCJBBdECiGmAvVdZpXitCjathmD0UhNbxANKWHlM/r4RUwafOsT yJwMQMumTZT99CE8Bw4Qd+MNpNx7LwZHmA+R8rbAvHv1WVnDL4Vr/qnvLNsOv7+FysOfkpJyKQZD GA5AUij6EKGKxn3AB0COEGI5kAxc32VWKU6L4q2bSR02An/pqkibcnK8Lnj/+7DtbRhxOVz1d7DG I71eDj/zDNXP/RvjwAFkvfwytqldcBaIqx7+7wYoXgGzfgYzH+hwkd7hwwvw+5tIHXh1+G1QKHo5 oYrGduBcYDj6SvrdgFoS2wNoaWygsqiQ6dd/Axb1YNForoE3b4LilfpOsDPuAyHwVlZSeu99tKxf T+y11zLgoZ9iiOnkMaonw1kJr1+rb3n+1Rdg7HUnjFpRMZcoSxpxcWqnYIXiWEIVjZVSyjx08QBA CLEByOsSqxQhc3D7FpCyZ28dUl0A/7le3wrkuhdhzFcBaN6wkdK778bvdJL2xJ+Jveyyrim/rhhe vVofP7nxvzD0xOMUtXVrqa5ZRvagO9G3WVMoFO05qWgIIQYC6YBVCDGRI/t1OYDoLrZNEQJFWzdh tloZmDMs0qZ0TNU+ePlS/ezqWz+ArKkA1L71FhWP/hZTairZzz9P1PAusr++BF66FNwNcMt7beV3 hMdTw/bt92C1ZjJo0O1dY4/ijJFS4gv48Aa8bddR934vPunT3WC4X/oJyAABGTjK33ovpeww/ET3 rWkCMqDbhGzbbfc4PxL93/HhJ0wjg+ngpGlanx+bpis5VUvjImAOkAH8pV14I/CzMy1cCHEx8BRg AJ6XUv7hTPPsbxRv20zGqLE9cyv0mkJ45QoI+OFbH0PKCH0B4t+foeqZZ7Cdcw7pf348fFNoj8V5 WG9huOrh1g8h7cS7/0oZYMfOB/F4asjP/x9GYxd0kfUjpJQ0+5pp9DTi9Dhxep00eBra/I2eRpp9 zbh8Lv3yH+P6XLT4W3D73G1+X8DXJgg9CRH8Li2EoPU//Z9oe972rN0OvEeFH5umXfip0nQY3hq/ C3b8PaloSClfAV4RQnxVSvlOOAsWQhiAZ4ALgRJgrRDiAynljnCW05dpqKqkrqKciRf1wBXLdcXw ypX6jrRz5umC4fdT8eij1L35X2KvuYbU3/z6hLvLnjEtdfD6NXpL4+a5JxUMgOKDL1JdvYhhw36J I2ZM19jUy2nyNlHRVEGNq4bqlmqqXdVt/hpXjX7fUqOLg9fZ9i38RGhCI8oQRZQx6ogb9NvNdpIM SUQZo7AarVgMFswGM0bNiEkzYdJMx/sNJoxCd9s/N2pGDMKAQRjQhHbU1RpmEAaEEMfFOTbcoBnQ OPK8t5xV0l5IzpRQxzTmCSFuArLbp5FS/uYMyj4L2CelLAQQQrwJXAUo0QiR4q2bAcga08PGMw7v 1scw3A36N/wBo/E3NFD+8M9pXLCAxO/eRvJ993XdH5zzMPz3G1C5C256EwZNO2n0qqpFFBQ8TnLy RWSk9999plw+F0UNRRQ1FFHmLKOsqYzypnLKneWUN5XT4Dl+uzlNaMRb4kmwJpAYlUhGcgaxlljs Jjsx5hhizDHYzXZiTEf77WY7UYaoXlPptkdKvbsJCTLQ2h0kj3KOT3Scp+OzmeQJbk4Vt6MDo7qo p0ocd+pVR5GE+AR9XcZ69DPWMiWSAAAgAElEQVQ1gkbJJzpdsBDXARdLKW8L3t8MTJFS/uBEaZKz HPLaB7tgKmYvQCAY6ool1m9pFyrbnnaGKLOPaEt4m/qWgIfZ1SvxaCb+nvVNiqwZIEEL/p4FNIHU Tm7vkWY9WDAeqViEBBEAw0nWo0jA79b/Ysw2MJy4JWMQBgwGD27jPkwygST/ZSQSxVi/geFSO8W3 M0mzt5kaVy0N7noCMliLHBer47+vo/7uZEfx2oW09WEf81weCZXoH49s/5yjnx/xHAmTUuL0NtLg bqDJ2xSMpL+3WTMRbbZhM0ZjM9mwmWxEm6KxGq16y8AQhcVgOWHFH0rdAkBAQiBYAQfkce7xYXQc T7av0I9U7G2fVWs47Z4DeoOoXfzWz/uYPI74ex+Zf5y5XkqZH468Qm1pZEgpLw5Hge3o6DftuB+J EOJ24HaAqOwoVsRUhNmM3kO5pZh3SsvDd0ZvS7gyOprVjrHcMeqXVFiSu6aAsDNV/23UJNACJrh7 r5tbDh4RVIkkICWybWBUIgkQBURx4gWAoQxMypA1/9RfEk5WXqsUHxtHE8nHddsIERTNpo5yAvDg Fx6aT/S4tcxQ3k0ToAX77g0CoQnQ0N2jwvR7YdL9Wls6wBCMK9r14wvawiCYX/vwoF+0i9MWvy2v 1khHpxPt47e97DHusTcdfBaio7gn+szEcZ6O43b0+I8nyLMThFr/rBBCjJVSbg1f0ZQAme3uM4Cy YyNJKZ8DngMYNXqkfG3Cc2E04RT0oJbz+rqNPLn/WZ4771ecl3ROW7jBYGz7zfvxjx8A4M9/PvXZ WGUNXu589yDXjI7jzqnh3ZBvgMHMe8fWFmZTSF0R+6qaWLzrEEt3V5PsLWekoZqErKHcePl5+F0B FrxQgGYQXHH38BPnZ7J0HN4OKSVlTRVsPLSRt/a8S2F9IUnWZC4Z9k2W+yfzn1EaeV85zMbKtayt WMue2j1tabMd2YxJGsPoxNGMSBjBkLghRHWwcrzVvvaDm23POhrIbDfoeewAqELRUwi1e2oHkAvs B9zov+pSSjmu0wULYUTf+HA2UAqsBW6SUm4/UZr8/Hy5bt26zhbZq5FSctNHN1HlqmLeNfOwGI6v GGfNmgXA4sWLQ8rzwbc3896mMhb/eBZpcdYwWnvm+AOSBTsq+PDDD0l2l7HZMoYbL5zCaLeBxa/t 4rLvjyN7bHjETkrJirIVvLL9FVaWr8RvnUBN8v3EVD1LnHsDE1ImkD8gnwkpExiVOIoYs5pZpehd CCG6vXvqknAU1p7gpoc/AD5Fn3L74skEo78jhOD7E7/PXQvvYlnJMmYPmn3Gef5o9lDe21jGPxbv 47dXjz11gm7EoAkuHpPK7OHf4q9/f5ZRDbv55dsGkuJi+ZrVwJL3CsgYlYDRcOYL8IQQTE+fzvT0 6eyp3cO7e+byuquF+Iw7+XzyaMzGTh7opFD0QUL6i5NSFqF3JZ0f9DeHmvYU+c6XUg6TUuZIKX93 pvn1dcYl6w274sbisOSXER/NNRPT+d+6Eqqc7rDkGW5MJhNzvnEDVoPkjkHVZCVaWSJcOEubuOyR hfzojY28t7GU6jDZPyx+GD+d8hPuzx3KXpdgS5M3LPkqFH2FkCp+IcQvgZ8ArYcLmAB1aHI34zA7 iDHHUOosDVuet587BI8/wMvLD4Qtz3CTkpLCJZdcQt2hEu4a6ee5X52LZjVwAVaW76vinv9uYtJv F3LpU1/y2PydLN1zmJYz3PH3awPicRg1/l1yOExvoVD0DULtnroGmAhsAJBSlgkhVMduBMiwZ4RV NHKS7Xxl1ABeXXmAO2flYLeEbW5WWMnLy6OgoIAvvviCYcOGMfnCQaz+oJCPH5pCmRZg2d7DLNtX xUvL9/Pc0kLMRo2ZQ5O4ZEwqF4waQKz19BYR2owGbkxN5PmSw5S5PKRFqS4qhQJC72LySHlkIroQ 4gzP2FR0lnR7elhFA+DOc3NocPl4c014ur26AiEEl112GUII1q5dy9hZ6ZiiDKz/pIgJmXH84Pyh vHn7NDb/8iu89K3J3HRWFtvLGrj/f5vJ/+0C5ry0hrfWHqSywRVymd9OTyIg4ZWy6i58M4WidxGq aLwlhPgXECeE+C6wEPh315mlOBHp9nTKnGWhL5wKgYlZ8UwZnMDzX+7H4zv51g+RxGazMXr0aDZv 3gyGABMuyKJw42EqCo+cBxZtNnLe8BR+deVolv/kfOZ+72y+NX0wBYedPPjOFs567HMu/MsSfvXB dhbsOESD68RjFoOsFi5OiuWV0iqcvl5wwJVC0Q2EOhD+Z+Bt4B30MzUekVL+rSsNU3RMekw6br+b qpaqsOZ756wcKhpcvL8pvK2YcJOfn4/H42Hbtm1MuCATq8PMinf3dSiimiaYmBXPzy4dydIHzuOj H83gZ5eOIDXOyptri/nuq+uY+JsF/OD/NrCz/PgtMgB+OCiFOp+fl0rD+3krFL2VkDuwpZQLgAVd aIsiBNLt6QCUOktJjg7fiutZw5IZMTCGZ5cUcM3E9LBMZe0KMjMzSUlJYe3ateTl5XHWZdkseWMP B7ZUMXj8iT8PIQSj02IZnRbL7TNzcPv8bCyuY+GOQ7y59iAfbS3n5qmDeOCi4cREHRn/yHPYOC8h hmcPVvLt9CRsxh64m7BC0Y2ctGYQQiwLuo1CiIZ2V6MQouOvZoouJcOeAUCJsySs+QohuHv2UAoP N/Huhp7b2hBCMHnyZCoqKigtLWXkjDTiBkSzcm4BAX/oXWsWo4GpQxL5+eWjWP6T87l1WjavrSri wr8s5dPtR29Vc3/2QGq8fl5WYxsKxclFQ0o5I+jGSCkd7a4YKaWje0xUtCfNngZAmfO4HVfOmIvH DGR8Zhx/XbgHl7fn9uGPHTsWk8nEunXrMBg0pl49hNqKZnat7Ny+ZLHRJn515Wjmfm86cdEm7nht PXNeWsPuikYA8mNtnBsfwz+KK2k+DWFSKPoioa7TmNp+iq0Qwi6E6J/bzUaYKGMUSdaksM+gAv1b /E8uHk55vYtXVx4Ie/7hIioqinHjxrFt2zZaWloYMiGZgUMcrP6wEI+r87v2TsiM48MfzuDhS0ey oaiWS55aykPvbqGywcV92QOo9vp4rUyNbSj6N6F2XD8LONvdNwfDFBEgzZ5GaWPXdCGdnZPEzGHJ PLOogPqWnrsaOj8/H5/Px+bNm/VtQK4fSnODh9UfFJ5RviaDxndnDmHJA+cx5+zBvL2+hHP+tIiP lxZxVkw0zxRX0qJaG4p+TKiiIWS76SlSygCnMYiuCC/p9vSwj2m058GLhlPf4uW5pQVdVsaZkpqa SmZmJqtWrcLv9zNwcCxjZqazdVEJlUVnPtwWbzPzyBWjWHDvuVw5Po3XVxWxbdFBKj0+fr+r6z57 haKnE6poFAohfiSEMAWvu4Ez+0qn6DQZ9gwqmirwBbrmrOQx6bFcOT6NF5btp6I+9MVw3c306dOp q6tj+3Z9n8upV+dgjTGz+D+7T2tQ/GRkJ9l4/PrxLPrxLG7ITcFY6eK5siq+9vJqFu44hD/QS0/l USg6SaiicSdwNvoW5iXAFIIHIym6n8yYTPzST3lTeZeV8eOvDCcg4bcf9dzTd4cNG0ZycjLLli1D SonFauScrw/jcHEjWxeHt/suMyGax64Zy/uzR6MZNDZESW57dR3T//AFv5+/84TrPBSKvkaoi/sq pZQ3SClTpJQDpJQ3SSkru9o4RcdkxOjTbg82HuyyMrISo/nBebnM21LO0j09c9M+TdOYPn06lZWV 7N27F4CcvGQGjUlk9QeFNNaEv5U0KSmG72Yl0zQgip9+fSxj0h28sGw/lzz1JRc/uZR/LingYM2p zrNTKHovp1qn8WDQ/ZsQ4uljr+4xUXEsWTFZAJQ0dm3f+h3nDmFIko1H3t/WY6fgjh07FofDwbJl ywB9BtjMG4YhgYUv7SDQBd1H9w0aQLzJwAI8/PuWfNY8fAG/uWo0VrOBP3y8i3P+tIgL/7KE38/f ycqCarxq4FzRhzhVS6O1b2IdsL6DSxEBkqOTsRgsFDd07QaDFqOBR68ew4HqZp5d3DMHxQ0GA2ef fTbFxcUUF+ufhyPJyrk3DqNsbx0bPjkQ9jJjTUZ+nD2Q5XVOPqmqJ8Fm5pZp2cz93nSWPDCLn182 khSHhReX7+fGf68i79EF3P7qOp7/spDNB+vwKRFR9GJONQPq68A8IE5K+VQ32KMIAU1oZNgzurR7 qpXpuUlcNSGNZxcXcPXEdAYn9bwNjvPy8liyZAnLli3jpptuAmD4lIEc3FHDmnkHSB8WT2puXFjL vCUtiVfKqvn53lJmxse0bS8yKNHGbecM4bZzhtDo8rJ8XxVf7KpkVWENn+04BEC02UBeVjx5WXGM SotlTLqD9DirOhNc0Ss4lWhMEkIMAr4thHgV/WzwNqSUNV1mmeKkZMZkctDZ9aIB8PBlI/liVyUP vr2ZN2+fhkHrWZWb2Wxm6tSpLFq0iLKyMtLS0hBCcO6Nw6korOezF7dzw8/PwhJ9emdqnAyjJnh8 WAZXbtzHn/ZX8Ouh6cfFiYkycfGYVC4ekwrAoQYXa/bXsO5ADWsO1PL3Rfto7T2LtZoYneZgxEAH Q5Jt+pVkZ4DDosRE0aM4lWj8E/gEGILeHdX+t1cGwxURINORyeqK1Ugpu7xSSYmJ4tdXjua+tzbz zyUFfP+83C4trzNMmTKFVatW8cUXX/DNb34TALPVyFe+M4Z3H1/P56/s5JI7xiLCKHhnxdm5JS2R f5cc5oqUOPJjT94KG+CI4orxaVwxXt8KxuX1s6uikW2l9Wwva2B7WT1vrCmmpd34kc1sYHBQQDIT rKTGWkmPs5IaF0VanBVHVPiEUKEIhZOKhpTyaeBpIcSzUsq7uskmRQhkxmTS4muhqqUqrLvdnohr Jqbzxa5K/rpgD+cMTWJcRni7e86UqKgopk+fzsKFCykqKmLQoEEADBjs4Oyv5rLsf3tZ/WEhU6/K CWu5P89JY1FNI3dsP8DCycOJN4W+5jXKZGBCZhwTMo98loGApKLBReHhJgqrnEG3iQ3FtXy0tfy4 dSF2i5HU2CiS7BYS7GYSbWYSbbo/yWYmwWYm0W4h1moiJspIlEnt0qs4M0L6DZdS3iWEmAEMlVK+ JIRIAmKklPu71jzFiciMyQT0abfdIRpCCH539VjWF9Vyz5ubmPejGUSbe9amAGeddRarVq1iyZIl 3HLLLW3h487PoKa8ifUfFxE/0MbwKQPDVqbDaOBfowdx1YZ93LOrmJfHDD6jlp+mCdLirKTFWZkx NOmoZ/6ApLLRRVmdi/L6FsrqWtr8NU0edpY1UN3kOen2L2aDRkyUMXiZ2vx2iwmrWcNqMhB11HUk zGoyYAnem40aZoOG0aBhMghMBg2jJjAZNUyaHmbQhOpa64OE9FcvhPglkI9+ANNLgBl4HZjemUKF ENcDvwJGAmdJKdd1Jp/+THvRyBuQ1y1lxkabeOJr4/nG86t5dN5Ofn/t2G4pN1RaxzYWLlxIRUUF Awfq4tA6Dbe+splFr+0iNtnKwCGxYSs3z2HjFzmpPLKvjH+XHOb2zJSw5d0egyZIjdW7qCD+hPG8 /gC1TR6qnB5qmjxUN7mpb/HS6PLR4NJd/dL9VVVNOF0+XL4ALR4/Lp+fcB0MqQuLwKgJzEYNo6bf GzSBJgSaAE20u9fAIHSxMWgi6Kfdc4EhmEbT9PStz4QQCEAIgq4uWCL4P4Foe0ZbvGBYm7aJdunb Qo7L87j07cOCdtAu/bGcSEtPJLEdxe8o35PlHS5C/ap4DTAR2AAgpSxrv+ttJ9gGXAv86wzy6Nek 2dLQhEZxY/ee6312ThK3nzOEfy0tJC8rjuvzM7u1/FMxadIkli5dyooVK7j22mvbwg1GjYtvH8v/ /riO+c9u4asPTiI2OTps5X43I5kVdU4eLSgnP9ZGniNys8xMBo0URxQpjqhOpZdS4vYFcHsDtHj9 uLy6kLR4/Li8AVxeP26fH69f4gsE8PolXn8AX9D1+iU+f0D3ByReXwBfQOLxB/AF4wWkxC8hICWB gMQfkARa72XrvSQQAL/U8/UH9DRStosfkPiDaWTwmYQ20ZO0hh95Nz1cD2t93j6M48KO5Nk+PfLI 85PlefwHfILP/QQPOhLwE2l6RydYhnulUqii4ZFSSiGEBBBCnNFfhJRyZzCfM8mmX2MymEi1pXb5 Wo2OeOCi4WwtrefhudvITbEzMevE33q7G6vVSl5eHmvWrGH27NnExh5pUUTZTVz+/XG8+/gGPnhq E9f+eBK2OEtYyhVC8NcRWVy4bjff3nqAjyYNJT3KHJa8uxshRFv3VCxqoL0vIP4QvrxC3XvqLSHE v4A4IcR3gYXAv8NnhqIzjEgYwfbq7d1ertGg8cxNeQyItXDHa+s51NCzNjWcMmUKUkrWrFlz3LP4 gTYu/+F4Whq9vPfXjWHdaiTeZOS1sUNo8vv55pZCGn09cxW9QnEmhLr31J+Bt4F30Mc1HpFS/u1k aYQQC4UQ2zq4rjodA4UQtwsh1gkh1h0+3DP3QIoUE5IncLDxIFUt3X8wULzNzL9vycfp9nHHa+t7 1DYj8fHxjBo1inXr1uFyHS8KA7IdXP7D8TQ3eHj38fXUVjSFreyRdisvjBnM3mYX3912AK/aBVfR xwi1pQGwBVgCLAY2nyqylPICKeWYDq73T8dAKeVzUsp8KWV+cnLXzxLqTUxImQDA5sOn/HF0CSMG Onji+vFsOljHPW9u6lHbY5x99tm43W42btzY4fO03DiuuX8ifl+AD57aFNYWx8yEGP40PJPFtY08 uOdgh/3MCkVvJdTjXr8GrAGuB74GrBZCXNeVhilOzcjEkZg0E5srIyMaAJeMTeWRy0fxyfYKHnp3 a4+pINPT0xk0aFDbIU0dkZQRwxU/moDH5eeDpzbhcobvpMKbUhO5d9AA3iiv4Wd7S3vM56JQnCmh tjQeBiZLKW+VUt4CnAX8orOFCiGuEUKUANOAj4QQn3Y2r/6MxWBhVOIoNh3eFFE7vj1jMD+aPZT/ rS/hdx/t7DEV5Nlnn019fT07dpz4TJDkzBgu+/44Gqpb+OS5rfh94WstPTh4IHdkJvNSaRUPK+FQ 9BFCFQ3tmPMzqk8j7XFIKedKKTOklJbg+RwXdTav/s745PFsr9qO1x/Z87zvvWAoc87O5vll+/nL gj09ooIcOnQoiYmJrFix4qT2pOXGcf7NIyndU8fSN3aHzXYhBL/KSeOOzGReLK3i50o4FH2AUCv+ T4QQnwoh5ggh5gAfAfO7zixFqExImYAn4GFnzc6I2iGE4JHLR/G1/Az+9sU+Hnh7C54wfmvvDJqm MW3aNMrLyzlw4MBJ4w6fMpBJlwxix/JyNn8evo0g24QjI5kXSqu4b/dBNTiu6NWc6hCmXCHEdCnl A+gL8cYB44GVwHPdYJ/iFExMmQjAukORX1SvaYI/fnUcd88eytvrS/jWy2tOuqVFdzB+/Hiio6NZ uXLlKeNOuWIIOXnJLH9nH3vXHQqbDUIIfpWbxn3Z+hjHzWo6rqIXc6qWxpNAI4CU8l0p5X1SynvR WxlPdrVxilOTZE0iJzaH1eWrI20KoFeQ9144jD9fP57VhTVc9+wK9leFb0rr6WIymTjrrLPYs2cP p5qyLTTB7DmjSB0Sy2cvbGfLovC2OB4cnMpfRmTyZV0jV2/cS7nbE7b8FYru4lSikS2l3HJsYHCv qOwusUhx2kxNm8qGQxuQWs/p9rhuUgavfvssDjvdXPG3Zby/KXL9+ZMnT8ZoNIbU2jCZDVx59wQG j0viy//uZeXcfcgwdifdlJrI62OHcKDFw0Xr9rC8tjFseSsU3cGpRONkm9dYw2mIovNMTZ2Ky+/C l+KLtClHcXZuEh/96BxyU+zc/eYmbn1pLQci0Oqw2WxMmDCBzZs343Q6TxnfaDZw8R1jGT0znQ2f FrPgpR14PeHrTjov0cG8vKE4jAau31TAUwcOEVAD5IpewqlEY21w25CjEEJ8B3VGeI8hf0A+BmHA mxbZ8YOOSI+z8vad0/jVFaPYWFTLV55cyl8X7KHJ3b0CN23aNAKBAMuXLw8pvqYJzr1xGFOvHsLe dYd450/rqT/cEjZ7RtqtfDJpGFemxPH7/eV8c0shh9w97+enUBzLqUTjHuBbQojFQogngtcS4Dbg 7q43TxEKdrOdMUlj8Kb2zErHaNCYM30wn99/LheNHshTn+9l5p8W8fyXhd22/UhiYiLjx49nzZo1 1NXVhZRGCMGki7O57HvjcNa4+N/v11K0vTpsNtmNBp4dNYjfD8tgRZ2Tc9fs4n8VNWparqJHc1LR kFIeklKeDfwaOBC8fi2lnCalrOh68xShMiV1Cr4kHwFTz9nK41hSHFH87caJzP3e2YxKc/Dbj3a2 iUejq+sF77zzzgNg0aJFp5Uue2wS1z+Ujz3ewry/b2b5O/vwhUnshBB8Kz2JhZOHMzQ6ih/uLOaW rfspdalBckXPRPSmbzX5+fly3brITy3tiaytWMu3P/02MZ/HsOLVFZE2JyRWFVbz5MI9rCqswW4x csPkTG49O5vMhPCdc3Esn332GStWrOCuu+5iwIABp5XW6/az/O29bP+yjIQ0GxfMGUVy1pkcK3M0 fil5oeQwvy8sB+D7WQP4XlYK0YZOr6NVKAAQQqyXUuaHJS8lGn0Dj9/DpJcnEbUnirV/XBtpc06L LSV1PP/l/rYzsKcMTuCaielcMjaVWGt4z3Nobm7m6aefJjMzk2984xudyqNoezWLXt1JS6OXvIsH MemSQRjDePb2QZeHRwvK+KCyjnSLiZ8NSeXqAfEY1Pkzik6iREPRIXm/yyNgD7Dp7sjuRdVZSuta eHd9CXM3llJY1YTZoDF7ZApXT0xn1vBkLMbwVMzLli1j4cKFzJkzh+zs7E7l4Wry8uVbe9iz+hCO ZCtTrxpCbl4KQgtfxb6yzskje0vZ6mxhaLSF+7MHckVKnBIPxWmjREPRIVN+MIXmyc0svG4hA2yn 1/XSk5BSsrW0nrkbS/lwcxlVTg+xVhOXjUvl2onpTBoUf0anPnq9Xp5++mliYmK47bbb0LTOd/8c 3FXDl//dS215E4npds66YjCDxyeF7VTKgJTMO1zPEwcq2N3kYmi0hbsyU7hmQDxW1W2lCBElGooO mXHtDOqvquexGY9xRc4VkTYnLPj8Ab7cV8V7G0v5dHsFLm+AvKw4fjR7KOcOS+505bx582bmzp3L lVdeSV5e3hnZGAhI9q07xJp5+6mvbCEx3cb42VkMmzwAgyk8FXtASj48XMdTBw6xo8lFgsnALWlJ 3JyW2GuPlVV0H0o0FB1y7qxzqb2xlstHXc5j5zwWaXPCjtPtY+7GUv65uIDSuhbGZ8bxvVk5XDBy AIbT7BaSUvLiiy9SXV3ND3/4Q6zWM1+rGvAH2LP2EJsWFFNd2oTVYWbsuemMPDsVe/zJ1smGjpSS FXVO/l1ymE+rGgA4Nz6Gr6cmcHFSrGp9KDpEiYaiQ2bNmkXjzEbso+18cf0XGLTwDc72JDy+AO9s KOGZRfsoqW0hI97KrdOy+Vp+JrHRoQ+cl5eX869//YspU6ZwySWXhM0+KSUlu2rZtLCY4u01CAGZ oxIZNT2VQWMTwzZoXtzi5r8VNbxZXkOp24vdoHFBooNLk+OYnRCDLUxjQIrejxINRYfMmjUL92A3 zllOXrvktbbjYPsqPn+ABTsO8dLyA6w5UEOUSePSMalcNGYgY9NjSbJbMBtP/s173rx5rF+/njvv vPO0p+CGQv3hZnauKGfXygqa6tyYogxkj00iJy+ZrNGJmMxnXrEHpGR5rZP3Kmv5uKqeGq+fKE0w KyGGi5JimRkfo7qw+jlKNBQdMmvWLALmAI3fbOTW0bdyz6R7Im1St7GttJ7/W1PMB5vKcLbbosRq MuCwGomJMuGIMuKwmtr8VpMBIf0UblzO2IFW7v7uLWEbwD6WQEBSsrOGgg2VFG6uwuX0YjRrDBqT yKAxiWSMSCAm4cy7sHwByZr6JuZX1TH/cD1lwa1JBlvNnBMfw/R4O9PjYkgyG8+4LEXvQYmGokNm zZoFQO5DuVS1VPHe1e9F1qAI4PL62VHewI6yBmqbPDS6fTS0eGlweWlo8dHg8tLo8lHf4qXF48fj D+AP7mI7KtnMbeeN5JIxqVjD0AI4EQF/gLK9dRRsPEzhpsM01+urv2NTrGSOSCBjRDypuXFEO86s dSClZFeTiy9rG/my1snKOidOv75jwNBoC2fF2pgSZ2dmfAwDLeFdD6PoWSjRUHRIq2h85x/f4U9r /8T8a+aT6ciMrFE9HH9Asqu8nife+IR1NWYaAhZioozMHJbM1MEJTB2SSG6KvctaIFJKasqaKNlV y8FdNZTtqcPr1rcoiUmIYsBgh35lO0jMsGOO6nwLwReQbG5sZkWdk9X1Taytb6I+eBjUaHsU5yc4 mJ3oIN9hwxjG9SaKyKNEQ9EhraLx2gevcencS3lw8oPcPOrmyBrVS6iuruYf/3gWbeAwauOGsWxv NRUNLgASbWamDEkgLyuecRlxjE5zYLN0TfeO3x+g8kAjFYX1HNrfwKED9Thr3G3PHUlRJKTZSUyz kZhuJ25ANLHJVszW07cnICU7nC0sqmnk8+oG1jY04ZfgMGpMdtiZEmdjcqyNCTHRalZWLyecohGR jk0hxOPAFYAHKAC+JaUMbetRxSnJdGSSG5fLkoNLlGiESGJiIrNnn89nn33GrVNH8vh151Nc08zq whpWFVazen8N87fqe3RqAnJT7IxNj2Nkagw5yXZyku2kx1tPe+rvsRgMGqk5saTmxLaFNdW7qTzQ QHWpk+rSJqpLnRRtqz7qcKgou4nYZCuOJCuxyfpli7dgi7Vgj7N0KCqaEIyJiWZMTDQ/HDSABp+f pTWNLK5pZHW9k88L9QLTYb4AABgBSURBVCm9JiEYG2NlfEw0Y+xWRtutjLBFEaWEpF8SkZaGEOIr wBdSSp8Q4o8AUsqfnCqdammcnNaWxuLFi3ly/ZO8vP1llnx9CbGW2JMnVAAQCAR44YUXqK2t5fvf /z42m+2o55WNLraW1LOlpJ6tpfVsKamjynlkN1qzUWNIko2shGj+v727D46jPhM8/n2mp2c0I8my JUuxkWS9gImNIU58lqsCiyHAYiAGTMDJOltxwkKM2SLHpYpKLktdLanU5ZKqDVTBHQkGHzlSEBYM Jk7W5iUkKmcdEjDIdjAvBvkFC4MlY8vCepm3/t0fPSNL45E0kmbUGun52E13//rXPc9De/Soe3q6 z5oZomZWiLNmukP1zBCzSwI5O82ViDmcONpN59Feuo71crLDHbo6ejl1oo/0t7UdtCieGaR4ZsAd lwX7xyWz3OnwjADWgKvNjsfi7DzZzasnu9l5sps3T/X2fyZiCZwTLuLccBGN4SCNoSBnh4M0hoOU 2/oh+2QzpU5PicgNwE3GmBHvHqdFY3gDi8au9l18Y9s3+OnFP+Waxmu8DayAtLe389BDD9HY2Mia NWtGvMXI8e4o+ztO0dpxitaOblrbT3H4RA8fnuilO+1pfwG/j8qSIBUlASqKA1SUBJldEmR2SYCK kgCzS4LMCgeYUWQzI+SnJOjHP4bf5hNxh08/6aO7M8KpzgjdJyN0d0bo7owmxxG6uyI48TPf+6FS m3BZ6gglQHhmkHBpgKISm0DYzydBoVXivJeI8XZvhNaeCIf6IiQGbGqm36IhFKS6yKY6GOCsIpu5 wQDVQZuzimyqArbeP2uCFfzpqTT/BPy710FMNRfMvoDyonKa25q1aIxCVVUVK1asYOvWrezYsYOL L7542P7lxQHKi8tZWl8+qN0YQ1dvnA87eznS2ds/PnYqyrFTETpORXjn4085dipCLDH0L24lQT+l Rf7+QlJaZBMKWIRti1DAIjRgHA5YFNkW4YCfUMBHyPZTNDdIsDZEqeUj4HcH2/JhW4LpSxA9FaMn WUx6upJF5aQ7Ptb2KT1dUcgQXhlwkd/H5cV+7FKbk6V+js+w+KRYaA8Z2nv6aLH6eMnnEEmrDwLM 9Pko9/spty0qAn4qAzaVRTYVAT8Vtp8yv8UMv0WJ32KG30epZVFs+fJ2QYLKXt6Khoj8HpiTYdHd xpjfJPvcDcSBx4fZzjpgHcC8efPyEOnUZPksltcs5+VDLxNzYtg+vaQyW01NTXzwwQf84Q9/oKam hoaGhlFvQ0QoC9uUhW3OO2vGkP2MMXT1xfnkVIRjp6J09kTp6nMvE/60L568VPj0JcPtn/bRG024 QyxBTzRBJD6+B2/5fdJfTAJ+HwHLRzDgw57jw662sX2CZQQLsAz4DPgcgyRAEg4S70NOghx3kLih KO5QGzdUxx3ECHE/RGwfkYAQCQh9AR8xW4j4hUO2sC/ZHrUFJDmAW11EMOJOCxAwQtCBIuMONoKN EMT97CWAEBQhkBp8EMRHECHgE/wi2D7Bn8pbfPgFAj5f/7KAz4clYFvutN/nIyBuf19qEHcfp4qY O0pO+5JTIgyscSIgqUQ4nZMMzBf3MzMYvC7ifgY1cHX3tXyD1pVBy/NTYPNWNIwxVwy3XES+CawE LjfDnCMzxmwANoB7eiqnQU5xl8+7nOfef46/HPkLF9cM/xuzOk1EuPbaa/n444/ZtGkT69evp7Q0 dw9bSn+tspBNWcimsXJs20g4hr5kAUmN3YISJxJziMQdYgmHaNwhmjg9Pag9NZ1ItRui8USy3RCN O/QlHGLJbQxaJ+4QSY7dpAA7OQwUSw7dmfPI9lspkeRwcvT/q1QOeHX11FXA94FLjDE9XsQwHVx4 1oWUBkrZemCrFo1RCgaDfPWrX+Xhhx/mqaeeYu3atdj25Dxas3xCcdCft8uAs2WMIe4YEqnBGIzj PpEw4Rgcc3qZYwyOIat2J7ktx7jfrDcYjMEdkq/rjoHUMgyRhCGSLHbRhEPEMSQctwjGktuOOQ7x 5OvFHYeEcb/PEjfua8Yd47aZVGzu9hPGnH59wOF0DA7pywa0Q38/g8FxQ+4/A+guP90wuP30f85o 798Hg9dLn84Fr/6V/W8gCLyUPDT7izFmvUexTFkBK8CVdVey7cA2euO9hPzjv5PrdFJVVcX111/P pk2beO6557jxxhvH9eyNqU5EsC0hhw8xVDki/5S7bXnyDjDGnGOMqTXGfD45aMHIk6sbrqYn3sP2 tu1eh1KQzj//fK644gr27t3Lyy+/7HU4SnlOf22a4pZ+ZimVoUq2HdjmdSgF66KLLqKpqYkdO3bw 6quveh2OUp7SojHFWT6LFfUr2N62na5ol9fhFCQR4aqrruLcc89l27Zt7Nmzx+uQlPKMFo1p4OqG q4k5MV4+pKdXxsqyLG666Sbq6urYvHmzFg41bWnRmAYumH0BNSU1eopqnAKBAF//+tf7C8fu3bu9 DkmpCadFYxoQEa5uuJq/fvxXjvUe8zqcgpYqHPX19WzevJk33njD65CUmlBaNKaJaxquwTEOzx94 3utQCl4gEGDNmjWcffbZbNmyhebmZry+h5tSE0WLxjRxzqxzWFSxiGfee0Z/wOVA6ohj8eLFNDc3 s2XLFhKJxMgrKlXgtGhMI6vPXc37ne+zu0PPxeeCZVmsWrWK5cuX09LSwhNPPEFvb6/XYSmVV1o0 ppGrG66m2C7m6X1Pex3KlCEiXHbZZVx33XUcOHCADRs28NFHH3kdllJ5o0VjGgnbYb7c8GVeOPgC JyN6u7dcWrJkCTfffDPxeJyNGzfqlVVqytKiMc3cdO5NRBIRfrf/d16HMuXU1tZy2223UV1dzebN m9m8ebOerlJTjhaNaWZhxUIWVSxi075N+oF4HpSUlLB27VqWL1/Onj17+PnPf05ra6vXYSmVM1o0 piH9QDy/LMvisssu49ZbbyUQCPCrX/2KLVu20N09xIMklCogWjSmodQH4k+9+5TXoUxp1dXV3Hbb bVx44YW0tLTwwAMP8Oqrr+I443vSnlJe0qIxDYXtMKvOWcXWA1vZ37nf63CmNNu2ufLKK7n99tuZ O3cuW7du5aGHHmLfvn16elAVJC0a09S6z60j7A/zs9d/5nUo00JVVRVr165l9erVRKNRnnjiCTZu 3Mj+/Vq0VWHRojFNlReVs+5z69jetp0/f/hnr8OZFkSERYsWcccdd7By5Uq6urp47LHHeOSRR9i7 d69+o1wVBCmkQ+SlS5eanTt3eh3GpHXppZcC0NzcnFX/aCLKV7Z8hbgT59nrniVsh/MXnDpDLBaj paWFV155hRMnTjBz5kyWLVvG4sWLKS4u9jo8NYWIyOvGmKW52JYeaUxjASvAjy76EUdOHeHe1+/1 Opxpx7Ztli1bxne+8x2+9rWvUVpayosvvsi9997L008/TWtrqx59qEnH73UAyltfqPoC3zjvGzz2 1mNcPu9yvnjWF70Oadrx+XwsXLiQhQsXcvToUd544w327NnD3r17CYfDLFy4kPPOO4/6+nosy/I6 XDXNeXJ6SkR+BFwPOEA78C1jzJGR1tPTU8Mb7emplL54H6t/u5pIIsKz1z1LSaAk98GpUYnFYrz3 3nu89dZb7Nu3j2g0SigUYsGCBZx99tk0NDToKSyVtVyenvKqaMwwxnQlp/8rcJ4xZv1I62nRGN5Y iwbA7o7drN22lhvOuYF7Lrwnp3Gp8YnFYrS2tvLWW2/x7rvvEolEAJg7dy6NjY00NDRQU1NDUVGR x5GqySqXRcOT01OpgpFUDBTOp/FT1OLKxdy86GY2vrmRpjlNfLnxy16HpJJs22bBggUsWLCARCLB kSNH2L9/P/v37+eVV15hx44dAFRWVlJTU0NNTQ3V1dVUVlbq6SyVc559piEi/xNYC5wEvuRVHOq0 O75wBy3tLfzwlR/y2Vmf5ZxZ53gdkkpjWRa1tbXU1tZyySWXEIlEOHz4MG1tbbS1tfHOO+/Q0tIC uJ+VVFZWUlVVxWc+8xmqqqqoqKhg5syZWkzUmOXt9JSI/B6Yk2HR3caY3wzo9wOgyBjzr0NsZx2w DmDevHn/5dChQ/kId0oYz+mplI6eDlb/djWlgVKeXPkkxbaeNy8kxhiOHz/Ohx9+yNGjRzl69Cjt 7e10dZ0+uBcRysrKKC8vp7y8nJKSEsLhcMbB79drZaaCgv9MY1AAInXAfxhjzh+pr36mMbxcFA2A 1z5+jVtfvJUr5l3Bv13yb4jI+INTnurt7aW9vZ3jx49z4sQJjh8/3j893O3bA4EAoVCIYDDYPwQC gUHzA9v9fj+2beP3+wdNDxxbloXPp1f7T6SC/0xDROYbY95Lzl4HvONFHCqzpjlN3LnkTu57/T5+ secX3L74dq9DUuMUCoWoq6ujrq7ujGWJRILe3l56enrOGLq7u+nr6yMSiRCNRunt7aWzs5NIJNLf NlY+n++MQUQytg+1XET6f6lJTY80P5q+Q62bSaG0j5dXx54/EZHP4l5yewgY8copNbFuXnQzrZ2t PLjrQeaE53DD/Bu8DknliWVZlJSUUFIy+kutHcchGo32F5B4PE4sFhs0Tm9LJBI4jjNoMMac0Zbt MnBPy6WG0cyPZd2Uoc7SFEr7WHl19dSNXryuyp6IcM8X76Gjp4MfvvJDqsJVXFR9kddhqUnG5/NR VFSkl/tOcvfcc0/OtqUnFtWQbMvmvi/dx/xZ8/lu83fZ+8ler0NSSnlMi4YaVrFdzIOXP+jeFffF dVo4lJrmtGioEVWGK9m4YiOlgVK+/cK3+VvH37wOSSnlES0aKivVJdU8uuJRyoJlrHtpHbvad3kd klLKA1o0VNbmlszl0asedU9VvbSO5sPNXoeklJpgWjTUqMwpnsMvr/olDWUN3PnHO3n87ce9Dkkp NYG0aKhRqwxX8uiKR7m05lJ+8upP+PFff0zciXsdllJqAmjRUGMStsPce+m9fPO8b/Lrd37NLS/c wsfdH3sdllIqz7RoqDGzfBZ3Nd3Fj//ux7x9/G1W/3Y1f2r7k9dhKaXySIuGGrdrz76WJ1c+SVW4 in9++Z/5/vbv88cP/kh7T3vOb2GglPKW3vdY5URjWSOPX/M497fcz3PvP8fWA1sB98uBdTPqqJtR R8OMBupm1FFfVk/9jHrCdtjjqJVSo6VFQ+VMkb+I7zV9j+8u+S67Onbxfuf7HDx5kENdh9jTsYfn DzyPGfCQxqpQFfVl9W4hmVFPfVk9FaEK92Z0OBRZRZw761y9NbtSk4gWDZVztmXTNKeJpjlNg9r7 4n0c/vQwB7vcQnLg5AEOdh3khYMv0BXtyritz83+HHcuuZNlc5dNROhKqRFo0VATpshfxPxZ85k/ a/4Zy070neBg10E6+zqxfBY+8dH2aRsb39zILS/ewor6Fdy19C7mFGd6GKRSaqJo0VCTwqyiWcwq mnVG+w3zb+DRNx/lkb89wva27dx6wa0sKF9AyB/KOAStoJ7OUiqPtGioSS1oBVm/eD0rG1fy09d+ ygMtDwzb3yc+iqyi04XEPrOwhP1hQv4QASuA3+fH7/Nj+2wssfrn/T4/fnHHllhYPgtL3COg1Hz/ dIZ5nySfKpf6k5x2/w5uO2PMgKfEpS0/o21Au098g18LMm57qBiUyoYWDVUQakpreOCyBzjcdZiT 0ZP0xnvpifXQG+91p+OnpwcNsdPTnX2dg/pFE1HiTnzQh/PTXaqA+PANW1yGLEQZCmW2/QYV2mQM /Y9dTS1P7582D/RvJ5VD+nbSi2SqwKZPJxtG7JdecIdbNtTrZBXPGaFlfp0ztp2+4jhp0ZhCmpub vQ4h72pn1FJLbU63mXASxE2chJMg5sSIO3HiTpyESbjTJo7jOCRMgoRJ4BiHuBPHMU7/fMI5vSzV zxhD6o/71wxqS32HxTHOoPmh+qW3pYpdf3v6eKR+A+NKW39QXCPEn+m1B76eY5wR+zk4px+rmlxn YL9h55PrY+jfTsJJkCAx5HopQz4ilaEf7Tpo/WH6ZbP+Gdsbbzzpj6TNwy9EWjTUtGf5LCwssLyO RKn8yOXRhn4jXCmlVNa0aCillMqap0VDRO4SESMis72MQymlVHY8KxoiUgv8PfCBVzEopZQaHS+P NO4Dvgd6vaNSShUKT4qGiFwHfGiM2Z1F33UislNEdnZ0dExAdEoppYaSt0tuReT3QKYbBd0N/Atw ZTbbMcZsADYALF26VI9KlFLKQ3krGsaYKzK1i8gFQAOwO/ktxhrgDRFZZozR54UqpdQkJl4/WU1E DgJLjTHHsuj7KfBucrYMODlgTFp7+nSm5cO1ZbNsLP2GMxs4xtA5DJfraNuyWTaWfsMZb35DxTAZ 8kvllr6tyZBfLvdd+vbGm99k2HeQOb+p9LPls8aY0nFuw9X/1X2PBuAgMDvLvjsHTG8YOE5vz7Rs NG3ZLBtLv2zyGyqH4XKdDvkNFcNkyC/Tv83Jkl8u912u85sM+26o/Kbiz5ZcDJ7fRsQYUz/GVX+b Nk5vz7RsNG3ZLBtLv9Fua7h8plt+Q8Wg+WUfTy7kMr/Jtu8Gbm8q/mwZN89PT42GiOw0xiz1Oo58 0fwK11TODTS/QpfL/ArtNiIbvA4gzzS/wjWVcwPNr9DlLL+COtJQSinlrUI70lBKKeUhLRpKKaWy pkVDKaVU1gq6aIjIKhF5WER+IyJZ3ZakUIhIo4hsFJFNXseSDyJSLCL/L7n//tHrePJpGuzLKfs+ BBCRhSLyCxHZJCK3ex1PriXfi6+LyMps+k+6oiEi/1dE2kXkzbT2q0TkXRF5X0T+O4Ax5jljzLeB bwFf8yDcURllbvuNMbd4E+nYjCY/4CvApuT+u27Cg83SKHPKaDLvyxzlN2nfhznK721jzHrgq8Ck uSw3F7klfR94KusXztW3BHM1AMuBJcCbA9osoBVoBALAbuC8Act/BizxOvY85bbJ67jzkR/wA+Dz yT5PeB17jnK6APhd2lA1mfdljvObdO/DXOWH+4vNn4Gve51TLnMDrgD+Abfgr8zmdT3/Rng6Y8x2 EalPa14GvG+M2Q8gIk8C14vI28BPgG3GmDcmNNAxGE1uwFsTG934jTK/NtybVe5iEh7xpowmJ2PM /wKyOsSfLHKRn7h3Hp2U78Nc7T9jzBZgi4j8B/BE/iLOXo723ZeAYtzC0isiW40xznCvO2nfrGmq gcMD5tuSbd/BrZQ3ich6LwLLgYy5iUiFiPwC+IKI/MCb0HJiqH33LHCjiPycSXabhCwMlVNGBbgv R5Ufhfc+HO3+u1RE7heRh4Ct+Q5unEaVmzHmbmPMf8MthA+PVDAgj7dGzzHJ0GaMMfcD9090MDk2 VG6fAIXwBhzJUPl1AzdPdDA5kjGnoToX4L4cbX6F9j4cbX7NQHO+gsmxUeXW38GYX2b7AoVypNEG 1A6YrwGOeBRLrk3l3GBq5jcVcxpI8ytcec+tUIrGa8B8EWkQkQDuBzdbPI4pV6ZybjA185uKOQ2k +RWu/Ofm9RUAGa4I+DXwERDDrZq3JNuvAfbhXhlwt9dxam7TI7+pmJPmNzXy8yo3vWGhUkqprBXK 6SmllFKTgBYNpZRSWdOioZRSKmtaNJRSSmVNi4ZSSqmsadFQSimVNS0aSmUgIjeIiBGRBcn5+vRb UGdYZ8Q+ShU6LRpKZbYG+E/cb9QqpZK0aCiVRkRKgIuAW8hQNETkW8mn1D2ffNjNvw5YbCWfYrdX RF4UkVBynW+LyGsisltEnhGR8MRko1RuadFQ6kyrgOeNMfuA4yKyJEOfZcA/Ap8HVotI6olu84H/ Y4xZBHQCNybbnzXGNBljFgNv4xYkpQqOFg2lzrQGeDI5/WRyPt1LxphPjDG9uM8G+btk+wFjzK7k 9OtAfXL6fBH5k4j8DbfYLMpL5ErlWaE8T0OpCSEiFcBluD/kDe7jMw3wYFrX9Ju2peYjA9oSQCg5 /UtglTFmt4h8C7g0d1ErNXH0SEOpwW4CHjPG1Blj6o0xtcAB3OcSDPT3IlKe/MxiFbBjhO2WAh+J iI17pKFUQdKiodRga4DNaW3PAP+S1vafwK9wn3H+jDFm5wjb/R/AX4GXgHdyEKdSntBboys1SsnT S0uNMXd4HYtSE02PNJRSSmVNjzSUUkplTY80lFJKZU2LhlJKqaxp0VBKKZU1LRpKKaWypkVDKaVU 1rRoKKWUytr/B6A11JOksS3sAAAAAElFTkSuQmCC ",
text/plain: [
"<matplotlib.figure.Figure at 0x262d6696e10>"
]
},
metadata: { },
output_type: "display_data"
}
],
source: [
"# In[13]: ",
"rdg = Ridge() ",
"alphas = np.logspace(-4, 2, 200) ",
"alphas, coefs, _ = las.path(x, y, alphas=alphas) ",
" ",
"fig, ax = plt.subplots() ",
"ax.plot(alphas, coefs.T) ",
"ax.set_xscale('log') ",
"ax.set_xlim(alphas.max(), alphas.min()) ",
"plt.vlines(alpha, coefs.min(), coefs.max()) ",
"plt.xlabel("Alpha") ",
"plt.ylabel("Coeficientes") ",
" ",
"plt.show()"
]
},
{
cell_type: "markdown",
metadata: { },
source: [
"Quando $\alpha$ é muito grande, a penalização é significativa e todos os coeficientes ficam muito próximos de 0. ",
"A medida que o $\alpha$ tende a 0, os coeficientes se estabilizam e tendem aos valores calculados pelo método dos mínimos quadrados ordinários."
]
},
{
cell_type: "markdown",
metadata: { },
source: [
"### Conclusão: <br><br> Apesar de termos um ajuste pior da amostra de treino utilizando LASSO, o modelo se comporta melhor nos dados fora da amostra."
]
},
{
cell_type: "markdown",
metadata: { },
source: [
"Referência ",
"http://prorum.com/index.php/2541/como-implementar-algoritmo-lasso-em-python-compara-lo-ao-ols"
]
}
],
metadata: {
kernelspec: {
display_name: "Python 3",
language: "python",
name: "python3"
},
language_info: {
codemirror_mode: {
name: "ipython",
version: 3
},
file_extension: ".py",
mimetype: "text/x-python",
name: "python",
nbconvert_exporter: "python",
pygments_lexer: "ipython3",
version: "3.6.3"
}
},
nbformat: 4,
nbformat_minor: 2
}
