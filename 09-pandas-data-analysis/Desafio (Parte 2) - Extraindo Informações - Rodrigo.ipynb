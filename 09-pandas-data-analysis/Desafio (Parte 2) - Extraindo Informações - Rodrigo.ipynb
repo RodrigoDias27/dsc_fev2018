{
 "cells": [
  {
   "cell_type": "markdown",
   "metadata": {},
   "source": [
    "# Desafio (Parte 2) - Extraindo Informações"
   ]
  },
  {
   "cell_type": "markdown",
   "metadata": {},
   "source": [
    "## Case baseado no desafio do Kaggle: \"Instacart Market Basket Analysis\"\n",
    "\n",
    "Esse desafio é baseado em uma competição do Kaggle ([https://www.kaggle.com](https://www.kaggle.com)) de 2017, onde é pedido para fazer a predição de se um produto será comprado por dado usuário no carrinho atual, baseado em suas compras anteriores.\n",
    "\n",
    "Não está no escopo da aula \n",
    "\n",
    "\n",
    "\n",
    "Link para o desafio: [https://www.kaggle.com/c/instacart-market-basket-analysis](https://www.kaggle.com/c/instacart-market-basket-analysis)\n",
    "\n",
    "## Origem dos Dados:\n",
    "\n",
    "Os dados mostrados nesse desafio são uma amostra extraída do dataset disponibilizado gratuitamente pela empresa Instacart ([https://www.instacart.com/](https://www.instacart.com/)) **\\***. São dados reais do banco de dados da empresa, que foram anonimizados para o uso por pesquisadores e em competições de Data Science.\n",
    "\n",
    " \n",
    "###### * “The Instacart Online Grocery Shopping Dataset 2017”, Accessed from [https://www.instacart.com/datasets/grocery-shopping-2017](https://www.instacart.com/datasets/grocery-shopping-2017) on March 10, 2017.\n",
    "\n",
    "## Tabelas e Colunas Importantes\n",
    "\n",
    "As Tabelas e suas respectivas colunas estão mostradas abaixo, junto com a descrição do significado de cada coluna:\n",
    "\n",
    "* Colunas da Tabela `orders`:\n",
    "\n",
    "    * ´order_id´: order identifier\n",
    "    * ´user_id´: customer identifier\n",
    "    * ´eval_set´: which evaluation set this order belongs in (see SET described below)\n",
    "    * ´order_number´: the order sequence number for this user (1 = first, n = nth)\n",
    "    * ´order_dow´: the day of the week the order was placed on\n",
    "    * ´order_hour_of_day´: the hour of the day the order was placed on\n",
    "    * ´days_since_prior´: days since the last order, capped at 30 (with NAs for order_number = 1)\n",
    "    \n",
    "* Colunas da Tabela `products (50k rows):\n",
    "\n",
    "    * ´product_id´: product identifier\n",
    "    * ´product_name´: name of the product\n",
    "    * ´aisle_id´: foreign key\n",
    "    * ´department_id´: foreign key\n",
    "\n",
    "* Colunas da Tabela `aisles (134 rows):\n",
    "\n",
    "    * ´aisle_id´: aisle identifier\n",
    "    * ´aisle´: the name of the aisle\n",
    "\n",
    "* Colunas da Tabela `deptartments (21 rows):\n",
    "\n",
    "    * ´department_id´: department identifier\n",
    "    * ´department´: the name of the department\n",
    "\n",
    "* Colunas da Tabela `order_products__SET (30m+ rows):\n",
    "\n",
    "    * ´order_id´: foreign key\n",
    "    * ´product_id´: foreign key\n",
    "    * ´add_to_cart_order´: order in which each product was added to cart\n",
    "    * ´reordered´: 1 if this product has been ordered by this user in the past, 0 otherwise"
   ]
  },
  {
   "cell_type": "markdown",
   "metadata": {},
   "source": [
    "___"
   ]
  },
  {
   "cell_type": "markdown",
   "metadata": {},
   "source": [
    "# Import"
   ]
  },
  {
   "cell_type": "code",
   "execution_count": 2,
   "metadata": {},
   "outputs": [],
   "source": [
    "import os\n",
    "import pandas as pd"
   ]
  },
  {
   "cell_type": "markdown",
   "metadata": {},
   "source": [
    "# Objetivo:\n",
    "\n",
    "Analisar o dataset gerado na Seção 3 e responder às questões."
   ]
  },
  {
   "cell_type": "markdown",
   "metadata": {},
   "source": [
    "# Dataset"
   ]
  },
  {
   "cell_type": "code",
   "execution_count": 3,
   "metadata": {},
   "outputs": [],
   "source": [
    "file_name = os.path.join(\"data\", \"dataset.csv\")"
   ]
  },
  {
   "cell_type": "code",
   "execution_count": 25,
   "metadata": {},
   "outputs": [],
   "source": [
    "dataset = pd.read_csv(file_name,\n",
    "                      sep=\",\",\n",
    "                      encoding=\"utf-8\")"
   ]
  },
  {
   "cell_type": "code",
   "execution_count": 26,
   "metadata": {},
   "outputs": [],
   "source": [
    "\"\"\" Facilitando a vida \"\"\"\n",
    "# baseado em uma thread do Kaggle sobre esse desafio, os dias da semana são definidos na seguinte ordem:\n",
    "week_days = [\"saturday\", \"sunday\", \"monday\", \"tuesday\", \"wednesday\", \"thursday\", \"friday\"]\n",
    "\n",
    "# traduzindo no dataset\n",
    "dataset.order_dow = dataset.order_dow.map(lambda wd: week_days[wd])"
   ]
  },
  {
   "cell_type": "code",
   "execution_count": 27,
   "metadata": {},
   "outputs": [
    {
     "data": {
      "text/html": [
       "<div>\n",
       "<style scoped>\n",
       "    .dataframe tbody tr th:only-of-type {\n",
       "        vertical-align: middle;\n",
       "    }\n",
       "\n",
       "    .dataframe tbody tr th {\n",
       "        vertical-align: top;\n",
       "    }\n",
       "\n",
       "    .dataframe thead th {\n",
       "        text-align: right;\n",
       "    }\n",
       "</style>\n",
       "<table border=\"1\" class=\"dataframe\">\n",
       "  <thead>\n",
       "    <tr style=\"text-align: right;\">\n",
       "      <th></th>\n",
       "      <th>order_id</th>\n",
       "      <th>user_id</th>\n",
       "      <th>order_dow</th>\n",
       "      <th>department</th>\n",
       "      <th>aisle</th>\n",
       "      <th>product_name</th>\n",
       "    </tr>\n",
       "  </thead>\n",
       "  <tbody>\n",
       "    <tr>\n",
       "      <th>0</th>\n",
       "      <td>1187899</td>\n",
       "      <td>1</td>\n",
       "      <td>wednesday</td>\n",
       "      <td>beverages</td>\n",
       "      <td>soft drinks</td>\n",
       "      <td>Soda</td>\n",
       "    </tr>\n",
       "    <tr>\n",
       "      <th>1</th>\n",
       "      <td>2757217</td>\n",
       "      <td>67</td>\n",
       "      <td>saturday</td>\n",
       "      <td>beverages</td>\n",
       "      <td>soft drinks</td>\n",
       "      <td>Soda</td>\n",
       "    </tr>\n",
       "    <tr>\n",
       "      <th>2</th>\n",
       "      <td>632715</td>\n",
       "      <td>676</td>\n",
       "      <td>saturday</td>\n",
       "      <td>beverages</td>\n",
       "      <td>soft drinks</td>\n",
       "      <td>Soda</td>\n",
       "    </tr>\n",
       "    <tr>\n",
       "      <th>3</th>\n",
       "      <td>1167274</td>\n",
       "      <td>760</td>\n",
       "      <td>wednesday</td>\n",
       "      <td>beverages</td>\n",
       "      <td>soft drinks</td>\n",
       "      <td>Soda</td>\n",
       "    </tr>\n",
       "    <tr>\n",
       "      <th>4</th>\n",
       "      <td>3347074</td>\n",
       "      <td>804</td>\n",
       "      <td>tuesday</td>\n",
       "      <td>beverages</td>\n",
       "      <td>soft drinks</td>\n",
       "      <td>Soda</td>\n",
       "    </tr>\n",
       "  </tbody>\n",
       "</table>\n",
       "</div>"
      ],
      "text/plain": [
       "   order_id  user_id  order_dow department        aisle product_name\n",
       "0   1187899        1  wednesday  beverages  soft drinks         Soda\n",
       "1   2757217       67   saturday  beverages  soft drinks         Soda\n",
       "2    632715      676   saturday  beverages  soft drinks         Soda\n",
       "3   1167274      760  wednesday  beverages  soft drinks         Soda\n",
       "4   3347074      804    tuesday  beverages  soft drinks         Soda"
      ]
     },
     "execution_count": 27,
     "metadata": {},
     "output_type": "execute_result"
    }
   ],
   "source": [
    "dataset.head()"
   ]
  },
  {
   "cell_type": "markdown",
   "metadata": {},
   "source": [
    "# Questões "
   ]
  },
  {
   "cell_type": "markdown",
   "metadata": {},
   "source": [
    "## A) Quantos usuários únicos fizeram pedidos?"
   ]
  },
  {
   "cell_type": "code",
   "execution_count": 28,
   "metadata": {},
   "outputs": [
    {
     "name": "stdout",
     "output_type": "stream",
     "text": [
      "117221\n"
     ]
    }
   ],
   "source": [
    "unique_users = dataset['user_id'].nunique()\n",
    "print(unique_users)"
   ]
  },
  {
   "cell_type": "markdown",
   "metadata": {},
   "source": [
    "## B) Qual o produto que apareceu em mais pedidos?"
   ]
  },
  {
   "cell_type": "code",
   "execution_count": 57,
   "metadata": {},
   "outputs": [
    {
     "data": {
      "text/plain": [
       "Banana                    16784\n",
       "Bag of Organic Bananas    13790\n",
       "Organic Strawberries       9740\n",
       "Organic Baby Spinach       8734\n",
       "Large Lemon                7254\n",
       "Name: product_name, dtype: int64"
      ]
     },
     "execution_count": 57,
     "metadata": {},
     "output_type": "execute_result"
    }
   ],
   "source": [
    "top_products = dataset['product_name'].value_counts().head(5)\n",
    "top_products"
   ]
  },
  {
   "cell_type": "markdown",
   "metadata": {},
   "source": [
    "## C) Quais os usuários que fizeram mais e menos pedidos?"
   ]
  },
  {
   "cell_type": "code",
   "execution_count": 84,
   "metadata": {},
   "outputs": [
    {
     "data": {
      "text/html": [
       "<div>\n",
       "<style scoped>\n",
       "    .dataframe tbody tr th:only-of-type {\n",
       "        vertical-align: middle;\n",
       "    }\n",
       "\n",
       "    .dataframe tbody tr th {\n",
       "        vertical-align: top;\n",
       "    }\n",
       "\n",
       "    .dataframe thead th {\n",
       "        text-align: right;\n",
       "    }\n",
       "</style>\n",
       "<table border=\"1\" class=\"dataframe\">\n",
       "  <thead>\n",
       "    <tr style=\"text-align: right;\">\n",
       "      <th></th>\n",
       "      <th>user_id</th>\n",
       "      <th>order_id</th>\n",
       "      <th>product_name</th>\n",
       "    </tr>\n",
       "  </thead>\n",
       "  <tbody>\n",
       "    <tr>\n",
       "      <th>0</th>\n",
       "      <td>1</td>\n",
       "      <td>1187899</td>\n",
       "      <td>11</td>\n",
       "    </tr>\n",
       "    <tr>\n",
       "      <th>1</th>\n",
       "      <td>2</td>\n",
       "      <td>1492625</td>\n",
       "      <td>31</td>\n",
       "    </tr>\n",
       "    <tr>\n",
       "      <th>2</th>\n",
       "      <td>5</td>\n",
       "      <td>2196797</td>\n",
       "      <td>9</td>\n",
       "    </tr>\n",
       "    <tr>\n",
       "      <th>3</th>\n",
       "      <td>7</td>\n",
       "      <td>525192</td>\n",
       "      <td>9</td>\n",
       "    </tr>\n",
       "    <tr>\n",
       "      <th>4</th>\n",
       "      <td>8</td>\n",
       "      <td>880375</td>\n",
       "      <td>18</td>\n",
       "    </tr>\n",
       "  </tbody>\n",
       "</table>\n",
       "</div>"
      ],
      "text/plain": [
       "   user_id  order_id  product_name\n",
       "0        1   1187899            11\n",
       "1        2   1492625            31\n",
       "2        5   2196797             9\n",
       "3        7    525192             9\n",
       "4        8    880375            18"
      ]
     },
     "execution_count": 84,
     "metadata": {},
     "output_type": "execute_result"
    }
   ],
   "source": [
    "df_orders = dataset[['user_id','order_id','product_name']].groupby(['user_id','order_id']).count()\n",
    "df_orders = df_orders.reset_index(level=['user_id','order_id'])\n",
    "df_orders.head()"
   ]
  },
  {
   "cell_type": "code",
   "execution_count": 89,
   "metadata": {},
   "outputs": [
    {
     "data": {
      "text/html": [
       "<div>\n",
       "<style scoped>\n",
       "    .dataframe tbody tr th:only-of-type {\n",
       "        vertical-align: middle;\n",
       "    }\n",
       "\n",
       "    .dataframe tbody tr th {\n",
       "        vertical-align: top;\n",
       "    }\n",
       "\n",
       "    .dataframe thead th {\n",
       "        text-align: right;\n",
       "    }\n",
       "</style>\n",
       "<table border=\"1\" class=\"dataframe\">\n",
       "  <thead>\n",
       "    <tr style=\"text-align: right;\">\n",
       "      <th></th>\n",
       "      <th>user_id</th>\n",
       "      <th>order_id</th>\n",
       "    </tr>\n",
       "  </thead>\n",
       "  <tbody>\n",
       "    <tr>\n",
       "      <th>0</th>\n",
       "      <td>1</td>\n",
       "      <td>1</td>\n",
       "    </tr>\n",
       "    <tr>\n",
       "      <th>1</th>\n",
       "      <td>2</td>\n",
       "      <td>1</td>\n",
       "    </tr>\n",
       "    <tr>\n",
       "      <th>2</th>\n",
       "      <td>5</td>\n",
       "      <td>1</td>\n",
       "    </tr>\n",
       "    <tr>\n",
       "      <th>3</th>\n",
       "      <td>7</td>\n",
       "      <td>1</td>\n",
       "    </tr>\n",
       "    <tr>\n",
       "      <th>4</th>\n",
       "      <td>8</td>\n",
       "      <td>1</td>\n",
       "    </tr>\n",
       "    <tr>\n",
       "      <th>117216</th>\n",
       "      <td>184273</td>\n",
       "      <td>1</td>\n",
       "    </tr>\n",
       "    <tr>\n",
       "      <th>117217</th>\n",
       "      <td>184274</td>\n",
       "      <td>1</td>\n",
       "    </tr>\n",
       "    <tr>\n",
       "      <th>117218</th>\n",
       "      <td>184277</td>\n",
       "      <td>1</td>\n",
       "    </tr>\n",
       "    <tr>\n",
       "      <th>117219</th>\n",
       "      <td>184278</td>\n",
       "      <td>1</td>\n",
       "    </tr>\n",
       "    <tr>\n",
       "      <th>117220</th>\n",
       "      <td>184279</td>\n",
       "      <td>1</td>\n",
       "    </tr>\n",
       "  </tbody>\n",
       "</table>\n",
       "</div>"
      ],
      "text/plain": [
       "        user_id  order_id\n",
       "0             1         1\n",
       "1             2         1\n",
       "2             5         1\n",
       "3             7         1\n",
       "4             8         1\n",
       "117216   184273         1\n",
       "117217   184274         1\n",
       "117218   184277         1\n",
       "117219   184278         1\n",
       "117220   184279         1"
      ]
     },
     "execution_count": 89,
     "metadata": {},
     "output_type": "execute_result"
    }
   ],
   "source": [
    "df_users = df_orders[['user_id','order_id']].groupby(['user_id']).count()\n",
    "df_users = df_users.reset_index(level=['user_id'])\n",
    "df_users.head(5).append(df_users.tail(5))"
   ]
  },
  {
   "cell_type": "markdown",
   "metadata": {},
   "source": [
    "## D) Qual a média e o desvio padrão da quantidade de produtos presentes em um pedido um usuário?"
   ]
  },
  {
   "cell_type": "code",
   "execution_count": 31,
   "metadata": {},
   "outputs": [
    {
     "data": {
      "text/html": [
       "<div>\n",
       "<style scoped>\n",
       "    .dataframe tbody tr th:only-of-type {\n",
       "        vertical-align: middle;\n",
       "    }\n",
       "\n",
       "    .dataframe tbody tr th {\n",
       "        vertical-align: top;\n",
       "    }\n",
       "\n",
       "    .dataframe thead th {\n",
       "        text-align: right;\n",
       "    }\n",
       "</style>\n",
       "<table border=\"1\" class=\"dataframe\">\n",
       "  <thead>\n",
       "    <tr style=\"text-align: right;\">\n",
       "      <th></th>\n",
       "      <th>order_id</th>\n",
       "      <th>user_id</th>\n",
       "      <th>order_dow</th>\n",
       "      <th>product_qty</th>\n",
       "    </tr>\n",
       "  </thead>\n",
       "  <tbody>\n",
       "    <tr>\n",
       "      <th>0</th>\n",
       "      <td>1</td>\n",
       "      <td>112108</td>\n",
       "      <td>wednesday</td>\n",
       "      <td>8</td>\n",
       "    </tr>\n",
       "    <tr>\n",
       "      <th>1</th>\n",
       "      <td>36</td>\n",
       "      <td>79431</td>\n",
       "      <td>friday</td>\n",
       "      <td>8</td>\n",
       "    </tr>\n",
       "    <tr>\n",
       "      <th>2</th>\n",
       "      <td>38</td>\n",
       "      <td>42756</td>\n",
       "      <td>friday</td>\n",
       "      <td>9</td>\n",
       "    </tr>\n",
       "    <tr>\n",
       "      <th>3</th>\n",
       "      <td>96</td>\n",
       "      <td>17227</td>\n",
       "      <td>friday</td>\n",
       "      <td>7</td>\n",
       "    </tr>\n",
       "    <tr>\n",
       "      <th>4</th>\n",
       "      <td>98</td>\n",
       "      <td>56463</td>\n",
       "      <td>tuesday</td>\n",
       "      <td>49</td>\n",
       "    </tr>\n",
       "  </tbody>\n",
       "</table>\n",
       "</div>"
      ],
      "text/plain": [
       "   order_id  user_id  order_dow  product_qty\n",
       "0         1   112108  wednesday            8\n",
       "1        36    79431     friday            8\n",
       "2        38    42756     friday            9\n",
       "3        96    17227     friday            7\n",
       "4        98    56463    tuesday           49"
      ]
     },
     "execution_count": 31,
     "metadata": {},
     "output_type": "execute_result"
    }
   ],
   "source": [
    "groupped_columns = ['order_id','user_id','order_dow']\n",
    "df = dataset[['product_name'] + groupped_columns].groupby(groupped_columns).agg('count')\n",
    "df = df.reset_index()\n",
    "df.rename(columns={'product_name':'product_qty'},\n",
    "          inplace=True)\n",
    "df.head()"
   ]
  },
  {
   "cell_type": "code",
   "execution_count": 32,
   "metadata": {},
   "outputs": [
    {
     "name": "stdout",
     "output_type": "stream",
     "text": [
      "Average:  10.564190716680459\n",
      "Standard Derivation:  7.945046845800925\n"
     ]
    }
   ],
   "source": [
    "product_qty_avg = df['product_qty'].mean()\n",
    "product_qty_stddev = df['product_qty'].std()\n",
    "print('Average: ', product_qty_avg)\n",
    "print('Standard Derivation: ', product_qty_stddev)"
   ]
  },
  {
   "cell_type": "markdown",
   "metadata": {},
   "source": [
    "## E) Qual a média, a mediana, o mínimo e o máximo da quantidade de corredores (`aisles`) por departmento (`department`)?\n"
   ]
  },
  {
   "cell_type": "code",
   "execution_count": 33,
   "metadata": {},
   "outputs": [
    {
     "data": {
      "text/html": [
       "<div>\n",
       "<style scoped>\n",
       "    .dataframe tbody tr th:only-of-type {\n",
       "        vertical-align: middle;\n",
       "    }\n",
       "\n",
       "    .dataframe tbody tr th {\n",
       "        vertical-align: top;\n",
       "    }\n",
       "\n",
       "    .dataframe thead th {\n",
       "        text-align: right;\n",
       "    }\n",
       "</style>\n",
       "<table border=\"1\" class=\"dataframe\">\n",
       "  <thead>\n",
       "    <tr style=\"text-align: right;\">\n",
       "      <th></th>\n",
       "      <th>department</th>\n",
       "      <th>aisle_qty</th>\n",
       "    </tr>\n",
       "  </thead>\n",
       "  <tbody>\n",
       "    <tr>\n",
       "      <th>0</th>\n",
       "      <td>alcohol</td>\n",
       "      <td>5007</td>\n",
       "    </tr>\n",
       "    <tr>\n",
       "      <th>1</th>\n",
       "      <td>babies</td>\n",
       "      <td>13324</td>\n",
       "    </tr>\n",
       "    <tr>\n",
       "      <th>2</th>\n",
       "      <td>bakery</td>\n",
       "      <td>43259</td>\n",
       "    </tr>\n",
       "    <tr>\n",
       "      <th>3</th>\n",
       "      <td>beverages</td>\n",
       "      <td>102005</td>\n",
       "    </tr>\n",
       "    <tr>\n",
       "      <th>4</th>\n",
       "      <td>breakfast</td>\n",
       "      <td>26456</td>\n",
       "    </tr>\n",
       "  </tbody>\n",
       "</table>\n",
       "</div>"
      ],
      "text/plain": [
       "  department  aisle_qty\n",
       "0    alcohol       5007\n",
       "1     babies      13324\n",
       "2     bakery      43259\n",
       "3  beverages     102005\n",
       "4  breakfast      26456"
      ]
     },
     "execution_count": 33,
     "metadata": {},
     "output_type": "execute_result"
    }
   ],
   "source": [
    "df2 = dataset[['department','aisle']].groupby(['department']).agg('count')\n",
    "df2 = df2.reset_index()\n",
    "df2.rename(columns={'aisle':'aisle_qty'},\n",
    "          inplace=True)\n",
    "df2.head()"
   ]
  },
  {
   "cell_type": "code",
   "execution_count": 34,
   "metadata": {},
   "outputs": [
    {
     "name": "stdout",
     "output_type": "stream",
     "text": [
      "58968.80952380953\n",
      "32299.0\n",
      "1218\n",
      "365640\n"
     ]
    }
   ],
   "source": [
    "print(df2['aisle_qty'].mean())\n",
    "print(df2['aisle_qty'].median())\n",
    "print(df2['aisle_qty'].min())\n",
    "print(df2['aisle_qty'].max())"
   ]
  },
  {
   "cell_type": "markdown",
   "metadata": {},
   "source": [
    "## F) Qual o dia da semana em que ocorrem mais pedidos de produtos para cada departmento (`department`)?"
   ]
  },
  {
   "cell_type": "code",
   "execution_count": 70,
   "metadata": {},
   "outputs": [
    {
     "data": {
      "text/html": [
       "<div>\n",
       "<style scoped>\n",
       "    .dataframe tbody tr th:only-of-type {\n",
       "        vertical-align: middle;\n",
       "    }\n",
       "\n",
       "    .dataframe tbody tr th {\n",
       "        vertical-align: top;\n",
       "    }\n",
       "\n",
       "    .dataframe thead th {\n",
       "        text-align: right;\n",
       "    }\n",
       "</style>\n",
       "<table border=\"1\" class=\"dataframe\">\n",
       "  <thead>\n",
       "    <tr style=\"text-align: right;\">\n",
       "      <th></th>\n",
       "      <th>department</th>\n",
       "      <th>order_dow</th>\n",
       "      <th>order_qty</th>\n",
       "    </tr>\n",
       "  </thead>\n",
       "  <tbody>\n",
       "    <tr>\n",
       "      <th>0</th>\n",
       "      <td>alcohol</td>\n",
       "      <td>friday</td>\n",
       "      <td>683</td>\n",
       "    </tr>\n",
       "    <tr>\n",
       "      <th>1</th>\n",
       "      <td>alcohol</td>\n",
       "      <td>monday</td>\n",
       "      <td>578</td>\n",
       "    </tr>\n",
       "    <tr>\n",
       "      <th>2</th>\n",
       "      <td>alcohol</td>\n",
       "      <td>saturday</td>\n",
       "      <td>640</td>\n",
       "    </tr>\n",
       "    <tr>\n",
       "      <th>3</th>\n",
       "      <td>alcohol</td>\n",
       "      <td>sunday</td>\n",
       "      <td>571</td>\n",
       "    </tr>\n",
       "    <tr>\n",
       "      <th>4</th>\n",
       "      <td>alcohol</td>\n",
       "      <td>thursday</td>\n",
       "      <td>929</td>\n",
       "    </tr>\n",
       "    <tr>\n",
       "      <th>5</th>\n",
       "      <td>alcohol</td>\n",
       "      <td>tuesday</td>\n",
       "      <td>753</td>\n",
       "    </tr>\n",
       "    <tr>\n",
       "      <th>6</th>\n",
       "      <td>alcohol</td>\n",
       "      <td>wednesday</td>\n",
       "      <td>853</td>\n",
       "    </tr>\n",
       "    <tr>\n",
       "      <th>7</th>\n",
       "      <td>babies</td>\n",
       "      <td>friday</td>\n",
       "      <td>1769</td>\n",
       "    </tr>\n",
       "    <tr>\n",
       "      <th>8</th>\n",
       "      <td>babies</td>\n",
       "      <td>monday</td>\n",
       "      <td>1637</td>\n",
       "    </tr>\n",
       "    <tr>\n",
       "      <th>9</th>\n",
       "      <td>babies</td>\n",
       "      <td>saturday</td>\n",
       "      <td>3143</td>\n",
       "    </tr>\n",
       "  </tbody>\n",
       "</table>\n",
       "</div>"
      ],
      "text/plain": [
       "  department  order_dow  order_qty\n",
       "0    alcohol     friday        683\n",
       "1    alcohol     monday        578\n",
       "2    alcohol   saturday        640\n",
       "3    alcohol     sunday        571\n",
       "4    alcohol   thursday        929\n",
       "5    alcohol    tuesday        753\n",
       "6    alcohol  wednesday        853\n",
       "7     babies     friday       1769\n",
       "8     babies     monday       1637\n",
       "9     babies   saturday       3143"
      ]
     },
     "execution_count": 70,
     "metadata": {},
     "output_type": "execute_result"
    }
   ],
   "source": [
    "df3 = dataset[['department','order_dow','order_id']]\n",
    "df3 = df3.groupby(['department','order_dow']).agg('count')\n",
    "df3.rename(\n",
    "    columns={'order_id':'order_qty'},\n",
    "    inplace=True\n",
    ")\n",
    "df3 = df3.reset_index(level=['department', 'order_dow'])\n",
    "df3.head(10)"
   ]
  },
  {
   "cell_type": "code",
   "execution_count": 76,
   "metadata": {},
   "outputs": [
    {
     "data": {
      "text/html": [
       "<div>\n",
       "<style scoped>\n",
       "    .dataframe tbody tr th:only-of-type {\n",
       "        vertical-align: middle;\n",
       "    }\n",
       "\n",
       "    .dataframe tbody tr th {\n",
       "        vertical-align: top;\n",
       "    }\n",
       "\n",
       "    .dataframe thead th {\n",
       "        text-align: right;\n",
       "    }\n",
       "</style>\n",
       "<table border=\"1\" class=\"dataframe\">\n",
       "  <thead>\n",
       "    <tr style=\"text-align: right;\">\n",
       "      <th></th>\n",
       "      <th>department</th>\n",
       "      <th>order_qty</th>\n",
       "    </tr>\n",
       "  </thead>\n",
       "  <tbody>\n",
       "    <tr>\n",
       "      <th>0</th>\n",
       "      <td>alcohol</td>\n",
       "      <td>929</td>\n",
       "    </tr>\n",
       "    <tr>\n",
       "      <th>1</th>\n",
       "      <td>babies</td>\n",
       "      <td>3143</td>\n",
       "    </tr>\n",
       "    <tr>\n",
       "      <th>2</th>\n",
       "      <td>bakery</td>\n",
       "      <td>10088</td>\n",
       "    </tr>\n",
       "    <tr>\n",
       "      <th>3</th>\n",
       "      <td>beverages</td>\n",
       "      <td>20249</td>\n",
       "    </tr>\n",
       "    <tr>\n",
       "      <th>4</th>\n",
       "      <td>breakfast</td>\n",
       "      <td>5936</td>\n",
       "    </tr>\n",
       "  </tbody>\n",
       "</table>\n",
       "</div>"
      ],
      "text/plain": [
       "  department  order_qty\n",
       "0    alcohol        929\n",
       "1     babies       3143\n",
       "2     bakery      10088\n",
       "3  beverages      20249\n",
       "4  breakfast       5936"
      ]
     },
     "execution_count": 76,
     "metadata": {},
     "output_type": "execute_result"
    }
   ],
   "source": [
    "df4 = df3[['department', 'order_qty']].groupby(['department']).max()\n",
    "df4 = df4.reset_index(level=['department'])\n",
    "df4.head()"
   ]
  },
  {
   "cell_type": "code",
   "execution_count": 92,
   "metadata": {},
   "outputs": [
    {
     "data": {
      "text/html": [
       "<div>\n",
       "<style scoped>\n",
       "    .dataframe tbody tr th:only-of-type {\n",
       "        vertical-align: middle;\n",
       "    }\n",
       "\n",
       "    .dataframe tbody tr th {\n",
       "        vertical-align: top;\n",
       "    }\n",
       "\n",
       "    .dataframe thead th {\n",
       "        text-align: right;\n",
       "    }\n",
       "</style>\n",
       "<table border=\"1\" class=\"dataframe\">\n",
       "  <thead>\n",
       "    <tr style=\"text-align: right;\">\n",
       "      <th></th>\n",
       "      <th>department</th>\n",
       "      <th>order_dow</th>\n",
       "      <th>order_qty</th>\n",
       "    </tr>\n",
       "  </thead>\n",
       "  <tbody>\n",
       "    <tr>\n",
       "      <th>0</th>\n",
       "      <td>alcohol</td>\n",
       "      <td>friday</td>\n",
       "      <td>683</td>\n",
       "    </tr>\n",
       "    <tr>\n",
       "      <th>1</th>\n",
       "      <td>alcohol</td>\n",
       "      <td>monday</td>\n",
       "      <td>578</td>\n",
       "    </tr>\n",
       "    <tr>\n",
       "      <th>2</th>\n",
       "      <td>alcohol</td>\n",
       "      <td>saturday</td>\n",
       "      <td>640</td>\n",
       "    </tr>\n",
       "    <tr>\n",
       "      <th>3</th>\n",
       "      <td>alcohol</td>\n",
       "      <td>sunday</td>\n",
       "      <td>571</td>\n",
       "    </tr>\n",
       "    <tr>\n",
       "      <th>4</th>\n",
       "      <td>alcohol</td>\n",
       "      <td>thursday</td>\n",
       "      <td>929</td>\n",
       "    </tr>\n",
       "  </tbody>\n",
       "</table>\n",
       "</div>"
      ],
      "text/plain": [
       "  department order_dow  order_qty\n",
       "0    alcohol    friday        683\n",
       "1    alcohol    monday        578\n",
       "2    alcohol  saturday        640\n",
       "3    alcohol    sunday        571\n",
       "4    alcohol  thursday        929"
      ]
     },
     "execution_count": 92,
     "metadata": {},
     "output_type": "execute_result"
    }
   ],
   "source": [
    "result = pd.merge(\n",
    "    df3,\n",
    "    df4,\n",
    "    how='left',\n",
    "    left_on=['department','order_qty'],\n",
    "    right_on=['department','order_qty']\n",
    ")\n",
    "result.head()"
   ]
  },
  {
   "cell_type": "markdown",
   "metadata": {},
   "source": [
    "##  G) Quais foram os 5% piores e os 5% melhores corredores (`aisle`) em termos de vendas? "
   ]
  },
  {
   "cell_type": "code",
   "execution_count": null,
   "metadata": {},
   "outputs": [],
   "source": [
    "\"\"\" Entre com o Código aqui \"\"\""
   ]
  },
  {
   "cell_type": "markdown",
   "metadata": {},
   "source": [
    "##  H) Quais foram os 5 produtos mais comprados de cada departamento na terça-feira? \n",
    "\n",
    "### Mostre em uma tabela como no exemplo:\n",
    "\n",
    "| departamento | 1o produto | 2o produto | 3o produto | 4o produto | 5o produto |\n",
    "|:------------ |:---------- |:---------- |:---------- |:---------- |:---------- |\n",
    "| depart 01    | prod A     | prod W     | prod L     | prod H     | prod D     |\n",
    "| depart 02    | prod X     | prod Q     | prod B     | prod S     | prod P     |\n",
    "| ...          | ...        | ...        | ...        | ...        | ...        |\n"
   ]
  },
  {
   "cell_type": "code",
   "execution_count": null,
   "metadata": {},
   "outputs": [],
   "source": [
    "\"\"\" Entre com o Código aqui \"\"\""
   ]
  },
  {
   "cell_type": "markdown",
   "metadata": {},
   "source": [
    "## I) Quais são os 2 corredores (`aisles`) que são visitados juntos no mesmo pedido mais vezes em uma sexta-feira?"
   ]
  },
  {
   "cell_type": "code",
   "execution_count": null,
   "metadata": {},
   "outputs": [],
   "source": [
    "\"\"\" Entre com o Código aqui \"\"\""
   ]
  },
  {
   "cell_type": "markdown",
   "metadata": {},
   "source": [
    "## J) Quais as duplas de produtos que mais saem juntas no pedido (`order_id`) de um usuário em uma sexta-feira?"
   ]
  },
  {
   "cell_type": "code",
   "execution_count": null,
   "metadata": {},
   "outputs": [],
   "source": [
    "\"\"\" Entre com o Código aqui \"\"\""
   ]
  }
 ],
 "metadata": {
  "kernelspec": {
   "display_name": "Python 3",
   "language": "python",
   "name": "python3"
  },
  "language_info": {
   "codemirror_mode": {
    "name": "ipython",
    "version": 3
   },
   "file_extension": ".py",
   "mimetype": "text/x-python",
   "name": "python",
   "nbconvert_exporter": "python",
   "pygments_lexer": "ipython3",
   "version": "3.6.4"
  }
 },
 "nbformat": 4,
 "nbformat_minor": 2
}
